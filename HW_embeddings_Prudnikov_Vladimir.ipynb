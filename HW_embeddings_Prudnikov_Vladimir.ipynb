{
  "nbformat": 4,
  "nbformat_minor": 0,
  "metadata": {
    "accelerator": "TPU",
    "colab": {
      "name": "HW_embeddings_Prudnikov_Vladimir.ipynb",
      "provenance": [],
      "toc_visible": true,
      "machine_shape": "hm",
      "include_colab_link": true
    },
    "kernelspec": {
      "display_name": "Python 3",
      "language": "python",
      "name": "python3"
    },
    "language_info": {
      "codemirror_mode": {
        "name": "ipython",
        "version": 3
      },
      "file_extension": ".py",
      "mimetype": "text/x-python",
      "name": "python",
      "nbconvert_exporter": "python",
      "pygments_lexer": "ipython3",
      "version": "3.7.4"
    }
  },
  "cells": [
    {
      "cell_type": "markdown",
      "metadata": {
        "id": "view-in-github",
        "colab_type": "text"
      },
      "source": [
        "<a href=\"https://colab.research.google.com/github/Vladimirsp81/DLS_2/blob/master/HW_embeddings_Prudnikov_Vladimir.ipynb\" target=\"_parent\"><img src=\"https://colab.research.google.com/assets/colab-badge.svg\" alt=\"Open In Colab\"/></a>"
      ]
    },
    {
      "cell_type": "markdown",
      "metadata": {
        "colab_type": "text",
        "id": "Ot3c4fjZwC4T"
      },
      "source": [
        "<img src=\"https://s8.hostingkartinok.com/uploads/images/2018/08/308b49fcfbc619d629fe4604bceb67ac.jpg\" width=500, height=450>\n",
        "<h3 style=\"text-align: center;\"><b>Физтех-Школа Прикладной математики и информатики (ФПМИ) МФТИ</b></h3>"
      ]
    },
    {
      "cell_type": "markdown",
      "metadata": {
        "colab_type": "text",
        "id": "P2JdzEXmwRU5"
      },
      "source": [
        "---"
      ]
    },
    {
      "cell_type": "markdown",
      "metadata": {
        "colab_type": "text",
        "id": "nPWDLqBJ5a3M"
      },
      "source": [
        "<b> Прочитайте семинар, пожалуйста, для успешного выполнения домашнего задания"
      ]
    },
    {
      "cell_type": "markdown",
      "metadata": {
        "colab_type": "text",
        "id": "TWRRBc7Z5a3O"
      },
      "source": [
        "## Задача поиска схожих по смыслу предложений"
      ]
    },
    {
      "cell_type": "markdown",
      "metadata": {
        "colab_type": "text",
        "id": "t9Ov8-7a5a3Q"
      },
      "source": [
        "Мы будем ранжировать вопросы [StackOverflow](https://stackoverflow.com) на основе семантического векторного представления "
      ]
    },
    {
      "cell_type": "markdown",
      "metadata": {
        "colab_type": "text",
        "id": "dNRXIEfu5a3Q"
      },
      "source": [
        "До этого в курсе не было речи про задачу ранжировния, поэтому введем математическую формулировку"
      ]
    },
    {
      "cell_type": "markdown",
      "metadata": {
        "colab_type": "text",
        "id": "uS9FwWNd5a3S"
      },
      "source": [
        "## Задача ранжирования(Learning to Rank)"
      ]
    },
    {
      "cell_type": "markdown",
      "metadata": {
        "colab_type": "text",
        "id": "wdwY9-f75a3T"
      },
      "source": [
        "* $X$ - множество объектов\n",
        "* $X^l = \\{x_1, x_2, ..., x_l\\}$ - обучающая выборка\n",
        "<br>На обучающей выборке задан порядок между некоторыми элементами, то есть нам известно, что некий объект выборки более релевантный для нас, чем другой:\n",
        "* $i \\prec j$ - порядок пары индексов объектов на выборке $X^l$ c индексами $i$ и $j$\n",
        "### Задача:\n",
        "построить ранжирующую функцию $a$ : $X \\rightarrow R$ такую, что\n",
        "$$i \\prec j \\Rightarrow a(x_i) < a(x_j)$$"
      ]
    },
    {
      "cell_type": "markdown",
      "metadata": {
        "colab_type": "text",
        "id": "WG2IGBsh5a3U"
      },
      "source": [
        "<img src=\"https://d25skit2l41vkl.cloudfront.net/wp-content/uploads/2016/12/Featured-Image.jpg\" width=500, height=450>"
      ]
    },
    {
      "cell_type": "markdown",
      "metadata": {
        "colab_type": "text",
        "id": "Svbx8w905a3V"
      },
      "source": [
        "### Данные\n",
        "`test.tsv` - тестовая выборка. В каждой строке через табуляцию записаны: *<вопрос>, <похожий вопрос>, <отрицательный пример 1>, <отрицательный пример 2>, ...*"
      ]
    },
    {
      "cell_type": "markdown",
      "metadata": {
        "colab_type": "text",
        "id": "5_uw862G5a3W"
      },
      "source": [
        "Будем использовать предобученные векторные представления слов [GoogleNews-vectors-negative300](https://drive.google.com/file/d/0B7XkCwpI5KDYNlNUTTlSS21pQmM/edit) (<b>скачаем их</b>), которые были обучены с помощью стандартной модели word2vec на данных Google News (100 миллиардов слов). Модель содержит 300-мерные вектора для 3 миллионов слов и фраз"
      ]
    },
    {
      "cell_type": "markdown",
      "metadata": {
        "colab_type": "text",
        "id": "IumfhGG55a3Y"
      },
      "source": [
        "<b>Загрузим</b> их после <b>скачивания</b> с помощью функции [KeyedVectors.load_word2vec_format](https://radimrehurek.com/gensim/models/keyedvectors.html) библиотеки Gensim, с которой вы познакомились на семинаре. Загрузим только часть векторов, указав параметр *limit* = 500000."
      ]
    },
    {
      "cell_type": "code",
      "metadata": {
        "colab_type": "code",
        "id": "JpiKBAmJ5a3b",
        "colab": {}
      },
      "source": [
        "import gensim"
      ],
      "execution_count": 0,
      "outputs": []
    },
    {
      "cell_type": "code",
      "metadata": {
        "colab_type": "code",
        "id": "2NAMLP72jT-3",
        "colab": {}
      },
      "source": [
        "#!wget \"https://docs.live.net/s!AscSoIbqe-jLg9haWzi24vuD8ifU1w?e=FFkRbi\" -O GoogleNews-vectors-negative300.bin.gz"
      ],
      "execution_count": 0,
      "outputs": []
    },
    {
      "cell_type": "code",
      "metadata": {
        "colab_type": "code",
        "id": "HT4wk5pNSHTd",
        "outputId": "ddb08e68-ce88-4f4f-c90b-78cac8cd4bc1",
        "colab": {
          "base_uri": "https://localhost:8080/",
          "height": 122
        }
      },
      "source": [
        "from google.colab import drive\n",
        "drive.mount('/content/drive')"
      ],
      "execution_count": 0,
      "outputs": [
        {
          "output_type": "stream",
          "text": [
            "Go to this URL in a browser: https://accounts.google.com/o/oauth2/auth?client_id=947318989803-6bn6qk8qdgf4n4g3pfee6491hc0brc4i.apps.googleusercontent.com&redirect_uri=urn%3aietf%3awg%3aoauth%3a2.0%3aoob&response_type=code&scope=email%20https%3a%2f%2fwww.googleapis.com%2fauth%2fdocs.test%20https%3a%2f%2fwww.googleapis.com%2fauth%2fdrive%20https%3a%2f%2fwww.googleapis.com%2fauth%2fdrive.photos.readonly%20https%3a%2f%2fwww.googleapis.com%2fauth%2fpeopleapi.readonly\n",
            "\n",
            "Enter your authorization code:\n",
            "··········\n",
            "Mounted at /content/drive\n"
          ],
          "name": "stdout"
        }
      ]
    },
    {
      "cell_type": "code",
      "metadata": {
        "colab_type": "code",
        "id": "hYd6edVv5a3h",
        "outputId": "76b7bdbb-acbe-420d-f0ca-8733d072374f",
        "colab": {
          "base_uri": "https://localhost:8080/",
          "height": 71
        }
      },
      "source": [
        "wv_embeddings = gensim.models.KeyedVectors.load_word2vec_format(fname=\"/content/drive/My Drive/DLS/GoogleNews-vectors-negative300.bin.gz\", limit=500000, binary=True)"
      ],
      "execution_count": 0,
      "outputs": [
        {
          "output_type": "stream",
          "text": [
            "/usr/local/lib/python3.6/dist-packages/smart_open/smart_open_lib.py:410: UserWarning: This function is deprecated, use smart_open.open instead. See the migration notes for details: https://github.com/RaRe-Technologies/smart_open/blob/master/README.rst#migrating-to-the-new-open-function\n",
            "  'See the migration notes for details: %s' % _MIGRATION_NOTES_URL\n"
          ],
          "name": "stderr"
        }
      ]
    },
    {
      "cell_type": "markdown",
      "metadata": {
        "colab_type": "text",
        "id": "IQNIUiSe5a3m"
      },
      "source": [
        "### Как пользоваться этими векторами?"
      ]
    },
    {
      "cell_type": "markdown",
      "metadata": {
        "colab_type": "text",
        "id": "lBW-8I5_5a3o"
      },
      "source": [
        "Посмотрим на примере одного слова, что из себя представляет embedding"
      ]
    },
    {
      "cell_type": "code",
      "metadata": {
        "colab_type": "code",
        "id": "e-IMHALD5a3q",
        "outputId": "bda1002f-8077-4ec0-9f62-fcdc4c5e2d35",
        "scrolled": true,
        "colab": {
          "base_uri": "https://localhost:8080/",
          "height": 35
        }
      },
      "source": [
        "word = 'dog'\n",
        "if word in wv_embeddings:\n",
        "    print(wv_embeddings[word].dtype, wv_embeddings[word].shape)"
      ],
      "execution_count": 0,
      "outputs": [
        {
          "output_type": "stream",
          "text": [
            "float32 (300,)\n"
          ],
          "name": "stdout"
        }
      ]
    },
    {
      "cell_type": "markdown",
      "metadata": {
        "colab_type": "text",
        "id": "9dznrXUN5a3w"
      },
      "source": [
        "<b>Еще раз напомню, что семинар нужно прочитать"
      ]
    },
    {
      "cell_type": "markdown",
      "metadata": {
        "colab_type": "text",
        "id": "WRX93vwq5a3x"
      },
      "source": [
        "Найдем наиболее близкие слова к слову `dog`:"
      ]
    },
    {
      "cell_type": "code",
      "metadata": {
        "colab_type": "code",
        "id": "cS6gYgNo7QmE",
        "colab": {}
      },
      "source": [
        "import numpy as np"
      ],
      "execution_count": 0,
      "outputs": []
    },
    {
      "cell_type": "code",
      "metadata": {
        "colab_type": "code",
        "id": "G20fKE3W3qLs",
        "outputId": "345c8457-e885-450b-f6f0-09ad2f59e95e",
        "colab": {
          "base_uri": "https://localhost:8080/",
          "height": 255
        }
      },
      "source": [
        "dog = np.array(wv_embeddings['dog'])\n",
        "wv_embeddings.most_similar(positive=[dog], topn=10)"
      ],
      "execution_count": 0,
      "outputs": [
        {
          "output_type": "execute_result",
          "data": {
            "text/plain": [
              "[('dog', 0.9999999403953552),\n",
              " ('dogs', 0.8680489659309387),\n",
              " ('puppy', 0.8106428384780884),\n",
              " ('pit_bull', 0.780396044254303),\n",
              " ('pooch', 0.7627377510070801),\n",
              " ('cat', 0.7609456777572632),\n",
              " ('golden_retriever', 0.7500902414321899),\n",
              " ('German_shepherd', 0.7465174198150635),\n",
              " ('Rottweiler', 0.7437614798545837),\n",
              " ('beagle', 0.7418621778488159)]"
            ]
          },
          "metadata": {
            "tags": []
          },
          "execution_count": 34
        }
      ]
    },
    {
      "cell_type": "code",
      "metadata": {
        "colab_type": "code",
        "id": "BryT9VZn-wjo",
        "outputId": "13a96c86-a239-4657-cd58-ac2bd90b6c3c",
        "colab": {
          "base_uri": "https://localhost:8080/",
          "height": 92
        }
      },
      "source": [
        "wv_embeddings.similar_by_vector(dog, topn=2, restrict_vocab=None)"
      ],
      "execution_count": 0,
      "outputs": [
        {
          "output_type": "execute_result",
          "data": {
            "text/plain": [
              "[('dog', 0.9999999403953552), ('dogs', 0.8680489659309387)]"
            ]
          },
          "metadata": {
            "tags": []
          },
          "execution_count": 35
        }
      ]
    },
    {
      "cell_type": "markdown",
      "metadata": {
        "colab_type": "text",
        "id": "n08z2PjMwC5o"
      },
      "source": [
        "### Вопрос 1:\n",
        "* Входит ли слов `cat` топ-5 близких слов к слову `dog`?"
      ]
    },
    {
      "cell_type": "code",
      "metadata": {
        "colab_type": "code",
        "id": "1Q98a2x85a39",
        "outputId": "ed06e548-a95d-4648-dd98-170ef19276f6",
        "scrolled": true,
        "colab": {
          "base_uri": "https://localhost:8080/",
          "height": 183
        }
      },
      "source": [
        "wv_embeddings.most_similar(positive=[dog], topn=6)\n",
        "# Да, входит"
      ],
      "execution_count": 0,
      "outputs": [
        {
          "output_type": "execute_result",
          "data": {
            "text/plain": [
              "[('dog', 0.9999999403953552),\n",
              " ('dogs', 0.8680489659309387),\n",
              " ('puppy', 0.8106428384780884),\n",
              " ('pit_bull', 0.780396044254303),\n",
              " ('pooch', 0.7627377510070801),\n",
              " ('cat', 0.7609456777572632)]"
            ]
          },
          "metadata": {
            "tags": []
          },
          "execution_count": 36
        }
      ]
    },
    {
      "cell_type": "markdown",
      "metadata": {
        "colab_type": "text",
        "id": "WU3klj-15a3_"
      },
      "source": [
        "### Векторные представления текста\n",
        "\n",
        "Перейдем от векторных представлений отдельных слов к векторным представлениям вопросов, как к **среднему** векторов всех слов в вопросе. Если для какого-то слова нет предобученного вектора, то его нужно пропустить. Если вопрос не содержит ни одного известного слова, то нужно вернуть нулевой вектор."
      ]
    },
    {
      "cell_type": "code",
      "metadata": {
        "colab_type": "code",
        "id": "FuQ6bClV5a4B",
        "colab": {}
      },
      "source": [
        "import numpy as np\n",
        "from nltk.tokenize import WordPunctTokenizer\n",
        "tokenizer = WordPunctTokenizer()"
      ],
      "execution_count": 0,
      "outputs": []
    },
    {
      "cell_type": "code",
      "metadata": {
        "colab_type": "code",
        "id": "Dm02wjKS5a4K",
        "colab": {}
      },
      "source": [
        "def question_to_vec(question, embeddings, dim=300):\n",
        "    \"\"\"\n",
        "        question: строка\n",
        "        embeddings: наше векторное представление\n",
        "        dim: размер любого вектора в нашем представлении\n",
        "        \n",
        "        return: векторное представление для вопроса\n",
        "    \"\"\"\n",
        "    \n",
        "    # убрать знак вопроса, если он есть\n",
        "    words = tokenizer.tokenize(question)\n",
        "    if '?' in words:\n",
        "        words.remove('?')\n",
        "    \n",
        "    n_known = 0\n",
        "    result = np.array([0] * dim, dtype=float)\n",
        "    \n",
        "    for word in words:\n",
        "        if word in embeddings:\n",
        "            result += embeddings[word] \n",
        "            n_known += 1\n",
        "            \n",
        "    if n_known != 0:\n",
        "        \n",
        "        return result / n_known\n",
        "    else:\n",
        "        return result"
      ],
      "execution_count": 0,
      "outputs": []
    },
    {
      "cell_type": "markdown",
      "metadata": {
        "colab_type": "text",
        "id": "_XScw4It5a4X"
      },
      "source": [
        "Теперь у нас есть метод для создания векторного представления любого предложения."
      ]
    },
    {
      "cell_type": "code",
      "metadata": {
        "colab_type": "code",
        "id": "2dSpTxx05a4b",
        "outputId": "87e0bd2b-91e5-45d5-fbbd-e719511cd320",
        "scrolled": true,
        "colab": {
          "base_uri": "https://localhost:8080/",
          "height": 1292
        }
      },
      "source": [
        "que = 'How i can test this?'\n",
        "question_to_vec(que, wv_embeddings)"
      ],
      "execution_count": 0,
      "outputs": [
        {
          "output_type": "execute_result",
          "data": {
            "text/plain": [
              "array([-1.95312500e-04,  5.30761719e-02,  6.83105469e-02,  1.39941406e-01,\n",
              "       -7.47070312e-02,  5.90820312e-02,  3.25317383e-02, -5.93750000e-02,\n",
              "        2.02026367e-02,  3.78417969e-02, -2.70019531e-02, -1.38964844e-01,\n",
              "       -1.16369629e-01, -6.63085938e-02, -7.36328125e-02,  9.59716797e-02,\n",
              "        2.29003906e-02,  1.08447266e-01,  2.90527344e-02, -6.61621094e-02,\n",
              "       -9.01855469e-02,  3.29589844e-02,  9.02374268e-02, -3.70239258e-02,\n",
              "        1.23352051e-02,  7.30957031e-02, -2.11035156e-01, -4.39453125e-04,\n",
              "       -3.90930176e-03,  2.46582031e-02,  1.64550781e-02,  8.14941406e-02,\n",
              "        7.12509155e-03, -1.01001740e-01, -4.45556641e-03,  1.42344666e-01,\n",
              "       -1.37084961e-01,  3.12988281e-02,  4.90234375e-02,  3.58398438e-02,\n",
              "       -2.71850586e-02, -6.51794434e-02,  1.57446289e-01,  1.02539063e-03,\n",
              "        1.48071289e-02, -1.01074219e-02,  5.70068359e-03,  2.76367188e-02,\n",
              "       -4.69116211e-02,  1.75781250e-02, -3.61572266e-02,  8.70605469e-02,\n",
              "        1.16210938e-02,  6.12060547e-02,  5.55908203e-02,  6.54541016e-02,\n",
              "       -6.41601563e-02, -4.59960938e-02,  1.00146484e-01,  1.20605469e-02,\n",
              "        2.71362305e-02, -3.72314453e-03, -2.04821777e-01, -6.07910156e-02,\n",
              "        1.94824219e-02, -8.40087891e-02,  5.53894043e-03,  1.55468750e-01,\n",
              "       -4.16046143e-02, -7.32421875e-02,  7.24609375e-02,  6.39648438e-02,\n",
              "        7.19970703e-02, -4.44824219e-02, -9.98046875e-02, -1.47949219e-01,\n",
              "        1.20800781e-01,  1.24145508e-01,  2.38159180e-02,  1.42919922e-01,\n",
              "       -1.71386719e-02, -4.78515625e-02, -6.28417969e-02, -2.20031738e-02,\n",
              "       -1.04089355e-01, -3.41796875e-04, -7.54150391e-02,  1.98828125e-01,\n",
              "       -4.62402344e-02,  6.11328125e-02,  1.25976563e-02,  2.41699219e-02,\n",
              "       -1.12561035e-01, -8.80493164e-02, -3.60351562e-02, -1.52709961e-02,\n",
              "        7.58789063e-02, -2.87780762e-02,  6.68579102e-02,  1.26611328e-01,\n",
              "        1.06103516e-01, -8.87023926e-02,  5.54199219e-03,  5.17578125e-02,\n",
              "       -1.25634766e-01,  3.93066406e-02, -1.16992187e-01, -6.80664063e-02,\n",
              "        6.13281250e-02, -7.71484375e-03, -1.21777344e-01, -3.30932617e-02,\n",
              "       -4.24316406e-02, -3.21044922e-03,  2.14257813e-01,  3.08105469e-02,\n",
              "       -5.87890625e-02,  3.43017578e-02,  7.96630859e-02, -2.06054688e-02,\n",
              "        9.30175781e-03, -1.67724609e-02, -9.83154297e-02,  2.64892578e-03,\n",
              "        2.87109375e-02, -1.52099609e-02, -9.99511719e-02,  2.89428711e-02,\n",
              "        6.37451172e-02, -7.80181885e-02, -1.20068359e-01, -8.83300781e-02,\n",
              "       -1.24395752e-01, -4.45190430e-02, -6.90696716e-02, -1.56225586e-01,\n",
              "        8.19824219e-02, -3.47656250e-02,  2.19848633e-02,  1.11462402e-01,\n",
              "        8.99414062e-02, -8.41308594e-02,  1.01562500e-02, -3.48510742e-02,\n",
              "        6.35253906e-02, -6.06140137e-02,  5.94482422e-02, -1.61840820e-01,\n",
              "        4.63134766e-02, -7.48535156e-02,  6.67999268e-02, -5.16113281e-02,\n",
              "       -9.41162109e-02,  2.21435547e-02, -2.40722656e-02, -4.95117188e-02,\n",
              "       -1.41845703e-02, -2.01904297e-02, -1.17095947e-01, -2.95288086e-02,\n",
              "        5.54748535e-02,  1.09667969e-01,  1.27929687e-02,  6.02539063e-02,\n",
              "        6.14013672e-03, -1.53222656e-01,  1.91992187e-01,  7.42187500e-03,\n",
              "       -8.78391266e-02,  8.04382324e-02, -1.28271484e-01,  4.25781250e-02,\n",
              "       -6.99829102e-02, -1.34423828e-01, -2.12402344e-03,  8.50585937e-02,\n",
              "        1.13769531e-01, -8.54858398e-02,  1.54418945e-03, -7.31689453e-02,\n",
              "       -6.66015625e-02,  5.42114258e-02, -8.86306763e-03, -2.21679687e-02,\n",
              "        3.49212646e-02,  3.88671875e-02, -1.73632813e-01, -1.66015625e-03,\n",
              "        1.22851562e-01,  5.68329334e-02,  9.54895020e-03,  5.99853516e-02,\n",
              "       -2.34680176e-02, -4.44274902e-02,  8.22143555e-02, -8.43750000e-02,\n",
              "        4.07226563e-02, -1.14807129e-02,  8.46557617e-03, -1.90087891e-01,\n",
              "        5.11596680e-02,  1.58007813e-01, -1.39599609e-01,  8.31054687e-02,\n",
              "       -1.06250000e-01, -1.87500000e-02, -9.44580078e-02, -1.25198364e-02,\n",
              "        2.99804687e-02,  1.33789062e-02, -3.41796875e-02,  1.99414062e-01,\n",
              "       -1.56738281e-01, -8.88671875e-03, -2.22070313e-01, -4.77294922e-03,\n",
              "        2.29101562e-01,  1.48925781e-03, -1.38085938e-01, -1.17187500e-02,\n",
              "       -1.60595703e-01,  1.02050781e-02, -6.44531250e-02, -3.77563477e-02,\n",
              "        5.39062500e-02, -6.17431641e-02,  6.70043945e-02,  1.35253906e-02,\n",
              "       -6.89697266e-02, -3.37890625e-02,  6.26098633e-02, -2.43408203e-02,\n",
              "        1.16455078e-01, -9.00878906e-03,  9.78027344e-02, -2.21435547e-02,\n",
              "       -3.13232422e-02,  1.06005859e-01,  8.13476562e-02,  1.11791992e-01,\n",
              "       -6.22558594e-03,  4.16625977e-02,  1.09643555e-01, -1.44335938e-01,\n",
              "       -1.31250000e-01, -6.53747559e-02, -6.81396484e-02,  6.36840820e-02,\n",
              "        3.46481562e-02, -4.72900391e-02,  3.49365234e-02,  4.24194336e-03,\n",
              "        1.30358887e-01,  1.00927734e-01,  3.72924805e-02, -4.02740479e-02,\n",
              "        6.10595703e-02,  2.75878906e-02, -6.20483398e-02, -2.38037109e-02,\n",
              "        1.85546875e-02,  7.50000000e-02, -7.22167969e-02,  2.89794922e-02,\n",
              "        2.46093750e-02,  1.01879883e-01,  1.90429688e-02, -2.88787842e-02,\n",
              "       -6.60400391e-02, -7.28103638e-02,  7.37304688e-02,  1.21484375e-01,\n",
              "        1.09552002e-01,  1.25134277e-01, -2.10937500e-02, -2.85278320e-02,\n",
              "       -3.34472656e-02, -1.38476563e-01, -6.23046875e-02,  4.88281250e-04,\n",
              "        6.46118164e-02,  8.13964844e-02,  6.70898438e-02,  1.23803711e-01,\n",
              "       -3.98193359e-02, -4.38720703e-02, -5.88867187e-02, -7.89062500e-02,\n",
              "       -5.61035156e-02,  1.14355469e-01, -4.89746094e-02,  1.16583252e-01,\n",
              "       -8.30444336e-02,  4.75585938e-02, -6.19873047e-02, -6.70410156e-02,\n",
              "       -3.37402344e-02, -2.53112793e-02, -7.66601562e-02, -6.10717773e-02])"
            ]
          },
          "metadata": {
            "tags": []
          },
          "execution_count": 8
        }
      ]
    },
    {
      "cell_type": "markdown",
      "metadata": {
        "colab_type": "text",
        "id": "6qh97exs5a4g"
      },
      "source": [
        "### Оценка близости текстов\n",
        "\n",
        "Представим, что мы используем идеальные векторные представления слов. Тогда косинусное расстояние между дублирующими предложениями должно быть меньше, чем между случайно взятыми предложениями. \n",
        "\n",
        "Сгенерируем для каждого из $N$ вопросов $R$ случайных отрицательных примеров и примешаем к ним также настоящие дубликаты. Для каждого вопроса будем ранжировать с помощью нашей модели $R + 1$ примеров и смотреть на позицию дубликата. Мы хотим, чтобы дубликат был первым в ранжированном списке.\n",
        "\n",
        "#### Hits@K\n",
        "Первой простой метрикой будет количество корректных попаданий для какого-то $K$:\n",
        "$$ \\text{Hits@K} = \\frac{1}{N}\\sum_{i=1}^N \\, [rank\\_q_i^{'} \\le K],$$\n",
        "* $q_i$ - $i$-ый вопрос\n",
        "* $q_i^{'}$ - его дубликат\n",
        "* $rank\\_q_i^{'}$ - позиция дубликата в ранжированном списке ближайших предложений для вопроса $q_i$.\n",
        "\n",
        "#### DCG@K\n",
        "Второй метрикой будет упрощенная DCG метрика, учитывающая порядок элементов в списке путем домножения релевантности элемента на вес равный обратному логарифму номера позиции::\n",
        "$$ \\text{DCG@K} = \\frac{1}{N} \\sum_{i=1}^N\\frac{1}{\\log_2(1+rank\\_q_i^{'})}\\cdot[rank\\_q_i^{'} \\le K],$$\n",
        "С такой метрикой модель штрафуется за низкую позицию корректного ответа"
      ]
    },
    {
      "cell_type": "markdown",
      "metadata": {
        "colab_type": "text",
        "id": "9IhyVcWe5a4m"
      },
      "source": [
        "<img src='https://hsto.org/files/1c5/edf/dee/1c5edfdeebce4b71a86bdf986d9f88f2.jpg' width=400, height=200>"
      ]
    },
    {
      "cell_type": "markdown",
      "metadata": {
        "colab_type": "text",
        "id": "YFMvZ8BV5a4o"
      },
      "source": [
        "#### Пример оценок\n",
        "\n",
        "Вычислим описанные выше метрики для игрушечного примера. \n",
        "Пусть\n",
        "* $N = 1$, $R = 3$\n",
        "* <font color='green'>\"Что такое python\"</font> - вопрос $q_1$\n",
        "* <font color='red'>\"Что такое язык python\"</font> - его дубликат $q_i^{'}$\n",
        "\n",
        "Пусть модель выдала следующий ранжированный список кандидатов:\n",
        "\n",
        "1. *\"Как узнать с++\"*\n",
        "2. <font color='red'>*\"Что такое язык python\"*</font>\n",
        "3. *\"Хочу учить Java\"*\n",
        "4. *\"Не понимаю Tensorflow\"*\n",
        "\n",
        "$\\Rightarrow rank\\_q_i^{'} = 2$\n",
        "\n",
        "Вычислим метрику *Hits@K* для *K = 1, 4*:\n",
        "\n",
        "- [K = 1] $\\text{Hits@1} =  [rank\\_q_i^{'} \\le 1] = 0$\n",
        "- [K = 4] $\\text{Hits@4} =  [rank\\_q_i^{'} \\le 4] = 1$\n",
        "\n",
        "Вычислим метрику *DCG@K* для *K = 1, 4*:\n",
        "- [K = 1] $\\text{DCG@1} = \\frac{1}{\\log_2(1+2)}\\cdot[2 \\le 1] = 0$\n",
        "- [K = 4] $\\text{DCG@4} = \\frac{1}{\\log_2(1+2)}\\cdot[2 \\le 4] = \\frac{1}{\\log_2{3}}$"
      ]
    },
    {
      "cell_type": "markdown",
      "metadata": {
        "colab_type": "text",
        "id": "UVBlWQuZ5a4q"
      },
      "source": [
        "### HITS\\_COUNT и DCG\\_SCORE"
      ]
    },
    {
      "cell_type": "markdown",
      "metadata": {
        "colab_type": "text",
        "id": "0kk6LQ3-5a4r"
      },
      "source": [
        "Каждая функция имеет два аргумента: $dup\\_ranks$ и $k$. $dup\\_ranks$ является списком, который содержит рейтинги дубликатов $rank\\_q_i^{'}$(их позиции в ранжированном списке). Например, $dup\\_ranks = [2]$ для примера, описанного выше."
      ]
    },
    {
      "cell_type": "code",
      "metadata": {
        "colab_type": "code",
        "id": "SkM7vgXo5a4s",
        "colab": {}
      },
      "source": [
        "def hits_count(dup_ranks, k):\n",
        "    \"\"\"\n",
        "        result: вернуть  Hits@k\n",
        "    \"\"\"\n",
        "    N = len(dup_ranks)\n",
        "    hits_value = np.array([np.array(dup_ranks) <= k]).sum() / N\n",
        "    \n",
        "    return hits_value    "
      ],
      "execution_count": 0,
      "outputs": []
    },
    {
      "cell_type": "code",
      "metadata": {
        "colab_type": "code",
        "id": "-6ir49bE5a4u",
        "colab": {}
      },
      "source": [
        "def dcg_score(dup_ranks, k):\n",
        "    \"\"\"\n",
        "        result: вернуть DCG@k\n",
        "    \"\"\"\n",
        "    new_dup_ranks = np.array(dup_ranks)\n",
        "    N = len(dup_ranks)\n",
        "    dcg_value = (1 / np.log2(1 + new_dup_ranks) * np.array([new_dup_ranks <= k])).sum() / N\n",
        "    \n",
        "    return dcg_value"
      ],
      "execution_count": 0,
      "outputs": []
    },
    {
      "cell_type": "markdown",
      "metadata": {
        "colab_type": "text",
        "id": "M0_G1Z3r5a41"
      },
      "source": [
        "Протестируем функции. Пусть $N = 1$, то есть один эксперимент. Будем искать копию вопроса и оценивать метрики."
      ]
    },
    {
      "cell_type": "code",
      "metadata": {
        "colab_type": "code",
        "id": "DLOIiB4i5a44",
        "colab": {}
      },
      "source": [
        "import pandas as pd"
      ],
      "execution_count": 0,
      "outputs": []
    },
    {
      "cell_type": "code",
      "metadata": {
        "colab_type": "code",
        "id": "aVmOdu6X5a48",
        "outputId": "99b8fd9b-adb9-454c-b37f-3c56ffd336e9",
        "colab": {
          "base_uri": "https://localhost:8080/",
          "height": 68
        }
      },
      "source": [
        "copy_answers = [\"How does the catch keyword determine the type of exception that was thrown\"]\n",
        "\n",
        "# наги кандидаты\n",
        "candidates_ranking = [[\"How Can I Make These Links Rotate in PHP\",\n",
        "                       \"How does the catch keyword determine the type of exception that was thrown\",\n",
        "                       \"NSLog array description not memory address\",\n",
        "                       \"PECL_HTTP not recognised php ubuntu\"]]\n",
        "# dup_ranks — позиции наших копий, так как эксперимент один, то этот массив длины 1\n",
        "dup_ranks = [candidates_ranking[0].index(copy_answers[i]) + 1 for i in range(len(copy_answers))]\n",
        "print(dup_ranks)\n",
        "\n",
        "# вычисляем метрику для разных k\n",
        "print('your answer HIT:', [hits_count(dup_ranks, k) for k in range(1, 5)])\n",
        "print('your answer DCG:', [round(dcg_score(dup_ranks, k), 5) for k in range(1, 5)])"
      ],
      "execution_count": 0,
      "outputs": [
        {
          "output_type": "stream",
          "text": [
            "[2]\n",
            "your answer HIT: [0.0, 1.0, 1.0, 1.0]\n",
            "your answer DCG: [0.0, 0.63093, 0.63093, 0.63093]\n"
          ],
          "name": "stdout"
        }
      ]
    },
    {
      "cell_type": "markdown",
      "metadata": {
        "colab_type": "text",
        "id": "O9Fq2xzU5a4-"
      },
      "source": [
        "У вас должно получиться"
      ]
    },
    {
      "cell_type": "code",
      "metadata": {
        "colab_type": "code",
        "id": "fbIJ9ngd5a4_",
        "outputId": "876d7766-0364-4404-a1ff-af1808441df8",
        "scrolled": true,
        "colab": {
          "base_uri": "https://localhost:8080/",
          "height": 111
        }
      },
      "source": [
        "# correct_answers - метрика для разных k\n",
        "correct_answers = pd.DataFrame([[0, 1, 1, 1], [0, 1 / (np.log2(3)), 1 / (np.log2(3)), 1 / (np.log2(3))]],\n",
        "                               index=['HITS', 'DCG'], columns=range(1,5))\n",
        "correct_answers"
      ],
      "execution_count": 0,
      "outputs": [
        {
          "output_type": "execute_result",
          "data": {
            "text/html": [
              "<div>\n",
              "<style scoped>\n",
              "    .dataframe tbody tr th:only-of-type {\n",
              "        vertical-align: middle;\n",
              "    }\n",
              "\n",
              "    .dataframe tbody tr th {\n",
              "        vertical-align: top;\n",
              "    }\n",
              "\n",
              "    .dataframe thead th {\n",
              "        text-align: right;\n",
              "    }\n",
              "</style>\n",
              "<table border=\"1\" class=\"dataframe\">\n",
              "  <thead>\n",
              "    <tr style=\"text-align: right;\">\n",
              "      <th></th>\n",
              "      <th>1</th>\n",
              "      <th>2</th>\n",
              "      <th>3</th>\n",
              "      <th>4</th>\n",
              "    </tr>\n",
              "  </thead>\n",
              "  <tbody>\n",
              "    <tr>\n",
              "      <th>HITS</th>\n",
              "      <td>0</td>\n",
              "      <td>1.00000</td>\n",
              "      <td>1.00000</td>\n",
              "      <td>1.00000</td>\n",
              "    </tr>\n",
              "    <tr>\n",
              "      <th>DCG</th>\n",
              "      <td>0</td>\n",
              "      <td>0.63093</td>\n",
              "      <td>0.63093</td>\n",
              "      <td>0.63093</td>\n",
              "    </tr>\n",
              "  </tbody>\n",
              "</table>\n",
              "</div>"
            ],
            "text/plain": [
              "      1        2        3        4\n",
              "HITS  0  1.00000  1.00000  1.00000\n",
              "DCG   0  0.63093  0.63093  0.63093"
            ]
          },
          "metadata": {
            "tags": []
          },
          "execution_count": 13
        }
      ]
    },
    {
      "cell_type": "markdown",
      "metadata": {
        "colab_type": "text",
        "id": "lK7YcWpc5a5A"
      },
      "source": [
        "### Ранжирование вопросов StackOverflow\n",
        "\n",
        "- *тестовая* выборка (test.tsv) содержит в каждой строке: *вопрос, похожий вопрос, отрицательный пример 1, отрицательный пример 2, ...*\n",
        "TEST!!!"
      ]
    },
    {
      "cell_type": "markdown",
      "metadata": {
        "colab_type": "text",
        "id": "RqoQyKZ45a5B"
      },
      "source": [
        "Считаем тестовую выборку для оценки качества текущего решения."
      ]
    },
    {
      "cell_type": "code",
      "metadata": {
        "colab_type": "code",
        "id": "Lsx8De1B5a5C",
        "colab": {}
      },
      "source": [
        "def read_corpus(filename):\n",
        "    data = []\n",
        "    for line in open(filename, encoding='utf-8'):\n",
        "        data.append(line.strip().split('\\t'))\n",
        "    return data"
      ],
      "execution_count": 0,
      "outputs": []
    },
    {
      "cell_type": "code",
      "metadata": {
        "colab_type": "code",
        "id": "IX_8qWD0yLW1",
        "colab": {}
      },
      "source": [
        "# !wget -O test.tsv https://drive.google.com/open?id=12VAWjs-kvpgapurkuURus7E53F711uFV"
      ],
      "execution_count": 0,
      "outputs": []
    },
    {
      "cell_type": "code",
      "metadata": {
        "colab_type": "code",
        "id": "h2fwUZTe5a5E",
        "colab": {}
      },
      "source": [
        "test = read_corpus(\"/content/drive/My Drive/DLS/test.tsv\")"
      ],
      "execution_count": 0,
      "outputs": []
    },
    {
      "cell_type": "markdown",
      "metadata": {
        "colab_type": "text",
        "id": "0i2z68xw5a5H"
      },
      "source": [
        "Кол-во строк"
      ]
    },
    {
      "cell_type": "code",
      "metadata": {
        "colab_type": "code",
        "id": "KcwQDs3Q5a5H",
        "outputId": "c09f8010-71bd-4fe5-959c-f7af9a67e682",
        "scrolled": false,
        "colab": {
          "base_uri": "https://localhost:8080/",
          "height": 34
        }
      },
      "source": [
        "len(test)"
      ],
      "execution_count": 0,
      "outputs": [
        {
          "output_type": "execute_result",
          "data": {
            "text/plain": [
              "3760"
            ]
          },
          "metadata": {
            "tags": []
          },
          "execution_count": 16
        }
      ]
    },
    {
      "cell_type": "markdown",
      "metadata": {
        "colab_type": "text",
        "id": "TmFOVQjO5a5J"
      },
      "source": [
        "Размер нескольких первых строк"
      ]
    },
    {
      "cell_type": "code",
      "metadata": {
        "colab_type": "code",
        "id": "XIEqlZMo5a5J",
        "outputId": "493b0a20-6ac9-45dd-abc7-b942ef8bfcf5",
        "colab": {
          "base_uri": "https://localhost:8080/",
          "height": 102
        }
      },
      "source": [
        "for i in range(5):\n",
        "    print(i + 1, len(test[0]))"
      ],
      "execution_count": 0,
      "outputs": [
        {
          "output_type": "stream",
          "text": [
            "1 1001\n",
            "2 1001\n",
            "3 1001\n",
            "4 1001\n",
            "5 1001\n"
          ],
          "name": "stdout"
        }
      ]
    },
    {
      "cell_type": "markdown",
      "metadata": {
        "colab_type": "text",
        "id": "AQt_L87C5a5L"
      },
      "source": [
        "Реализуйте функцию ранжирования кандидатов на основе косинусного расстояния. Функция должна по списку кандидатов вернуть отсортированный список пар (позиция в исходном списке кандидатов, кандидат). При этом позиция кандидата в полученном списке является его рейтингом (первый - лучший). Например, если исходный список кандидатов был [a, b, c], и самый похожий на исходный вопрос среди них - c, затем a, и в конце b, то функция должна вернуть список *[(2, c), (0, a), (1, b)]*."
      ]
    },
    {
      "cell_type": "code",
      "metadata": {
        "colab_type": "code",
        "id": "97oA-Fqu5a5M",
        "colab": {}
      },
      "source": [
        "from sklearn.metrics.pairwise import cosine_similarity\n",
        "from copy import deepcopy"
      ],
      "execution_count": 0,
      "outputs": []
    },
    {
      "cell_type": "code",
      "metadata": {
        "colab_type": "code",
        "id": "b3bjCEEQ5a5P",
        "colab": {}
      },
      "source": [
        "def rank_candidates(question, candidates, embeddings, dim=300):\n",
        "    \"\"\"\n",
        "        question: строка\n",
        "        candidates: массив строк(кандидатов) [a, b, c]\n",
        "        result: пары (начальная позиция, кандидат) [(2, c), (0, a), (1, b)]\n",
        "    \"\"\"\n",
        "    vec_question = question_to_vec(question, embeddings, dim=dim)\n",
        "    vec_candidates = np.array([question_to_vec(candidates[i], embeddings, dim=dim)\n",
        "                      for i in range(len(candidates))])\n",
        "    rank_candidates = np.array([(i, candidates[i]) for i in range(len(candidates))])\n",
        "    \n",
        "    # ранжирование\n",
        "    dist_s = cosine_similarity(vec_candidates, np.array([vec_question]))[:, 0]\n",
        "    \n",
        "   \n",
        "    return deepcopy(rank_candidates[dist_s.argsort()[::-1]])"
      ],
      "execution_count": 0,
      "outputs": []
    },
    {
      "cell_type": "markdown",
      "metadata": {
        "colab_type": "text",
        "id": "UCFddzQ35a5R"
      },
      "source": [
        "Протестируйте работу функции на примерах ниже. Пусть $N=2$, то есть два эксперимента"
      ]
    },
    {
      "cell_type": "code",
      "metadata": {
        "colab_type": "code",
        "id": "uppLyNlj5a5R",
        "colab": {}
      },
      "source": [
        "questions = ['converting string to list', 'Sending array via Ajax fails'] \n",
        "\n",
        "candidates = [['Convert Google results object (pure js) to Python object', # первый эксперимент\n",
        "               'C# create cookie from string and send it',\n",
        "               'How to use jQuery AJAX for an outside domain?'],\n",
        "              \n",
        "              ['Getting all list items of an unordered list in PHP',      # второй эксперимент\n",
        "               'WPF- How to update the changes in list item of a list',\n",
        "               'select2 not displaying search results']]"
      ],
      "execution_count": 0,
      "outputs": []
    },
    {
      "cell_type": "code",
      "metadata": {
        "colab_type": "code",
        "id": "-tsmUYcz5a5T",
        "outputId": "c776d87d-2243-43ee-d3f5-688f917caeb1",
        "colab": {
          "base_uri": "https://localhost:8080/",
          "height": 153
        }
      },
      "source": [
        "for question, q_candidates in zip(questions, candidates):\n",
        "        ranks = rank_candidates(question, q_candidates, wv_embeddings, 300)\n",
        "        print(ranks)\n",
        "        print()"
      ],
      "execution_count": 0,
      "outputs": [
        {
          "output_type": "stream",
          "text": [
            "[['1' 'C# create cookie from string and send it']\n",
            " ['0' 'Convert Google results object (pure js) to Python object']\n",
            " ['2' 'How to use jQuery AJAX for an outside domain?']]\n",
            "\n",
            "[['0' 'Getting all list items of an unordered list in PHP']\n",
            " ['2' 'select2 not displaying search results']\n",
            " ['1' 'WPF- How to update the changes in list item of a list']]\n",
            "\n"
          ],
          "name": "stdout"
        }
      ]
    },
    {
      "cell_type": "markdown",
      "metadata": {
        "colab_type": "text",
        "id": "5cfIHuoC5a5V"
      },
      "source": [
        "Для первого экперимента вы можете полностью сравнить ваши ответы и правильные ответы. Но для второго эксперимента два ответа на кандидаты будут <b>скрыты</b>(*)"
      ]
    },
    {
      "cell_type": "code",
      "metadata": {
        "colab_type": "code",
        "id": "A4iUkm7_5a5V",
        "colab": {}
      },
      "source": [
        "# должно вывести\n",
        "results = [[(1, 'C# create cookie from string and send it'),\n",
        "            (0, 'Convert Google results object (pure js) to Python object'),\n",
        "            (2, 'How to use jQuery AJAX for an outside domain?')],\n",
        "           [(0, 'Getting all list items of an unordered list in PHP'),\n",
        "            (*, 'select2 not displaying search results'), #скрыт\n",
        "            (*, 'WPF- How to update the changes in list item of a list')]] #скрыт"
      ],
      "execution_count": 0,
      "outputs": []
    },
    {
      "cell_type": "markdown",
      "metadata": {
        "colab_type": "text",
        "id": "t_1lmt995a5X"
      },
      "source": [
        "Последовательность начальных индексов вы должны получить `для экспереминта 1`  1, 0, 2. Для второго экперимента вы знаете один индекс уже."
      ]
    },
    {
      "cell_type": "markdown",
      "metadata": {
        "colab_type": "text",
        "id": "OgFyYJl_5a5Y"
      },
      "source": [
        "Теперь мы можем оценить качество нашего метода. Запустите следующие два блока кода для получения результата. Обратите внимание, что вычисление расстояния между векторами занимает некоторое время (примерно 10 минут)."
      ]
    },
    {
      "cell_type": "code",
      "metadata": {
        "colab_type": "code",
        "id": "JSc5HXkQ5a5Z",
        "colab": {}
      },
      "source": [
        "wv_ranking = []\n",
        "for i, line in enumerate(test):\n",
        "    q, *ex = line\n",
        "    ranks = rank_candidates(q, ex, wv_embeddings)\n",
        "    wv_ranking.append([r[0] for r in ranks].index('0') + 1)"
      ],
      "execution_count": 0,
      "outputs": []
    },
    {
      "cell_type": "code",
      "metadata": {
        "colab_type": "code",
        "id": "JzQ4Dqsk5a5b",
        "outputId": "03590692-bb94-4f33-ba18-41aedc7fafd8",
        "scrolled": true,
        "colab": {
          "base_uri": "https://localhost:8080/",
          "height": 119
        }
      },
      "source": [
        "for k in [1, 5, 10, 100, 500, 1000]:\n",
        "    print(\"DCG@%4d: %.3f | Hits@%4d: %.3f\" % (k, dcg_score(wv_ranking, k), k, hits_count(wv_ranking, k)))"
      ],
      "execution_count": 0,
      "outputs": [
        {
          "output_type": "stream",
          "text": [
            "DCG@   1: 0.261 | Hits@   1: 0.261\n",
            "DCG@   5: 0.315 | Hits@   5: 0.364\n",
            "DCG@  10: 0.332 | Hits@  10: 0.418\n",
            "DCG@ 100: 0.374 | Hits@ 100: 0.626\n",
            "DCG@ 500: 0.401 | Hits@ 500: 0.839\n",
            "DCG@1000: 0.418 | Hits@1000: 1.000\n"
          ],
          "name": "stdout"
        }
      ]
    },
    {
      "cell_type": "markdown",
      "metadata": {
        "colab_type": "text",
        "id": "Pox7gZ4e5a5d"
      },
      "source": [
        "Если вы проделали все шаги правильно, то вы должны немного разочароваться полученными результатами. Давайте попробуем понять, почему качество модели такое низкое. Когда вы работаете с какими-либо данными, очень полезно первым делом посмотреть на них глазами. Выведим несколько вопросов из наших данных:"
      ]
    },
    {
      "cell_type": "code",
      "metadata": {
        "colab_type": "code",
        "id": "WKGpEfGt5a5e",
        "outputId": "13bd9ed7-85c3-4ba8-963f-1cc3b106b781",
        "colab": {
          "base_uri": "https://localhost:8080/",
          "height": 146
        }
      },
      "source": [
        "for line in test[:3]:\n",
        "    q, *examples = line\n",
        "    print(q, *examples[:3])\n",
        "    print()"
      ],
      "execution_count": 0,
      "outputs": [
        {
          "output_type": "stream",
          "text": [
            "How to print a binary heap tree without recursion? How do you best convert a recursive function to an iterative one? How can i use ng-model with directive in angular js flash: drawing and erasing\n",
            "\n",
            "How to start PhoneStateListener programmatically? PhoneStateListener and service Java cast object[] to model WCF and What does this mean?\n",
            "\n",
            "jQuery: Show a div2 when mousenter over div1 is over when hover on div1 depenting on if it is on div2 or not it should act differently How to run selenium in google app engine/cloud? Python Comparing two lists of strings for similarities\n",
            "\n"
          ],
          "name": "stdout"
        }
      ]
    },
    {
      "cell_type": "markdown",
      "metadata": {
        "colab_type": "text",
        "id": "FDOpGjae5a5g"
      },
      "source": [
        "Как вы можете заметить, мы имеем дело с сырыми данными. Это означает, что там присутствует много опечаток, спецсимволов и заглавных букв. В нашем случае это все может привести к ситуации, когда для данных токенов нет предобученных векторов. Поэтому необходима предобработка.\n",
        "\n",
        "Реализуйем функцию предобработки текстов. Вам требуется:\n",
        "- Перевести символы в нижний регистр;\n",
        "- Заменить символы пунктуации на пробелы;\n",
        "- Удалить \"плохие\" символы;\n",
        "- Удалить стопслова."
      ]
    },
    {
      "cell_type": "code",
      "metadata": {
        "colab_type": "code",
        "id": "ac0j8X3k5a5g",
        "outputId": "bc00afa7-526a-4be6-a21b-4dfab67dda85",
        "scrolled": true,
        "colab": {
          "base_uri": "https://localhost:8080/",
          "height": 51
        }
      },
      "source": [
        "import re\n",
        "import nltk\n",
        "import string\n",
        "nltk.download('stopwords')\n",
        "from nltk.corpus import stopwords"
      ],
      "execution_count": 0,
      "outputs": [
        {
          "output_type": "stream",
          "text": [
            "[nltk_data] Downloading package stopwords to /root/nltk_data...\n",
            "[nltk_data]   Unzipping corpora/stopwords.zip.\n"
          ],
          "name": "stdout"
        }
      ]
    },
    {
      "cell_type": "markdown",
      "metadata": {
        "colab_type": "text",
        "id": "_1zawtBF5a5j"
      },
      "source": [
        "Кол-во стоп стопслов"
      ]
    },
    {
      "cell_type": "code",
      "metadata": {
        "colab_type": "code",
        "id": "57d9zCBG5a5k",
        "outputId": "91fb5689-ff6e-44bc-f336-546bca63d7dd",
        "colab": {
          "base_uri": "https://localhost:8080/",
          "height": 34
        }
      },
      "source": [
        "stopWords = set(stopwords.words('english'))\n",
        "len(stopWords)"
      ],
      "execution_count": 0,
      "outputs": [
        {
          "output_type": "execute_result",
          "data": {
            "text/plain": [
              "179"
            ]
          },
          "metadata": {
            "tags": []
          },
          "execution_count": 25
        }
      ]
    },
    {
      "cell_type": "code",
      "metadata": {
        "colab_type": "code",
        "id": "IqraPyi85a5n",
        "colab": {}
      },
      "source": [
        "def text_prepare(text):\n",
        "    \"\"\"\n",
        "        text: a string\n",
        "        \n",
        "        return: modified string\n",
        "    \"\"\"\n",
        "    # Перевести символы в нижний регистр\n",
        "    text = text.lower()\n",
        "    \n",
        "    # Заменить символы пунктуации на пробелы\n",
        "    text = re.sub(r'[{}]'.format(string.punctuation), ' ', text)\n",
        "    \n",
        "    # Удалить \"плохие\" символы\n",
        "    text = re.sub('[^A-Za-z0-9 ]', '', text)\n",
        "    \n",
        "    # Удалить стопслова.\n",
        "    stopWords = set(stopwords.words('english'))\n",
        "    text = ' '.join([word for word in text.split() if word not in stopWords])\n",
        "    \n",
        "    return text"
      ],
      "execution_count": 0,
      "outputs": []
    },
    {
      "cell_type": "markdown",
      "metadata": {
        "colab_type": "text",
        "id": "ZBj7eHjL5a5o"
      },
      "source": [
        "Теперь преобразуйте все вопросы из тестовой выборки. Оцените, как изменилось качество. Сделайте выводы. Для изменения текста понадобиться около 30 минут."
      ]
    },
    {
      "cell_type": "code",
      "metadata": {
        "colab_type": "code",
        "id": "KLWHQx0N5a5p",
        "colab": {}
      },
      "source": [
        "from tqdm import tqdm_notebook\n",
        "from copy import deepcopy\n",
        "\n",
        "new_test = deepcopy(test)\n",
        "for i in range(len(new_test)):\n",
        "    for j in range(len(new_test[i])):\n",
        "        new_test[i][j] = text_prepare(new_test[i][j])"
      ],
      "execution_count": 0,
      "outputs": []
    },
    {
      "cell_type": "code",
      "metadata": {
        "colab_type": "code",
        "id": "_lvpac8C5a5q",
        "scrolled": true,
        "colab": {}
      },
      "source": [
        "wv_ranking = []\n",
        "for line in new_test:\n",
        "    q, *ex = line\n",
        "    ranks = rank_candidates(q, ex, wv_embeddings)\n",
        "    wv_ranking.append([r[0] for r in ranks].index('0') + 1)"
      ],
      "execution_count": 0,
      "outputs": []
    },
    {
      "cell_type": "code",
      "metadata": {
        "colab_type": "code",
        "id": "fX1_3me75a5s",
        "outputId": "9871a2d8-e6af-4f91-a63f-f1b361620089",
        "scrolled": true,
        "colab": {
          "base_uri": "https://localhost:8080/",
          "height": 126
        }
      },
      "source": [
        "for k in [1, 5, 10, 100, 500, 1000]:\n",
        "    print(\"DCG@%4d: %.3f | Hits@%4d: %.3f\" % (k, dcg_score(wv_ranking, k), k, hits_count(wv_ranking, k)))"
      ],
      "execution_count": 0,
      "outputs": [
        {
          "output_type": "stream",
          "text": [
            "DCG@   1: 0.340 | Hits@   1: 0.340\n",
            "DCG@   5: 0.412 | Hits@   5: 0.477\n",
            "DCG@  10: 0.427 | Hits@  10: 0.523\n",
            "DCG@ 100: 0.463 | Hits@ 100: 0.702\n",
            "DCG@ 500: 0.482 | Hits@ 500: 0.855\n",
            "DCG@1000: 0.498 | Hits@1000: 1.000\n"
          ],
          "name": "stdout"
        }
      ]
    },
    {
      "cell_type": "markdown",
      "metadata": {
        "colab_type": "text",
        "id": "Il-kkuKf5a5u"
      },
      "source": [
        "# Finally!.. Visualization! (Again..)"
      ]
    },
    {
      "cell_type": "markdown",
      "metadata": {
        "colab_type": "text",
        "id": "23pmSM_a5a5v"
      },
      "source": [
        "Раз уж мы научились получать эмбеддинги предложений, а не только слов, давайте попробуем визуализировать эмбеддинги предложений!\n",
        "\n",
        "Функция получения эмбеддинга по предложению у нас уже есть (question_to_vec в начале ноутбука). Нам осталось выбрать, какой датасет мы будем использовать (quora.txt с семинара или stackoverflow из этого дз), и далее:\n",
        "\n",
        "1. Проделать предобработку вопросов (text_prepare, как выше)\n",
        "2. Для всех вопросов получить эмбединнги (question_to_vec)\n",
        "3. Применить к массиву эмбеддингов TSNE (как на семинаре)\n",
        "4. Не забыть нормализовать векторы, полученные из TSNE\n",
        "5. Запустить функцию draw из семинара!"
      ]
    },
    {
      "cell_type": "code",
      "metadata": {
        "id": "12XBq4oYcdI6",
        "colab_type": "code",
        "colab": {}
      },
      "source": [
        "# 1\n",
        "from copy import deepcopy\n",
        "ques = []\n",
        "for i in range(len(test)):\n",
        "    ques.append(new_test[i][0])\n",
        "\n",
        "ques = np.array(ques)"
      ],
      "execution_count": 0,
      "outputs": []
    },
    {
      "cell_type": "code",
      "metadata": {
        "colab_type": "code",
        "id": "ZpIUou2HaMeb",
        "colab": {}
      },
      "source": [
        "# 2\n",
        "vec_ques = []\n",
        "for que in ques:\n",
        "    vec_ques.append(question_to_vec(que, wv_embeddings))\n",
        "\n",
        "vec_ques = np.array(vec_ques)"
      ],
      "execution_count": 0,
      "outputs": []
    },
    {
      "cell_type": "code",
      "metadata": {
        "colab_type": "code",
        "id": "8pU1KOV0sXbe",
        "outputId": "a283b089-9e00-4147-8927-0df68411a532",
        "scrolled": true,
        "colab": {
          "base_uri": "https://localhost:8080/",
          "height": 199
        }
      },
      "source": [
        "# 3\n",
        "from sklearn.manifold import TSNE\n",
        "\n",
        "tsne = TSNE(n_components=2, verbose=50, n_jobs = -1)\n",
        "\n",
        "veq_ques_tsne = tsne.fit_transform(vec_ques)"
      ],
      "execution_count": 0,
      "outputs": [
        {
          "output_type": "stream",
          "text": [
            "[t-SNE] Computing 91 nearest neighbors...\n",
            "[t-SNE] Indexed 3760 samples in 0.214s...\n",
            "[t-SNE] Computed neighbors for 3760 samples in 0.927s...\n",
            "[t-SNE] Computed conditional probabilities for sample 1000 / 3760\n",
            "[t-SNE] Computed conditional probabilities for sample 2000 / 3760\n",
            "[t-SNE] Computed conditional probabilities for sample 3000 / 3760\n",
            "[t-SNE] Computed conditional probabilities for sample 3760 / 3760\n",
            "[t-SNE] Mean sigma: 0.370917\n",
            "[t-SNE] Computed conditional probabilities in 0.140s\n",
            "[t-SNE] Iteration 50: error = 89.1691437, gradient norm = 0.1271771 (50 iterations in 90.349s)\n",
            "[t-SNE] Iteration 100: error = 89.5669327, gradient norm = 0.1474406 (50 iterations in 100.076s)\n",
            "[t-SNE] Iteration 150: error = 90.0778809, gradient norm = 0.1076808 (50 iterations in 101.356s)\n",
            "[t-SNE] Iteration 200: error = 88.6169739, gradient norm = 0.1358511 (50 iterations in 101.573s)\n",
            "[t-SNE] Iteration 250: error = 89.1244659, gradient norm = 0.1612900 (50 iterations in 100.450s)\n",
            "[t-SNE] KL divergence after 250 iterations with early exaggeration: 89.124466\n",
            "[t-SNE] Iteration 300: error = 3.2424662, gradient norm = 0.0024458 (50 iterations in 71.392s)\n",
            "[t-SNE] Iteration 350: error = 2.9878001, gradient norm = 0.0006997 (50 iterations in 54.364s)\n",
            "[t-SNE] Iteration 400: error = 2.8975129, gradient norm = 0.0003230 (50 iterations in 51.173s)\n",
            "[t-SNE] Iteration 450: error = 2.8492339, gradient norm = 0.0001989 (50 iterations in 49.771s)\n",
            "[t-SNE] Iteration 500: error = 2.8185575, gradient norm = 0.0001444 (50 iterations in 50.286s)\n",
            "[t-SNE] Iteration 550: error = 2.7984948, gradient norm = 0.0001228 (50 iterations in 49.499s)\n",
            "[t-SNE] Iteration 600: error = 2.7845929, gradient norm = 0.0001006 (50 iterations in 49.655s)\n",
            "[t-SNE] Iteration 650: error = 2.7746229, gradient norm = 0.0000868 (50 iterations in 49.799s)\n",
            "[t-SNE] Iteration 700: error = 2.7671945, gradient norm = 0.0000793 (50 iterations in 48.609s)\n",
            "[t-SNE] Iteration 750: error = 2.7620194, gradient norm = 0.0000718 (50 iterations in 49.185s)\n",
            "[t-SNE] Iteration 800: error = 2.7576823, gradient norm = 0.0000675 (50 iterations in 48.875s)\n",
            "[t-SNE] Iteration 850: error = 2.7542243, gradient norm = 0.0000661 (50 iterations in 49.386s)\n",
            "[t-SNE] Iteration 900: error = 2.7514100, gradient norm = 0.0000558 (50 iterations in 49.352s)\n",
            "[t-SNE] Iteration 950: error = 2.7485356, gradient norm = 0.0000535 (50 iterations in 47.959s)\n",
            "[t-SNE] Iteration 1000: error = 2.7456627, gradient norm = 0.0000533 (50 iterations in 47.689s)\n",
            "[t-SNE] KL divergence after 1000 iterations: 2.745663\n"
          ],
          "name": "stdout"
        }
      ]
    },
    {
      "cell_type": "code",
      "metadata": {
        "id": "FqIy1CC2cdJF",
        "colab_type": "code",
        "colab": {}
      },
      "source": [
        "# 4\n",
        "from sklearn.preprocessing import StandardScaler\n",
        "\n",
        "ss = StandardScaler()\n",
        "ss.fit(veq_ques_tsne)\n",
        "veq_ques_tsne = ss.transform(veq_ques_tsne)"
      ],
      "execution_count": 0,
      "outputs": []
    },
    {
      "cell_type": "code",
      "metadata": {
        "colab_type": "code",
        "id": "12AtRBOov_Gu",
        "scrolled": true,
        "outputId": "3acb890f-aecb-44e5-e41a-277ae345bb05",
        "colab": {}
      },
      "source": [
        "# 5\n",
        "import bokeh.models as bm, bokeh.plotting as pl\n",
        "from bokeh.io import output_notebook\n",
        "output_notebook()\n",
        "\n",
        "def draw_vectors(x, y, radius=10, alpha=0.25, color='blue',\n",
        "                 width=600, height=400, show=True, **kwargs):\n",
        "    if isinstance(color, str): color = [color] * len(x)\n",
        "    data_source = bm.ColumnDataSource({ 'x' : x, 'y' : y, 'color': color, **kwargs })\n",
        "\n",
        "    fig = pl.figure(active_scroll='wheel_zoom', width=width, height=height)\n",
        "    fig.scatter('x', 'y', size=radius, color='color', alpha=alpha, source=data_source)\n",
        "\n",
        "    fig.add_tools(bm.HoverTool(tooltips=[(key, \"@\" + key) for key in kwargs.keys()]))\n",
        "    if show: pl.show(fig)\n",
        "    return fig\n",
        "\n",
        "\n",
        "draw_vectors(veq_ques_tsne[:, 0], veq_ques_tsne[:, 1], token=ques)"
      ],
      "execution_count": 0,
      "outputs": [
        {
          "output_type": "display_data",
          "data": {
            "text/html": [
              "\n",
              "    <div class=\"bk-root\">\n",
              "        <a href=\"https://bokeh.org\" target=\"_blank\" class=\"bk-logo bk-logo-small bk-logo-notebook\"></a>\n",
              "        <span id=\"1108\">Loading BokehJS ...</span>\n",
              "    </div>"
            ]
          },
          "metadata": {
            "tags": []
          }
        },
        {
          "output_type": "display_data",
          "data": {
            "application/javascript": [
              "\n",
              "(function(root) {\n",
              "  function now() {\n",
              "    return new Date();\n",
              "  }\n",
              "\n",
              "  var force = true;\n",
              "\n",
              "  if (typeof root._bokeh_onload_callbacks === \"undefined\" || force === true) {\n",
              "    root._bokeh_onload_callbacks = [];\n",
              "    root._bokeh_is_loading = undefined;\n",
              "  }\n",
              "\n",
              "  var JS_MIME_TYPE = 'application/javascript';\n",
              "  var HTML_MIME_TYPE = 'text/html';\n",
              "  var EXEC_MIME_TYPE = 'application/vnd.bokehjs_exec.v0+json';\n",
              "  var CLASS_NAME = 'output_bokeh rendered_html';\n",
              "\n",
              "  /**\n",
              "   * Render data to the DOM node\n",
              "   */\n",
              "  function render(props, node) {\n",
              "    var script = document.createElement(\"script\");\n",
              "    node.appendChild(script);\n",
              "  }\n",
              "\n",
              "  /**\n",
              "   * Handle when an output is cleared or removed\n",
              "   */\n",
              "  function handleClearOutput(event, handle) {\n",
              "    var cell = handle.cell;\n",
              "\n",
              "    var id = cell.output_area._bokeh_element_id;\n",
              "    var server_id = cell.output_area._bokeh_server_id;\n",
              "    // Clean up Bokeh references\n",
              "    if (id != null && id in Bokeh.index) {\n",
              "      Bokeh.index[id].model.document.clear();\n",
              "      delete Bokeh.index[id];\n",
              "    }\n",
              "\n",
              "    if (server_id !== undefined) {\n",
              "      // Clean up Bokeh references\n",
              "      var cmd = \"from bokeh.io.state import curstate; print(curstate().uuid_to_server['\" + server_id + \"'].get_sessions()[0].document.roots[0]._id)\";\n",
              "      cell.notebook.kernel.execute(cmd, {\n",
              "        iopub: {\n",
              "          output: function(msg) {\n",
              "            var id = msg.content.text.trim();\n",
              "            if (id in Bokeh.index) {\n",
              "              Bokeh.index[id].model.document.clear();\n",
              "              delete Bokeh.index[id];\n",
              "            }\n",
              "          }\n",
              "        }\n",
              "      });\n",
              "      // Destroy server and session\n",
              "      var cmd = \"import bokeh.io.notebook as ion; ion.destroy_server('\" + server_id + \"')\";\n",
              "      cell.notebook.kernel.execute(cmd);\n",
              "    }\n",
              "  }\n",
              "\n",
              "  /**\n",
              "   * Handle when a new output is added\n",
              "   */\n",
              "  function handleAddOutput(event, handle) {\n",
              "    var output_area = handle.output_area;\n",
              "    var output = handle.output;\n",
              "\n",
              "    // limit handleAddOutput to display_data with EXEC_MIME_TYPE content only\n",
              "    if ((output.output_type != \"display_data\") || (!output.data.hasOwnProperty(EXEC_MIME_TYPE))) {\n",
              "      return\n",
              "    }\n",
              "\n",
              "    var toinsert = output_area.element.find(\".\" + CLASS_NAME.split(' ')[0]);\n",
              "\n",
              "    if (output.metadata[EXEC_MIME_TYPE][\"id\"] !== undefined) {\n",
              "      toinsert[toinsert.length - 1].firstChild.textContent = output.data[JS_MIME_TYPE];\n",
              "      // store reference to embed id on output_area\n",
              "      output_area._bokeh_element_id = output.metadata[EXEC_MIME_TYPE][\"id\"];\n",
              "    }\n",
              "    if (output.metadata[EXEC_MIME_TYPE][\"server_id\"] !== undefined) {\n",
              "      var bk_div = document.createElement(\"div\");\n",
              "      bk_div.innerHTML = output.data[HTML_MIME_TYPE];\n",
              "      var script_attrs = bk_div.children[0].attributes;\n",
              "      for (var i = 0; i < script_attrs.length; i++) {\n",
              "        toinsert[toinsert.length - 1].firstChild.setAttribute(script_attrs[i].name, script_attrs[i].value);\n",
              "        toinsert[toinsert.length - 1].firstChild.textContent = bk_div.children[0].textContent\n",
              "      }\n",
              "      // store reference to server id on output_area\n",
              "      output_area._bokeh_server_id = output.metadata[EXEC_MIME_TYPE][\"server_id\"];\n",
              "    }\n",
              "  }\n",
              "\n",
              "  function register_renderer(events, OutputArea) {\n",
              "\n",
              "    function append_mime(data, metadata, element) {\n",
              "      // create a DOM node to render to\n",
              "      var toinsert = this.create_output_subarea(\n",
              "        metadata,\n",
              "        CLASS_NAME,\n",
              "        EXEC_MIME_TYPE\n",
              "      );\n",
              "      this.keyboard_manager.register_events(toinsert);\n",
              "      // Render to node\n",
              "      var props = {data: data, metadata: metadata[EXEC_MIME_TYPE]};\n",
              "      render(props, toinsert[toinsert.length - 1]);\n",
              "      element.append(toinsert);\n",
              "      return toinsert\n",
              "    }\n",
              "\n",
              "    /* Handle when an output is cleared or removed */\n",
              "    events.on('clear_output.CodeCell', handleClearOutput);\n",
              "    events.on('delete.Cell', handleClearOutput);\n",
              "\n",
              "    /* Handle when a new output is added */\n",
              "    events.on('output_added.OutputArea', handleAddOutput);\n",
              "\n",
              "    /**\n",
              "     * Register the mime type and append_mime function with output_area\n",
              "     */\n",
              "    OutputArea.prototype.register_mime_type(EXEC_MIME_TYPE, append_mime, {\n",
              "      /* Is output safe? */\n",
              "      safe: true,\n",
              "      /* Index of renderer in `output_area.display_order` */\n",
              "      index: 0\n",
              "    });\n",
              "  }\n",
              "\n",
              "  // register the mime type if in Jupyter Notebook environment and previously unregistered\n",
              "  if (root.Jupyter !== undefined) {\n",
              "    var events = require('base/js/events');\n",
              "    var OutputArea = require('notebook/js/outputarea').OutputArea;\n",
              "\n",
              "    if (OutputArea.prototype.mime_types().indexOf(EXEC_MIME_TYPE) == -1) {\n",
              "      register_renderer(events, OutputArea);\n",
              "    }\n",
              "  }\n",
              "\n",
              "  \n",
              "  if (typeof (root._bokeh_timeout) === \"undefined\" || force === true) {\n",
              "    root._bokeh_timeout = Date.now() + 5000;\n",
              "    root._bokeh_failed_load = false;\n",
              "  }\n",
              "\n",
              "  var NB_LOAD_WARNING = {'data': {'text/html':\n",
              "     \"<div style='background-color: #fdd'>\\n\"+\n",
              "     \"<p>\\n\"+\n",
              "     \"BokehJS does not appear to have successfully loaded. If loading BokehJS from CDN, this \\n\"+\n",
              "     \"may be due to a slow or bad network connection. Possible fixes:\\n\"+\n",
              "     \"</p>\\n\"+\n",
              "     \"<ul>\\n\"+\n",
              "     \"<li>re-rerun `output_notebook()` to attempt to load from CDN again, or</li>\\n\"+\n",
              "     \"<li>use INLINE resources instead, as so:</li>\\n\"+\n",
              "     \"</ul>\\n\"+\n",
              "     \"<code>\\n\"+\n",
              "     \"from bokeh.resources import INLINE\\n\"+\n",
              "     \"output_notebook(resources=INLINE)\\n\"+\n",
              "     \"</code>\\n\"+\n",
              "     \"</div>\"}};\n",
              "\n",
              "  function display_loaded() {\n",
              "    var el = document.getElementById(\"1108\");\n",
              "    if (el != null) {\n",
              "      el.textContent = \"BokehJS is loading...\";\n",
              "    }\n",
              "    if (root.Bokeh !== undefined) {\n",
              "      if (el != null) {\n",
              "        el.textContent = \"BokehJS \" + root.Bokeh.version + \" successfully loaded.\";\n",
              "      }\n",
              "    } else if (Date.now() < root._bokeh_timeout) {\n",
              "      setTimeout(display_loaded, 100)\n",
              "    }\n",
              "  }\n",
              "\n",
              "\n",
              "  function run_callbacks() {\n",
              "    try {\n",
              "      root._bokeh_onload_callbacks.forEach(function(callback) {\n",
              "        if (callback != null)\n",
              "          callback();\n",
              "      });\n",
              "    } finally {\n",
              "      delete root._bokeh_onload_callbacks\n",
              "    }\n",
              "    console.debug(\"Bokeh: all callbacks have finished\");\n",
              "  }\n",
              "\n",
              "  function load_libs(css_urls, js_urls, callback) {\n",
              "    if (css_urls == null) css_urls = [];\n",
              "    if (js_urls == null) js_urls = [];\n",
              "\n",
              "    root._bokeh_onload_callbacks.push(callback);\n",
              "    if (root._bokeh_is_loading > 0) {\n",
              "      console.debug(\"Bokeh: BokehJS is being loaded, scheduling callback at\", now());\n",
              "      return null;\n",
              "    }\n",
              "    if (js_urls == null || js_urls.length === 0) {\n",
              "      run_callbacks();\n",
              "      return null;\n",
              "    }\n",
              "    console.debug(\"Bokeh: BokehJS not loaded, scheduling load and callback at\", now());\n",
              "    root._bokeh_is_loading = css_urls.length + js_urls.length;\n",
              "\n",
              "    function on_load() {\n",
              "      root._bokeh_is_loading--;\n",
              "      if (root._bokeh_is_loading === 0) {\n",
              "        console.debug(\"Bokeh: all BokehJS libraries/stylesheets loaded\");\n",
              "        run_callbacks()\n",
              "      }\n",
              "    }\n",
              "\n",
              "    function on_error() {\n",
              "      console.error(\"failed to load \" + url);\n",
              "    }\n",
              "\n",
              "    for (var i = 0; i < css_urls.length; i++) {\n",
              "      var url = css_urls[i];\n",
              "      const element = document.createElement(\"link\");\n",
              "      element.onload = on_load;\n",
              "      element.onerror = on_error;\n",
              "      element.rel = \"stylesheet\";\n",
              "      element.type = \"text/css\";\n",
              "      element.href = url;\n",
              "      console.debug(\"Bokeh: injecting link tag for BokehJS stylesheet: \", url);\n",
              "      document.body.appendChild(element);\n",
              "    }\n",
              "\n",
              "    const hashes = {\"https://cdn.bokeh.org/bokeh/release/bokeh-2.0.1.min.js\": \"JpP8FXbgAZLkfur7LiK3j9AGBhHNIvF742meBJrjO2ShJDhCG2I1uVvW+0DUtrmc\", \"https://cdn.bokeh.org/bokeh/release/bokeh-widgets-2.0.1.min.js\": \"xZlADit0Q04ISQEdKg2k3L4W9AwQBAuDs9nJL9fM/WwzL1tEU9VPNezOFX0nLEAz\", \"https://cdn.bokeh.org/bokeh/release/bokeh-tables-2.0.1.min.js\": \"4BuPRZkdMKSnj3zoxiNrQ86XgNw0rYmBOxe7nshquXwwcauupgBF2DHLVG1WuZlV\", \"https://cdn.bokeh.org/bokeh/release/bokeh-gl-2.0.1.min.js\": \"Dv1SQ87hmDqK6S5OhBf0bCuwAEvL5QYL0PuR/F1SPVhCS/r/abjkbpKDYL2zeM19\"};\n",
              "\n",
              "    for (var i = 0; i < js_urls.length; i++) {\n",
              "      var url = js_urls[i];\n",
              "      var element = document.createElement('script');\n",
              "      element.onload = on_load;\n",
              "      element.onerror = on_error;\n",
              "      element.async = false;\n",
              "      element.src = url;\n",
              "      if (url in hashes) {\n",
              "        element.crossOrigin = \"anonymous\";\n",
              "        element.integrity = \"sha384-\" + hashes[url];\n",
              "      }\n",
              "      console.debug(\"Bokeh: injecting script tag for BokehJS library: \", url);\n",
              "      document.head.appendChild(element);\n",
              "    }\n",
              "  };var element = document.getElementById(\"1108\");\n",
              "  if (element == null) {\n",
              "    console.error(\"Bokeh: ERROR: autoload.js configured with elementid '1108' but no matching script tag was found. \")\n",
              "    return false;\n",
              "  }\n",
              "\n",
              "  function inject_raw_css(css) {\n",
              "    const element = document.createElement(\"style\");\n",
              "    element.appendChild(document.createTextNode(css));\n",
              "    document.body.appendChild(element);\n",
              "  }\n",
              "\n",
              "  \n",
              "  var js_urls = [\"https://cdn.bokeh.org/bokeh/release/bokeh-2.0.1.min.js\", \"https://cdn.bokeh.org/bokeh/release/bokeh-widgets-2.0.1.min.js\", \"https://cdn.bokeh.org/bokeh/release/bokeh-tables-2.0.1.min.js\", \"https://cdn.bokeh.org/bokeh/release/bokeh-gl-2.0.1.min.js\"];\n",
              "  var css_urls = [];\n",
              "  \n",
              "\n",
              "  var inline_js = [\n",
              "    function(Bokeh) {\n",
              "      Bokeh.set_log_level(\"info\");\n",
              "    },\n",
              "    function(Bokeh) {\n",
              "    \n",
              "    \n",
              "    }\n",
              "  ];\n",
              "\n",
              "  function run_inline_js() {\n",
              "    \n",
              "    if (root.Bokeh !== undefined || force === true) {\n",
              "      \n",
              "    for (var i = 0; i < inline_js.length; i++) {\n",
              "      inline_js[i].call(root, root.Bokeh);\n",
              "    }\n",
              "    if (force === true) {\n",
              "        display_loaded();\n",
              "      }} else if (Date.now() < root._bokeh_timeout) {\n",
              "      setTimeout(run_inline_js, 100);\n",
              "    } else if (!root._bokeh_failed_load) {\n",
              "      console.log(\"Bokeh: BokehJS failed to load within specified timeout.\");\n",
              "      root._bokeh_failed_load = true;\n",
              "    } else if (force !== true) {\n",
              "      var cell = $(document.getElementById(\"1108\")).parents('.cell').data().cell;\n",
              "      cell.output_area.append_execute_result(NB_LOAD_WARNING)\n",
              "    }\n",
              "\n",
              "  }\n",
              "\n",
              "  if (root._bokeh_is_loading === 0) {\n",
              "    console.debug(\"Bokeh: BokehJS loaded, going straight to plotting\");\n",
              "    run_inline_js();\n",
              "  } else {\n",
              "    load_libs(css_urls, js_urls, function() {\n",
              "      console.debug(\"Bokeh: BokehJS plotting callback run at\", now());\n",
              "      run_inline_js();\n",
              "    });\n",
              "  }\n",
              "}(window));"
            ],
            "application/vnd.bokehjs_load.v0+json": "\n(function(root) {\n  function now() {\n    return new Date();\n  }\n\n  var force = true;\n\n  if (typeof root._bokeh_onload_callbacks === \"undefined\" || force === true) {\n    root._bokeh_onload_callbacks = [];\n    root._bokeh_is_loading = undefined;\n  }\n\n  \n\n  \n  if (typeof (root._bokeh_timeout) === \"undefined\" || force === true) {\n    root._bokeh_timeout = Date.now() + 5000;\n    root._bokeh_failed_load = false;\n  }\n\n  var NB_LOAD_WARNING = {'data': {'text/html':\n     \"<div style='background-color: #fdd'>\\n\"+\n     \"<p>\\n\"+\n     \"BokehJS does not appear to have successfully loaded. If loading BokehJS from CDN, this \\n\"+\n     \"may be due to a slow or bad network connection. Possible fixes:\\n\"+\n     \"</p>\\n\"+\n     \"<ul>\\n\"+\n     \"<li>re-rerun `output_notebook()` to attempt to load from CDN again, or</li>\\n\"+\n     \"<li>use INLINE resources instead, as so:</li>\\n\"+\n     \"</ul>\\n\"+\n     \"<code>\\n\"+\n     \"from bokeh.resources import INLINE\\n\"+\n     \"output_notebook(resources=INLINE)\\n\"+\n     \"</code>\\n\"+\n     \"</div>\"}};\n\n  function display_loaded() {\n    var el = document.getElementById(\"1108\");\n    if (el != null) {\n      el.textContent = \"BokehJS is loading...\";\n    }\n    if (root.Bokeh !== undefined) {\n      if (el != null) {\n        el.textContent = \"BokehJS \" + root.Bokeh.version + \" successfully loaded.\";\n      }\n    } else if (Date.now() < root._bokeh_timeout) {\n      setTimeout(display_loaded, 100)\n    }\n  }\n\n\n  function run_callbacks() {\n    try {\n      root._bokeh_onload_callbacks.forEach(function(callback) {\n        if (callback != null)\n          callback();\n      });\n    } finally {\n      delete root._bokeh_onload_callbacks\n    }\n    console.debug(\"Bokeh: all callbacks have finished\");\n  }\n\n  function load_libs(css_urls, js_urls, callback) {\n    if (css_urls == null) css_urls = [];\n    if (js_urls == null) js_urls = [];\n\n    root._bokeh_onload_callbacks.push(callback);\n    if (root._bokeh_is_loading > 0) {\n      console.debug(\"Bokeh: BokehJS is being loaded, scheduling callback at\", now());\n      return null;\n    }\n    if (js_urls == null || js_urls.length === 0) {\n      run_callbacks();\n      return null;\n    }\n    console.debug(\"Bokeh: BokehJS not loaded, scheduling load and callback at\", now());\n    root._bokeh_is_loading = css_urls.length + js_urls.length;\n\n    function on_load() {\n      root._bokeh_is_loading--;\n      if (root._bokeh_is_loading === 0) {\n        console.debug(\"Bokeh: all BokehJS libraries/stylesheets loaded\");\n        run_callbacks()\n      }\n    }\n\n    function on_error() {\n      console.error(\"failed to load \" + url);\n    }\n\n    for (var i = 0; i < css_urls.length; i++) {\n      var url = css_urls[i];\n      const element = document.createElement(\"link\");\n      element.onload = on_load;\n      element.onerror = on_error;\n      element.rel = \"stylesheet\";\n      element.type = \"text/css\";\n      element.href = url;\n      console.debug(\"Bokeh: injecting link tag for BokehJS stylesheet: \", url);\n      document.body.appendChild(element);\n    }\n\n    const hashes = {\"https://cdn.bokeh.org/bokeh/release/bokeh-2.0.1.min.js\": \"JpP8FXbgAZLkfur7LiK3j9AGBhHNIvF742meBJrjO2ShJDhCG2I1uVvW+0DUtrmc\", \"https://cdn.bokeh.org/bokeh/release/bokeh-widgets-2.0.1.min.js\": \"xZlADit0Q04ISQEdKg2k3L4W9AwQBAuDs9nJL9fM/WwzL1tEU9VPNezOFX0nLEAz\", \"https://cdn.bokeh.org/bokeh/release/bokeh-tables-2.0.1.min.js\": \"4BuPRZkdMKSnj3zoxiNrQ86XgNw0rYmBOxe7nshquXwwcauupgBF2DHLVG1WuZlV\", \"https://cdn.bokeh.org/bokeh/release/bokeh-gl-2.0.1.min.js\": \"Dv1SQ87hmDqK6S5OhBf0bCuwAEvL5QYL0PuR/F1SPVhCS/r/abjkbpKDYL2zeM19\"};\n\n    for (var i = 0; i < js_urls.length; i++) {\n      var url = js_urls[i];\n      var element = document.createElement('script');\n      element.onload = on_load;\n      element.onerror = on_error;\n      element.async = false;\n      element.src = url;\n      if (url in hashes) {\n        element.crossOrigin = \"anonymous\";\n        element.integrity = \"sha384-\" + hashes[url];\n      }\n      console.debug(\"Bokeh: injecting script tag for BokehJS library: \", url);\n      document.head.appendChild(element);\n    }\n  };var element = document.getElementById(\"1108\");\n  if (element == null) {\n    console.error(\"Bokeh: ERROR: autoload.js configured with elementid '1108' but no matching script tag was found. \")\n    return false;\n  }\n\n  function inject_raw_css(css) {\n    const element = document.createElement(\"style\");\n    element.appendChild(document.createTextNode(css));\n    document.body.appendChild(element);\n  }\n\n  \n  var js_urls = [\"https://cdn.bokeh.org/bokeh/release/bokeh-2.0.1.min.js\", \"https://cdn.bokeh.org/bokeh/release/bokeh-widgets-2.0.1.min.js\", \"https://cdn.bokeh.org/bokeh/release/bokeh-tables-2.0.1.min.js\", \"https://cdn.bokeh.org/bokeh/release/bokeh-gl-2.0.1.min.js\"];\n  var css_urls = [];\n  \n\n  var inline_js = [\n    function(Bokeh) {\n      Bokeh.set_log_level(\"info\");\n    },\n    function(Bokeh) {\n    \n    \n    }\n  ];\n\n  function run_inline_js() {\n    \n    if (root.Bokeh !== undefined || force === true) {\n      \n    for (var i = 0; i < inline_js.length; i++) {\n      inline_js[i].call(root, root.Bokeh);\n    }\n    if (force === true) {\n        display_loaded();\n      }} else if (Date.now() < root._bokeh_timeout) {\n      setTimeout(run_inline_js, 100);\n    } else if (!root._bokeh_failed_load) {\n      console.log(\"Bokeh: BokehJS failed to load within specified timeout.\");\n      root._bokeh_failed_load = true;\n    } else if (force !== true) {\n      var cell = $(document.getElementById(\"1108\")).parents('.cell').data().cell;\n      cell.output_area.append_execute_result(NB_LOAD_WARNING)\n    }\n\n  }\n\n  if (root._bokeh_is_loading === 0) {\n    console.debug(\"Bokeh: BokehJS loaded, going straight to plotting\");\n    run_inline_js();\n  } else {\n    load_libs(css_urls, js_urls, function() {\n      console.debug(\"Bokeh: BokehJS plotting callback run at\", now());\n      run_inline_js();\n    });\n  }\n}(window));"
          },
          "metadata": {
            "tags": []
          }
        },
        {
          "output_type": "display_data",
          "data": {
            "text/html": [
              "\n",
              "\n",
              "\n",
              "\n",
              "\n",
              "\n",
              "  <div class=\"bk-root\" id=\"4a7399ce-163e-4e22-8aa4-53bab7e1fc36\" data-root-id=\"1110\"></div>\n"
            ]
          },
          "metadata": {
            "tags": []
          }
        },
        {
          "output_type": "display_data",
          "data": {
            "application/javascript": [
              "(function(root) {\n",
              "  function embed_document(root) {\n",
              "    \n",
              "  var docs_json = {\"52c21c44-437b-4b99-826b-9f10733e7652\":{\"roots\":{\"references\":[{\"attributes\":{\"below\":[{\"id\":\"1119\"}],\"center\":[{\"id\":\"1122\"},{\"id\":\"1126\"}],\"left\":[{\"id\":\"1123\"}],\"plot_height\":400,\"renderers\":[{\"id\":\"1144\"}],\"title\":{\"id\":\"1158\"},\"toolbar\":{\"id\":\"1134\"},\"x_range\":{\"id\":\"1111\"},\"x_scale\":{\"id\":\"1115\"},\"y_range\":{\"id\":\"1113\"},\"y_scale\":{\"id\":\"1117\"}},\"id\":\"1110\",\"subtype\":\"Figure\",\"type\":\"Plot\"},{\"attributes\":{\"active_drag\":\"auto\",\"active_inspect\":\"auto\",\"active_multi\":null,\"active_scroll\":{\"id\":\"1128\"},\"active_tap\":\"auto\",\"tools\":[{\"id\":\"1127\"},{\"id\":\"1128\"},{\"id\":\"1129\"},{\"id\":\"1130\"},{\"id\":\"1131\"},{\"id\":\"1132\"},{\"id\":\"1146\"}]},\"id\":\"1134\",\"type\":\"Toolbar\"},{\"attributes\":{},\"id\":\"1113\",\"type\":\"DataRange1d\"},{\"attributes\":{},\"id\":\"1127\",\"type\":\"PanTool\"},{\"attributes\":{},\"id\":\"1165\",\"type\":\"Selection\"},{\"attributes\":{},\"id\":\"1111\",\"type\":\"DataRange1d\"},{\"attributes\":{},\"id\":\"1128\",\"type\":\"WheelZoomTool\"},{\"attributes\":{\"data\":{\"color\":[\"blue\",\"blue\",\"blue\",\"blue\",\"blue\",\"blue\",\"blue\",\"blue\",\"blue\",\"blue\",\"blue\",\"blue\",\"blue\",\"blue\",\"blue\",\"blue\",\"blue\",\"blue\",\"blue\",\"blue\",\"blue\",\"blue\",\"blue\",\"blue\",\"blue\",\"blue\",\"blue\",\"blue\",\"blue\",\"blue\",\"blue\",\"blue\",\"blue\",\"blue\",\"blue\",\"blue\",\"blue\",\"blue\",\"blue\",\"blue\",\"blue\",\"blue\",\"blue\",\"blue\",\"blue\",\"blue\",\"blue\",\"blue\",\"blue\",\"blue\",\"blue\",\"blue\",\"blue\",\"blue\",\"blue\",\"blue\",\"blue\",\"blue\",\"blue\",\"blue\",\"blue\",\"blue\",\"blue\",\"blue\",\"blue\",\"blue\",\"blue\",\"blue\",\"blue\",\"blue\",\"blue\",\"blue\",\"blue\",\"blue\",\"blue\",\"blue\",\"blue\",\"blue\",\"blue\",\"blue\",\"blue\",\"blue\",\"blue\",\"blue\",\"blue\",\"blue\",\"blue\",\"blue\",\"blue\",\"blue\",\"blue\",\"blue\",\"blue\",\"blue\",\"blue\",\"blue\",\"blue\",\"blue\",\"blue\",\"blue\",\"blue\",\"blue\",\"blue\",\"blue\",\"blue\",\"blue\",\"blue\",\"blue\",\"blue\",\"blue\",\"blue\",\"blue\",\"blue\",\"blue\",\"blue\",\"blue\",\"blue\",\"blue\",\"blue\",\"blue\",\"blue\",\"blue\",\"blue\",\"blue\",\"blue\",\"blue\",\"blue\",\"blue\",\"blue\",\"blue\",\"blue\",\"blue\",\"blue\",\"blue\",\"blue\",\"blue\",\"blue\",\"blue\",\"blue\",\"blue\",\"blue\",\"blue\",\"blue\",\"blue\",\"blue\",\"blue\",\"blue\",\"blue\",\"blue\",\"blue\",\"blue\",\"blue\",\"blue\",\"blue\",\"blue\",\"blue\",\"blue\",\"blue\",\"blue\",\"blue\",\"blue\",\"blue\",\"blue\",\"blue\",\"blue\",\"blue\",\"blue\",\"blue\",\"blue\",\"blue\",\"blue\",\"blue\",\"blue\",\"blue\",\"blue\",\"blue\",\"blue\",\"blue\",\"blue\",\"blue\",\"blue\",\"blue\",\"blue\",\"blue\",\"blue\",\"blue\",\"blue\",\"blue\",\"blue\",\"blue\",\"blue\",\"blue\",\"blue\",\"blue\",\"blue\",\"blue\",\"blue\",\"blue\",\"blue\",\"blue\",\"blue\",\"blue\",\"blue\",\"blue\",\"blue\",\"blue\",\"blue\",\"blue\",\"blue\",\"blue\",\"blue\",\"blue\",\"blue\",\"blue\",\"blue\",\"blue\",\"blue\",\"blue\",\"blue\",\"blue\",\"blue\",\"blue\",\"blue\",\"blue\",\"blue\",\"blue\",\"blue\",\"blue\",\"blue\",\"blue\",\"blue\",\"blue\",\"blue\",\"blue\",\"blue\",\"blue\",\"blue\",\"blue\",\"blue\",\"blue\",\"blue\",\"blue\",\"blue\",\"blue\",\"blue\",\"blue\",\"blue\",\"blue\",\"blue\",\"blue\",\"blue\",\"blue\",\"blue\",\"blue\",\"blue\",\"blue\",\"blue\",\"blue\",\"blue\",\"blue\",\"blue\",\"blue\",\"blue\",\"blue\",\"blue\",\"blue\",\"blue\",\"blue\",\"blue\",\"blue\",\"blue\",\"blue\",\"blue\",\"blue\",\"blue\",\"blue\",\"blue\",\"blue\",\"blue\",\"blue\",\"blue\",\"blue\",\"blue\",\"blue\",\"blue\",\"blue\",\"blue\",\"blue\",\"blue\",\"blue\",\"blue\",\"blue\",\"blue\",\"blue\",\"blue\",\"blue\",\"blue\",\"blue\",\"blue\",\"blue\",\"blue\",\"blue\",\"blue\",\"blue\",\"blue\",\"blue\",\"blue\",\"blue\",\"blue\",\"blue\",\"blue\",\"blue\",\"blue\",\"blue\",\"blue\",\"blue\",\"blue\",\"blue\",\"blue\",\"blue\",\"blue\",\"blue\",\"blue\",\"blue\",\"blue\",\"blue\",\"blue\",\"blue\",\"blue\",\"blue\",\"blue\",\"blue\",\"blue\",\"blue\",\"blue\",\"blue\",\"blue\",\"blue\",\"blue\",\"blue\",\"blue\",\"blue\",\"blue\",\"blue\",\"blue\",\"blue\",\"blue\",\"blue\",\"blue\",\"blue\",\"blue\",\"blue\",\"blue\",\"blue\",\"blue\",\"blue\",\"blue\",\"blue\",\"blue\",\"blue\",\"blue\",\"blue\",\"blue\",\"blue\",\"blue\",\"blue\",\"blue\",\"blue\",\"blue\",\"blue\",\"blue\",\"blue\",\"blue\",\"blue\",\"blue\",\"blue\",\"blue\",\"blue\",\"blue\",\"blue\",\"blue\",\"blue\",\"blue\",\"blue\",\"blue\",\"blue\",\"blue\",\"blue\",\"blue\",\"blue\",\"blue\",\"blue\",\"blue\",\"blue\",\"blue\",\"blue\",\"blue\",\"blue\",\"blue\",\"blue\",\"blue\",\"blue\",\"blue\",\"blue\",\"blue\",\"blue\",\"blue\",\"blue\",\"blue\",\"blue\",\"blue\",\"blue\",\"blue\",\"blue\",\"blue\",\"blue\",\"blue\",\"blue\",\"blue\",\"blue\",\"blue\",\"blue\",\"blue\",\"blue\",\"blue\",\"blue\",\"blue\",\"blue\",\"blue\",\"blue\",\"blue\",\"blue\",\"blue\",\"blue\",\"blue\",\"blue\",\"blue\",\"blue\",\"blue\",\"blue\",\"blue\",\"blue\",\"blue\",\"blue\",\"blue\",\"blue\",\"blue\",\"blue\",\"blue\",\"blue\",\"blue\",\"blue\",\"blue\",\"blue\",\"blue\",\"blue\",\"blue\",\"blue\",\"blue\",\"blue\",\"blue\",\"blue\",\"blue\",\"blue\",\"blue\",\"blue\",\"blue\",\"blue\",\"blue\",\"blue\",\"blue\",\"blue\",\"blue\",\"blue\",\"blue\",\"blue\",\"blue\",\"blue\",\"blue\",\"blue\",\"blue\",\"blue\",\"blue\",\"blue\",\"blue\",\"blue\",\"blue\",\"blue\",\"blue\",\"blue\",\"blue\",\"blue\",\"blue\",\"blue\",\"blue\",\"blue\",\"blue\",\"blue\",\"blue\",\"blue\",\"blue\",\"blue\",\"blue\",\"blue\",\"blue\",\"blue\",\"blue\",\"blue\",\"blue\",\"blue\",\"blue\",\"blue\",\"blue\",\"blue\",\"blue\",\"blue\",\"blue\",\"blue\",\"blue\",\"blue\",\"blue\",\"blue\",\"blue\",\"blue\",\"blue\",\"blue\",\"blue\",\"blue\",\"blue\",\"blue\",\"blue\",\"blue\",\"blue\",\"blue\",\"blue\",\"blue\",\"blue\",\"blue\",\"blue\",\"blue\",\"blue\",\"blue\",\"blue\",\"blue\",\"blue\",\"blue\",\"blue\",\"blue\",\"blue\",\"blue\",\"blue\",\"blue\",\"blue\",\"blue\",\"blue\",\"blue\",\"blue\",\"blue\",\"blue\",\"blue\",\"blue\",\"blue\",\"blue\",\"blue\",\"blue\",\"blue\",\"blue\",\"blue\",\"blue\",\"blue\",\"blue\",\"blue\",\"blue\",\"blue\",\"blue\",\"blue\",\"blue\",\"blue\",\"blue\",\"blue\",\"blue\",\"blue\",\"blue\",\"blue\",\"blue\",\"blue\",\"blue\",\"blue\",\"blue\",\"blue\",\"blue\",\"blue\",\"blue\",\"blue\",\"blue\",\"blue\",\"blue\",\"blue\",\"blue\",\"blue\",\"blue\",\"blue\",\"blue\",\"blue\",\"blue\",\"blue\",\"blue\",\"blue\",\"blue\",\"blue\",\"blue\",\"blue\",\"blue\",\"blue\",\"blue\",\"blue\",\"blue\",\"blue\",\"blue\",\"blue\",\"blue\",\"blue\",\"blue\",\"blue\",\"blue\",\"blue\",\"blue\",\"blue\",\"blue\",\"blue\",\"blue\",\"blue\",\"blue\",\"blue\",\"blue\",\"blue\",\"blue\",\"blue\",\"blue\",\"blue\",\"blue\",\"blue\",\"blue\",\"blue\",\"blue\",\"blue\",\"blue\",\"blue\",\"blue\",\"blue\",\"blue\",\"blue\",\"blue\",\"blue\",\"blue\",\"blue\",\"blue\",\"blue\",\"blue\",\"blue\",\"blue\",\"blue\",\"blue\",\"blue\",\"blue\",\"blue\",\"blue\",\"blue\",\"blue\",\"blue\",\"blue\",\"blue\",\"blue\",\"blue\",\"blue\",\"blue\",\"blue\",\"blue\",\"blue\",\"blue\",\"blue\",\"blue\",\"blue\",\"blue\",\"blue\",\"blue\",\"blue\",\"blue\",\"blue\",\"blue\",\"blue\",\"blue\",\"blue\",\"blue\",\"blue\",\"blue\",\"blue\",\"blue\",\"blue\",\"blue\",\"blue\",\"blue\",\"blue\",\"blue\",\"blue\",\"blue\",\"blue\",\"blue\",\"blue\",\"blue\",\"blue\",\"blue\",\"blue\",\"blue\",\"blue\",\"blue\",\"blue\",\"blue\",\"blue\",\"blue\",\"blue\",\"blue\",\"blue\",\"blue\",\"blue\",\"blue\",\"blue\",\"blue\",\"blue\",\"blue\",\"blue\",\"blue\",\"blue\",\"blue\",\"blue\",\"blue\",\"blue\",\"blue\",\"blue\",\"blue\",\"blue\",\"blue\",\"blue\",\"blue\",\"blue\",\"blue\",\"blue\",\"blue\",\"blue\",\"blue\",\"blue\",\"blue\",\"blue\",\"blue\",\"blue\",\"blue\",\"blue\",\"blue\",\"blue\",\"blue\",\"blue\",\"blue\",\"blue\",\"blue\",\"blue\",\"blue\",\"blue\",\"blue\",\"blue\",\"blue\",\"blue\",\"blue\",\"blue\",\"blue\",\"blue\",\"blue\",\"blue\",\"blue\",\"blue\",\"blue\",\"blue\",\"blue\",\"blue\",\"blue\",\"blue\",\"blue\",\"blue\",\"blue\",\"blue\",\"blue\",\"blue\",\"blue\",\"blue\",\"blue\",\"blue\",\"blue\",\"blue\",\"blue\",\"blue\",\"blue\",\"blue\",\"blue\",\"blue\",\"blue\",\"blue\",\"blue\",\"blue\",\"blue\",\"blue\",\"blue\",\"blue\",\"blue\",\"blue\",\"blue\",\"blue\",\"blue\",\"blue\",\"blue\",\"blue\",\"blue\",\"blue\",\"blue\",\"blue\",\"blue\",\"blue\",\"blue\",\"blue\",\"blue\",\"blue\",\"blue\",\"blue\",\"blue\",\"blue\",\"blue\",\"blue\",\"blue\",\"blue\",\"blue\",\"blue\",\"blue\",\"blue\",\"blue\",\"blue\",\"blue\",\"blue\",\"blue\",\"blue\",\"blue\",\"blue\",\"blue\",\"blue\",\"blue\",\"blue\",\"blue\",\"blue\",\"blue\",\"blue\",\"blue\",\"blue\",\"blue\",\"blue\",\"blue\",\"blue\",\"blue\",\"blue\",\"blue\",\"blue\",\"blue\",\"blue\",\"blue\",\"blue\",\"blue\",\"blue\",\"blue\",\"blue\",\"blue\",\"blue\",\"blue\",\"blue\",\"blue\",\"blue\",\"blue\",\"blue\",\"blue\",\"blue\",\"blue\",\"blue\",\"blue\",\"blue\",\"blue\",\"blue\",\"blue\",\"blue\",\"blue\",\"blue\",\"blue\",\"blue\",\"blue\",\"blue\",\"blue\",\"blue\",\"blue\",\"blue\",\"blue\",\"blue\",\"blue\",\"blue\",\"blue\",\"blue\",\"blue\",\"blue\",\"blue\",\"blue\",\"blue\",\"blue\",\"blue\",\"blue\",\"blue\",\"blue\",\"blue\",\"blue\",\"blue\",\"blue\",\"blue\",\"blue\",\"blue\",\"blue\",\"blue\",\"blue\",\"blue\",\"blue\",\"blue\",\"blue\",\"blue\",\"blue\",\"blue\",\"blue\",\"blue\",\"blue\",\"blue\",\"blue\",\"blue\",\"blue\",\"blue\",\"blue\",\"blue\",\"blue\",\"blue\",\"blue\",\"blue\",\"blue\",\"blue\",\"blue\",\"blue\",\"blue\",\"blue\",\"blue\",\"blue\",\"blue\",\"blue\",\"blue\",\"blue\",\"blue\",\"blue\",\"blue\",\"blue\",\"blue\",\"blue\",\"blue\",\"blue\",\"blue\",\"blue\",\"blue\",\"blue\",\"blue\",\"blue\",\"blue\",\"blue\",\"blue\",\"blue\",\"blue\",\"blue\",\"blue\",\"blue\",\"blue\",\"blue\",\"blue\",\"blue\",\"blue\",\"blue\",\"blue\",\"blue\",\"blue\",\"blue\",\"blue\",\"blue\",\"blue\",\"blue\",\"blue\",\"blue\",\"blue\",\"blue\",\"blue\",\"blue\",\"blue\",\"blue\",\"blue\",\"blue\",\"blue\",\"blue\",\"blue\",\"blue\",\"blue\",\"blue\",\"blue\",\"blue\",\"blue\",\"blue\",\"blue\",\"blue\",\"blue\",\"blue\",\"blue\",\"blue\",\"blue\",\"blue\",\"blue\",\"blue\",\"blue\",\"blue\",\"blue\",\"blue\",\"blue\",\"blue\",\"blue\",\"blue\",\"blue\",\"blue\",\"blue\",\"blue\",\"blue\",\"blue\",\"blue\",\"blue\",\"blue\",\"blue\",\"blue\",\"blue\",\"blue\",\"blue\",\"blue\",\"blue\",\"blue\",\"blue\",\"blue\",\"blue\",\"blue\",\"blue\",\"blue\",\"blue\",\"blue\",\"blue\",\"blue\",\"blue\",\"blue\",\"blue\",\"blue\",\"blue\",\"blue\",\"blue\",\"blue\",\"blue\",\"blue\",\"blue\",\"blue\",\"blue\",\"blue\",\"blue\",\"blue\",\"blue\",\"blue\",\"blue\",\"blue\",\"blue\",\"blue\",\"blue\",\"blue\",\"blue\",\"blue\",\"blue\",\"blue\",\"blue\",\"blue\",\"blue\",\"blue\",\"blue\",\"blue\",\"blue\",\"blue\",\"blue\",\"blue\",\"blue\",\"blue\",\"blue\",\"blue\",\"blue\",\"blue\",\"blue\",\"blue\",\"blue\",\"blue\",\"blue\",\"blue\",\"blue\",\"blue\",\"blue\",\"blue\",\"blue\",\"blue\",\"blue\",\"blue\",\"blue\",\"blue\",\"blue\",\"blue\",\"blue\",\"blue\",\"blue\",\"blue\",\"blue\",\"blue\",\"blue\",\"blue\",\"blue\",\"blue\",\"blue\",\"blue\",\"blue\",\"blue\",\"blue\",\"blue\",\"blue\",\"blue\",\"blue\",\"blue\",\"blue\",\"blue\",\"blue\",\"blue\",\"blue\",\"blue\",\"blue\",\"blue\",\"blue\",\"blue\",\"blue\",\"blue\",\"blue\",\"blue\",\"blue\",\"blue\",\"blue\",\"blue\",\"blue\",\"blue\",\"blue\",\"blue\",\"blue\",\"blue\",\"blue\",\"blue\",\"blue\",\"blue\",\"blue\",\"blue\",\"blue\",\"blue\",\"blue\",\"blue\",\"blue\",\"blue\",\"blue\",\"blue\",\"blue\",\"blue\",\"blue\",\"blue\",\"blue\",\"blue\",\"blue\",\"blue\",\"blue\",\"blue\",\"blue\",\"blue\",\"blue\",\"blue\",\"blue\",\"blue\",\"blue\",\"blue\",\"blue\",\"blue\",\"blue\",\"blue\",\"blue\",\"blue\",\"blue\",\"blue\",\"blue\",\"blue\",\"blue\",\"blue\",\"blue\",\"blue\",\"blue\",\"blue\",\"blue\",\"blue\",\"blue\",\"blue\",\"blue\",\"blue\",\"blue\",\"blue\",\"blue\",\"blue\",\"blue\",\"blue\",\"blue\",\"blue\",\"blue\",\"blue\",\"blue\",\"blue\",\"blue\",\"blue\",\"blue\",\"blue\",\"blue\",\"blue\",\"blue\",\"blue\",\"blue\",\"blue\",\"blue\",\"blue\",\"blue\",\"blue\",\"blue\",\"blue\",\"blue\",\"blue\",\"blue\",\"blue\",\"blue\",\"blue\",\"blue\",\"blue\",\"blue\",\"blue\",\"blue\",\"blue\",\"blue\",\"blue\",\"blue\",\"blue\",\"blue\",\"blue\",\"blue\",\"blue\",\"blue\",\"blue\",\"blue\",\"blue\",\"blue\",\"blue\",\"blue\",\"blue\",\"blue\",\"blue\",\"blue\",\"blue\",\"blue\",\"blue\",\"blue\",\"blue\",\"blue\",\"blue\",\"blue\",\"blue\",\"blue\",\"blue\",\"blue\",\"blue\",\"blue\",\"blue\",\"blue\",\"blue\",\"blue\",\"blue\",\"blue\",\"blue\",\"blue\",\"blue\",\"blue\",\"blue\",\"blue\",\"blue\",\"blue\",\"blue\",\"blue\",\"blue\",\"blue\",\"blue\",\"blue\",\"blue\",\"blue\",\"blue\",\"blue\",\"blue\",\"blue\",\"blue\",\"blue\",\"blue\",\"blue\",\"blue\",\"blue\",\"blue\",\"blue\",\"blue\",\"blue\",\"blue\",\"blue\",\"blue\",\"blue\",\"blue\",\"blue\",\"blue\",\"blue\",\"blue\",\"blue\",\"blue\",\"blue\",\"blue\",\"blue\",\"blue\",\"blue\",\"blue\",\"blue\",\"blue\",\"blue\",\"blue\",\"blue\",\"blue\",\"blue\",\"blue\",\"blue\",\"blue\",\"blue\",\"blue\",\"blue\",\"blue\",\"blue\",\"blue\",\"blue\",\"blue\",\"blue\",\"blue\",\"blue\",\"blue\",\"blue\",\"blue\",\"blue\",\"blue\",\"blue\",\"blue\",\"blue\",\"blue\",\"blue\",\"blue\",\"blue\",\"blue\",\"blue\",\"blue\",\"blue\",\"blue\",\"blue\",\"blue\",\"blue\",\"blue\",\"blue\",\"blue\",\"blue\",\"blue\",\"blue\",\"blue\",\"blue\",\"blue\",\"blue\",\"blue\",\"blue\",\"blue\",\"blue\",\"blue\",\"blue\",\"blue\",\"blue\",\"blue\",\"blue\",\"blue\",\"blue\",\"blue\",\"blue\",\"blue\",\"blue\",\"blue\",\"blue\",\"blue\",\"blue\",\"blue\",\"blue\",\"blue\",\"blue\",\"blue\",\"blue\",\"blue\",\"blue\",\"blue\",\"blue\",\"blue\",\"blue\",\"blue\",\"blue\",\"blue\",\"blue\",\"blue\",\"blue\",\"blue\",\"blue\",\"blue\",\"blue\",\"blue\",\"blue\",\"blue\",\"blue\",\"blue\",\"blue\",\"blue\",\"blue\",\"blue\",\"blue\",\"blue\",\"blue\",\"blue\",\"blue\",\"blue\",\"blue\",\"blue\",\"blue\",\"blue\",\"blue\",\"blue\",\"blue\",\"blue\",\"blue\",\"blue\",\"blue\",\"blue\",\"blue\",\"blue\",\"blue\",\"blue\",\"blue\",\"blue\",\"blue\",\"blue\",\"blue\",\"blue\",\"blue\",\"blue\",\"blue\",\"blue\",\"blue\",\"blue\",\"blue\",\"blue\",\"blue\",\"blue\",\"blue\",\"blue\",\"blue\",\"blue\",\"blue\",\"blue\",\"blue\",\"blue\",\"blue\",\"blue\",\"blue\",\"blue\",\"blue\",\"blue\",\"blue\",\"blue\",\"blue\",\"blue\",\"blue\",\"blue\",\"blue\",\"blue\",\"blue\",\"blue\",\"blue\",\"blue\",\"blue\",\"blue\",\"blue\",\"blue\",\"blue\",\"blue\",\"blue\",\"blue\",\"blue\",\"blue\",\"blue\",\"blue\",\"blue\",\"blue\",\"blue\",\"blue\",\"blue\",\"blue\",\"blue\",\"blue\",\"blue\",\"blue\",\"blue\",\"blue\",\"blue\",\"blue\",\"blue\",\"blue\",\"blue\",\"blue\",\"blue\",\"blue\",\"blue\",\"blue\",\"blue\",\"blue\",\"blue\",\"blue\",\"blue\",\"blue\",\"blue\",\"blue\",\"blue\",\"blue\",\"blue\",\"blue\",\"blue\",\"blue\",\"blue\",\"blue\",\"blue\",\"blue\",\"blue\",\"blue\",\"blue\",\"blue\",\"blue\",\"blue\",\"blue\",\"blue\",\"blue\",\"blue\",\"blue\",\"blue\",\"blue\",\"blue\",\"blue\",\"blue\",\"blue\",\"blue\",\"blue\",\"blue\",\"blue\",\"blue\",\"blue\",\"blue\",\"blue\",\"blue\",\"blue\",\"blue\",\"blue\",\"blue\",\"blue\",\"blue\",\"blue\",\"blue\",\"blue\",\"blue\",\"blue\",\"blue\",\"blue\",\"blue\",\"blue\",\"blue\",\"blue\",\"blue\",\"blue\",\"blue\",\"blue\",\"blue\",\"blue\",\"blue\",\"blue\",\"blue\",\"blue\",\"blue\",\"blue\",\"blue\",\"blue\",\"blue\",\"blue\",\"blue\",\"blue\",\"blue\",\"blue\",\"blue\",\"blue\",\"blue\",\"blue\",\"blue\",\"blue\",\"blue\",\"blue\",\"blue\",\"blue\",\"blue\",\"blue\",\"blue\",\"blue\",\"blue\",\"blue\",\"blue\",\"blue\",\"blue\",\"blue\",\"blue\",\"blue\",\"blue\",\"blue\",\"blue\",\"blue\",\"blue\",\"blue\",\"blue\",\"blue\",\"blue\",\"blue\",\"blue\",\"blue\",\"blue\",\"blue\",\"blue\",\"blue\",\"blue\",\"blue\",\"blue\",\"blue\",\"blue\",\"blue\",\"blue\",\"blue\",\"blue\",\"blue\",\"blue\",\"blue\",\"blue\",\"blue\",\"blue\",\"blue\",\"blue\",\"blue\",\"blue\",\"blue\",\"blue\",\"blue\",\"blue\",\"blue\",\"blue\",\"blue\",\"blue\",\"blue\",\"blue\",\"blue\",\"blue\",\"blue\",\"blue\",\"blue\",\"blue\",\"blue\",\"blue\",\"blue\",\"blue\",\"blue\",\"blue\",\"blue\",\"blue\",\"blue\",\"blue\",\"blue\",\"blue\",\"blue\",\"blue\",\"blue\",\"blue\",\"blue\",\"blue\",\"blue\",\"blue\",\"blue\",\"blue\",\"blue\",\"blue\",\"blue\",\"blue\",\"blue\",\"blue\",\"blue\",\"blue\",\"blue\",\"blue\",\"blue\",\"blue\",\"blue\",\"blue\",\"blue\",\"blue\",\"blue\",\"blue\",\"blue\",\"blue\",\"blue\",\"blue\",\"blue\",\"blue\",\"blue\",\"blue\",\"blue\",\"blue\",\"blue\",\"blue\",\"blue\",\"blue\",\"blue\",\"blue\",\"blue\",\"blue\",\"blue\",\"blue\",\"blue\",\"blue\",\"blue\",\"blue\",\"blue\",\"blue\",\"blue\",\"blue\",\"blue\",\"blue\",\"blue\",\"blue\",\"blue\",\"blue\",\"blue\",\"blue\",\"blue\",\"blue\",\"blue\",\"blue\",\"blue\",\"blue\",\"blue\",\"blue\",\"blue\",\"blue\",\"blue\",\"blue\",\"blue\",\"blue\",\"blue\",\"blue\",\"blue\",\"blue\",\"blue\",\"blue\",\"blue\",\"blue\",\"blue\",\"blue\",\"blue\",\"blue\",\"blue\",\"blue\",\"blue\",\"blue\",\"blue\",\"blue\",\"blue\",\"blue\",\"blue\",\"blue\",\"blue\",\"blue\",\"blue\",\"blue\",\"blue\",\"blue\",\"blue\",\"blue\",\"blue\",\"blue\",\"blue\",\"blue\",\"blue\",\"blue\",\"blue\",\"blue\",\"blue\",\"blue\",\"blue\",\"blue\",\"blue\",\"blue\",\"blue\",\"blue\",\"blue\",\"blue\",\"blue\",\"blue\",\"blue\",\"blue\",\"blue\",\"blue\",\"blue\",\"blue\",\"blue\",\"blue\",\"blue\",\"blue\",\"blue\",\"blue\",\"blue\",\"blue\",\"blue\",\"blue\",\"blue\",\"blue\",\"blue\",\"blue\",\"blue\",\"blue\",\"blue\",\"blue\",\"blue\",\"blue\",\"blue\",\"blue\",\"blue\",\"blue\",\"blue\",\"blue\",\"blue\",\"blue\",\"blue\",\"blue\",\"blue\",\"blue\",\"blue\",\"blue\",\"blue\",\"blue\",\"blue\",\"blue\",\"blue\",\"blue\",\"blue\",\"blue\",\"blue\",\"blue\",\"blue\",\"blue\",\"blue\",\"blue\",\"blue\",\"blue\",\"blue\",\"blue\",\"blue\",\"blue\",\"blue\",\"blue\",\"blue\",\"blue\",\"blue\",\"blue\",\"blue\",\"blue\",\"blue\",\"blue\",\"blue\",\"blue\",\"blue\",\"blue\",\"blue\",\"blue\",\"blue\",\"blue\",\"blue\",\"blue\",\"blue\",\"blue\",\"blue\",\"blue\",\"blue\",\"blue\",\"blue\",\"blue\",\"blue\",\"blue\",\"blue\",\"blue\",\"blue\",\"blue\",\"blue\",\"blue\",\"blue\",\"blue\",\"blue\",\"blue\",\"blue\",\"blue\",\"blue\",\"blue\",\"blue\",\"blue\",\"blue\",\"blue\",\"blue\",\"blue\",\"blue\",\"blue\",\"blue\",\"blue\",\"blue\",\"blue\",\"blue\",\"blue\",\"blue\",\"blue\",\"blue\",\"blue\",\"blue\",\"blue\",\"blue\",\"blue\",\"blue\",\"blue\",\"blue\",\"blue\",\"blue\",\"blue\",\"blue\",\"blue\",\"blue\",\"blue\",\"blue\",\"blue\",\"blue\",\"blue\",\"blue\",\"blue\",\"blue\",\"blue\",\"blue\",\"blue\",\"blue\",\"blue\",\"blue\",\"blue\",\"blue\",\"blue\",\"blue\",\"blue\",\"blue\",\"blue\",\"blue\",\"blue\",\"blue\",\"blue\",\"blue\",\"blue\",\"blue\",\"blue\",\"blue\",\"blue\",\"blue\",\"blue\",\"blue\",\"blue\",\"blue\",\"blue\",\"blue\",\"blue\",\"blue\",\"blue\",\"blue\",\"blue\",\"blue\",\"blue\",\"blue\",\"blue\",\"blue\",\"blue\",\"blue\",\"blue\",\"blue\",\"blue\",\"blue\",\"blue\",\"blue\",\"blue\",\"blue\",\"blue\",\"blue\",\"blue\",\"blue\",\"blue\",\"blue\",\"blue\",\"blue\",\"blue\",\"blue\",\"blue\",\"blue\",\"blue\",\"blue\",\"blue\",\"blue\",\"blue\",\"blue\",\"blue\",\"blue\",\"blue\",\"blue\",\"blue\",\"blue\",\"blue\",\"blue\",\"blue\",\"blue\",\"blue\",\"blue\",\"blue\",\"blue\",\"blue\",\"blue\",\"blue\",\"blue\",\"blue\",\"blue\",\"blue\",\"blue\",\"blue\",\"blue\",\"blue\",\"blue\",\"blue\",\"blue\",\"blue\",\"blue\",\"blue\",\"blue\",\"blue\",\"blue\",\"blue\",\"blue\",\"blue\",\"blue\",\"blue\",\"blue\",\"blue\",\"blue\",\"blue\",\"blue\",\"blue\",\"blue\",\"blue\",\"blue\",\"blue\",\"blue\",\"blue\",\"blue\",\"blue\",\"blue\",\"blue\",\"blue\",\"blue\",\"blue\",\"blue\",\"blue\",\"blue\",\"blue\",\"blue\",\"blue\",\"blue\",\"blue\",\"blue\",\"blue\",\"blue\",\"blue\",\"blue\",\"blue\",\"blue\",\"blue\",\"blue\",\"blue\",\"blue\",\"blue\",\"blue\",\"blue\",\"blue\",\"blue\",\"blue\",\"blue\",\"blue\",\"blue\",\"blue\",\"blue\",\"blue\",\"blue\",\"blue\",\"blue\",\"blue\",\"blue\",\"blue\",\"blue\",\"blue\",\"blue\",\"blue\",\"blue\",\"blue\",\"blue\",\"blue\",\"blue\",\"blue\",\"blue\",\"blue\",\"blue\",\"blue\",\"blue\",\"blue\",\"blue\",\"blue\",\"blue\",\"blue\",\"blue\",\"blue\",\"blue\",\"blue\",\"blue\",\"blue\",\"blue\",\"blue\",\"blue\",\"blue\",\"blue\",\"blue\",\"blue\",\"blue\",\"blue\",\"blue\",\"blue\",\"blue\",\"blue\",\"blue\",\"blue\",\"blue\",\"blue\",\"blue\",\"blue\",\"blue\",\"blue\",\"blue\",\"blue\",\"blue\",\"blue\",\"blue\",\"blue\",\"blue\",\"blue\",\"blue\",\"blue\",\"blue\",\"blue\",\"blue\",\"blue\",\"blue\",\"blue\",\"blue\",\"blue\",\"blue\",\"blue\",\"blue\",\"blue\",\"blue\",\"blue\",\"blue\",\"blue\",\"blue\",\"blue\",\"blue\",\"blue\",\"blue\",\"blue\",\"blue\",\"blue\",\"blue\",\"blue\",\"blue\",\"blue\",\"blue\",\"blue\",\"blue\",\"blue\",\"blue\",\"blue\",\"blue\",\"blue\",\"blue\",\"blue\",\"blue\",\"blue\",\"blue\",\"blue\",\"blue\",\"blue\",\"blue\",\"blue\",\"blue\",\"blue\",\"blue\",\"blue\",\"blue\",\"blue\",\"blue\",\"blue\",\"blue\",\"blue\",\"blue\",\"blue\",\"blue\",\"blue\",\"blue\",\"blue\",\"blue\",\"blue\",\"blue\",\"blue\",\"blue\",\"blue\",\"blue\",\"blue\",\"blue\",\"blue\",\"blue\",\"blue\",\"blue\",\"blue\",\"blue\",\"blue\",\"blue\",\"blue\",\"blue\",\"blue\",\"blue\",\"blue\",\"blue\",\"blue\",\"blue\",\"blue\",\"blue\",\"blue\",\"blue\",\"blue\",\"blue\",\"blue\",\"blue\",\"blue\",\"blue\",\"blue\",\"blue\",\"blue\",\"blue\",\"blue\",\"blue\",\"blue\",\"blue\",\"blue\",\"blue\",\"blue\",\"blue\",\"blue\",\"blue\",\"blue\",\"blue\",\"blue\",\"blue\",\"blue\",\"blue\",\"blue\",\"blue\",\"blue\",\"blue\",\"blue\",\"blue\",\"blue\",\"blue\",\"blue\",\"blue\",\"blue\",\"blue\",\"blue\",\"blue\",\"blue\",\"blue\",\"blue\",\"blue\",\"blue\",\"blue\",\"blue\",\"blue\",\"blue\",\"blue\",\"blue\",\"blue\",\"blue\",\"blue\",\"blue\",\"blue\",\"blue\",\"blue\",\"blue\",\"blue\",\"blue\",\"blue\",\"blue\",\"blue\",\"blue\",\"blue\",\"blue\",\"blue\",\"blue\",\"blue\",\"blue\",\"blue\",\"blue\",\"blue\",\"blue\",\"blue\",\"blue\",\"blue\",\"blue\",\"blue\",\"blue\",\"blue\",\"blue\",\"blue\",\"blue\",\"blue\",\"blue\",\"blue\",\"blue\",\"blue\",\"blue\",\"blue\",\"blue\",\"blue\",\"blue\",\"blue\",\"blue\",\"blue\",\"blue\",\"blue\",\"blue\",\"blue\",\"blue\",\"blue\",\"blue\",\"blue\",\"blue\",\"blue\",\"blue\",\"blue\",\"blue\",\"blue\",\"blue\",\"blue\",\"blue\",\"blue\",\"blue\",\"blue\",\"blue\",\"blue\",\"blue\",\"blue\",\"blue\",\"blue\",\"blue\",\"blue\",\"blue\",\"blue\",\"blue\",\"blue\",\"blue\",\"blue\",\"blue\",\"blue\",\"blue\",\"blue\",\"blue\",\"blue\",\"blue\",\"blue\",\"blue\",\"blue\",\"blue\",\"blue\",\"blue\",\"blue\",\"blue\",\"blue\",\"blue\",\"blue\",\"blue\",\"blue\",\"blue\",\"blue\",\"blue\",\"blue\",\"blue\",\"blue\",\"blue\",\"blue\",\"blue\",\"blue\",\"blue\",\"blue\",\"blue\",\"blue\",\"blue\",\"blue\",\"blue\",\"blue\",\"blue\",\"blue\",\"blue\",\"blue\",\"blue\",\"blue\",\"blue\",\"blue\",\"blue\",\"blue\",\"blue\",\"blue\",\"blue\",\"blue\",\"blue\",\"blue\",\"blue\",\"blue\",\"blue\",\"blue\",\"blue\",\"blue\",\"blue\",\"blue\",\"blue\",\"blue\",\"blue\",\"blue\",\"blue\",\"blue\",\"blue\",\"blue\",\"blue\",\"blue\",\"blue\",\"blue\",\"blue\",\"blue\",\"blue\",\"blue\",\"blue\",\"blue\",\"blue\",\"blue\",\"blue\",\"blue\",\"blue\",\"blue\",\"blue\",\"blue\",\"blue\",\"blue\",\"blue\",\"blue\",\"blue\",\"blue\",\"blue\",\"blue\",\"blue\",\"blue\",\"blue\",\"blue\",\"blue\",\"blue\",\"blue\",\"blue\",\"blue\",\"blue\",\"blue\",\"blue\",\"blue\",\"blue\",\"blue\",\"blue\",\"blue\",\"blue\",\"blue\",\"blue\",\"blue\",\"blue\",\"blue\",\"blue\",\"blue\",\"blue\",\"blue\",\"blue\",\"blue\",\"blue\",\"blue\",\"blue\",\"blue\",\"blue\",\"blue\",\"blue\",\"blue\",\"blue\",\"blue\",\"blue\",\"blue\",\"blue\",\"blue\",\"blue\",\"blue\",\"blue\",\"blue\",\"blue\",\"blue\",\"blue\",\"blue\",\"blue\",\"blue\",\"blue\",\"blue\",\"blue\",\"blue\",\"blue\",\"blue\",\"blue\",\"blue\",\"blue\",\"blue\",\"blue\",\"blue\",\"blue\",\"blue\",\"blue\",\"blue\",\"blue\",\"blue\",\"blue\",\"blue\",\"blue\",\"blue\",\"blue\",\"blue\",\"blue\",\"blue\",\"blue\",\"blue\",\"blue\",\"blue\",\"blue\",\"blue\",\"blue\",\"blue\",\"blue\",\"blue\",\"blue\",\"blue\",\"blue\",\"blue\",\"blue\",\"blue\",\"blue\",\"blue\",\"blue\",\"blue\",\"blue\",\"blue\",\"blue\",\"blue\",\"blue\",\"blue\",\"blue\",\"blue\",\"blue\",\"blue\",\"blue\",\"blue\",\"blue\",\"blue\",\"blue\",\"blue\",\"blue\",\"blue\",\"blue\",\"blue\",\"blue\",\"blue\",\"blue\",\"blue\",\"blue\",\"blue\",\"blue\",\"blue\",\"blue\",\"blue\",\"blue\",\"blue\",\"blue\",\"blue\",\"blue\",\"blue\",\"blue\",\"blue\",\"blue\",\"blue\",\"blue\",\"blue\",\"blue\",\"blue\",\"blue\",\"blue\",\"blue\",\"blue\",\"blue\",\"blue\",\"blue\",\"blue\",\"blue\",\"blue\",\"blue\",\"blue\",\"blue\",\"blue\",\"blue\",\"blue\",\"blue\",\"blue\",\"blue\",\"blue\",\"blue\",\"blue\",\"blue\",\"blue\",\"blue\",\"blue\",\"blue\",\"blue\",\"blue\",\"blue\",\"blue\",\"blue\",\"blue\",\"blue\",\"blue\",\"blue\",\"blue\",\"blue\",\"blue\",\"blue\",\"blue\",\"blue\",\"blue\",\"blue\",\"blue\",\"blue\",\"blue\",\"blue\",\"blue\",\"blue\",\"blue\",\"blue\",\"blue\",\"blue\",\"blue\",\"blue\",\"blue\",\"blue\",\"blue\",\"blue\",\"blue\",\"blue\",\"blue\",\"blue\",\"blue\",\"blue\",\"blue\",\"blue\",\"blue\",\"blue\",\"blue\",\"blue\",\"blue\",\"blue\",\"blue\",\"blue\",\"blue\",\"blue\",\"blue\",\"blue\",\"blue\",\"blue\",\"blue\",\"blue\",\"blue\",\"blue\",\"blue\",\"blue\",\"blue\",\"blue\",\"blue\",\"blue\",\"blue\",\"blue\",\"blue\",\"blue\",\"blue\",\"blue\",\"blue\",\"blue\",\"blue\",\"blue\",\"blue\",\"blue\",\"blue\",\"blue\",\"blue\",\"blue\",\"blue\",\"blue\",\"blue\",\"blue\",\"blue\",\"blue\",\"blue\",\"blue\",\"blue\",\"blue\",\"blue\",\"blue\",\"blue\",\"blue\",\"blue\",\"blue\",\"blue\",\"blue\",\"blue\",\"blue\",\"blue\",\"blue\",\"blue\",\"blue\",\"blue\",\"blue\",\"blue\",\"blue\",\"blue\",\"blue\",\"blue\",\"blue\",\"blue\",\"blue\",\"blue\",\"blue\",\"blue\",\"blue\",\"blue\",\"blue\",\"blue\",\"blue\",\"blue\",\"blue\",\"blue\",\"blue\",\"blue\",\"blue\",\"blue\",\"blue\",\"blue\",\"blue\",\"blue\",\"blue\",\"blue\",\"blue\",\"blue\",\"blue\",\"blue\",\"blue\",\"blue\",\"blue\",\"blue\",\"blue\",\"blue\",\"blue\",\"blue\",\"blue\",\"blue\",\"blue\",\"blue\",\"blue\",\"blue\",\"blue\",\"blue\",\"blue\",\"blue\",\"blue\",\"blue\",\"blue\",\"blue\",\"blue\",\"blue\",\"blue\",\"blue\",\"blue\",\"blue\",\"blue\",\"blue\",\"blue\",\"blue\",\"blue\",\"blue\",\"blue\",\"blue\",\"blue\",\"blue\",\"blue\",\"blue\",\"blue\",\"blue\",\"blue\",\"blue\",\"blue\",\"blue\",\"blue\",\"blue\",\"blue\",\"blue\",\"blue\",\"blue\",\"blue\",\"blue\",\"blue\",\"blue\",\"blue\",\"blue\",\"blue\",\"blue\",\"blue\",\"blue\",\"blue\",\"blue\",\"blue\",\"blue\",\"blue\",\"blue\",\"blue\",\"blue\",\"blue\",\"blue\",\"blue\",\"blue\",\"blue\",\"blue\",\"blue\",\"blue\",\"blue\",\"blue\",\"blue\",\"blue\",\"blue\",\"blue\",\"blue\",\"blue\",\"blue\",\"blue\",\"blue\",\"blue\",\"blue\",\"blue\",\"blue\",\"blue\",\"blue\",\"blue\",\"blue\",\"blue\",\"blue\",\"blue\",\"blue\",\"blue\",\"blue\",\"blue\",\"blue\",\"blue\",\"blue\",\"blue\",\"blue\",\"blue\",\"blue\",\"blue\",\"blue\",\"blue\",\"blue\",\"blue\",\"blue\",\"blue\",\"blue\",\"blue\",\"blue\",\"blue\",\"blue\",\"blue\",\"blue\",\"blue\",\"blue\",\"blue\",\"blue\",\"blue\",\"blue\",\"blue\",\"blue\",\"blue\",\"blue\",\"blue\",\"blue\",\"blue\",\"blue\",\"blue\",\"blue\",\"blue\",\"blue\",\"blue\",\"blue\",\"blue\",\"blue\",\"blue\",\"blue\",\"blue\",\"blue\",\"blue\",\"blue\",\"blue\",\"blue\",\"blue\",\"blue\",\"blue\",\"blue\",\"blue\",\"blue\",\"blue\",\"blue\",\"blue\",\"blue\",\"blue\",\"blue\",\"blue\",\"blue\",\"blue\",\"blue\",\"blue\",\"blue\",\"blue\",\"blue\",\"blue\",\"blue\",\"blue\",\"blue\",\"blue\",\"blue\",\"blue\",\"blue\",\"blue\",\"blue\",\"blue\",\"blue\",\"blue\",\"blue\",\"blue\",\"blue\",\"blue\",\"blue\",\"blue\",\"blue\",\"blue\",\"blue\",\"blue\",\"blue\",\"blue\",\"blue\",\"blue\",\"blue\",\"blue\",\"blue\",\"blue\",\"blue\",\"blue\",\"blue\",\"blue\",\"blue\",\"blue\",\"blue\",\"blue\",\"blue\",\"blue\",\"blue\",\"blue\",\"blue\",\"blue\",\"blue\",\"blue\",\"blue\",\"blue\",\"blue\",\"blue\",\"blue\",\"blue\",\"blue\",\"blue\",\"blue\",\"blue\",\"blue\",\"blue\",\"blue\",\"blue\",\"blue\",\"blue\",\"blue\",\"blue\",\"blue\",\"blue\",\"blue\",\"blue\",\"blue\",\"blue\",\"blue\",\"blue\",\"blue\",\"blue\",\"blue\",\"blue\",\"blue\",\"blue\",\"blue\",\"blue\",\"blue\",\"blue\",\"blue\",\"blue\",\"blue\",\"blue\",\"blue\",\"blue\",\"blue\",\"blue\",\"blue\",\"blue\",\"blue\",\"blue\",\"blue\",\"blue\",\"blue\",\"blue\",\"blue\",\"blue\",\"blue\",\"blue\",\"blue\",\"blue\",\"blue\",\"blue\",\"blue\",\"blue\",\"blue\",\"blue\",\"blue\",\"blue\",\"blue\",\"blue\",\"blue\",\"blue\",\"blue\",\"blue\",\"blue\",\"blue\",\"blue\",\"blue\",\"blue\",\"blue\",\"blue\",\"blue\",\"blue\",\"blue\",\"blue\",\"blue\",\"blue\",\"blue\",\"blue\",\"blue\",\"blue\",\"blue\",\"blue\",\"blue\",\"blue\",\"blue\",\"blue\",\"blue\",\"blue\",\"blue\",\"blue\",\"blue\",\"blue\",\"blue\",\"blue\",\"blue\",\"blue\",\"blue\",\"blue\",\"blue\",\"blue\",\"blue\",\"blue\",\"blue\",\"blue\",\"blue\",\"blue\",\"blue\",\"blue\",\"blue\",\"blue\",\"blue\",\"blue\",\"blue\",\"blue\",\"blue\",\"blue\",\"blue\",\"blue\",\"blue\",\"blue\",\"blue\",\"blue\",\"blue\",\"blue\",\"blue\",\"blue\",\"blue\",\"blue\",\"blue\",\"blue\",\"blue\",\"blue\",\"blue\",\"blue\",\"blue\",\"blue\",\"blue\",\"blue\",\"blue\",\"blue\",\"blue\",\"blue\",\"blue\",\"blue\",\"blue\",\"blue\",\"blue\",\"blue\",\"blue\",\"blue\",\"blue\",\"blue\",\"blue\",\"blue\",\"blue\",\"blue\",\"blue\",\"blue\",\"blue\",\"blue\",\"blue\",\"blue\",\"blue\",\"blue\",\"blue\",\"blue\",\"blue\",\"blue\",\"blue\",\"blue\",\"blue\",\"blue\",\"blue\",\"blue\",\"blue\",\"blue\",\"blue\",\"blue\",\"blue\",\"blue\",\"blue\",\"blue\",\"blue\",\"blue\",\"blue\",\"blue\",\"blue\",\"blue\",\"blue\",\"blue\",\"blue\",\"blue\",\"blue\",\"blue\",\"blue\",\"blue\",\"blue\",\"blue\",\"blue\",\"blue\",\"blue\",\"blue\",\"blue\",\"blue\",\"blue\",\"blue\",\"blue\",\"blue\",\"blue\",\"blue\",\"blue\",\"blue\",\"blue\",\"blue\",\"blue\",\"blue\",\"blue\",\"blue\",\"blue\",\"blue\",\"blue\",\"blue\",\"blue\",\"blue\",\"blue\",\"blue\",\"blue\",\"blue\",\"blue\",\"blue\",\"blue\",\"blue\",\"blue\",\"blue\",\"blue\",\"blue\",\"blue\",\"blue\",\"blue\",\"blue\",\"blue\",\"blue\",\"blue\",\"blue\",\"blue\",\"blue\",\"blue\",\"blue\",\"blue\",\"blue\",\"blue\",\"blue\",\"blue\",\"blue\",\"blue\",\"blue\",\"blue\",\"blue\",\"blue\",\"blue\",\"blue\",\"blue\",\"blue\",\"blue\",\"blue\",\"blue\",\"blue\",\"blue\",\"blue\",\"blue\",\"blue\",\"blue\",\"blue\",\"blue\",\"blue\",\"blue\",\"blue\",\"blue\",\"blue\",\"blue\",\"blue\",\"blue\",\"blue\",\"blue\",\"blue\",\"blue\",\"blue\",\"blue\",\"blue\",\"blue\",\"blue\",\"blue\",\"blue\",\"blue\",\"blue\",\"blue\",\"blue\",\"blue\",\"blue\",\"blue\",\"blue\",\"blue\",\"blue\",\"blue\",\"blue\",\"blue\",\"blue\",\"blue\",\"blue\",\"blue\",\"blue\",\"blue\",\"blue\",\"blue\",\"blue\",\"blue\",\"blue\",\"blue\",\"blue\",\"blue\",\"blue\",\"blue\",\"blue\",\"blue\",\"blue\",\"blue\",\"blue\",\"blue\",\"blue\",\"blue\",\"blue\",\"blue\",\"blue\",\"blue\",\"blue\",\"blue\",\"blue\",\"blue\",\"blue\",\"blue\",\"blue\",\"blue\",\"blue\",\"blue\",\"blue\",\"blue\",\"blue\",\"blue\",\"blue\",\"blue\",\"blue\",\"blue\",\"blue\",\"blue\",\"blue\",\"blue\",\"blue\",\"blue\",\"blue\",\"blue\",\"blue\",\"blue\",\"blue\",\"blue\",\"blue\",\"blue\",\"blue\",\"blue\",\"blue\",\"blue\",\"blue\",\"blue\",\"blue\",\"blue\",\"blue\",\"blue\",\"blue\",\"blue\",\"blue\",\"blue\",\"blue\",\"blue\",\"blue\",\"blue\",\"blue\",\"blue\",\"blue\",\"blue\",\"blue\",\"blue\",\"blue\",\"blue\",\"blue\",\"blue\",\"blue\",\"blue\",\"blue\",\"blue\",\"blue\",\"blue\",\"blue\",\"blue\",\"blue\",\"blue\",\"blue\",\"blue\",\"blue\",\"blue\",\"blue\",\"blue\",\"blue\",\"blue\",\"blue\",\"blue\",\"blue\",\"blue\",\"blue\",\"blue\",\"blue\",\"blue\",\"blue\",\"blue\",\"blue\",\"blue\",\"blue\",\"blue\",\"blue\",\"blue\",\"blue\",\"blue\",\"blue\",\"blue\",\"blue\",\"blue\",\"blue\",\"blue\",\"blue\",\"blue\",\"blue\",\"blue\",\"blue\",\"blue\",\"blue\",\"blue\",\"blue\",\"blue\",\"blue\",\"blue\",\"blue\",\"blue\",\"blue\",\"blue\",\"blue\",\"blue\",\"blue\",\"blue\",\"blue\",\"blue\",\"blue\",\"blue\",\"blue\",\"blue\",\"blue\",\"blue\",\"blue\",\"blue\",\"blue\",\"blue\",\"blue\",\"blue\",\"blue\",\"blue\",\"blue\",\"blue\",\"blue\",\"blue\",\"blue\",\"blue\",\"blue\",\"blue\",\"blue\",\"blue\",\"blue\",\"blue\",\"blue\",\"blue\",\"blue\",\"blue\",\"blue\",\"blue\",\"blue\",\"blue\",\"blue\",\"blue\",\"blue\",\"blue\",\"blue\",\"blue\",\"blue\",\"blue\",\"blue\",\"blue\",\"blue\",\"blue\",\"blue\",\"blue\",\"blue\",\"blue\",\"blue\",\"blue\",\"blue\",\"blue\",\"blue\",\"blue\",\"blue\",\"blue\",\"blue\",\"blue\",\"blue\",\"blue\",\"blue\",\"blue\",\"blue\",\"blue\",\"blue\",\"blue\",\"blue\",\"blue\",\"blue\",\"blue\",\"blue\",\"blue\",\"blue\",\"blue\",\"blue\",\"blue\",\"blue\",\"blue\",\"blue\",\"blue\",\"blue\",\"blue\",\"blue\",\"blue\",\"blue\",\"blue\",\"blue\",\"blue\",\"blue\",\"blue\",\"blue\",\"blue\",\"blue\",\"blue\",\"blue\",\"blue\",\"blue\",\"blue\",\"blue\",\"blue\",\"blue\",\"blue\",\"blue\",\"blue\",\"blue\",\"blue\",\"blue\",\"blue\",\"blue\",\"blue\",\"blue\",\"blue\",\"blue\",\"blue\",\"blue\",\"blue\",\"blue\",\"blue\",\"blue\",\"blue\",\"blue\",\"blue\",\"blue\",\"blue\",\"blue\",\"blue\",\"blue\",\"blue\",\"blue\",\"blue\",\"blue\",\"blue\",\"blue\",\"blue\",\"blue\",\"blue\",\"blue\",\"blue\",\"blue\",\"blue\",\"blue\",\"blue\",\"blue\",\"blue\",\"blue\",\"blue\",\"blue\",\"blue\",\"blue\",\"blue\",\"blue\",\"blue\",\"blue\",\"blue\",\"blue\",\"blue\",\"blue\",\"blue\",\"blue\",\"blue\",\"blue\",\"blue\",\"blue\",\"blue\",\"blue\",\"blue\",\"blue\",\"blue\",\"blue\",\"blue\",\"blue\",\"blue\",\"blue\",\"blue\",\"blue\",\"blue\",\"blue\",\"blue\",\"blue\",\"blue\",\"blue\",\"blue\",\"blue\",\"blue\",\"blue\",\"blue\",\"blue\",\"blue\",\"blue\",\"blue\",\"blue\",\"blue\",\"blue\",\"blue\",\"blue\",\"blue\",\"blue\",\"blue\",\"blue\",\"blue\",\"blue\",\"blue\",\"blue\",\"blue\",\"blue\",\"blue\",\"blue\",\"blue\",\"blue\",\"blue\",\"blue\",\"blue\",\"blue\",\"blue\",\"blue\",\"blue\",\"blue\",\"blue\",\"blue\",\"blue\",\"blue\",\"blue\",\"blue\",\"blue\",\"blue\",\"blue\",\"blue\",\"blue\",\"blue\",\"blue\",\"blue\",\"blue\",\"blue\",\"blue\"],\"token\":[\"print binary heap tree without recursion\",\"start phonestatelistener programmatically\",\"jquery show div2 mousenter div1\",\"performing async method loop node js waiting result\",\"ue4 output game frames file\",\"flex collision testing hittestobject\",\"need hibernate legacy world\",\"http testing tool easily send post get put japanese character support utf 8\",\"copy paste custom tags ckeditor 4 0\",\"send periodic ephemeral hidden messages slack bot\",\"make page redirect rails\",\"htaccess redirect http http www https plays nice subdomains\",\"hierarchy parent child relationship datagrid c window application\",\"svg stroke dashoffset animation working safari firefox\",\"select individual columns\",\"possible programmatically assign elastic ip\",\"get form parameter servlet request getattribute work\",\"grep urls blog\",\"monadbasecontrol io statet implementation\",\"cakephp broken index method\",\"possible chrome extension get user full browsing history\",\"network diagram flow diagram jquery\",\"multiline regex using vb script\",\"name x509certificate2ui exist current context\",\"generate random data oracle based ranks\",\"define state machine concern\",\"adding int int tuple set scala\",\"removing tags using jsoup library\",\"run pygame script plays ogg file compiled cx freeze\",\"appointment bind mailbox\",\"best way support multi login appengine\",\"fragmenttabhost activity intents crashing\",\"sign asp net programming\",\"get similar objects based tags using doctrine\",\"database updating new row\",\"creating redundancy subversion repository\",\"mysql group slow query\",\"elixir phoenix error starting server\",\"finding set n equally distant points\",\"get rid xmlns using xml serialization\",\"turn predictive text option keyboard programmatically\",\"remove file\",\"mobilefirst failed synchronizing application administration service\",\"asp web api patch implementation\",\"information store exception object providing strings exception\",\"way execute one query per string mysql python\",\"excel sparklines printing issue\",\"seaborn pairplot pearsons p statistic\",\"run play framework port 9001 windows cmd play console\",\"qt signal slot connection qnetworkaccessmanager\",\"client side validation custom validationattribute attributetargets class\",\"draw hollow circle divided equal parts\",\"http request return string\",\"ireport jasperreport fonts pdf report\",\"disposing swt widget dynamically resize parent composite\",\"disposing swt widget dynamically resize parent composite\",\"code one keep data change\",\"updating using subquery returns multiple rows\",\"file upload working webview\",\"choosing cloud storage service web api ftp third party server\",\"exclude data sets r package build\",\"set c c console text bold italic windows\",\"tfs visual studio team services iterations overlapping dates\",\"format xml string ruby\",\"continue pl sql excution beyond exceptions\",\"android webview uses webkit\",\"extract text image using asprise ocr\",\"add zooming facility like native video capturing app window phone 8\",\"call function name f\",\"boost python pyqt\",\"learning entity framework 6 command tree interceptors\",\"override alphabetical default order union 2 tables\",\"cancel background worker update db mail\",\"custom prolog epilog functions profiling\",\"trim types whitespace including tabs\",\"property used change font element\",\"recursing dictionary lists dictionaries etc et al python\",\"properly set textscan returns empty cell array\",\"safely rename mac hardrive macintosh hd\",\"permission error starting wakanda server\",\"htaccess config symbolic links index files working expected\",\"extended backusnaur form order operations\",\"knockout issue freezing header columns\",\"updare sqlite3 schema data migration\",\"disable ie pop blocker options class desiredcapabilities\",\"limit google autocomplete results respective mentioned city\",\"cassandra load balancing tokenawarepolicy shufflereplicas\",\"xslt schematron validate xml file\",\"make request get post parameters php curl\",\"linked list doesnt work passing head list argument function\",\"setting div bottom outer div\",\"hibernate exception query properly ended\",\"collision events famo us get bodies involved\",\"horizontally repositioning uibarbuttonitem\",\"nest text inside svg path\",\"must callbacks jquery anonomous\",\"support different screen size landscape mode\",\"toggle inside fragment\",\"perl array integers using way much memory\",\"ruby using regex find something two strings\",\"compare two arrays return index first appearence\",\"modal windows plugin rails\",\"populating collection wrapped wrapped b classes b implements\",\"better html builder java\",\"terminal command running sublime text 3 ubuntu\",\"draw vertices vertex buffer another color\",\"local global variables swift\",\"wrap two adjacent td\",\"offset specific listed partition\",\"prevent firefox scrolling bottom page large popup opened\",\"jqtouch links li working scrolling\",\"svg click events firing bubbling using use element\",\"using jquery perform smooth scroll page using named anchors\",\"laravel query builder sum returns multiplied values\",\"heroku push rejected railties dependency conflict ruby rails tutorial section 1 4 2\",\"heroku push rejected railties dependency conflict ruby rails tutorial section 1 4 2\",\"ember within action result defined returnvalue action logged parent action undefined\",\"get unix timestamp start today javascript\",\"android google map view problem\",\"best approach use pdfstamper loop\",\"specify network interface ruby faraday\",\"orderincategory actionbar menu item use\",\"check mock calls wildcards\",\"finding previous non zero value date ordered list\",\"using linq query filter selecting particular key numerous times\",\"way java find many cpus cores installed\",\"issues trying integrate activemq v5 4 3 jboss v 4 0 5\",\"modify jaxb marshalling output stream include arbitrary inline xml\",\"regain access clipboard\",\"css make border pure css arrow\",\"creating cmake executables using multiple libraries\",\"windows batch random line text file\",\"gradle android aars conditional dependencies\",\"get string 2 strings\",\"python function composition\",\"onmouseover event tr tag\",\"force python ignore pyc files dynamically loading modules filepaths\",\"options convert imagemagick graphicsmagick produce smallest filesize png\",\"get name shell running using script\",\"send contact form angularjs app digitalocean\",\"codeigniter gives 404 uploading server\",\"download file zend http client library\",\"displaying text link clicked\",\"type module1 myentity type module2 myentity simple name myentity cannot used model\",\"apache forbidden error wamp\",\"tornado equivalent simplehttpserver\",\"lnk2005 already defined error\",\"upload photos image hosting server programmatically\",\"date format wrong datatable\",\"angular 2 highcharts cannot read property info undefined\",\"entry point found error attempting expand results view\",\"mysql split varchar value insert parts\",\"releasing updates weekly fixed number updates mysql database\",\"count number processes created using fork loop\",\"ibeacon auto peripheral pairing authentication\",\"odata 6 0 missing odataentitytypeserializer\",\"automating jpeg download\",\"image javafx listview\",\"real benefit using crosswalk android 4 4\",\"activemq mqtt producer publish openwire subscriber\",\"specify particular jre browser applet\",\"method add string undefined type string jsonobject 2nd array\",\"array argument passed function constant pointer\",\"convert file content array javascript\",\"avoid including capybara dsl global scope recommended cucumber\",\"passing nullable decimal json asp net mvc controller action\",\"mongodb use multiple groups aggregation pipeline\",\"string replace haskell\",\"sharing css js images master pages etc across asp net web sites\",\"facebook api post wall\",\"linking clang llvm\",\"xmlhttprequest response type wrong firefox\",\"magento reindexing loses solr docs\",\"iphone touchesbegan touchesmoved message move centre touch\",\"dynamically load details grid master details grid\",\"vb6 replace msxml3 dll msxml6 dll project windows 8 1\",\"add items existing list using addrange\",\"iterm2 triggers always echo done every entry\",\"execute custom query connection fetched datasource\",\"execute custom query connection fetched datasource\",\"mysql query returns 0 rows searching value dot string\",\"error smack 4 2 0 aaaa yielded error response nx domain\",\"delphi sharemem needed\",\"know discriminator value\",\"download images background j2me\",\"problems limit method rails 3 2 hash ordering\",\"routing messages server python\",\"vcr capybara webkit\",\"write adverb function returns function evaluated different environement\",\"gmod lua checking flag exists bitflag\",\"close inputstream renderbinary call play framework\",\"resize chartarea runtine\",\"javascript thrift client hangs\",\"time strptime returning current date\",\"jquery ui autocomplete callback\",\"ipad 2 ipad 3 website testing\",\"jquery xml html instead text displaying\",\"rally node add new item collection\",\"bootstrap 3 3 column layout 2 column layout\",\"get label names abperson properties\",\"control output make command\",\"using maven opts eclipse unit tests\",\"edittext enable disable button click\",\"requirejs jquery multiple dependent non module jquery plugins like jquery ui jqgrid\",\"sqlstate hy093 invalid parameter number parameter defined\",\"need br as400 sms\",\"springboot spring oauth2\",\"jquery use multiple ajax requests\",\"store list redis list\",\"retrieve clr dll sql server\",\"mongoose changing schema format\",\"dispose method get called\",\"xhttp get request express js server nothing returned\",\"void troubles return value string\",\"run json schema validator command line\",\"problems importing android platform classes\",\"c vb net iterate public enums\",\"mysql datetime performance\",\"font size really mean ios\",\"laravel calling redirect within view\",\"delphi xe f1027 unit found system pas binary equivalents dcu upon activation trial version\",\"save richtextbox text mysql db formatted bold italic retrieve text within code\",\"operation hours\",\"change default routing map actionlinks stopped working\",\"jquery elegant way replace set elements another set\",\"enable bluetooth windows 10 laptop using c net\",\"sequentially create multiple csv files ruby\",\"symfony2 determine controller called development environment production environment\",\"create email notification function odoo\",\"many chained conditions else\",\"implement regularized least squares matlab\",\"gwt client files one server gwt servlets server\",\"trouble linking php database\",\"file upload working android webview\",\"robotium examples java\",\"httpwebrequest web service c get data fast response stream\",\"hiveserver2 failed create change scratchdir permissions 777 could create fileclient\",\"getting characters last string\",\"orgmode capture template add entry org header\",\"pymongo failing connect heroku mongolab add\",\"cannot send email hotmail live com outlook com\",\"fibonacci series using alternate approach working\",\"css vertically horizontally align image\",\"backbone localstorage url property function must specified\",\"maximum number threads process windows\",\"decoding ransom note c python\",\"track page views using php\",\"remove items publishing using tridion resolver\",\"time difference two date fields\",\"write save file nano using subprocess\",\"specify collation column creating model rails\",\"use facet wrap list\",\"add tooltip check box radiobutton runtime silverlight\",\"best practices database development delphi\",\"loopback address work android phones\",\"onclick parent location working firefox chrome\",\"selectively delete messages amqp rabbitmq queue\",\"unable restore pg dump backup\",\"rename swig generated proxy java classes created c structures\",\"providing jackson mapper multiple ways deserialize object\",\"donation page viable free applications\",\"change text box visible depending item selected drop menu\",\"base36 string nsdata hex string\",\"semantic ui modal stretching window height\",\"debug sql server agent jobs\",\"mapping predicates propositions dlv prolog\",\"import data neo4j neo4j community 2 0 0 windows 7\",\"xna release becoming unresponsive\",\"convert string utf 8\",\"remove entire rows data 4 stdev\",\"r install packages centos 6 5\",\"fetch facebook album cover photo android\",\"recommendations deployment svn version numbers written code automagically\",\"need running website internet order access google analytics data using google api\",\"send iframe email body\",\"linking two modules distutils\",\"autosize size property winforms\",\"using angular 1 module angular 2 app\",\"check skshapenode line contains point\",\"create uisplitviewcontroller portrait behavior landscape orientations\",\"opening saving xml preserving newline node attributes\",\"jquery ui button gets disabled refresh\",\"convert zip file nsdata\",\"php move nodes parent array\",\"syntax highlighting working ruby files erb chrome devtools\",\"safe reuse intent\",\"jquery excluding elements\",\"opencv initialize mat 2d array java\",\"conversion flash components 9 slice scaling html5 canvas\",\"app config transformations applying\",\"check google username password\",\"unwanted margin css\",\"get values mysql database using php script android\",\"asp net session state using redis\",\"query builder json data laravel 5 1\",\"dynamically set less variables user settings\",\"following packages superseded higher priority channel mean\",\"purpose nsrefreshedobjectskey\",\"android studio nothing\",\"find list default dll files available windows xp vista 7\",\"group listbox windows phone 7\",\"transparent tmemo trichedit vcl control\",\"live wallpaper game engine\",\"using int field improve read performance byte array access java\",\"ios 7 creating image thumbnails threads showing view unless tapped waiting long time\",\"happens calling createdirectory createfile different machines simultaneously\",\"anyone suggest compatibility versions hadoop sqoop hbase hive\",\"use cql 3 0 jdbc drivers hector\",\"uislider adjust match uitextfield value\",\"setup mass dynamic virtual hosts nginx docker\",\"need help centering div class page\",\"scala variable binding used actors\",\"compiling netbeans program commandline\",\"nested struct definition\",\"alignment sortable jquery ui divs spacing\",\"getting numberformatexception input string parsing inputs array\",\"determine cluster size file system python\",\"create sql view excludes based datetime\",\"managed metadata person group checkbox field values saved item creation\",\"c class recognized python 3 module via boost python embedding\",\"put urls string array using regex problem trailing period\",\"get undeclared identifier error create variables dynamically\",\"download file name using curl c\",\"chartjs jsp\",\"getelementsbytagname results nullpointerexception\",\"get h1 element display image\",\"backbone view dom element removed\",\"undefined vector new\",\"direct output\",\"change images grid view position changes android\",\"creating new site collection office 365 app\",\"solve sql query\",\"php calculation based array values\",\"script tags showing inspector firefox todomvc example angularjs source\",\"adding row number query loses distinct defeats purpose paged results attempt\",\"field transient property flag set reflection java\",\"check box list select one item selected mcv 3 using jquery\",\"move file linux server windows sharedrive python\",\"possible add per file disable rules pylint rcfile\",\"config start tomcat 7 netbeans 8\",\"text centered inside image\",\"load messages mouse scroll\",\"decimals integers\",\"using cakephp query database coordinates return json google map\",\"css horizontal alignment embedded divs\",\"react native ios way determine app resumed onresume event\",\"magento add button sales order view page observer event\",\"interacting web pages c\",\"parse file compilation\",\"compiled version vs minimum required version android\",\"export import excel combo box\",\"checkout close tab\",\"creating chess board using windows forms\",\"get models backbone collection attribute equal value\",\"possible implement youtube channels uploaded videos list website\",\"bypass disable uppercase global inference handlebars templates\",\"best way close access jet oledbconnection\",\"android viewpager downloading images url\",\"javascript keydown conflict\",\"round error converting double string without using f\",\"json based rest esb rest communication build axis 2 xml messagecontext\",\"structure antlr based translator best practices\",\"jquery simple array pushing item already removing item\",\"add delete option dynamically generated edittext\",\"read two lines data column create combination values column\",\"bind manual input value report deviation input column\",\"finding jquery accordion within 2 divs\",\"css gallery view without table\",\"assigning fixed colour subset ggplot2\",\"add custom function widget assign variable\",\"cfnetwork internal error urlconnectionloader cpp 304\",\"report data parent child levels row random sublevel\",\"round error converting double string without using f\",\"ios socket send message server\",\"search required elements list using jface\",\"django oauth toolkit work apache\",\"iphone scrollview textview tableview inside\",\"instrument count number method calls iphone\",\"send http request using django get results\",\"change pixels image\",\"chrome extension ignores xmlhttprequest withcredentials field\",\"return http 204 response successful delete servicestack\",\"continuous integration server heroku ror app\",\"add gdx tools libgdx gradle project\",\"migration unique column certain condition\",\"fatal error call undefined function cybs load config\",\"current windows phone 8 1 apps run windows 10 mobile devices whitout code modifications\",\"unregister listener stop service within broadcastreceiver\",\"disabling auto commit namedparameterjdbctemplate batchupdate\",\"share files path using fileprovider\",\"add unique id reply header swift mailer\",\"create lightuserdata lua luaglut glreadpixels\",\"create rabbitmq consumer ruby rails web app\",\"query working worked hours\",\"loading large textures andengine\",\"android de facto implementation rest json client\",\"callvirt work hood\",\"convert nsstring char str\",\"inject bean datafetcher graphql\",\"sorting searching table working\",\"rails production server stylesheet loading\",\"python exe valid win32 application error coming suddenly\",\"hibernate jpa add calculated field\",\"hibernate jpa add calculated field\",\"contravariance expressions\",\"hide navigationview top shadow moving toolbar\",\"install name tool nothing\",\"creating adding dictionary one class accessing dictionary main program\",\"detached pthreads memory leak\",\"change datatype imported spreadsheet mysql\",\"program drag drop two tables\",\"perl program issue print scalar array values together hash\",\"developer credentials url open google play facebook\",\"bash jspm command found\",\"unique constraint avoid duplicates\",\"hybrid application open image zooming controls\",\"google api documentlist create shared link\",\"jaxb annotations mapping interfaces xmlelementwrapper\",\"receiver calling service another application\",\"r text file text mining load data\",\"adjusting image brightness\",\"ie 6 vs position fixed\",\"picasso causing outofmemory error\",\"enable user input android edittext scientific notation\",\"use hibernate entity annotations bean validation\",\"android app startup problems growing heap\",\"expire django template cache key receiving signal\",\"asp net mvc validation uniqueness\",\"java pmd warning non transient class member\",\"use pyhthon calculate data csv\",\"moz webkit ms\",\"use kvc rather simple dot syntax accessing object properties\",\"restart apache apex application\",\"reference diagram dsl t4 template\",\"bufferreader skip performance\",\"rectangle oval appear exactly position\",\"1 2 30 35\",\"delphi datasnap server mysql found rows return 1\",\"cache xmlhttprequest response javascript\",\"perform division timespan\",\"possible global memory cache replay 100\",\"extract data archive\",\"angularjs multiple views routing without losing scope\",\"c app ubuntu installing gcc 4 8 1 gdb work\",\"jquery simple click selector issue\",\"php wordpress query\",\"jquery attr fails set attribute\",\"use sum bit columns\",\"std deque surprisingly slow\",\"linq select expression work\",\"iis7 specifying content length header asp causes connection reset error\",\"replace stored procedure mybatis mapping\",\"get mappings two lists\",\"extract base class pointer\",\"wcf messagecontract wrapping lists\",\"read settings database log4net\",\"structure url routes\",\"set download status file datatable using node js\",\"use react js without bundler\",\"serializing int type without quotes\",\"parent uiviewcontroller orientation change dismissing child\",\"make html embeded video webview play landscape mode\",\"google chrome crash dump location\",\"userscontroller create user new params user return empty user params looks good\",\"searching two tables sphinx mysql\",\"pyqt5 qtableview cell editing behaviour superimposition original value\",\"convert user input spaces dashes\",\"gwt responsive design solution\",\"validity pointer returned operator\",\"asp net5 selfhosted weblistener connection timeout\",\"codeigniter hmvc second child module working\",\"res body empty test uses supertest node js\",\"ios 10 beta sdk uidevicergbcolor countbyenumeratingwithstate objects count unrecognized selector\",\"reinstalling vim\",\"use different module names url different exports modules\",\"getting name column row column indexes phpexcel\",\"new phonegap project always list helloworld\",\"select child nodes based contents\",\"css div fit 100 div width\",\"inapp purchase skpaymentqueue finish transaction work\",\"inapp purchase skpaymentqueue finish transaction work\",\"setting button visible\",\"showing code snippet html page\",\"cropping image based background stripe colors python\",\"running vbs script via html javascript php cognos report studio\",\"webpack configuration compiling module node modules\",\"visual studio tfs mvc classic asp project setup\",\"advising html control call dispeventunadvise\",\"conditionalattribute special classes\",\"hibernate id via inheritance\",\"reroute query string using friendlyurl\",\"nfc tag contain deeplink\",\"website scrollmagic pins\",\"structure url routes\",\"circumstance system collections arraylist add throws indexoutofrangeexception\",\"application reset programmatically objective c\",\"cannot pass module functions page\",\"cannot get average date using pandas\",\"add polygon map r leaflet\",\"keep immutability mutual dependency 2 objects\",\"prevent javascript redirect exiting fullscreen mode\",\"dynamically register new attributes polymer component ready\",\"git tf moving parts large tfs project\",\"checking android source github\",\"getting class name constructing class\",\"inserting character middle string\",\"int vs intptr handle\",\"ensuring integrity 2 databases\",\"asynccallback call different class multiple forms\",\"select html elements attributes defined\",\"javascript local folder selector\",\"google maps javascript api direction update geolocation move\",\"python continue nested loop\",\"use let setup local binding list two element lists scheme\",\"uiviewcontroller ignore left right slide movement\",\"stack ghci loading local modules\",\"stack ghci loading local modules\",\"map arduino pins using ardulink\",\"php warning php startup unable load dynamic library phalcon undefined symbol php pdo g\",\"know copy job done\",\"ckeditor blur dialog\",\"granting rights stored procedure another user oracle\",\"htaccess redirect vs php redirect\",\"set customer id find model strongloop mongodb\",\"git push hp ux fail ssh urls function available\",\"executing block code atomically\",\"parsing date python without using default\",\"using virtualenv within pythonbrew installing dependencies\",\"angularjs run code controllers done\",\"transparent overlay view opaque\",\"character replacement strings vb net\",\"view akka dead letters\",\"run example storm starter using command\",\"itemrenderer contentbackgroundcolor\",\"excel add error handling array formula using offset\",\"special characters xsl\",\"generate code use generate\",\"table categorical variables grouping variable r\",\"create net windows service windows mobile 6 x\",\"cleaning stdin buffer issue\",\"angularjs cookies getting undefined\",\"defualtly define winapi treat strings unicode\",\"pc pc usb communication\",\"perform create always fails django rest framework\",\"transition d3 axis without tick text attribute reset\",\"maven mojo scm plugin add file ignore list set svn property\",\"building activeqt com applications mingw\",\"calculate shortest distance gps coordinate route\",\"keep navigation open new page loaded\",\"create resources file vb6 c\",\"remove tags inside hyperlink using jquery\",\"nsurlconnection sendasynchronousrequest always send completion block\",\"asp net vnext resource file format\",\"wpf window setbounds\",\"handling action bars two fragments\",\"add column table exists\",\"make json schema allow one another field\",\"detect ctrl 1 key press textbox\",\"elastic beanstalk vs ecs multi container docker\",\"pass custom field values ajax request wordpress\",\"jni method descriptor char char array\",\"onclick event banner application layout\",\"error sails lift since update 0 10 4\",\"session null first request\",\"embed mjpeg file webpage\",\"display hide xml elements using xsl onclick checkbox\",\"expose adobe aem bundles restful webservices\",\"springcloudstream httpsource returning 404\",\"retrieve onclick text\",\"set cron run automatically without event magento\",\"set cron run automatically without event magento\",\"using vi command make alias\",\"android telephony manager crashes\",\"haskell ghc infix tag pragma warn incomplete patterns\",\"jmeter load server affecting results\",\"recursive sql used dictionary managed tablespaces oracle\",\"copy duplicate github remote branches repository\",\"laravels neat testing helpers workbench\",\"adobe cq5 sidekick empty components shown\",\"objective c memory management problem\",\"collision detection management libgdx\",\"data checkboxes store database\",\"github windows showing old readme text\",\"inconsistent results finding factorial trailing zero\",\"advising html control call dispeventunadvise\",\"add content append specific line\",\"difference thread interrupt thread currentthread interrupt java\",\"array manipulation accessing specific bytes\",\"determine necessary functions delegate\",\"css hide text node show children\",\"use wildcard variable\",\"saving dynamically added linearlayouts without using savedinstancestate\",\"css file linking html file website uploaded online\",\"incompatibilities indy 9 windows server 2003\",\"boost set program priority\",\"objective c project using c posix classes\",\"anyway hide div ascx file alone\",\"extract background image html element ruby\",\"install neo4j 3 0 windows service\",\"value violated integrity constraints column\",\"selecting item gridview adding list\",\"add seconds timestamp start date get estimated end date\",\"jtextpane vertical alignment\",\"understanding vtune report\",\"make custom listview clickable items acces position\",\"necessity private static methods\",\"regex pattern java updating\",\"webpage mobile safari scaling fit viewport\",\"sparql arithmetic operators variables\",\"reportviewers overlay refresh\",\"symfony bundle avoid using dir build path doctrine mappings\",\"eventlet timeout exiting\",\"extract time information data time classes construct time series\",\"get simple zeroclipboard copy clipboard setup working within jquery jsfiddle single click\",\"using awk remove whitespace\",\"setonclicklistener inside flipviewpager working\",\"django programmingerror fields postgresql\",\"get bytes contents zipfile entry zipinputstream without writing outputstream\",\"threads get locked wait state\",\"jpa entity metadata\",\"jpa entity metadata\",\"read colorspace eps file using ghostscript\",\"way clear hover drop menu touch screen\",\"cannot save data sessionstorage\",\"declare empty array type cnlabeledvalue using swift 3\",\"jquery ui date picker default text textbox\",\"sql server 2005 says temp table already exists drop table temp says invalid object id null\",\"xcode array output label\",\"uploading nsdata uijpegrepresentation big\",\"handling image file using laravel controller\",\"mobilefirst 7 1 issue multiple push notification android devices upgrade mfp 7 1 0 00 20151227 1725\",\"visual studio affect textboxes\",\"epplus 4 1 outofmemory exception xlsx files xls files\",\"mouseleftbuttonup never called dragmove\",\"arabic zend pdf\",\"code returns error says value given one required parameters\",\"possible nest dom elements inside option element\",\"div appears small mobile\",\"cause conflicts patch apply\",\"24 hours values\",\"several editable pdf\",\"run example storm starter using command\",\"best way share texture image two context context sharing\",\"regarding defining two dimensional array ever changing size\",\"memory leak android zxing library\",\"spring add soap header endpoint response\",\"constructor class whose super made via factory method\",\"boost serialize sqlite blob\",\"remove extra header excel export gi\",\"recognizing text picture delphi\",\"switching activity firebase app shuts\",\"avoid retain cycles nsnotificationcenter\",\"select2 control allow value selected numerous times\",\"weird behaviors time rails application\",\"java swing mousedragged callback speed\",\"unable download apk file remote server android\",\"unable dump relation pig\",\"wordpress max characters latest post titles\",\"replacing file using regex\",\"office 365 api get user details\",\"get server ip address current request\",\"connection laravel oracle yajra\",\"saving corresponding data hasone relation\",\"want initialized every jtabbedpane jtextarea new dynamic name\",\"specify cipher suite java application client use\",\"image fetch database php pdo\",\"using itextsharp generate multiple page pdf existing pdf form\",\"esp 8266 module arduino executing post request\",\"set xslt duplicate information\",\"add new function property textbox class text property\",\"char comm port commands\",\"shifting columns dataframe extreme end replacing nan\",\"spring ehcache refresh\",\"extract background image html element ruby\",\"vuforia augment reality windows\",\"optional appears result\",\"fix progress report method merge files\",\"makefile use curl config xml2 config configure ac\",\"show embedded excel file webpage\",\"append current div element loop\",\"fixed top menu scroll allow reach screen bottom\",\"nested ng controller fires locationchangestart\",\"click many links one page greasemonkey script\",\"spring custom logout filter perform action logs\",\"adding google play services crashes aapt exe\",\"creating d3 v4 histogram ordinal scale\",\"powerpoint process works standalone console project integrated project\",\"routing parameter widget jqueryautocompleter symfony\",\"one map network drive windows service\",\"sql server msg 102 level 15 state 1 line 2 incorrect syntax near\",\"prevent php file get contents\",\"possible turn entire webpage grayscale using javascript\",\"aws sdk node js s3 putobject request body\",\"change class label checkboxes simple form\",\"auto updating scope variables angularjs\",\"delete closed pull request github\",\"using phonegap load external url iframe childbrowser plugin\",\"copying nsdictionary without empty values\",\"get java program written netbeans compile javac\",\"get current process uid euid linux kernel 4 2\",\"get rid squared border around image\",\"jpeg manipulations dotnet gdi exception\",\"drupal 6 fails build menu router links\",\"using express device sails\",\"simultaneous events\",\"mysql num rows segfaults\",\"refinerycms compatibale version devise 1 5 3\",\"prevent duplicating records mysql insertion queries\",\"unable execute dex multiple dex files define lcom google gdata util common base escaper\",\"scss exclude specified containers set styles\",\"iterate two list objects get name file list1 comparing time stamp list2\",\"formatting tabs html php css\",\"sql insert exist update exist\",\"insert xml element first child using elementtree python\",\"vlookup skipping row excel\",\"equivalent literal tag asp net mvc\",\"slider cannot dragged cannot call method addclass undefined jquery ui bootstrap twitter bootstrap\",\"change calculation type using lambda expression\",\"fabricjs canvas reset zooming\",\"rectangle selection svg elements raphael\",\"check codeigniter session expired ajax\",\"creating pivot table c\",\"working jquery internet connection\",\"get item selected listview generate context menu\",\"silverlight column series chart width question\",\"using bower visual studio tools apache cordova\",\"middle vertically align text inside textarea\",\"multiply alternate digits array using c\",\"md5 hash begin zero\",\"wordpress call undefined function get header\",\"class name argument function without quotes\",\"ios uipangesturerecognizer get touched coordinate relative gesturerecognizer view\",\"forkjoin void functions\",\"uisearchcontroller show results even search bar empty\",\"unwind unknown symbol address\",\"text overflow ellipsis list items keep numbers\",\"difference two lists preserving duplicates\",\"spring 3 0 could load properties\",\"siamese network using rstudio keras\",\"know application disabled android ics\",\"deploy rails app domain name trying create test server\",\"find count comparisons method sort\",\"cmake called add library library cryptopp without source files\",\"javascript setinterval countdown lagging\",\"efficient way determine string starts token set tokens\",\"sending fixed voltage serial port\",\"overcoming ambiguous field error sql query\",\"cant get zend loader load classes wamp\",\"set video frame capture using bitmap data\",\"create dynamic pages asp net mvc\",\"javascript jquery ordering element arrays\",\"multiple ohlc datasets one image\",\"openmp work mfc application\",\"antivirus block web service\",\"django rendering specific block inside modal keep base page active\",\"tortoisesvn use domain name use ip address\",\"simple counter example using mapreduce google app engine\",\"embedding font swf using as3\",\"quicker way comparing matching array integers linq\",\"location headers laravel\",\"php curl login work\",\"equality operator overloading allegro\",\"need quote command substitutions\",\"select check row insertion\",\"inno setup change label caption controls general selected value combox box changes\",\"could make query numbered 36 mysql error 1059\",\"calculate percentage youtube video viewed api\",\"service fabric application vmimagesku\",\"retrieve content type file name base64 encoded image string rails 4\",\"anchor link document attachment\",\"integrating paypal library swift project using cocoapods finding library\",\"iphone delay operations queue\",\"list variables xml combo box c\",\"php phpmailer get example code phpmailer work\",\"uitableview loaded\",\"spring security expire sessions user\",\"way test web site iphone without iphone\",\"usage local dart library\",\"restrict querying certain child value security rules\",\"use javascript jquery dynamically create multiple html buttons different click event handlers\",\"override css element\",\"avoid truncated bubbles elasticx elasticy\",\"executing php function json\",\"exporting deducer contingency tables csv xls\",\"using chartist js change color stroke donut chart\",\"vb variable inside string display value literal name\",\"recursive hierarchicaldatatemplate wpf\",\"javafx svgpath pathtransition animate node along svgpath\",\"task wait throwing exception\",\"project oxford vision api ocr exception\",\"uistoryboardsegue modal form sheet fills entire screen first\",\"turn location service\",\"depth map calibrated image triangular mesh using opencv matlab\",\"combine gwt php\",\"getting range number column min max missing numbers\",\"magento installing extension admin panel unable load\",\"possible set arguments provided using arguments property\",\"python pool multiprocessing functions\",\"possible run multiple mappers one node\",\"python pandas stem leaf plot\",\"differences membership simplemembership asp net identity\",\"find sum field condition ie select table sum field 150\",\"symfony place screen form error\",\"sometimes get file contains potentially unsafe dynamic content message mathematica notebook\",\"android database update device\",\"mvc model binding dictionary list ienumerable value\",\"suppressing passwd calling sqlplus shell script\",\"sp refreshview replaces view implementation sp rename occured\",\"close toggle visibility street view custom google map api v3\",\"git pull permission denied linux\",\"makemigrations djano models custom path\",\"draw corridor google maps\",\"expand table multiple columns query\",\"create form container angular js component\",\"http patch request android\",\"tooltip hover select box options generated ng options angulerjs\",\"change image previous state row selected tableview didselectrowatindexpath function\",\"formula auto change calendar hours change 1 keep total hours\",\"type mismatch error adding jlabel jpanel scala swing panel\",\"get stable unique device id windows 8\",\"implement search like people search\",\"real time syncing\",\"two sidebars flexbile center column css\",\"request data backend show extension ui\",\"essential techniques pinpointing missing requirements\",\"using transition cifilters catransition\",\"picasso repeats images\",\"use app firebase phone emulator\",\"postform header\",\"create disabled form child components\",\"making table tbody scrollable using display block offsetwidth\",\"php image url buildimg php 1 2816 picture 2816 png\",\"get highest value text field class id name\",\"neo4j v2 2 0 default password working\",\"custom appbarbutton appbartogglebutton windows apps\",\"podio api scopes working\",\"convert dictionary pandas dataframe\",\"classes necessarily exist prior record insertion\",\"sqlite entity framework 6 table\",\"getting s3 credentials database startup rails\",\"compiler deduce array size defined template parameter\",\"creating indexvariable r based several indexvariables\",\"sphinx autodoc django working\",\"save apple pay transaction customer\",\"contain behavior conditions empty array\",\"understanding tensorflow text classification py\",\"identifying html elements css styling positioning\",\"c process status mean htop\",\"vimeo php api play private video programmatically without login\",\"jquery indirectly cause issues checkboxes\",\"405 error django ajax post\",\"clang llvm building sparc\",\"need handle null exception\",\"vertically scrolling gridview xaml windows store app\",\"php run intstalation\",\"creating dojo datagrid programmatically sorry error occured\",\"asp net mvc preview 5 html image helper moved namespace\",\"use unassigned local variable statements\",\"keyword makefile prerequisites\",\"std size\",\"need create li list different links using php explode method\",\"dynamic sql clause select query\",\"unable run compiled classes command line\",\"dynamically import columns csv database table sqlite3 python\",\"onselect event datepicker rise\",\"multiple properties facebook feed publishing attachment\",\"keras implementation dropout correct\",\"scala futures main thread expected futures executing\",\"angular2 bootstrap way dynamically target elements like angular 1 x\",\"grails datasource remote mysql database access migrations\",\"spring mvc velocity proper way bind dropdown options\",\"flexicapture 10 sdk verification step issue\",\"overlaying text box leaflet js map\",\"checking post title unique else return error using friendly id\",\"amazon aws request must contain parameter signature\",\"easy way calculate crap metric javascript build process\",\"way send content type header get request windows phone 8\",\"windows file folder permission using vb net\",\"change button image navigation drawer opening closing\",\"hgwatchman throws warning trying clone\",\"would single integer safe read another thread might writing\",\"joomla default index php added url\",\"chaining locks\",\"appcelerator titanium error application installer abnormal process termination process exit value 1\",\"seaborn countplot frequencies\",\"send productids product catalog java class\",\"say design completely restful\",\"rendering new page post handler works cases others\",\"image xamarin\",\"error key hashkey must start angularjs\",\"problems compiling files using jogl\",\"insert method binary search tree\",\"starts os process scheduler\",\"attribute error trying convert datetime unix timestamp python 2 7\",\"difference setbackgroundimage forstate setimage forstate\",\"create dynamic fields google app engine expando class\",\"large photo version contacts android\",\"elastic search sort doc type\",\"fix absolute positioning ff\",\"wpf datagrid validate multiple rows mark invalid ones\",\"print whole table using anonymous block pl sql\",\"encode special character sitemaps\",\"reading default namespace roslyn api\",\"simple example upload photos google picasa\",\"regex date format yyyy mm dd working\",\"read call history iphone ios 5\",\"use powershell tabexpansion function\",\"multiple definition first defined errors\",\"button working intended glyphicon\",\"release mode diagnostics react native\",\"strip url 1 word jekyll\",\"syntax error unrecognized expression object object rel x\",\"ember cli broccoli funnel copying files\",\"classnotfound vmdisconnectedexception losing bashrc\",\"width height required iframe\",\"google maps zoom past certain point\",\"insert array mysqldb\",\"using bash c globbing\",\"use boto manage cmdshell ssh agent\",\"adding text views multiple rows relative layout programmatically\",\"callback function aurelia js\",\"php session cookie secure actually set cookie secure\",\"lumen mongodb\",\"css riddle figure modify piece code\",\"query mysql table performant way\",\"json serialization pojos child objects\",\"cassandra datastax clustering order work\",\"typemap rule confusing\",\"structuremap3 configure constructor string injection types\",\"insert html table row specific location jquery\",\"parse special character xml file using simplexml\",\"able allocate pointer inside void c\",\"image video conversion transition effect\",\"r painfully slow read performance using rodbc sql server\",\"convert writer byte array\",\"jquery js sorting array based upon another array\",\"tilemap sprite kit tile size issue\",\"print text line\",\"android mapview json array adding array points\",\"compare panel background image resource image\",\"android permissions regard warning google play developer policy violation action required\",\"convert adobe illustrator font size css font size\",\"expose soap 1 2 web service java calls another rest service\",\"handling data access layer exception mvvm using inversion control\",\"tool read html file save javascripts found one\",\"run node app sublime text\",\"insert clob via createnativequery jpa methor oracle without 32766 character limit\",\"get single json value using webmatrix razor\",\"optional definitely null values java 8\",\"jquery get previous input text\",\"query haversine formula oracle\",\"call google cloud function javascript web application\",\"update self based reference value hashmap self\",\"bash sleep loop gets pid\",\"mean js unique error handler search\",\"difference relationship scope passed controller scope passed directive\",\"difference relationship scope passed controller scope passed directive\",\"get index clicked element mootools\",\"save windows tabs gvim\",\"getting ioerror errno invalid number channels 9998 using mic pyaudio raspberry pi\",\"move files folders partial names\",\"adding child existing treenode\",\"fancybox shown jquery ui dialog pressing esc button closes dialogs\",\"highlighting words javascript missing\",\"install r redhat\",\"class vs import header compile time saving clang\",\"unit testing oauth login cake 2 3\",\"possible turn field debug drawing spritekit xcode\",\"change user windows authentication connection string c\",\"background colour views set storyboard working properly\",\"javascript return json working\",\"eloquent relationship partial match\",\"jquery js sorting array based upon another array\",\"bound datagridview cells updated\",\"adding new label every loop iteration\",\"google places api getplacepredictions exclude specific business types results\",\"query works slow results\",\"retrieve list positions including fields using linkedin javascript sdk\",\"java daemon thread share heap perm gen spawning process\",\"two processes saving record database time\",\"adding robotium test projects\",\"time select 12 hour time time zone ruby rails\",\"rewrite wordpress url use first sub directory querystring\",\"import ion rangeslider aurelia\",\"javascript uncaught syntaxerror unexpected identifier error\",\"creating function arguments named list application stats4 mle\",\"metadata could determined every code path results error see previous errors\",\"item count 10 0\",\"set text color disabled form control button\",\"need assistance setting class send email gets called main class\",\"struts 2 interceptor runs page executes\",\"php get data json array without loop\",\"use x coordinates plot points inside circle\",\"python find email address page selenium\",\"realloc changng size array\",\"url encode incoming url ci\",\"modify wcf process messages different non soap format\",\"adding listener google map\",\"understanding vtune report\",\"include parent option elasticsearch nest library\",\"finding line file x instead x\",\"merge update comparing strings\",\"fixed background image bug chrome mac\",\"silverlight toolkit accordion change color\",\"zclip work multiple copy clipboard js\",\"reordering columns csv\",\"use android autocompletetextview xamarin forms\",\"objective c variable declaration inside vs outside interface end\",\"error using export graphml neo4j 2 2\",\"best way allocate memory two dimensional array c\",\"applying list functions number\",\"effective time code reviews\",\"local ajax request sencha phonegap android\",\"loopback connections working user context working local system account\",\"javafx red border text field\",\"reload fragment\",\"add reference system speech\",\"fluent nhibernate many many issue\",\"implement google drive google plus sdk ios project\",\"multiple result types struts2\",\"find ibm ilog jrules 7 1 trial version\",\"set remove insets javafx titledpane\",\"change default responsive filemanager upload path\",\"red5 installation\",\"android cordova extract code apk\",\"add remove dynamic textboxes uniquely using javascript appscript\",\"factor clojure code setting many different fields java object\",\"sqlite double inner join sql query statement\",\"wordpress header fixed jumps scroll\",\"host key verification failed using php script centos\",\"share instance asp net mvc 5 ninject\",\"asp net mvc use regular toolbox controls\",\"build data matrix mixed messy csv file\",\"possible implement median medians introselect swaps heap allocations\",\"possible implement median medians introselect swaps heap allocations\",\"tax class zero rate per user role specific product id\",\"sql microsoft sql\",\"convert date milliseconds another date format\",\"custom menu visible one document excel\",\"mysqli query returns empty string\",\"best way construct activerecord finder using variable\",\"view partitions linux using python3 x\",\"enable bokeh tools pyqt qwebview\",\"flot chart possibility add additional legend\",\"onehotencoding sklearn pipeline\",\"program teaches someone multiplication random numbers\",\"implementing goto ast\",\"app icon showing itunes connect\",\"r outlier cleaning column dataframe using quantiles 0 05 0 95\",\"storm dynamic topology\",\"oauth access token could extracted mule message\",\"find named range cell vsto\",\"delete single occurrence recurring event using zend gdata\",\"opencart directory containing files uploaded could found\",\"replace emoticon word tweet using regex c\",\"java lang illegalargumentexception failed find configured root contains storage emulated 0 pictures\",\"m2e install external jar file need install maven command line tool\",\"adding custom images nodes sigma js\",\"android retrofit https connection working\",\"simple custom ui maya using python\",\"wordpress change default font navigation menu\",\"zk event listener removed component using removeeventlistener\",\"pass different browser robotframework\",\"write clang compiler diagnostics structured file\",\"return column location value excel 2010\",\"twitter share link parameters\",\"check document exists mongodb using es7 async await\",\"get filehandle command line\",\"call function program idle given time\",\"bundle 2 standalone jars 1\",\"comparator set defined class set elements\",\"ambiguous call services configure appsettings\",\"php attachment using swiftmailer\",\"identify mkpointannotation mapview\",\"want current date time dd mm yyyy hh mm ss ss format\",\"prevent select option changing back default\",\"adding unit uses clauses units project\",\"lookup error ora 00932 inconsistent datatypes expected date got number\",\"generate html javascript working\",\"disable assets compilation heroku\",\"iterate every possible double value\",\"use onehotencoding scikit encode categorical data conjunction decisiontreeclassifier\",\"acces data using relationships laravel\",\"using matcher function select2 plugin results found message appearing\",\"use powershell sql server 2005\",\"c application setting showing user config file\",\"remove unexplained shadow around pictures\",\"set attributes unsafe restful yii2\",\"unable adjust grouping settings opencv hog detectmultiscale python\",\"insert two tabels mysql database time\",\"data update\",\"lagging panel data data table\",\"one avoid creating ad hoc type system dynamically typed languages\",\"angularjs unknown provider locationprovider\",\"mpi err buffer performing mpi\",\"prevent controller service repository constructor executed mvc sitemap provider menu html helper\",\"c check many times value appears array find indexes\",\"knockout unable process binding foreach\",\"spaces tabs visual studio code\",\"embedding font swf using as3\",\"netbeans mercurial moving deleting files folders\",\"variable watchpoint work eclipse adt android projects\",\"recording espresso test without clean install every time\",\"react native enable proguard app close run\",\"mvc remote validation parameter null\",\"html multiple javascript alias\",\"analytics js blocking scripts\",\"upgrade dicom library dcm4che2 dcm4che3\",\"get posts instead query posts custom post linked custom taxonomy term\",\"ado net data services entity framework request error property setter internal\",\"search elasticsearch condition\",\"hibernate generates wrong query optional bi directional onetoone jointable\",\"read response angular resource save also keeping original data\",\"class registered error opening recordset using vb6\",\"video tag html5 src base64 encode work different device browser\",\"service rebind bound\",\"data binding wpf datagrid control system data datatable object\",\"android facebook apiexception invalid application\",\"basic js touppercase\",\"android communication two services application\",\"reserved class names groovy\",\"minimize adobe air android app as3\",\"one many db flow\",\"docker machine google gce driver working unable create instance\",\"stop opening tfs builds browser instead ide\",\"vkallocatedescriptorsets returns vk host memory\",\"typeerror converting pandas dataframe spark dataframe pyspark\",\"search engines recognize search boxes websites\",\"check javascript string 100 000 00 format\",\"images cut outlook 2007 2010 2013\",\"go get path parameters http request\",\"scale button right left android animation\",\"prolog counting using 0 p 0\",\"raphael paper editing\",\"js file code calling way\",\"return resulset given radius\",\"source code unix environments cd command\",\"multiline regex using vb script\",\"get cuda use gcc 4 6\",\"ai partial unification open world reference resolution\",\"asp net mvc foolproof validation working\",\"use radians programming\",\"add new enum value existing enum field\",\"wpf treeview keyvaluepair int string\",\"exceeds list view threshold 5000 items sharepoint 2010\",\"maven 3 multi module build tries run targets multi module pom\",\"php code variable\",\"liferay autologin hook portlet logout current user\",\"lotus domino group account concern\",\"mysql get sequential number rows\",\"ormlite filestream\",\"add zeros sql columns\",\"recurring events event calendar\",\"convert imagesource writeablebitmap metro windows 8\",\"cq5 render image inputstream jcr data\",\"keep python printing type information\",\"r getting indices elements sorted vector\",\"android get mjpeg stream camera\",\"finding minimum number user input\",\"documenting tuple return type function docstring pycharm type hinting\",\"get full description activity cleartool\",\"get full description activity cleartool\",\"creating virtual machine using azure command line tool linux\",\"writing estimating likelihood functions em algorithm r\",\"pass param value select function returns table sql server\",\"run multiple classes netbeans maven project\",\"stop warning uiview may respond selector\",\"refreshtoken null\",\"enable button textfields filled ios\",\"create image json file\",\"creating multidimensional array adding elements dynamically\",\"fancybox shown jquery ui dialog pressing esc button closes dialogs\",\"mvc scaffolding support entity framework 6 later\",\"intercept javascript requests chrome extension\",\"percentages mysql\",\"sqlalchemy object attribute sa adapter\",\"authenticate users using curl login system site\",\"android bug webview fasle false logcat\",\"integration python c application\",\"tsql combining multiple rows one row\",\"use email passport local previous help working\",\"including additional static xml python\",\"install haskell packages using cabal without internet connection\",\"grep one string occuring multiple times file\",\"gmres residual plotting\",\"iterating multidimensional array output contents inner array php\",\"surfaceview camera preview destroyed\",\"handle buffered channel properly golang\",\"creating htmltable using asp net repeater dynamically bound object list\",\"method using super take subtype object add list\",\"join two queried tables\",\"compute xor remainder used crc java\",\"setting canvas background animation\",\"run c projects ubuntu ntfs partition\",\"grep one string occuring multiple times file\",\"use mpi parallel hdf5\",\"redirect rule working\",\"xcode 5 bundle loader used bundle xctest\",\"reload iframe every x seconds\",\"run application debug folder visual studio solution\",\"know activity ruuning windows phone 7\",\"create dynamic destination blazeds\",\"set default image img src null\",\"nsarray bounds check\",\"flask mail error headers self sender self reply self recipients\",\"template vagrantfile using ruby\",\"mssql connect unable connect server without freetds conf\",\"eraser opengl es iphone\",\"pub sub paradigm know subscribers alive\",\"cannot start java 1 7 0 101 b00 java 1 8 later required updation android studio v2 2 0 september 2016\",\"install networkit\",\"parameterized function clothoid\",\"using cordova 5 0 0 google maps content security policy\",\"setting background color android actionbar\",\"boost asio udp read optimization questions\",\"integers exponent 52 even 64 bit floating point\",\"fatal error installing mongodb nodejs\",\"clojure message handling async multithreaded\",\"mvc adfs authentication adfs redirects localhost\",\"matplotlib different stacked bars\",\"running tomcat6 webapp privileges\",\"datagridview show unique values duplicate cell values c 2005\",\"specify positional arguments flag package golang\",\"private method parameters\",\"getting persistent intermittent violation primary key constraint errors\",\"generate static html server side\",\"3d touch collectionview\",\"controlling multiple tedits array\",\"meaning error 404 found\",\"update query problem asp net c mysql using odbc\",\"sitecore mobile detection\",\"sequence date add date date postgresql subquery\",\"select enlarge masterpane zedgraph\",\"get inner html php\",\"perl locate loadable object module math pari inc\",\"increment datetime value increment value 30 minutes oracle\",\"nvd3 line chart shown properly dots shaded area\",\"start terms creating proper folder structure html css javascript site built using twitter bootstrap\",\"getting coordinates glfrustum\",\"flash get inputtext value as2 swf running load as3 swf\",\"page form send data remotely hosted aspx form\",\"determining programmatically controls mouse pc using c c\",\"positioning cells fpdf\",\"create container noncopyable elements\",\"run django tests manage py different directory\",\"pyscripter rpyc error\",\"rxjava data db onscreen list\",\"connect azure service bus subscription node js sdk using sas keys\",\"connect azure service bus subscription node js sdk using sas keys\",\"print substituted expression without numerical evaluation\",\"cakephp 3 migration issue\",\"edittext returning null accessed adapter\",\"connect tt x trader api order create automated trading system using python\",\"jquery ui draggable live\",\"deploy gwt application pretty compiled html using google plugin eclipse\",\"unique number identifier generation\",\"want code fibonacci series program c getting last element negative\",\"angular cookie resets\",\"gettint youtube video titles\",\"github windows client delete work\",\"vba search column strings copy row new worksheet\",\"type enum generic error cloning andengine\",\"get position absolute child overflow parent dimensions parent overflow auto\",\"focus excel vsto wpf application\",\"jexl2 1 1 script throwing exceptions\",\"best way structure multi page form create edit models database\",\"installing adt plugin eclipse android development\",\"set dynamic url angular js\",\"sending email cakephp 1 3\",\"retrieve content closing opening html tag using beautiful soup\",\"ios tableview time left\",\"firefox add sdk getting tab id\",\"camera app running background multitasking ios8\",\"find years distinct digits ccc 2013\",\"asp net mvc pass radiobutton selected value view controller\",\"invalid cursor state identifier cursor positioned row update delete set get statement resultset empty\",\"embed json file within d3 js\",\"spring jpa transactional committing\",\"jquery datepicker show day week name date cell\",\"uploading images php app gce storing onto gcs\",\"run sonar runer throw exception caused unknown database status fresh install\",\"compile apk two different geographic sites\",\"java 7 8 expecting stackmap frame branch target\",\"java 7 8 expecting stackmap frame branch target\",\"override existing html form use jquery post form\",\"ie7 problems displaying text td\",\"rewrite urls change aspx extension html\",\"symfony2 doctrine order entites foreign attribute\",\"discover db2 procedure default parameters using syscat tables\",\"know activity ruuning windows phone 7\",\"know activity ruuning windows phone 7\",\"launch transparent activity background activity able take events\",\"combining facebook google auth firebase android\",\"use child process webpack\",\"lock framebuffer temporary\",\"ruby concatenate strings add spaces\",\"shopt command found bashrc shell updation\",\"time duration measure using dimensions ssas\",\"draw information panel libgdx scene2d ui\",\"ai partial unification open world reference resolution\",\"innodb disk usage overhead\",\"windows store apps change icon appbar button\",\"viewing word docs read\",\"swift textfield width\",\"populate dropdownlist based another dropdownlist selected value mvc 4\",\"html textarea injecting line breaks\",\"user defined conditional standard local datetime format django\",\"rails 4 memory profiling\",\"setting width height\",\"know coverage django application\",\"converting inserted string compilable expression\",\"cannot get mongodb started centos 6 4\",\"build jar maven\",\"execute 2 commands one button press windows 8 app\",\"spinning wheel stop slowly css3\",\"finding pointer arguments gnucparser\",\"java windows error illegal escape character\",\"possible place something front iframe\",\"use czech chars regular expression\",\"flask mongodb using mongokit mongolabs\",\"reusing scanner input multiple conditions loop\",\"specify chrome device mode viewport default value\",\"best way todo list objects type\",\"fixed sidebar skeleton responsive layout\",\"android listview toggle button web service\",\"entity framework 5 library consumers need entity framework dlls\",\"underscores mysql table names cause issues\",\"asp net gridview sorting implementation event handling\",\"cuda double pointer memory copy\",\"c threading getavailablethreads\",\"find regular expression type python\",\"issue nan adam solver\",\"generating code locales without interpretation\",\"adobe air native extension android external jars aapt tool failed error\",\"reads google app engine datastore transactions see previous writes deletes\",\"would right service use php client library google get basic info like name email address\",\"implement get feature futuretask backgroundtask using android\",\"index data specific shard using solrj\",\"requestdispatcher forward one dopost always go another dopost\",\"array implementation fpga using vhdl\",\"android change timertask interval shcedule\",\"rails 3 1 stack level deep db seed\",\"regular expression matching mysql instead like\",\"insert moment js time mysql\",\"mvc3 validation unobtrusive validation asterisk validation message\",\"reduce cfdata store\",\"representing ad hoc operator precedence scala parser\",\"function rapidjson value parameter wants allocator called\",\"css railstutorial\",\"c vtknetcdfcfreader reading variables different dimensions issues\",\"confirm save onchange drop\",\"bash script using expect read standard output\",\"behaviorsubject initial value working share\",\"openlayers 3 xyz layer\",\"document location href location vs mobile changepage location\",\"decision tree model spark pyspark visualized\",\"visual diagram format gui event mapping\",\"visual diagram format gui event mapping\",\"pushing viewcontroller tableview inside viewcontroller working\",\"crop region interest points available\",\"read multiple lines access sql query using oledb vb\",\"bad style reassign long variables local abbreviation\",\"ovh cron error phpmailer\",\"fatal error class artisaninwebsoapwrapperserviceprovider found\",\"datagridview show unique values duplicate cell values c 2005\",\"autocomplete light return\",\"create automatically word wrap 40 characters javascript jquery\",\"magento 1 7 import product issue\",\"select element efficiently parent div using jquery\",\"read description code\",\"tablets make calls telephony\",\"python copy deepcopy produces error\",\"column dependent column value\",\"php find value comparing two multi dimensional arrays\",\"check network reachability ios non blocking manner\",\"check value one array exists another array using linq\",\"session timeout using signalr\",\"force fluid div expand full available width\",\"simple url mapping issue\",\"use distinguished name keystore android market\",\"xpages view string type ratio\",\"reflect dom property change input checkbox innerhtml attribute\",\"vbscript getting file twice intermittently reading webpage\",\"bluemix connect dashdb php application\",\"find main diagonal matrix scheme\",\"httprequestmessage getclientcertificate returns null web api\",\"silverlight webservice remote server returned error notfound\",\"warning ini parameter missing z3 3 2\",\"vertical html table without repeating th tags\",\"speed sql server spatial query\",\"android possible code start service device goes sleep wakes sleep\",\"remap capslock key emacs super using autohotkey\",\"count number values within cell\",\"expressjs connect simulate slow file upload\",\"java swt get image relative path\",\"asp net core rc2 disable transfer encoding chunked response\",\"c fontfamily showing new fonts\",\"use context state method violate statechart assertion\",\"lifecycle static field\",\"share uploaded file among servlets\",\"possible detect download actual download started chrome\",\"check link internal external\",\"make spring webflow dojo dijit text field required textarea\",\"runtime polymorphism giving wrong output\",\"c chat program get error segmentation fault core dumped\",\"cron job send mail\",\"get json results placed google maps\",\"sparkexception using javastreamingcontext getorcreate one sparkcontext may running jvm\",\"accepting range array parameter\",\"read maxattempts spring retryable application properties file\",\"set right left image uislider ios\",\"python module extract probable dates strings\",\"possible generate global list marked strings compile time runtime\",\"cocreateinstance 858993460 comip h c\",\"microsoft speech recognition wildcard blank content\",\"right click sendkeys net\",\"mimic fully compatible icompilationunit standalone java files\",\"escape special characters string coldfusion\",\"qt cannot find dll though everything set\",\"pass dynamic query ssrs dataset\",\"matrix shaped list\",\"detect touches skspritenode oddly shaped image running animations\",\"signs fatal exception application crashes nlog version 2 compact framework 3 5\",\"simple join vs clauses\",\"replication factor changed hdfs hdfs site xml\",\"imagefactory imageasresized returns null\",\"change sketch support without moving geometry\",\"foreign key composite primary key\",\"stick footer bottom fixed even scrolling\",\"eonasdan datetimepicker working bootstrap4 alpha\",\"using facebook logo ios app\",\"sql pivot dayvalue dealing date pivot table mysql solution\",\"xmp metadata supported png images\",\"duplicate rows database\",\"start elasticsearch service 2 nodes\",\"handle different screen resolution screen size developing site\",\"disconnect windows phone 8 1 emulator network\",\"json stringify outputs empty object empty object\",\"maven site plugin body tag inherited\",\"uitableview uitextfield keep data even user scrolls\",\"convert row columns\",\"javascript print value session array\",\"get current location using mapmodule\",\"modifying containable fields required beforefind callback\",\"return promises instead async\",\"change color html5 progress bar\",\"convert datetimes 00 00 depending timezones mysql\",\"maven provided scope\",\"create scatter plot graduated marker colours matlab\",\"swift property override working\",\"sharedobject receive event clients never fires event saving data\",\"change date format storing input variable unix\",\"transaction management ejb\",\"rails create maintainable html structures defined one place used wherever needed\",\"values encoding post request\",\"ribbon get created wordprocessingdocument created byte\",\"delphi ios ipv6 trouble please ensure app compatible ipv6 networks\",\"fork processes r\",\"changing class span\",\"erase multiple packages using rpm yum\",\"android ics embedded youtube video working full screen mode\",\"xslt takes escape sequences parameter\",\"performance difference order nested loop\",\"numerical integration error\",\"adding random number uploaded file\",\"running storm nimbus supervisor physical node cluster mode\",\"asp net 5 docker build multi projects solution\",\"insert row sql database ado net connection oriented mode\",\"copy references project paste another project references visual studio\",\"use response node js connecting database\",\"simple nasm questions understand n selector\",\"pop click rss feed javascript\",\"assigning dojo tooltip nodelist using selector attribute\",\"output piglatin function messed\",\"create anonymous javascript function callback dart js interop\",\"numerical integration error\",\"achartengine recognise touch line chart\",\"automatically setting scale graph based max value python\",\"execute perl script crontab\",\"error absolute uri http struts apache org tags html cannot resolved either web xml jar files deployed application\",\"python call reference equivalent\",\"testing nsmutablearray contains string object\",\"chdir changes directory used fgets\",\"response content cannot parsed internet explorer engine available\",\"android view inflateexception binary xml file error\",\"install sql server setup encoutered error win 7\",\"change color surface plot sfit matlab\",\"next available item ddl vb net\",\"error loading swf game stimulate download normally\",\"android sdk renistalls death appcelerator studio\",\"nullpointerexception attempt invoke interface method android view view android view menuitem getactionview null object reference\",\"easiest way get schema hsqldb\",\"start application windows service\",\"retrieve data pc hyperterminal\",\"watson conversation list entity value\",\"search textbox entered value xml file using c\",\"android listen home button\",\"access specfic json data rotten tomatoes api\",\"remove empty namespace java using dom\",\"javascript add pause button carousel\",\"manipulate data ngresource query returning\",\"directory createdirectory exception\",\"dynamic itemtemplate within gridview dynamic drop list column\",\"ef power tools modelentitycontainername invalid characters\",\"mix two colors point intersection paths coregraphics\",\"would use n n relations python\",\"rails 4 ruby 2 0 get pg error trying get records specified value joined table\",\"initialize method core data managed objects called twice\",\"implement reordered list binding data database\",\"get someones profile picture display back\",\"mongoose mapreduce\",\"less 1 3 3 watch mode hogging lot cpu espresso editor\",\"cannot figure hide show loading animation jquery\",\"could someone explain use updatemanager tidesdk 1 3 1 beta\",\"extjs applying different theme specific component\",\"unable fire selectedindexchanged event single item combobox\",\"edit method mvc4 visual studio 2012\",\"string replace linq\",\"calling method viewcontroller class xcode\",\"ienumerable list returns 1 object convert object\",\"access list filtered items dataview\",\"iphone interface orientation statement working os 3 0\",\"call tortoisegit show log commandline\",\"asp net directory security\",\"asset catalogs resource bundles\",\"delete one column row jagged array c\",\"visual studio c4028 warning formal parameter different declaration spurious\",\"restrictions objectpath associators statement\",\"access nested class super attribute child\",\"reduce ipython parallel memory usage\",\"sql server management studio declaring variable\",\"getting list entityvalidationerrors immediate window\",\"confusion stack growth addressing\",\"printing two dimensional array\",\"still getting results trying optimize mysql innodb table fast count\",\"spring security 4 custom login page\",\"shiny display results based counter condition\",\"php read title font ttf file\",\"check id object touched ios\",\"restful service argument mismatch exception\",\"array array php pdo fetch modes\",\"doxygen adding custom link related pages section\",\"python extracting files large 6gb zip file\",\"disable folding unit scala procedures intellij idea\",\"embed nav file pdf portfolio\",\"remove uiimageview animation memory completely\",\"web storage preferable cookies storing sessionid\",\"make pop image using css3\",\"data frame manoeuvre\",\"autowired constructor scala class\",\"sorting 2d string array java\",\"ruby get cookie response two set cookie headers\",\"sql server select values table without group\",\"jquery fancybox stopping asp net logout link working\",\"serialize json object named return\",\"difference static sql dynamic sql\",\"malloc code\",\"need help understanding complex query multiple join conditions\",\"multiply two size wrong\",\"semantic ui grid display full width column computer columns hidden\",\"replace letters textbox using vb net\",\"call child javascript function parent\",\"installing gulp sass throwing error\",\"django slug forms\",\"get information browser network console\",\"access variable another non monobehaviour class\",\"mongoose schema check model instance saved first time\",\"window open modifying dom new window\",\"getting result inverting dictionary twice\",\"type characters interval\",\"dbacl check failed aro aco node lookup permissions check\",\"validation process working server side struts 2\",\"html image onclick working mobile browsers\",\"winforms data binding entity framework 6\",\"edit method mvc4 visual studio 2012\",\"create root element input xml\",\"exceeds list view threshold 5000 items sharepoint 2010\",\"java logging statement says cannot find symbol\",\"stop firing asp net module static content\",\"using avurlasset custom nsurlprotocol\",\"influxdb data input file timestamp format\",\"set jquery draggable min max left min max right\",\"subversion checkout modified files jenkins\",\"shared worker teminated reloading page\",\"create type aware jackson deserializer\",\"jquery ajax removes line break get\",\"missing type map configuration unsupported mapping auto code generation client\",\"user defined functions vs built pre defined functions\",\"subset data repetitive names\",\"convert double value binary value\",\"getting susy compass installed ruby rails\",\"want hide ios nav bar particular view\",\"anaconda updating latest\",\"facebook messenger bot persistent menu\",\"unstable session mvc3 application godaddy servers\",\"two dimensional array via pointer\",\"rails website ios app\",\"add peridic timer callback linux kernel module\",\"difference removeprop removeattr jquery 1 6\",\"events adding removing items listbox c net\",\"progress dialog usage thread\",\"spark sreaming broadcast variable size limit\",\"combine multiple serviceknowntype attributes one\",\"non static values chart using canvasjs\",\"defining object var without var\",\"audiofileopenurl returns 43 caf file exists\",\"add customisable text wordpress theme\",\"subversion continuous integration scrum\",\"verilog code counting 7 segment display 9999 0630\",\"implementing google oauth2 chrome extension interecting servers\",\"pbc windows cryptgenrandom\",\"split single file angular module client server shared files\",\"block comment issue eclipse mars\",\"android 4 4 4 moto g bluetooth le reconnect issue\",\"work using cin read char array smaller given input\",\"match facebook campaign objective insights actions types\",\"start sqlplus oracle 12c linux\",\"managing objectcontext life time threads\",\"postgres strings comparison peculiarity\",\"find attached data frames\",\"virtual pet games iphone\",\"django make parent object field show editable children admin changelist page\",\"enable activerecord skip active record rails application\",\"print message android app\",\"run ant task maven\",\"understanding indices opengl es 2 0\",\"maximum compression msi install using wix\",\"get ip address wcf remote endpoint\",\"render queries ajax rails\",\"caching drupal site session specific data every page\",\"access n matrix n index vectors\",\"gtkmm connect signal handler combobox treeview\",\"find bitness 32 bit 64 bit excel application object\",\"logstash reading logtype field beats\",\"sap crystal report load slow first time\",\"read file java output first comma delimited string\",\"writing dataannotations best approach\",\"links work jsp jquery link websiteurl anchor tag jsp page\",\"way mysql trigger something affected rows\",\"check camera existence ios phonegap\",\"separating unconnected objects model\",\"group chat python\",\"html tag exist defaulted inline block\",\"uitableview multiple selection single selection\",\"change working directory msbuild sonarqube runner exe\",\"weblogic disable authentication\",\"multisampling fragment shader\",\"count row1 table1 count row1 table2 returned result group day\",\"resize hash table\",\"coverting list dictionary datatable\",\"execute several maven plugins within single phase set respective execution order\",\"remove uiimageview animation memory completely\",\"return sql query specific chunks\",\"downloading files dropbox using c asp net\",\"clone git repo hosted windows shared folder mac os x\",\"color textures work together\",\"convert joda time datetime java sql date retain time zone\",\"unexpected closing tag div error angular2 html\",\"cannot step wcf service\",\"use di winrt\",\"postgresql unnest array array agg back\",\"creating histogram multiple data series using multhist r\",\"searching dates sql jdbc\",\"deploying rails application\",\"run macro\",\"android os calling onactivityresult picking image gallery\",\"ant compile issue\",\"c ms chart best way print chart\",\"adding onsubmit function semantic ui validation form\",\"resizing appletviewer window canvas size change\",\"mayavi texture span full surface\",\"webpack require non js content jest unit tests\",\"assert 3 2 1 work\",\"symfony render template string\",\"fopen fails invisibly creating files system drive c\",\"linq convert query results select\",\"proxy settings firefox stick\",\"embed font visual basic net application\",\"initialize bitmap array android\",\"filehelper attributes limitied fields members\",\"difference locals locals express 4 0\",\"grails 3 0 public folder\",\"sparql wikidata retrieve members wikimedia category\",\"oracle adf 11g stands among java ee frameworks\",\"virtual network virtual machines\",\"user friendly artifact procurement maven\",\"include static library import paths still valid\",\"returning different type parameter\",\"parse cloud code variable declartaion\",\"set cron job php iphone application\",\"back button exits application android using appcelerator titanium\",\"return json result unicode characters escaped u1234\",\"magmi multi store set attribute use default value\",\"using client status c sharpsvn\",\"call python script use external python packages java\",\"create test db server\",\"yii2 dropdownlist onchange change autocomplete widget source attribute\",\"rendering mkmapview uiimage real resolution\",\"switch layout view mvc5\",\"make menuitem invisible odoo 10\",\"android store contact vcard data\",\"category axis label alignment multi series bar chart jasper\",\"validating variable length arguments\",\"calculate average conditionally based attribute rake task rails\",\"alternate method global temp tables oracle stored procedure\",\"get single quoted string array json output\",\"start learn prism silverlight\",\"could delete applet\",\"forwarding futures stream futures sink\",\"send email using oauth\",\"count number times variable repeated continuously r\",\"drawing 3d surfaces javafx\",\"mono addin implementation retrieve addins\",\"signing aws api gateway request unity3d c\",\"render hex grid\",\"prettyphoto social tools share lightbox deep link\",\"error calling exslt saxon\",\"google app script separating html css\",\"parse error syntax error unexpected goto expecting string b c function php line 406\",\"sklearn error svr object attribute impl\",\"sample depth buffer opengl compute shader\",\"properties avoid code repetition\",\"setting node env forman causes process terminate nodejs\",\"symbol definition c\",\"calculate length characters text non latin letters\",\"possible add http header aws custom auth api gateway\",\"must logged use magmi\",\"android test project fails build ant ok eclipse\",\"possible size gridview columns gridview dynamically bound\",\"use python large scale development\",\"type text field using redux form\",\"running portia scrapy windows\",\"error could successfully connect elasticsearch check cluster state red elasticsearch running properly\",\"jquery tools validator overlay\",\"draw circle geofence preview android\",\"nivo slider overflow issue\",\"volley stop adding date listview json\",\"set odbc connection r\",\"embedding python c calling methods c code\",\"java stanford nlp extract specific speech labels parser\",\"blur input click caused blur something\",\"pear absolute paths\",\"specify content type produced handler spring messaging\",\"synchronized arraylist threads\",\"force pages https\",\"tcp socket communication limit\",\"could dequeue view kind uicollectionelementkindcell identifier\",\"wpf style base window applied app xaml themes generic xaml\",\"copy 5 seconds 28 minute video using ffmpeg\",\"windows workflow 4 difference workflowapplication cancel terminate abort\",\"proper way overload operators abstract base classes\",\"adding new row datagridview keydown\",\"remove index php url codeigniter host server\",\"remove index php url codeigniter host server\",\"appending button uitableviewcell dynamically tableview\",\"reopen closed file vim\",\"web config single user basic auth\",\"execute plink file containing commands thru qtp 11\",\"problems gfortran compiling simple scripts\",\"nokogiri builder performance huge xml\",\"anchor disappears onclick event happen faded\",\"azure movile services provider enabled\",\"localized srandom\",\"stuck fixing query mistakes two commands wrote\",\"extract private key created using strong name tool sn exe\",\"asynchronous method using result\",\"android list view search query\",\"android integrating foursquare app\",\"vim editor auto formatting vim\",\"best way search long datatype within oracle database\",\"pwa web app restarts google login\",\"surveyor respondent patter nanomsg python\",\"rally authentication issue getting results\",\"error sending form file form using ajax\",\"deciding cms system build website\",\"selecting max sum\",\"macros still running even cell range value changed\",\"apprtc coturn stun turn server\",\"wpdb insert big problem weird\",\"rle finding rectangles matrix\",\"getting twitter handle twitter framework ios\",\"write image text pdf form fields using itextsharp\",\"wix setproperty possible values attributes\",\"sidekiq processing queue\",\"detecting iphone swipe jquery\",\"add given time tomorrows date php\",\"postgresql replace html entities\",\"py stackexchange filter tag\",\"javamail api change setfrom whatever want\",\"differences php base64 encode nix base64\",\"clean urls backend frontend thing\",\"choose file starting given string\",\"generating maven project inheritance aggregation diagram\",\"expression compare guid properties versus string values translate tsql\",\"get letter entered instantly android\",\"need find difference timings without dates javascript application\",\"joomla htaccess working\",\"git branching files opened\",\"intuit quickbooks online app authorization quit working\",\"html document width exceeds 100 increase height bigger screen height\",\"add custom keys tiff file add temperature data image properties tiff file\",\"ruby rails best way include css js\",\"building serialport js nw gyp nw js\",\"fosuserbundle found appkernel\",\"android action bar button show\",\"xcode swift pods installation import file found\",\"ckeditor toolbar enable\",\"change value hidden file according radio selected\",\"build hang using jenkins\",\"sound muted notification unity project android\",\"asis3objectrequest issue bad url uploading file amazon\",\"wait job pod completion kubernetes google container engine\",\"seggregate json values javascript\",\"check thread ran 5 seconds\",\"randon error processing pentaho cde dashboard mdx query widget\",\"using cygwin ssh agent running git still prompting passphrase\",\"save javascript variable session variable\",\"javascript tostring working ie\",\"extract data string set new string\",\"returning strings windows c functions\",\"onclick event whole page except div\",\"get list languages windows forms application localized\",\"padding checkbox label\",\"gllinkprogram crashes even though glcompileshader return error\",\"intent service get started called broadcast receiver\",\"scalable architecture socket io\",\"cqrs read side return dtos viewmodels\",\"position list item bullets inside list\",\"twitter bootstrap carousel buttons working\",\"add values stored different arraylist new one arithmetic mean\",\"call function page load completed\",\"implement voting system play framework\",\"possible make derived class inherit non 0 argument constructor\",\"accessing big arrays php\",\"use local database mysql relate stormpath user accounts\",\"use undefined constant curlopt ipresolve assumed curlopt ipresolve\",\"determine user temperature unit setting ios 10 celsius fahrenheit\",\"rewrite instead append xml file\",\"desired output probable cause overload\",\"uitableview click blank area trigger didselectrowatindexpath\",\"another issue coordinates igraph r\",\"find command seem execute twice\",\"skip carrierwave integirty processing validation\",\"add values app config retrieve\",\"mysql error 1205 lock wait timeout exceeded\",\"generic collections type test\",\"delete lot objects named common prefix s3 bucket\",\"slice endpoints invisibly truncated\",\"combobox binding stringformat\",\"much thread choose upload cloud\",\"hibernate nativequery transaction\",\"ionic framework update device geolocation google maps js api\",\"generate symbolmap gwt mvp4g project\",\"deploying multiple app together\",\"app rejected iphone app white screen ipad\",\"erlang odbc disable autocommit oracle\",\"kendo grid filter show yes column information\",\"class contain constructor takes 0 arguments parameters constructor optional\",\"amd specifically requirejs handle dependancies across multiple modules\",\"hive complex nested json\",\"wcf operationcontract method webget attribute multiple responseformat types\",\"loading image remote server different lan\",\"use suggested intellij command disable double buffering\",\"progress bar uiwebview\",\"extracting result google bigquery cloud storage golang\",\"setting recaptcha different language english\",\"get record controller ajax laravel 5 2\",\"send array flash as3 javascript\",\"laravel eager load dynamic constraints\",\"remove adjoining faces three js\",\"wpf combobox binding\",\"anyone know java util map implementation optimized low memory use\",\"installed components detected element already child another element\",\"installed components detected element already child another element\",\"shiny conditional statements\",\"recylerview changing single parameter row\",\"create virtual hosts mamp\",\"screenshots ios\",\"session stickiness amazon web services\",\"browser startup failure executing tests remote machine using selenium grid\",\"jquery submit picking value\",\"convert html code plain text inside div textarea\",\"fpgas updated\",\"azure search statistics power bi\",\"google api v3 retrieving contacts\",\"reading response data web service\",\"nosuchelementexception\",\"generate id inserting table jpa hibernate\",\"rails route appears routes throws 404\",\"simple sentiment analysis java\",\"run java program without jvm\",\"python splitting certain pattern\",\"set datagridview columns text format uppercase adding new property\",\"show user name user created comment order magento 1 7\",\"ampersands wordpress titles break share social media links\",\"compress image ionic 2\",\"cannot create unordered map tuple int int int\",\"change text style inline matplotlib\",\"generate combination possible words based specific letter rule substitutions java\",\"remove metadata common image formats\",\"winform webbrowser recaptcha show\",\"attributerouting work\",\"catch unexpected messages c send messages also want accept answers messages\",\"oracle pl sql function cursor\",\"jenkins push deploy failure deploy stage google app engine\",\"python tkinter application quit properly\",\"grails 3 1 8 controller\",\"throttle login attemps java webapp\",\"meteor storing retrieving custom objects session\",\"connect third party dependency injection framework reactiveui\",\"margin extended page tablix ssrs\",\"h2o model fit driver node memory error\",\"pass viewbag controller partial view\",\"make reordered tuple vector tuple use spirit karma\",\"declaring function return 2d array header file\",\"pattern updating multiple parts redux state\",\"programmatically generate trx file\",\"python2 7 windows 7 scapy select error 10038\",\"set uitoolbar background similar navigation bar\",\"parse json format objective c\",\"validate controlfx checkcombobox\",\"dialogfragments devices api level 11\",\"large excel file upload import java\",\"servicestack identity field pk insert fails\",\"change magento layout width\",\"able access life events timeline\",\"choosing iterating specific sub arrays multidimensional arrays python\",\"maximize window across multiple monitors\",\"navigating several views iphone\",\"prevent google cardboard pairing startup screen ios\",\"processbuilder constructor parameter work\",\"generate graph sub graphs using sparql\",\"cannot install pip windows 10\",\"websocket binary transmission returns data server sent\",\"find list escaped characters msil string constants\",\"copy html clipboard programmatically\",\"infragistics license information found false error\",\"aggregating analyses sbt subprojects\",\"using matrices algebra manipulate strings feasible\",\"typedef work\",\"orbeon 4 m11 glassfish 3 1 2 coused errors httpurlconnection\",\"sort table laravel eloquent objects custom attribute\",\"let ear deployment programmatically mark failed\",\"mac osx app test production build correctly\",\"customized streambuffer c istream\",\"yql column projection using xpath\",\"bookmarking ajax pages\",\"angularjs force refresh native one time bindings\",\"file upload chunks via http post java android\",\"html working tags\",\"capture javascript http redirection c\",\"xmlpath mapping problems using eclipselink moxy\",\"resources using git rstudio\",\"laravel losing session redirect paypal\",\"read sound backward directsound\",\"add phonetic guides texts\",\"castle monorail async action\",\"sharing folders permission c\",\"asp net identity 2 1 change pk int error\",\"active buttons bootstrap 3\",\"flattening sql bitmask enumeration table\",\"joblib userwarning trying cache results\",\"navigate account settings specific syncadapter account\",\"process creation using clone result memory failure\",\"getting current user express js using socket io\",\"unable read checkbox gridview\",\"python module binary plist\",\"arc releasing viewcontroller prematurely\",\"perl replace strings multiple files array entry\",\"iphone development exc bad access error stack trace\",\"handle images low density large screens android\",\"apache jmeter 2 10 null point exception running existing script\",\"apache ignite kafka connection issues\",\"control choosing number list\",\"setting form dirty without actually changing value\",\"get position view added dynamically linearlayout\",\"get value hidden input field using jmeter\",\"log4j 2 json configuration\",\"loading config file parameter angular2\",\"reference right layout file magento\",\"query cgi based webserver app written mfc msvc 2008 process result\",\"materialize datepicker rendering icon clicked\",\"spatial autocorrelation using moran spatial overlap index\",\"jsx element type xxx construct call signatures\",\"httpurlconnection getrequestproperties throws illegalstateexception already connected\",\"make one td span columns two column table\",\"applicative order call value normal order call name differences\",\"alternative locals printing table header\",\"android programatically login website retrieve data\",\"chrome apps development\",\"digital frequency doubler dual edge triggered flip flop vhdl\",\"organize many configs one stylus project webpack\",\"detect mantissa precision overflow gmp happens\",\"counting particular occurrences python csv file\",\"create multiple objects class different variables\",\"nullpointerexception getreadabledatabase\",\"difference using synonyms path using synonyms specifying synonym filter elasticsearch\",\"strcpy output c\",\"libquadmath gnu gsl ode solver\",\"cygwin xserver losing connection\",\"avaudiosession availableinputs returning nil without external microphone\",\"valueerror using commands function\",\"reduce rectangle detected faces opencv\",\"seeking algorithm invert reverse mirror turn inside dag\",\"mod rewrite multiple query strings\",\"python reading null character telnet\",\"jquery table filter text checkboxes selects\",\"nservicebus nhibernate guidcomb\",\"phonegap jquery app scripts taking time load\",\"python numpy 2d array indexing\",\"setup remote debugging different directory\",\"visual basic6 0 object cannot drag move\",\"jpa hibernate count using criteriabuilder generatedalias\",\"binding portion ssrs serverreport reportpath app setting web config\",\"create nothing tpl task complete result triggered\",\"entity framework 4 ctp 5 unwisely queries comparison linq sql\",\"php subtract minutes\",\"difference context scope cdi java\",\"changing aspx page body image pageload asp net\",\"xamarin app run without google play services\",\"c image preserve image checksum\",\"bycript blowfish salts existing auth system\",\"fullcalendar go date monthview picking date\",\"plsql procedure execution error invalid statement\",\"passing values one jsp page another jsp page\",\"xsltprocessor importstylesheet error\",\"cant send mail android app using java mail api\",\"parse specific link using selector css query\",\"function highlighting monokai vs code atom sublime\",\"jquery ajax form cross domain firefox issues\",\"creating mlp python showing error\",\"creating walkable n e w world photos\",\"string format works string\",\"nservicebus nhibernate guidcomb\",\"trouble filtering camel\",\"spring intercept url patterns\",\"android imagebutton size fit smaller screen device\",\"failing fgets tcp socket\",\"changing image folder reflect changes browser\",\"python libs subfolder\",\"workflow using django south multiple code branches\",\"mongojs limit skip\",\"rml test page number\",\"visual studio 2013 database project drop column\",\"usb connection issues\",\"duplicate items jplayer playlist mysql database\",\"memory required short fields dalvik\",\"wake waiting swingworker\",\"get requestmapping request aop advice spring controller\",\"update except statement\",\"want able set random date datepicker\",\"render scenegraph pyopengl\",\"reconnect client server java\",\"move asana tasks section section via api\",\"phpdocumentor document available options string parameter\",\"laravel query builder sum returns multiplied values\",\"clarification min distance locationmanager requestlocationupdates method min distance parameter\",\"detecting div position based attaribute\",\"hibernate distinguish entity types native query case inheritance real meaning clazz column\",\"calling asmx web service method jquery ajax\",\"dropdown value onchange php\",\"want able set random date datepicker\",\"j oliver eventstore questions\",\"django model inheritance foreign keys\",\"android find color close black white\",\"thread safe invoke net cf\",\"apply style specific text styled paragraph using docx4j\",\"jqgrid delete row send additional post data\",\"displaying facebook news feed android\",\"application retrieve custom fields docusign transaction\",\"sign needed macro definition\",\"use tablesorter stickyheaders widget working\",\"php include read changes source file\",\"get value url set name spinner send select value id server fragment\",\"android sqlite check record exists work\",\"linux bash scripts respond install options\",\"c linqtosql submitchanges update even though pk set\",\"android find best size text based size button\",\"time entry validation html form\",\"trying reduce django q objects operator seems result reduction\",\"py test aborts py root imported\",\"vc11 winsock application shut\",\"stop touchend firing links unintentionally\",\"ant source target files detect change\",\"convert large document containing lists authored word clean html\",\"matching division widths jquery\",\"amazon mws specify language get merchant listings data\",\"javassist insertbefore line number incorrect\",\"python counting letters string without count function\",\"swing enabling buttons delay\",\"show error load data recyclerview android\",\"pivot calculating column average\",\"passing data uiviewcontroller uitableviewcontroller connected via segue\",\"jquery droppable list item dropped unable get id attribute using attr\",\"parsing rfc3339 dates nsdateformatter ios 4 x macos x 10 6 impossible\",\"fixing libvlc release mode crash vc2010\",\"css blur working well iframe content\",\"using pandas manipulate multiple columns\",\"c merge multiple lists based timestamp\",\"assigning value variable let possible\",\"image reverting original scrolling uitableview\",\"injection error cannot resolve parameters\",\"facebook requests dialog showing message recepient\",\"javascript add minutes new date using object\",\"animate bar char updated python\",\"opencv stereo image pair correction displaying results\",\"matplotlib imshow vs set data video update\",\"react classes added via jquery\",\"c inherited interface static member\",\"capybara webkit pass params angular\",\"knockout mapping rendering everything\",\"get windows files associations via java\",\"updated nodejs connect keycloak middleware empty response error\",\"android emulator web cam detected\",\"background image rendering issues mobile safari ipad\",\"java apply keyboard shortcut 3 keys jbutton\",\"storing private keys using dsacryptoserviceprovider\",\"laravel embed image email content attachment\",\"rotation issue first view splash first viewcontroller\",\"centos install mod dav svn\",\"unknown failed opening required 0ff include path tmp usr lib php usr local lib php unknown line 0\",\"able store doc resume mysql database\",\"generating abstract syntax tree java source code using antlr\",\"canceling task delay net 4 0\",\"multiple threads accessing one variable\",\"varying amount dictionaries datatable\",\"oracle 11g unpivot multiple columns include column name\",\"countdown timer using datetime parse without defined date\",\"set files uploaded filepicker io s3 services facebook instagram etc public\",\"prestashop uploading file sending message\",\"server side validation asp net 2 0\",\"getting history zabbix python api\",\"save retrieve image swift 3 0\",\"format number column oracle\",\"datagrid allowing edit item\",\"getting response app billing\",\"rails production css precompiled\",\"salt stack show started duration details results\",\"last child\",\"format number column oracle\",\"import existing java project anjuta ide\",\"get form submit page\",\"flurry initialization error android\",\"jpa optimistic locking incrementing entity version version twice one transaction\",\"google apps script onedit accessing external api\",\"crystal reports mvc throwing exception\",\"make readable xml tags\",\"jasperreports export excel auto size columns\",\"speed svm predict\",\"strange error java generic\",\"mvc 3 webgrid column sort alphabatically according table structure\",\"multiple image sprites vs one\",\"access sql show additional columns count query\",\"make cppcheck skip package definition\",\"css body background image showing ie 6\",\"get values span tag js\",\"taking website return 500 internal server error\",\"constructing initializer list enumerating values contains random values\",\"repetitive color pattern paragraph css\",\"determine applicationdidbecomeactive whether initial iphone app launch\",\"using namespace problems dns addressfamily\",\"extjs scroll bottom grid\",\"make new records cascade across one one relationship ms access\",\"cannot create local copy magento\",\"including prebuilt static library android build system\",\"find intersection 3 arrays ignoring empty arrays\",\"programmatically show activity top task stack\",\"winforms button right click visual feedback show pushed state\",\"call function string number inferior 0\",\"play 2 1 3 application maven enhanced models loading lazy objects\",\"jssor weird behaviour arrow button\",\"need clean runspace loop tidy script\",\"remember variables list\",\"add round 2 decimal places sql\",\"difference instantiateinitialviewcontroller instantiateviewcontrollerwithidentifier\",\"accessing connected vertices orientdb javascript functions\",\"make tab bar angular js sliding effect\",\"reverse byte using assembly language\",\"clear multidimensional cookie c\",\"template matching opencv java\",\"set responsive divs case\",\"mysql storing arbitrary data\",\"mongodb c update property specific object array\",\"call method catch clause object defined try clause\",\"delete one column row jagged array c\",\"unable save file asp net fileupload access denied\",\"escape characters bash\",\"bootstrap datepicker angular2\",\"module attribute error python3\",\"mvc pass parameter action using jquery ajax\",\"adding pagination repeater\",\"header come constant fixed button add\",\"beautiful soup parsing inline div p dictionary\",\"using javascript variables within string\",\"jms db integration\",\"parallel programming vector addition\",\"submitting form enter button ajax\",\"removing conditional statements\",\"bisect left bisect right equal\",\"compile error boost iostream filtering streambuf\",\"fluent nhibernate configuration working\",\"best practices using multi level hashmap java\",\"allocate lut use scriptintrinsic3dlut\",\"fill null cell cell previous record\",\"c simd store uint64 value bitwise operation\",\"php remove tags href text\",\"defined uncaught referenceerror using select2 plugin rails\",\"windows phone 8 1 automatically close socket 10 seconds\",\"using count joins across multiple tables\",\"could making jasper reports throw java io ioexception reading font data\",\"memo create file folder\",\"writing commands embedded linux\",\"generate import keys keystore\",\"cakephp call connect method data source\",\"hint function parameter type deftype\",\"canactivate works ionic2 page navigation\",\"console log printing data console codepen io\",\"want make prolog file stand alone exe file\",\"standalone source code gethostbyname function linux\",\"error caching table sparksql\",\"spread operators redux\",\"get last 3 records\",\"calculate google distance input address address mysql server using jquery ajax get\",\"progressdialog set indeterminate mode onprogressupdate\",\"accessing web app stock android 4 1 4 2 browser\",\"meteor mongo add update element sub array dynamically\",\"write text already existing text file vb net\",\"get results sparql query\",\"ruby rails error running cucumber already activated activesupport 3 2 1 gemfile requires activesupport 3 1 0\",\"connecting data source crm word like excel\",\"css vertical align middle\",\"generating random default screen ios\",\"execute function every x minutes background work\",\"rails pages controller spec rb test failing error\",\"rails pages controller spec rb test failing error\",\"wpf popup alignment point inconsistent top right top left placement absolutepoint\",\"setting array value list\",\"visual studio 2008 visual studio express edition 2010 coexist machine\",\"issues writing txt file transmitting small textfile using c tcpclient\",\"accessing elf symbol table c\",\"lithium auth check default return weird things\",\"scroll click autocomplete ie\",\"opencv eclipse declared scope errors compilation\",\"azure sql request limit reached although number connections well resource limit\",\"ios app crash gpuimagecontext presentbufferfordisplay\",\"get values appsettings json businesslayer helper class mvc 6\",\"time complexity analysis choosing operator counting number times line code runs\",\"uncaught exception\",\"ie9 dynamic page js issue\",\"scope finalizer thread per application domain per process\",\"javafx connecting components model\",\"static bound checking array c\",\"awk work bash script\",\"using url lib folder module\",\"time complexity algorithm two loops\",\"display error uploaded files exceeding post max size php\",\"pickadate js disable every sunday\",\"unit test database sql server\",\"sharepoint hosted app 2013 list permissions app level\",\"nsdateformatter issue involving week numbers\",\"delete event log installer get uninstalling\",\"ng options angular placeholder\",\"developing via remote desktop\",\"trying setup new editor git\",\"google fit custom data type\",\"standard location based ios app waking suspended ios\",\"mysterious characters end e mail received socket python\",\"extracting latitude longitude moving google map kml layer\",\"spring explorer showing beans bean definition file\",\"android xamarin c app runs emulator actual device gets error install parse failed bad manifest\",\"error using aws encryption library osgi bundle\",\"align fields inline label\",\"show tooltip cell hover using jquery\",\"android parse php json encode java\",\"retrieve fetch records dynamic 365 crm using c code\",\"itemssource syntax ok\",\"php microseconds\",\"umbraco 7 render partial view macro rich text editor\",\"jquery selector select child div find background image\",\"jsp page check authentication\",\"black screen splash screen loads iphone\",\"unity game screen blurred\",\"authenticated user loggouts server restart\",\"split infix string array string java\",\"get friend app user graph api\",\"creating custom wall post facebook api android\",\"php files downloading\",\"add text inside header nav prestashop\",\"getbooleanextra always get true value\",\"cllocationcoordinate2d without knowing many array\",\"able insert sqlite3 using python\",\"web view flicker blinks scrolling\",\"multiple custom fields stored meta keys connect post\",\"aws elastic beanstalk increase instance disk capacity\",\"idea sql dialect configured mybatis\",\"angularjs select mark matching model selected\",\"nsstring value returning block run\",\"android setellipsize working class extends edittext\",\"installing imagemagick buildpack heroku rails cedar 14\",\"defining object var without var\",\"interop outlook message html displayed plain text\",\"entity framework core fastest way check generic entity already dbset add update\",\"looking flexible tool gnu indent\",\"swift assign nib self class\",\"retrieve display python console historical data tws\",\"using default parameters using boost shared ptr\",\"zend framework 2 server non mvc architecture\",\"safe uninstall vs express installing vs ultimate\",\"form submit button going next page click\",\"nswindow zooming view first tiny zooms normal size\",\"blackberry facebook like button\",\"android programatically inserted sms incorrect timestamp messaging apps\",\"customising uisegmentcontroller issues\",\"sailsjs mysql orm multiple query table field\",\"custom contact form gives 404 error\",\"integrate openid mvc4 web api\",\"google spreadsheet script getvalues force int instead string\",\"comparing two spanned strings edittext android\",\"run method onclick crash android\",\"disable vibrate android button held\",\"css google app script\",\"write values python dictionary back file\",\"value ngmodel updated angular input view\",\"check input comes null empty\",\"create json array servicestack\",\"embedding flash linux gtk application sandbox violation\",\"pass value words symbol number template url py django\",\"jquery datatable add new row row already present remove insert new row id\",\"memory leak asynctask\",\"android geocoder addresses list google maps api bounds exception\",\"export specific request file using postman\",\"update c pointer snippet\",\"velocity eventhandler\",\"update c pointer snippet\",\"get attr jquery\",\"python append dictionary zip\",\"write data multiple bluetooth le slaves simultaneously corebluetooth\",\"lua override strings\",\"wordpress call undefined function add menu page\",\"time complexity algorithm two loops\",\"hide paging numbers gridview\",\"mongoose populate without ref\",\"uibutton swift 2 2 add different target\",\"run shell command arguments powershell script\",\"using youtube api get list likes search results python\",\"select2 4 0 1 return first character matched results\",\"tortoise svn svn ignore recursive\",\"myclass class\",\"forwarding play scala returns empty response\",\"properly handle two threads updating row database\",\"linear programming solver matlab similar cplexlp linprog\",\"loop days week beginning today\",\"prevent line break case\",\"cannot loop mongodb collection functions\",\"get macid mobile number android mobile device database\",\"copy constructor using initwith productflavors sourcesets\",\"comparing two generic lists specific property\",\"jenkins system println printing anything console window\",\"easiest way vb net parse xml objects\",\"use machine learning calculate graph states sequence data\",\"single connection string multiple entity framework models\",\"possible validator table\",\"prevent use trait methods use scope php\",\"simulate click spacebar 5 secondes jquery\",\"dealing received gcm push notification different activities\",\"ptrdiff defined c\",\"weblogic caching problems\",\"opengl java rendering issue polygons flickering disappearing\",\"valid requestbody controller method\",\"process textview html linkify\",\"merge count query fetch query one let mysql work\",\"sum datediff minutes 2 rows\",\"php content length header working\",\"mongodb map reduce gives error converter found capable converting type java lang boolean type int\",\"vista phantom directory\",\"vista phantom directory\",\"build dynamic data entry forms wpf application\",\"shell script stop rabbitmq server\",\"tab keypress causing focus change also triggering keyup event\",\"c program pointer argument hold values\",\"opencv detect face landmarks ear chin ear line\",\"bad performance stuttering windows phone 7 page transitions\",\"using massivejs rest put post saves\",\"problem custom tfs web service plugin\",\"fabric js crop path inside object\",\"detect repeating decimal\",\"weblogic jar containing javax servlet 10 3\",\"firebase database online editor ignore security rules\",\"rails cache view files hosted vm codebase samba share\",\"listen hyperlink click mx control html component\",\"testing angularjs directive modifies scope karma jasmine\",\"decode html back original html code php posted jquery\",\"angular2 0 subdirectory systemjs cant import angular components\",\"swift ios9 building macintalk voice asset null\",\"select rows master table join subtable\",\"display custom fields wordpress alphabetical order\",\"nsstring value returning block run\",\"generate range dates using cte oracle\",\"mock trigger routechangesuccess angular unit tests\",\"insert iframe php ajax\",\"js css animation speed relative object size\",\"access google play account reports google api client php library\",\"database design questionbased voting system normalization gone wrong\",\"get url post author user buddypress avatar inside wordpress post loop\",\"create bootstrap carousel iframes\",\"list add nodes pylon app python command line\",\"javascript instafeed js limit filters\",\"problem rss feed cdata\",\"create bootstrap carousel iframes\",\"feature extraction butterfly images\",\"node js open chrome ubuntu 16 04 lts\",\"jpa fetching one many\",\"applying jquery resizable dynamically generated html data table\",\"get unique values sql column\",\"talend specify jndi datasource\",\"find peers wifi network ios\",\"jquery fn load deprecated\",\"transform log4net config like web config\",\"chart serverside export\",\"web service client code generator ios\",\"alamofire get size url download\",\"cypher profile via neo4j rest api\",\"convert time decimal c\",\"jquery autocomplete many inputs django dynamic formset\",\"avoid rendering images stuff backbone views\",\"smtpclient throws exception trying send email via zentyal server\",\"upgrade stack ghc\",\"gwt requestbuilder handle pdf\",\"speed pascal cuda8 1080ti unified memory\",\"android outofmemoryerror xml\",\"want integrate aadhaar card authentication php tried code api access get response\",\"neo4j cypher query creates links expected\",\"xml attribute alias\",\"3 remote objects bound rmi registry\",\"render speed adding one dom item time adding set items\",\"system err println output go jboss\",\"getting current user express js using socket io\",\"meteorjs external files css js\",\"windows batch copy files subfolders one folder\",\"restkit savetopersistentstore calls controllerdidchangecontent data written database\",\"rails 3 ajax posts link click\",\"matplotlib draw spline multiple points\",\"need help creating specific pointcut inside method\",\"exc bad access setting integer anything else zero\",\"populate dropdownlist based another dropdownlist selected value mvc 4\",\"using exceptions acceptable python javascript\",\"node js image upload issue undefined\",\"application immediately running emulator terminated\",\"post request golang server using polymer core ajax\",\"automatic screenshot capture running android application app store commitment\",\"advantages disadvantages delegate members classic functions\",\"trying simple transaction ef ctp5 sqlserverce4 0 failed\",\"change supportmapfragment mapview google maps v2\",\"convert image file byte array using ruby\",\"webapi deserialize uri parameter poco action parameter\",\"print two zero 00 integer\",\"jquery ui tabs disable tab navigation\",\"new apcu apc user cache shared processes\",\"gson java make different names mapping printing\",\"post request swift 3 0 alamofire\",\"initiate remote assistance session net\",\"determine whether selector wants parameter\",\"creating custom wall post facebook api android\",\"youtube data api get access media stream play java\",\"glyphicon change color hover\",\"hibernate nativequery transaction\",\"create tfs build definition website without proj file\",\"binary tree method remove subtree\",\"isa deprecation issue\",\"concurrent operation synchronized block\",\"teamcity build last svn checkin branch\",\"reading core properties using python docx\",\"matlab pass argument command line run script\",\"exception library tomcat apache web application tlds found\",\"refresh listview click delete button\",\"zf tool phpunit recognised include path\",\"increase performance insert cursor\",\"sql query returning overload resolution error\",\"image size limit ipad\",\"running tests android studio ide rebuild pure java library module\",\"crystal reports hiding text drawing object based data\",\"handling missing data pandas\",\"jni crashes calling callvoidmethod\",\"scala lambdas implementation vs java 8\",\"wordpress plugins add content\",\"ng grid filter cell template column\",\"smarter editor tab labels eclipse\",\"pyqt win gpl 4 11 1 installation\",\"redirect page animate reach certain scrolltop\",\"quickest way query database linq\",\"simple recursive method\",\"select data sqlite listarrays\",\"xaml daily calendar control windows phone 8 1\",\"send html email java using html external template\",\"mathjax hide math expression processing\",\"obj c qr reading application runs slow\",\"c reading file using ifstream\",\"managing different developer connection strings linq sql\",\"powershell printer ignore f new page text\",\"hitcounter mvc\",\"web service client programing language\",\"usage netty channellocal\",\"neg instruction set adjust flag af x86\",\"neg instruction set adjust flag af x86\",\"bash curl array text file\",\"bad put css include middle body\",\"reading seperate integers line\",\"asp net menu rendering different vs2008 vs2010\",\"spring batch process repeated skippable exception occurs\",\"laravel many many unexpected result set select\",\"apps app updates submitted app store must built xcode 5 1 1 later ios 7 sdk\",\"uiscrollview zoomtorect animated weird behavior contentsize bounds size\",\"read large text file matlab 30gb\",\"sorting array increasing frequency element\",\"displays dates current month\",\"spring 4 configuration java onfig maven dependencies adding mysql spring data spring desktop application without hibernate\",\"angularjs seo\",\"animating carpet rolling three js ideas\",\"bootstrap table plugin set search string first load\",\"clipcursor working\",\"increasing cpu rendering load game code\",\"xml access content two self closing tags\",\"get record mysql time two dates\",\"using hierarchical page tables\",\"use role attribute html5\",\"extract text tex remove latex tags\",\"lowest id row always returned also returning max value column\",\"scraping data without explicitly define field scraped\",\"select part line within file php\",\"generate android apk sencha touch using sencha cmd5 error output\",\"row exist multiple\",\"row exist multiple\",\"entity framework iqueryable poco generation\",\"use delegation pass messages class methods\",\"select rows containing group wise maximum column\",\"possible pass partial view different model model used view\",\"implement mouse joint sprite kit\",\"dnn portal alias internal ip\",\"use object iframe loading video\",\"cakephp 2 0 5 sqlserver requires database connection\",\"remove fragment crash\",\"open pdf new tab\",\"store keystrokes x\",\"difference two density plots\",\"show selected record custom list view toast\",\"cross join behaviour sqlserver 2008\",\"extracting data 2 tables\",\"get confirm box value via code behind c\",\"transfer images android device pc using wifi\",\"would reverse cgrectunion\",\"mysql update query run\",\"ssl configuration issue rabbitmq web stomp plugin\",\"custom listfield checkboxes blackberry\",\"wrong android virtual device\",\"error trying create opportunity converting lead opportunity custom module openerp\",\"error creating menu dynamically xamarin android\",\"run mahout rowsimilarity recommender mongodb data\",\"docker build fail\",\"generating checkbox lists mvc3 using complex viewmodel cross table linq sql\",\"pass encapsulated variable new environment\",\"foundation 6 6 2 3 equalizer stops working try use optional configurations\",\"text showing executing\",\"javascript listen focus blur events\",\"vserver linux start jar invalid corrupt jarfile\",\"hello guys getting error submitting simple form honestly know\",\"install update upgrade ssl certificate tomcat\",\"net web request proxy automatically detect credentials\",\"use openlayers 3 webpack\",\"load large picture file add watermark\",\"required field validator asyncfileupload\",\"powershell empty pipe element allowed\",\"combine two urls way browser\",\"ios detect voice dictation used uitextview microphone button tapped keyboard\",\"set textbox enabled false true textchange\",\"visual studio copy dependent dlls target folder\",\"vigenere cipher difficulties\",\"r shiny go previous conditionalpanel using back action button\",\"cannot bind port 80 microsoft httpapi 2 0 lock\",\"data binding specific item array angular\",\"javassist cannotcompileexception source error field 1\",\"misinterpretation hashes perl populating log file\",\"ignore property using jquery extend\",\"ideal data type array c\",\"error javascript function called referenceerror function name defined\",\"good idea bad idea using mysql rand outside small set subquery results\",\"linkedin authentication request error\",\"serialize com excel objects binary format store memorystream asp net\",\"select2 insert bolded headline\",\"fetch every nth object using core data\",\"prevent programatically generated chart resing cells vba\",\"use willchangevalueforkey didchangevalueforkey\",\"set icon non app mac os x bundle\",\"using variables jquery django template filter\",\"passing quoted string arguments bash script\",\"scrim context android\",\"get pid php function exec windows\",\"session cookie send back client using urlconnection windows jre 1 7\",\"using knockout extender allow array characters\",\"call asp page parameters html link\",\"customized google c style el\",\"deploy openlayers tomcat jsf 2\",\"avoid implicit conversion mysql truncated incorrect double value\",\"importing files extension sqlite r\",\"android app design write correct intent filter\",\"2d array pushing one array shows arrays\",\"clientcertificate server ssl cert\",\"post variable multi select working php\",\"content management asp net recommendations\",\"problems pc lint gcc 4 8 stl ubuntu\",\"relative absolute tolerance definitions matlab solver\",\"getters violate law demeter\",\"accessing operator pointer\",\"gui apps python 3 4\",\"callkit find number used start app native phone app\",\"dynamic java integer long overflow checking versus performance\",\"getting row data inserted row mysql php mysqli\",\"show uisearchbar right side uinavigationitem\",\"outlook mail rest api include access corporate ms exchange server email\",\"repeat header page break using fpdf\",\"save web page continue working offline\",\"select rows data frame ending specific character string r\",\"handle notfoundexception elegantly neo4j 2 0\",\"remove project reference website project visual studio\",\"weird error overloading methods generics\",\"format multiline code single line visual studio\",\"use opencv find red color picture\",\"sharing ajax data multiple controllers angular using service\",\"uncaught typeerror failed execute importstylesheet xsltprocessor parameter 1 type node\",\"liferay portlet relative path\",\"callback url skydrive api localhost\",\"using ifdef defined find variable defined\",\"wcf get reference incoming message string service implementation\",\"complexity determining order growth\",\"compiling static executable\",\"creating email alias using office 365 api\",\"run django runserver tls 1 2\",\"custom property names lesscss\",\"transforming appending dom node\",\"validation fails delegation error\",\"neon comparison\",\"making doctrine query results simple json array\",\"ember deeply nested routes keep parent dynamic parameter\",\"find number occurrences modal value group using data table r\",\"php file curl commands working server\",\"automating builds subversion tags\",\"escaping single quote using jdbctemplate\",\"google static maps move maps finger\",\"overriding method element within xaml usercontrol\",\"windows phone 7 ftp client error\",\"running app built ios4 ios 3 0 everything huge\",\"changes get saved crystal reports report\",\"downloading images server saving database\",\"data loading detail view controller first row selected\",\"get noclassdeffounderror java awt desktop\",\"run pycharm using port 80\",\"component react native typewriter work\",\"code first generic repository existing database tables\",\"luracast restler naming returned objects\",\"design intermittent via points travel itinerary\",\"enable rainbow parentheses slime\",\"best way validate entity unique key symfony2\",\"random movieclips timer complete\",\"design intermittent via points travel itinerary\",\"homepage loads differently every page\",\"jquery click event autocomplete\",\"apache ftp server seeing logging jar package exists class path\",\"product system make tutorials use website\",\"pointer inheriting functions super class subclass using pointer\",\"display syncexec working inside callable\",\"better way const store large blocks text\",\"check image already gallery retrieve\",\"php force close kill connection\",\"onclick functioning chrome google sites\",\"csv export showing html tags csv file shows one record\",\"resourcemanagers resourceset wrong values\",\"vs 2010 setup shortcut file shows run administrator option\",\"refresh data bound collection c\",\"workaround heroku 30 sec timeout executing long plsql procedure rails\",\"determine postal code inside defined area\",\"twitter api know application used follow\",\"vb net windows api shows information netsh advfirewall firewall show\",\"asp net literal text values contained ajax accordion migrating south winter\",\"show pattern asp repeater item template\",\"multiprocessing delay second function\",\"comma separated string clause sql query\",\"ravendb transform convert string null\",\"archive validation error\",\"disable eslint vue cli\",\"date default timezone set working\",\"add time input edittext\",\"gradient bezier curve given point\",\"document getelementbyid value\",\"powershell comparing large fixed width file large sql table\",\"way redirect browser bootstrap zend framework\",\"rails remote true confusion format js\",\"use operators function callback php\",\"cannot install python threading library windows 7\",\"use ios apns auth key azure notification hubs\",\"align page number right corner migradoc\",\"low level windows key hook stop working\",\"fullcalendar removeeventsource working event source object property\",\"search delete depending whether files contain string\",\"pass extra arguments event handlers\",\"different types escape sequences\",\"coldfusion capture last parameter\",\"set fieldname using template angularjs\",\"download file http store content string java\",\"wmi get drive letter association physical drive path misses cdroms\",\"get attribute dom node\",\"swapping container ip alias cause difference ajax request\",\"localize many images xcode\",\"selenium support css3 selectors\",\"retrieve data mysql combobox jung visualization\",\"testing angular2 components transitive dependencies\",\"android aar dependencies\",\"objective c usual implementation singleton design pattern contains static id theinstance nil method outside\",\"allow one several audio files play page\",\"run debug spring boot application intellij idea\",\"get latest data module updated another module angularjs\",\"stata elements variable\",\"test real windows store 8 1 app purchases currentapp\",\"backbone parse model collection fetch\",\"ide msil\",\"facebook like button comments popup window half displayed\",\"reconstruct symmetric matrix values long form\",\"new desugaring behavior scala 2 10 1\",\"uploading file selenium file input element hidden\",\"multiple protractor configs\",\"properly use store images yii\",\"enable disable cluser\",\"ios launch app photos application selected image\",\"substitute replace expression using hash multi character variables\",\"bokeh equivalent matplotlib subplots\",\"rails heroku application error\",\"modify expander header children expanded\",\"loop taking long produce export output python\",\"display event views block inside another content type content section events related content alone\",\"xpath missing node\",\"delphi timer issue\",\"php adobe reader open pdf files created mpdf\",\"mysql combine view two table different number entry records date range\",\"jquery ajax return data\",\"strategy check content change iframe\",\"get c linq query compile joins\",\"merge two stl maps\",\"oracle ancestors hierarchical queries\",\"jquery click event works\",\"make apk launch robotium test\",\"know exception throw object\",\"make flexmobile project pure as3\",\"redirection based url javascript\",\"bootstrap nav tabs works incompletely jsp\",\"way create fancy iterator corresponding new array condition checked index value index\",\"node webkit starting maximized\",\"swift code leak memory handle\",\"test speed 2 different querying methods ms access\",\"onshake method activity start\",\"count number files special suffix directory using python\",\"server required run client side dart apps using polyemer dart angular dart\",\"create neo4j database using csv files\",\"difference getconnectioninfo getscanresults detect signal strength changes\",\"save word document using poi api\",\"access shadow dom properties polymer javascript jquery\",\"load testing using jmeter basic authentication\",\"custom textbox control built client side validation\",\"jpa foreign id automatically set\",\"big 2 variables mulitply together\",\"using app resw file background task\",\"functionality matlab function\",\"appcelerator live view console log working\",\"help understand c code void scode\",\"display combobox datagridview\",\"firefox autocomplete even different input name\",\"iis rewrite local apps fails 404\",\"delphi nosql\",\"qt ios return qvideoframe type gltexturehandle qvideofilterrunnable\",\"sqlcommand timeout even though sql studio query fast\",\"use tfs workspace virtual machine\",\"local development apache vs developer file permissions\",\"trimming spaces variable shell script raspi\",\"onclicklistener called fragment detach\",\"origin policy solve issues xhr cookies cross page commuication\",\"csv date format\",\"fetch 5 columns value mysql query translate php\",\"filewriter bufferedwriter writing file\",\"solution multiple resultsets returned query\",\"segmentation fault error using mpi c\",\"javascript coffeescript mock module public function test\",\"make qgraphicstextitem clickable\",\"changing static ip beagle bone black usb0\",\"use one argument template parameter deduction\",\"converting web app asp net mvc 3 enable razor views\",\"use root directory system getproperty user home\",\"multiple apps glassfish jul logging different log files\",\"trying compile debug c vim\",\"admob adview appearing landscape orientation\",\"equivalent main resources non maven project\",\"someone please explain double called double java\",\"ember always loading belongsto\",\"mongoose connect method loading via browserify\",\"formula auto change calendar hours change 1 keep total hours\",\"passing 2d array function\",\"getting frame particular tab bar item\",\"delete duplicated database records\",\"rails paperclip s3 heroku model icon fields saved\",\"problems nsstring inside viewwilldisappear\",\"create dynamic amount tables inside tabsetpanel r shiny\",\"setuid perl script\",\"unit test nscoding\",\"way apply knuth shuffle stack data structure\",\"separate file name path\",\"modifying static array inherited php classes\",\"php mailer script completing ajax call form submit\",\"node js detect string encoding\",\"input check box tag value rails model outside main form\",\"javascript best way move focus firing event\",\"javascript best way move focus firing event\",\"implementing net application isv ms crm 4 0\",\"program call delay c linux\",\"android sort sqlite query results ignoring case\",\"visual diagram format gui event mapping\",\"solve javafx flashing screen mac\",\"activerecord validates associated work updating model\",\"considered int\",\"xor binary forms integer items list\",\"match kind random string php\",\"return hibernate collection entities without returning root entity\",\"activerecord validates associated work updating model\",\"gridview column row total\",\"gridview column row total\",\"javascript classlist selector error\",\"yii model composite primary key\",\"point eval bash c opposed evaluating variable\",\"mysqli fetch row work\",\"mysqli fetch row work\",\"c run c opengl application panel\",\"finding shortest word array strings java\",\"ios core plot scatter plot symbol color appearance\",\"odbc ms access setup\",\"uninitialized constant migrating rails ubuntu osx\",\"start work gmail api rails 4\",\"add small image large image oclmat opencv\",\"rails active record query double nested joins select call\",\"call js confirm code behind\",\"choosing cloud storage service web api ftp third party server\",\"setting ssh public keys docker image\",\"android long press back button crash\",\"activate word document\",\"hazelcast client itopic see topic\",\"happens bind jquery event already bound\",\"good practice use myboolean true javascript\",\"error ts audio stream udp\",\"good practice use myboolean true javascript\",\"help elmah configuration asp net\",\"flip image qt\",\"save changes datagridview database\",\"drupal 6 listing taxonomy vocabularies tagged nodes underneath\",\"chrome extension redirect url parameter\",\"xlib xgetwindowattributes always returns 1x1\",\"symfony2 local changes twig view\",\"trigger functions another java program\",\"get filtering data lists alfresco share community 4 0\",\"error installing rpm post script spec failed dependencies bin sh\",\"set opengl perspective correction\",\"jpa entitymanager updates object transaction finished\",\"ios core plot scatter plot symbol color appearance\",\"scroll text div hover return first element\",\"get name last inner method executed nested method\",\"flex 4 textarea automatic character escaping html textflow links\",\"jax ws request response interceptors thread invoke\",\"ransack action create could found\",\"event preventdefault first click remove\",\"get return value jquery dialog box asynchronously like alert box\",\"react router links absolute paths\",\"match node certain attribute whose parent attribute\",\"mongodb using index correctly\",\"return path header different actual email bounce recipient\",\"managing logs warnings python extensions\",\"whatsapp contacts syncronization\",\"htaccess redirect based query string remove query string\",\"popular host os developing android\",\"stream types c read istringstream\",\"django callback facebook credits\",\"change radius mkcircle mkmapview uislider\",\"karaf configuration\",\"python regular expression using operator\",\"make jenkins run failed tests first upon successful completion run tests\",\"trying get rid persistent log warning debugging huawei ascend p6\",\"reading multiple cards tags using smartcard rb acr122u\",\"r summarize dataframe depending group subgoup\",\"running aws cli command local python script\",\"typescript better documented handbook documentation\",\"run soffice bin supervisor\",\"oracle 12c query require double quotes around table\",\"c query linq\",\"embedding png files retrieved sending post data url\",\"cef3 single process mode production\",\"atg weblogic making jsessionid secure\",\"rendering conditional statement grid templatecolumn extjs 4 2 1\",\"find matched dataframe pairs\",\"bloodhound get return undefined\",\"animate scale circle keep centerposition\",\"wince debug version works release version crashes reading stream device driver\",\"sbt idea 1 2 0 unresolved sbt 0 12 0 scala 2 10 0\",\"deleting memory allocated static function c\",\"unable locate package php5 curl\",\"pass parameter url cakephp\",\"google maps api map loaded\",\"grant permission api gateway invoke lambda functions cloudformation\",\"access resourcedictionary name\",\"identityserver3 redirect logout custom url\",\"jboss jms provider\",\"questions sort order using xquery sql server\",\"iphone app built amazon web services\",\"bash read strings output one key multiple values\",\"property testers load despite forcepluginactivation popup menu enablement\",\"sql mark condition matched\",\"add custom sql orderby statment doctrine2\",\"make pairs array value\",\"kohana framework prevent subdomains inhereiting parent doamin cookies\",\"change default wcf service binding\",\"error occurred control id 0 could located different control assigned id postback\",\"compare two string arrays return matched strings mismatched strings separately\",\"sharing images videos apps uiactivityviewcontroller shows shared items twice ios\",\"using google maps v3 php json plot markers\",\"get cognito identity id aws lambda\",\"retrieve info mongodb using c\",\"knockout add edit observablearray conflict\",\"google apps engine php mail api image data\",\"magento cron job expression dynamically\",\"solve left join sql\",\"defining tables views indexes aws cloudformation\",\"module named numpy error google data proc upgrade numpy google data proc\",\"accessing data member rootviewcontroller another class\",\"getting video dimensions upload client side\",\"facing difficulty constructing sql multiple multi select listboxes\",\"update set sql query failing\",\"image custom actionbar unwanted left padding\",\"possible auto click\",\"c substructure bitfield size\",\"jquery ui slider value min max html\",\"un nest spark rdd following type string scala collection immutable map string scala collection immutable map string int\",\"error running portia docker ubuntu\",\"hadoop map reduce operation failing writing output\",\"contenteditable nodes xml compound document\",\"get checkboxlist selected values li tag\",\"vba highlight double clicked cell second double click removing formatting 2 ranges\",\"create wordpress post xmlrpc jquery\",\"split arraylist file\",\"trying create calculator java\",\"google admin directory api sdk user last logged fully accurate\",\"move asp net controls different places web form runtime\",\"convert svg data svg file uploaded\",\"exporting dataset excel\",\"itemscontrol updating data change observablecollection property\",\"cast child type base parent type serialisation\",\"net app reference two different versions net framework library\",\"google analytics error message unexpected error please try later\",\"opencv histogram data mat\",\"kernel oops executing function read hardware registers\",\"mootools jquery conflict despite dollar safe mode\",\"share files folders batch\",\"hierarchicaldatatemplate display items without children\",\"capture split tap output result\",\"multiple uipickerviews selected multiple uitextfields\",\"malicious reflection used original running application\",\"use phobos tango\",\"best way add fragment tabs android\",\"maintain session android set session timeout\",\"using deferred ajax\",\"long delay mp4 video start flowplayer\",\"long delay mp4 video start flowplayer\",\"error svydesign using imputed data sets\",\"modify xml fields matlab\",\"date conversion issue yyyy mm dd dd mm yyyy\",\"xslt generate children based split parent node name\",\"separate countdown divs\",\"dropdownlist enableviewstate bug\",\"make executable python file\",\"asp net partial page class names best practices\",\"angularjs ng scopes\",\"google app engine datastore testing api environment registered thread exception\",\"bash script set folder date file date within folder\",\"make ondraglistener ontouchlistener work together\",\"transpose function elixir\",\"delete multiple records listview asp net using checkbox listview\",\"generic parameter could inferred factory methods\",\"access displayname attribute model mvc view\",\"enumerate relative paths files directory\",\"getting folder including subdirectories files using gulp\",\"long python application take run\",\"cross apply namespace sub nodes returns duplicate records\",\"initialize static nsstring class level\",\"gmail api mail read reciept\",\"get list box options hidden field using jquery\",\"amazon sns configuration topics iphone apns integration\",\"calculate precision recall 2 classes\",\"ms access control property type making sense\",\"name thing lets part url argument\",\"issues setting ssl keep getting valid non passphrase protected keys given error\",\"vagrant provision working\",\"android removing item listview working properly\",\"error require connect json undefined\",\"r datetime scaling\",\"faking mouse wheel scroll linux\",\"installing gulp sass throwing error\",\"jquery stop drag allow drag direction\",\"nancy mimic web api plain notfound response\",\"correct encoding snmp type unsigned32\",\"find broken links website\",\"using ruby rails api documentation incorrectly\",\"passing php array external javascript function array\",\"moving sprite position jquery\",\"bind property socket object using deployd\",\"flash as3 developing facebook api locally\",\"load text files greater 64 kb buffersize limit\",\"testing whether object java primitive array clojure\",\"jquery parsing rss namespaced element like content encoded\",\"add dynamically created tables sqlform web2py\",\"tell kmllayer custom map projection\",\"symfony2 functional test select checkboxes\",\"get bundle identifier application context id mach port ios 7 jailbroken\",\"request denied service delegate sbmainworkspace reason unspecified\",\"merge multiple arrays objects common object key\",\"creating random x matrix range specified numbers happening\",\"retrieve values stripe webhook\",\"would create drag drop feature image arrays\",\"mac app store upload fail validation error sfml\",\"flex bisonc parser\",\"full yammer api documentation\",\"swift assign optional value non optional var\",\"remove uinavigationbar prompt push back button\",\"kind sctp support various windows versions\",\"videoview memory leak\",\"show values grid using matplotlib\",\"close ul parent click\",\"android programatically login website retrieve data\",\"issue jquerymobile jquery multi page site\",\"scrolling 2 different elements time\",\"sum digits till number given input\",\"asp net medium trust dll\",\"large sqlite database copy\",\"class key value coding compliant key error\",\"would want trailing spaces html document\",\"change data source microsoft sql server visual c\",\"use javascript variable php\",\"creating function deletes certain character string wrong program\",\"test soap webservice without using soap client real time feel\",\"change image popup link clicked fancybox\",\"detect combination keys datagridview cell\",\"generating wcf proxy untrusted ssl endpoint\",\"pass jenkins configurations overwrite automation configuration\",\"someone used iphone app name\",\"using es7 static proptypes react native\",\"xslt transform xml document display two columns right left value\",\"keyboard shortcuts debug release builds\",\"install dependency doctrine dbal composer laravel\",\"use drawrect draw existing view\",\"create heat map based values frequencies\",\"print data situation separate dives loop flask template\",\"ruby http post errors\",\"generate url outside controller asp net mvc\",\"earley cannot handle epsilon states already contained chart\",\"help pylons routes url\",\"virtual midi vsts\",\"extract title name column\",\"django queryset list set\",\"jacobian hessian inputs scipy optimize minimize\",\"alternatives biztalk rules engine\",\"expandablelistview default list item press behavior preserved supplying group view contains textview\",\"check specific button exists scrapy\",\"able install socket io windows server 2012\",\"differences psych principal varimax varimax\",\"passing events external function\",\"jsoup seeing text website\",\"insert value database derby jsp\",\"insert value database derby jsp\",\"file path setting response file cakephp3\",\"calculate greater precision r binomial distribution\",\"matlab calculate mean part one column another column satisfies condition\",\"nodejs receive udp numbers ugly binary format\",\"named index case sensitive mysql\",\"sfml fails multithreading\",\"self repairing python threads\",\"asynchronous sqlite sample dot42\",\"ionic returning sql data factory controller\",\"get first post facebook user\",\"ora 02391 exceeded simultaneous sessions per user limit\",\"allow dash regular expression\",\"calculator jquery\",\"excessive hard disk usage degrade hard drives\",\"remoting connection tcp\",\"remoting connection tcp\",\"image gradient vector field python\",\"bind model two already related models display information\",\"ggplot doesnt order levels since last update\",\"querying broken pymongo 3 0 flask mongoengine\",\"transfer data shared library application\",\"clone control wpf\",\"recyclerview remove animation bug\",\"positioning image top image specific coordinates android\",\"c restarting game calling main function\",\"interpreter iphone\",\"closing excel userform commandbutton click\",\"c passing pointer function howto c pointer manipulation\",\"android activity lifecycle coming sleep\",\"response large return using limit\",\"pass 9 parameters batch file\",\"google maps v2 api key different package names\",\"define margins pdf used boxplot rendering\",\"java splitting csv file array\",\"preview viewswitcher androidstudio\",\"removing tabs using fragmentpageradapter\",\"programmatically printing adobe reader 9 using net interop\",\"possible make matrix rows different rows matlab\",\"exclude non folders files readdir function\",\"tool generates diagrams sql server hierarchical data\",\"accessing css class another file\",\"play obtaining connection default database\",\"counting hours using mysql\",\"check via macro whether gnu libstdc used\",\"making array nsrect values mousedown method\",\"moq c invalid callback setup method parameters cannot invoke callback parameters\",\"c crtp type erasure vs polymorphism\",\"detect ambiguous dst overlap\",\"dynamically select columns used select statement\",\"jquery selector question something elements hidden\",\"updating dynamic control\",\"concurrent access free heap object\",\"concurrent access free heap object\",\"returning index n th element string using tsql\",\"excel 2010 pivot table filter print multiple filter selection values\",\"cassandra data modeling one many lookup\",\"mirror http website excluding certain files\",\"lazy mode webpack dev server\",\"parse yaml correctly\",\"making use getparametertypes javassist ctmethod\",\"concurrent access free heap object\",\"news feed response parsing iphone using facebook graph api\",\"regular expression capturing word non word non word non word boundaries\",\"nutch crawl multiple sites\",\"android hardware adobe air cont\",\"html5 canvas draw multiple rectangles move canvas\",\"html5 canvas draw multiple rectangles move canvas\",\"get url remove product cart magento\",\"undefined reference cv cascadeclassifier detectmultiscale lib linked properly\",\"git extension work visual studio 2017 known issue\",\"using class key nsdictionary\",\"generate display serial number min max value php\",\"necessary implement locking using pthreads c\",\"ccuiviewwrapper ignores position uitextview\",\"sql select record match multiple words give column\",\"append javascript block string html\",\"search bbedit causing stack overflow error\",\"would go get start fail travis ci build\",\"cannot talk atmega328p avrisp mkii\",\"using kentor authservices stubidp sp initiated login\",\"qtableview find row selected\",\"get value child div parent div\",\"return multiple variables jsonresult asp net mvc3\",\"data fetch using php curl regular expressions\",\"ordered http request parameters\",\"php sql get next row query user ordered results\",\"stacking listview top textview android\",\"create unlimited nested sortable list\",\"speeding processing large data frames r\",\"insert google map showing current location\",\"error making clucene max os x 10 10\",\"implement system type property markup user control\",\"opencart way restrict access page people logged certain group see page\",\"set powermockito verify different types methods called\",\"add datetime class support php 5 1 6\",\"create app aweber\",\"two issues ws ex noactivate winforms\",\"data binding access xaml vs code behind linq xml\",\"mysql 5 7 installer fails detect vs 2013 redistributable\",\"using longs keys groovy map\",\"powershell set itemproperty working script running c webapplication\",\"filter resources template variable value modx wayfinder\",\"writing post data one java servlet another\",\"iphone mask uiimageview differing dimensions square dimension\",\"c close openvpn cleanly\",\"c close openvpn cleanly\",\"django session cache updated using cookie based session storage\",\"htaccess trying use directories parameters\",\"mongodb mongoid rails unable increment counters hash embedded document\",\"custom row color jquery bootgrid\",\"error redirect uri mismatch gae django project\",\"deploy maven war jboss eap 6 3 within eclipse luna\",\"connect crm 2015 premise siverlight app without depending context\",\"use segments google analytics api\",\"parsing json javascript\",\"choosing iterating specific sub arrays multidimensional arrays python\",\"iprogress synchronization\",\"understand f test based lmfit confidence intervals\",\"expanding image field pandas dataframe\",\"replace string column c based matching index column\",\"celery rabbitmq find acks unacknowledged messages\",\"celery rabbitmq find acks unacknowledged messages\",\"asp net health monitoring iis 7 5 integrated mode\",\"file get contents stream support seeking php\",\"jquery flot pie chart legend formatting\",\"prevent folder deleted using publish web deploy vs2012\",\"objective c get placemarks given coordinates\",\"eclipselink persistenceunitloadingeception executable jar\",\"laravel database log best practice\",\"convert chrome extension chrome specific apis firefox add\",\"query embedded class hibernate\",\"bitwise shifting reverse javascript\",\"upload file folder asp net\",\"php preg match regular expression single hyphens spaces words\",\"capture clicked link website website b\",\"avoid printbibliography swallowed org mode headings\",\"display image text inline\",\"ios anyone know uuid generated executables information may encoded therein\",\"default gnu linker script name vim syntax highlighting\",\"c java des encryption\",\"check javascript file loaded\",\"javascript value composed several words value dog crazy\",\"use google maps search location data functionality places search api places\",\"public object cloud storage bucket accessible load balancer\",\"ide msil\",\"horizontal placement components jsf\",\"sql query inner select\",\"use jquery update long since event happened\",\"preprocessor output file valid c c file\",\"jquery get tallest height child put parent element\",\"redirect url containing smartquotes via htaccess\",\"set typed information length array\",\"deploy failed clr trigger\",\"salesforce session variables set get variables session\",\"save changes datagridview database\",\"tensorflow learn initialize variables\",\"jquery toggle comment box\",\"define matrix r pass c\",\"convert nv21 nv12 rotate 90 degrees libyuv\",\"read variables two files output pattern 3rd file\",\"regex match character diacritic variations aka accent insensitive\",\"send email iphone app containing img tag\",\"filter three tables id sql\",\"identity insert error set identity field\",\"nginx root inside location working\",\"access menu structure application using visual c\",\"mysqli insert statement\",\"ember js model data output collectionview\",\"create dotnet tool ef core data seed\",\"setting temporarytransient styling xaml element\",\"indesign idml file automation using html5 javascript\",\"custom action error 1001 could find file myapp installstate\",\"authenticate ews application using oauth\",\"httpurlconnection connection established\",\"convert restructuredtext plain text\",\"best way change background color javascript html dom\",\"dropdown list bound object data source update button click\",\"change sender name outlook\",\"converting struct array\",\"prevent user printing\",\"add folder windows indexing list windows search api\",\"java amount colors lower\",\"wildcard get files exact extension\",\"make makefile multiple java files within package\",\"errors using input web service esb\",\"change start page windows 8 1 store app c\",\"calculating average value per document sort\",\"issue interacting internet explorer comobject server 2008 r2\",\"raphael viewbox animated zoom\",\"asp net4 canvas app postback causes unexpected redirect\",\"select query using executeupdate instead executequery\",\"default case class parameter lift json\",\"sorting hash given another hash including information order method\",\"django pass dictionary template tag\",\"angular ui grid d3 graph row\",\"possible conflict error using 443 port ibm http server configuration\",\"angularjs passing nested angular binding controller method\",\"r build sum arrays third dimension containing nas returning list\",\"wpf binding list string column data grid\",\"awk script prevent argv treated input file name\",\"cropping image imagelist rmagick\",\"vc inline asm shifting rcl rcr\",\"google play game services rest api snapshot load commit\",\"scale hatchstyle drawn rectangle\",\"updating dictionary dictionaries python\",\"sql cast float without scientific notation\",\"get 2 different url using xmlhttp open\",\"configure baseurl typescript compiler\",\"run function depending selected phone language\",\"remove 100s warnings implicit conversion loses integer precision nsinteger aka long int got updating arm64\",\"javascript node js stand alone script block wait promise\",\"signal slot connection creator created class\",\"change cornerradius combobox wpf\",\"master detail split styling android\",\"keep footer div overlapping page content\",\"c persistence database\",\"c move point given distance get new coordinates\",\"mac indexing classpath problems java lang noclassdeffounderror\",\"export hbase table mysql table\",\"delete link deleting record mysql database\",\"c struct type initialize\",\"sql query inner select\",\"using local storage chrome db\",\"differences type image type submit\",\"corona timer cancel returns attempt index nil value\",\"install ffi heroku\",\"suspend process except one thread\",\"set html text color size using javascript\",\"class library project asp net reading web config app config\",\"create file data ur\",\"android finding position map\",\"getting duplicate header button cell nstableview using nspopupbuttoncell\",\"fluent nhibernate exception association table x refers unmapped class system string\",\"get nhibernate enforce string property non empty\",\"add song resource directory playlist\",\"vb net sql pasting select query results textbox\",\"extends form data scout eclipse\",\"send input terminal window using java mac os\",\"send input terminal window using java mac os\",\"express jsonwebtoken prevent return config object\",\"join table performance\",\"escaping special characters sphinxse\",\"combining arrays based keys another array\",\"bytecode design\",\"postal code google map return\",\"connect eclipse websphere application server hosted remote server\",\"django pbkdf2 sha256 js implementation\",\"get reference label repeater control code behind\",\"use ios6 fonts ios5\",\"oracle sql subselect find aggregated values\",\"insert values multiple checkbox database php\",\"dynamic graphs tensorflow\",\"change cell color excel according adjacent dropdown value\",\"moving window forecasting python\",\"linq sql datatable rows 0 columnname equivalent\",\"getting started solr\",\"variable height flowlayoutpanel right anchored static panel\",\"thread locals lua\",\"dropdown list options populate second list js php\",\"replace random word string random replacement\",\"incremental update sqoop\",\"accessing websphere api admin console wsadmin\",\"changing named range\",\"difference response setheader response writehead\",\"network game adobe air programming adobe flash\",\"big risk testing net 3 5 assembly using net 4 0 test assembly\",\"find last wednesday month php php version 5 1 6\",\"find last wednesday month php php version 5 1 6\",\"send input terminal window using java mac os\",\"render certain html tags forum\",\"loading image twice via actionscript3\",\"tab order rails app\",\"unix diff command output single line per difference format\",\"edit epub file content php\",\"printing elements list separate text files python\",\"mqjms2013 invalid security authentication\",\"system argumentnullexception resourcemanager getstring internals\",\"find panel control inside formview edit mode gridview event\",\"determine group current user account belongs\",\"show wait screen vba excel 2010\",\"ef7 unable retrieve child collections child object properties\",\"invalid argument ie 8 jquery prepend flash objects\",\"array char\",\"dygraphs timestamp timezone\",\"symfony 3 outsourcing controller code service layer\",\"send email web application\",\"custom converter simple xml working properly\",\"image disappear url route\",\"jquery get timeago work elements loaded dom ready ajax\",\"symfony bundle avoid using dir build path doctrine mappings\",\"query error search result xml file\",\"codeigniter image upload cant grab file name\",\"extract port number url reverse proxy nginx\",\"usable html code widgets\",\"d3 js trying animate data changed data always treated new\",\"wpf c chart mouse events\",\"change table cell text area save cancel button\",\"map version threesum slow\",\"map version threesum slow\",\"rvm gemset bundler capistrano production\",\"spring boot jooq auditing solutions\",\"time complexity double invarient loops\",\"get selected value uipickerview button click\",\"inner select inside sql update\",\"gwt canvas save image open\",\"mono windows 2000 sp4\",\"passing local variable name global variable possible js\",\"realize winforms c something like image map areas homepage hoovering cover areas semi transparent rectangle\",\"excel script hyperlink extraction\",\"android 4 0 ssl authentication\",\"tinymce editor dislikes moved around\",\"jenkins find android sdk\",\"jframe originally require getcontentpane adding components\",\"serving static files asp net 5 mvc 6\",\"log n always faster n\",\"retrieve values array mongodb using c\",\"printing r data frame column names multiple lines\",\"ews managed api search based icaluid\",\"building haskell project using stack specify custom pre build step\",\"updating recyclerview firebase using dialog\",\"spring ws adapter endpoint\",\"beautiful soup parsing inline div p dictionary\",\"hiding asp net sitemap nodes treeview control\",\"exit sub dialogresult ok button\",\"jmeter http proxy server recording\",\"create table syntax error\",\"vba preserve instances macro completes excel\",\"json decode return scalar\",\"enter key causes unnecessary post back\",\"json chrome extension problem\",\"php upload file web server form error message\",\"php upload file web server form error message\",\"unit test simple properties\",\"paginate gridview month yii\",\"partial view one page handle binding\",\"problem uuid guid\",\"python terminology things left argv learn python hard way exercise 13\",\"way retrieve process stats using perl python\",\"class filter parameters method controllers getting hash instead hashwithindifferentaccess\",\"generate wadl file using jersey 1 7\",\"wider argument types overridding method java\",\"context menu dynamic html table\",\"code works jsfiddle codepen browser gone wrong\",\"java bytecode variable index 0 classname something strange\",\"scroll offset overflow hidden document\",\"explanation c code\",\"setting start levels dynamic eclipse features alternatives p2 inf\",\"cocoapods completely broke\",\"equivalent media test screen size jquery\",\"auto import libraries android studio\",\"run java c drive default cmd prompt\",\"extjs hide tab close delete\",\"use fmin python\",\"tensorflow retrain windows\",\"insert xml element text parent element using elementtree\",\"vb net mysql pick dates different years\",\"find right raw format\",\"prevent html signature wrapping gmail android\",\"save tree structure db\",\"profanity filter java\",\"hide video window ends show later ios swift\",\"phabricator block push differential revision pass build\",\"application reading incorrect integers file\",\"loop passing\",\"r oracle sql\",\"matlab apply functions componentwise\",\"scikit learn classification regression weights\",\"guard ruby classes class level metaprogramming multiple loads\",\"use mutex embedded c atmega 16\",\"inject ngroute jasmine karma angularjs unit test\",\"change dna sequences fasta file using biopython\",\"conversion cloud data 2d image using opencv\",\"dynamically changing proxy firefox selenium webdriver\",\"use ruby rails load slickgrid\",\"jquery ui position function problem parent div visible screen\",\"opencart adding custom menu header menu\",\"wait function finishes continuing main one threaded\",\"nested statements r\",\"extracting contents html page element using python\",\"traverse element\",\"validate desktop app problems clickonce deployed application\",\"bc30456 return member asp home aspx\",\"com sun jna android arm libjnidispatch found resource path\",\"start preferenceactivity part way hierarchy\",\"security beyond username password\",\"scroll div using scrollwheel another div\",\"storing random values arrays considering duplicates\",\"difficult browse scala api\",\"tweepy streaming api integration django\",\"retrieve multiple results set\",\"show percent random number generator c\",\"conditionally change color angularjs element\",\"missing photos retrieving users tagged photos facebook graph api\",\"show percent random number generator c\",\"java socket bug linux 0xff sent 3 received\",\"get posix time utc serial value local date time java 8 datetime api\",\"finding conditions java file\",\"capistrano connect remote dir also specifying specific port\",\"add five rows invaders space invader game python\",\"expect within bash script\",\"ear able find ejb module classes\",\"learning oo coding php static expressions php manual says everything value expression confused\",\"entity framework adding entity twice many many relationships\",\"regexpal differs browsers\",\"osx cron connected internet\",\"accessing data core data location background mode\",\"create link external file section sphinx\",\"software monitor events fired code\",\"media query div changing width everything else works\",\"swift detect cllocation valid\",\"7 dimensions pentaho google analytics transformation\",\"import java package android studio\",\"map mixins nested json response\",\"website automatically fit iphone screen\",\"php automatically refresh page content specific file changed\",\"regexpal differs browsers\",\"nserror using nil detect error actually turn error reporting\",\"duplicate xcode project create payment version free app\",\"higher frequency clock generation rtl\",\"returning directory string textblock\",\"ar application 3b object shown asus tablet\",\"convert ole automation date value date sql server\",\"file uploading issue yii2\",\"jquery validate plugin submitting\",\"xml serialization deserialization allowed wp8 1\",\"retrieve images sql server database wpf form linq databinding sql\",\"user identity name null authenticate via wif\",\"enum exist asc desc ordering net\",\"mongo collection query operators\",\"oracle error startup another startup shutdown operation instance progress\",\"c indicate purposely ignoring return value\",\"ie 10 link block get work\",\"create encrypted openpgp private key go\",\"downloading zip file android\",\"android screenorientation vs rotation\",\"clearing draw framebuffer works attached gl color attachment0\",\"using responsive plugin extjs 5\",\"get two template classes working together properties c\",\"phpstorm webstorm increase memory 512mb\",\"symfony 2 x shows broken layout clean install\",\"enabling static member conditionally without changing member scope\",\"fiddler possible replace part url using onbeforeresponse function\",\"hack js thoughts mixing object arguments inner variables external functions like kwargs w using\",\"phpunit test laravel controller session\",\"aws api gateway get time stamp integration request body mapping templates\",\"configure maven add junit 4 10 instead 3 8 dependency new project\",\"recreating skype quote javascript\",\"create table instruction parameter stored procedure\",\"java lang numberformatexception empty string sentiwordnet\",\"parse handle invalid session\",\"replace apache aliasmatch function nginx\",\"advanced slicing tuple using args\",\"c send type argument function\",\"search extract word rows sql\",\"convert informix cursor mssql cursor\",\"cakephp pagination associated habtm model model view controller\",\"update web page content like facebook news feed update\",\"custom domain pointed specific google app engine version domain\",\"storing random values arrays considering duplicates\",\"extract results linq query\",\"fluentnhibernate getting 1 column another table\",\"canonical way passing options go function\",\"replace swashbuckle ui completely\",\"kohana add multiple data relationship\",\"fields images displays active admin form\",\"htaccess mod rewrite subdomain\",\"dynamically generate list available languages spring mvc\",\"dynamically generate list available languages spring mvc\",\"convert special symbols web scraping r\",\"use id attribute reference variable tooltip\",\"xlsread function matlab systematically loads whole file specified cells\",\"best way select text portion cut based keywords\",\"stripslashes\",\"getting warning setting delegate custom protocol\",\"getting json data using jquery ajax jsp page\",\"get android version server side using asp net\",\"elm turn msg cmd msg\",\"vs 2017 specified deps json exist asp net core application\",\"inconsistent results finding factorial trailing zero\",\"django accepting get parameters\",\"swift generics subclasses\",\"swift getting struct work first view controller\",\"c emulator wifi\",\"could cause evopdf unable render html exception deployed azure website\",\"connect jms queue jboss eap 7 behind nat\",\"xcode 6 ios 8 app file\",\"selecting existing image android gallery intent data null samsung s7\",\"close menu user clicks anything except li children\",\"vimeo html 5 player showing\",\"making request linkedin api results 401\",\"change 1 123 456 789 1 123 456 789 python3\",\"settablistener error applying action bar navigation\",\"compile main hpp files makefile c\",\"run ansible plays tasks host playbook run via vagrant provisioner\",\"resize text totally fill container\",\"create ar marker vuforia unity\",\"parse error syntax error unexpected tried answers\",\"python requests invalid header name\",\"multithreading msvc showing improvement\",\"record microphone untill sound\",\"adding native php function ctags vim\",\"enforce rule based object ordering inserting list\",\"angular web project changing pages\",\"optimising uitableview process huge set data\",\"compass sass media queries 767px valid css value\",\"get ubi volume name volume id linux terminal\",\"plain loop python\",\"tableview custom uiview adding labels overlaps\",\"put items mysql database directly arduino\",\"jenkins skip scm parameter\",\"javascript affect element hovering\",\"java config spring interceptor interceptor using autowired spring beans\",\"cannot source shc compiled scripts\",\"possible use css vars css3 selectors\",\"use qlpreviewpanel\",\"exactly danger uninitialized pointer c\",\"associating records together\",\"show mouse pointer responsive mode\",\"get server name code sql server standard edition installed\",\"asp net aspx page code runs impersonated though impersonation disabled\",\"program compiled machine language run different machines\",\"connecting via tcp 3g mobile device\",\"get shared directories remote server\",\"jquery hide show table row based radio button checked\",\"deploy applets restrictions\",\"create binaryarray vbscript\",\"setup gui mysql\",\"treetagger r\",\"treetagger r\",\"change views iphone rotated\",\"avoid printbibliography swallowed org mode headings\",\"css right margin work inside div overflow scroll\",\"make int char 4 c\",\"get latitude longitude address save database\",\"select optimal key map reduce\",\"read write binary 16 bit data python 2 x\",\"data sent new view controller nil unwrapping optional value\",\"catching sound played vlcj\",\"populate treeview sql server database sql query print crystal report vb net\",\"qmake set platform toolset\",\"choosing non zeros long list numbers text file\",\"android virtual device opening ubuntu 16 10\",\"mysql pull results match like 3 4 expressions\",\"multi condition statement c\",\"designing iphone application photoshop design tools\",\"create tab dynamically tablayout\",\"upload image chevereto website c\",\"interface builder show hidden views views\",\"web config azure websites friendly url rewriting routing manual code writing\",\"web config azure websites friendly url rewriting routing manual code writing\",\"solving rossler attractor using runge kutta 4\",\"phpmyadmin update 4 3 6 generates undefined index navwork error\",\"visualvm float instances seem include floats inside classes\",\"shall unexpected indentation errors pointing rb files migrating rails 3 5\",\"substitute parenthesis regular expression\",\"spring cloud config server property encryption\",\"ssis warning failed decrypt encrypted xml node\",\"set timestamp timezone laravel 5 migrate\",\"ie8 jquery ui dialog set height contents zero fix\",\"multi condition statement c\",\"sort records code grouped listgrid\",\"want something similar iphone calendar list view\",\"extends form data scout eclipse\",\"typescript reflect getmetadata design type returns object instead date without angular testbed\",\"getting started jsf richfaces eclipse\",\"remove clients semp solace\",\"versioning copy wordpress\",\"write iron router nested template\",\"many statements java\",\"fade transition using php includes static navbar\",\"ordering bool types e true false\",\"import local module global python\",\"import local module global python\",\"getline sets failbit skips last line\",\"android broadcast receivers vs aidl\",\"tell intellij start gradle java 1 6 jdk\",\"feature request making api show profile thumbnails track thumbnails\",\"perform division timespan\",\"preview laravel mail sending\",\"starting android project phonegap\",\"metricam could load file assembly webcam dll\",\"making image available via url tomcat\",\"python zip sub folder entire folder path\",\"retrieve values array mongodb using c\",\"using date doctrine querybuilder\",\"cant get custom widget work replacing django default date time widget django admin\",\"edit variable compile less bootstrap yii framework\",\"add list view item dataset delphi\",\"make chat application android using xmpp gcm\",\"scaling modelinstance libgdx 3d bullet engine\",\"replacements available formerly widely supported behaviors defined c standard\",\"handle subdomains one laravel installation\",\"order view returns different results sql\",\"fill database table wxlistctrl using wxthread fill system going hang\",\"jenkins parameterized matrix job\",\"generating md5 hash qt\",\"strtotime returning unexpected results relative timestamps\",\"get frame given circles image\",\"use errorlistener ironruby\",\"nsjsonserialization emoji\",\"pass textarea value wysiwyg ckeditor\",\"inserting multiple rows php foreach\",\"class library connection string change\",\"add datepicker cake php\",\"running ironpython script python sandbox loadfromremotesources\",\"get data xsl file\",\"identify classes run time\",\"android app installation unknown failure failure installed 0\",\"left join temp default data another table\",\"change eclipse folder linux\",\"libdir odbc fdw missilng\",\"provide username shortdescription jenkins remote api job triggering\",\"ios viper architecture instantiate whole module\",\"require python module specific python version using setuptools\",\"multiple url routeprovider\",\"vagrant laravel vbox e file error\",\"catching sound played vlcj\",\"itext pdfgraphics2d create used absolute drawing order respected generated pdf\",\"bmp reader functioning correctly\",\"android using motionevent drag drop positioning views custom viewgroup\",\"find overlapping date ranges given list date ranges\",\"run selenium google app engine cloud\",\"make image align input element\",\"syntax error appending string separated commas mysql\",\"getting unique system id mac using c mono\",\"phpmailer connection refused exchange server\",\"angularjs remove n data\",\"printing console line dynamically\",\"get list selected files using getopenfilename multiselect flag\",\"playframework 2 1 find javax persistence play db\",\"spring security 4 customsecurityinternalresourceviewresolver\",\"php socket communication servers\",\"jquery ui tab navigation arrow css\",\"static const members cannot appear constant expression like switch\",\"technical reasons use undefined custom elements everything\",\"c 11 ide support qt creator\",\"spotify session callback get audio buffer stats\",\"custom tab bar segue app crash deallocated instance\",\"rss reader get updates since certain time\",\"sql iterating list call exec item\",\"http c library\",\"avoid redundancy c boost python docs\",\"document rating sharepoint 2013 hosted app\",\"initial width column qtableview via model\",\"get jar opencv\",\"making link gridview vb net 2012 windows form\",\"different colors bar boxplot ggplot2\",\"view postgresql raise notice go app\",\"xsl recursive loop node index\",\"google oauth2 web application hosted behind nat intranet server without public ip\",\"handle table id repetition\",\"share data within template ionic 2\",\"best web log analysis software\",\"unsupportedoperationexception java checking whether resultset closed\",\"make custom uicontrol ibdesignable ibinspectable\",\"binary operator cannot applied two cgaffinetransform operands\",\"useful set cookbook examples perl xml libxml dom parser x html\",\"import pch file top h file\",\"send values java class jsp page\",\"breeze ef6 updating changed columns\",\"java read random amounts socket whole message\",\"selenium wait elements presented\",\"custom memory allocator real mode dos com freestanding debug\",\"using dictionary template multiple times\",\"render docx file browser\",\"linq join asp mvc\",\"angularjs jsonp work localy\",\"property pk part object key information cannot modified error occurs successful data entry\",\"redirect static urls small urls\",\"countries province web service\",\"control architecture 32bit vs 64bit building pyinstaller executable\",\"using jenkins maven publish war file artifactory\",\"mysql search 1 2 3 11 22 33 field\",\"android tablelayout preserve column widths different tables\",\"append column checkbox wijmogrid\",\"natsort malfunction leading character php\",\"youtube working genymotion android 4 2 2 4 4 4\",\"reliable scalable solutions live audio streaming\",\"atomic increment check preconditions atomic value less specified value\",\"auto run jetty boot\",\"make python 2 compatible python 3\",\"rails 3 2 modifications css file reflecting assets precompile\",\"jquery pass function\"],\"x\":{\"__ndarray__\":\"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\",\"dtype\":\"float32\",\"shape\":[3760]},\"y\":{\"__ndarray__\":\"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\",\"dtype\":\"float32\",\"shape\":[3760]}},\"selected\":{\"id\":\"1165\"},\"selection_policy\":{\"id\":\"1164\"}},\"id\":\"1109\",\"type\":\"ColumnDataSource\"},{\"attributes\":{\"formatter\":{\"id\":\"1162\"},\"ticker\":{\"id\":\"1120\"}},\"id\":\"1119\",\"type\":\"LinearAxis\"},{\"attributes\":{\"overlay\":{\"id\":\"1133\"}},\"id\":\"1129\",\"type\":\"BoxZoomTool\"},{\"attributes\":{},\"id\":\"1130\",\"type\":\"SaveTool\"},{\"attributes\":{\"bottom_units\":\"screen\",\"fill_alpha\":0.5,\"fill_color\":\"lightgrey\",\"left_units\":\"screen\",\"level\":\"overlay\",\"line_alpha\":1.0,\"line_color\":\"black\",\"line_dash\":[4,4],\"line_width\":2,\"render_mode\":\"css\",\"right_units\":\"screen\",\"top_units\":\"screen\"},\"id\":\"1133\",\"type\":\"BoxAnnotation\"},{\"attributes\":{},\"id\":\"1132\",\"type\":\"HelpTool\"},{\"attributes\":{\"source\":{\"id\":\"1109\"}},\"id\":\"1145\",\"type\":\"CDSView\"},{\"attributes\":{},\"id\":\"1115\",\"type\":\"LinearScale\"},{\"attributes\":{},\"id\":\"1131\",\"type\":\"ResetTool\"},{\"attributes\":{},\"id\":\"1117\",\"type\":\"LinearScale\"},{\"attributes\":{\"data_source\":{\"id\":\"1109\"},\"glyph\":{\"id\":\"1142\"},\"hover_glyph\":null,\"muted_glyph\":null,\"nonselection_glyph\":{\"id\":\"1143\"},\"selection_glyph\":null,\"view\":{\"id\":\"1145\"}},\"id\":\"1144\",\"type\":\"GlyphRenderer\"},{\"attributes\":{\"text\":\"\"},\"id\":\"1158\",\"type\":\"Title\"},{\"attributes\":{},\"id\":\"1120\",\"type\":\"BasicTicker\"},{\"attributes\":{},\"id\":\"1164\",\"type\":\"UnionRenderers\"},{\"attributes\":{},\"id\":\"1162\",\"type\":\"BasicTickFormatter\"},{\"attributes\":{\"callback\":null,\"tooltips\":[[\"token\",\"@token\"]]},\"id\":\"1146\",\"type\":\"HoverTool\"},{\"attributes\":{\"axis\":{\"id\":\"1119\"},\"ticker\":null},\"id\":\"1122\",\"type\":\"Grid\"},{\"attributes\":{\"formatter\":{\"id\":\"1160\"},\"ticker\":{\"id\":\"1124\"}},\"id\":\"1123\",\"type\":\"LinearAxis\"},{\"attributes\":{\"fill_alpha\":{\"value\":0.25},\"fill_color\":{\"field\":\"color\"},\"line_alpha\":{\"value\":0.25},\"line_color\":{\"field\":\"color\"},\"size\":{\"units\":\"screen\",\"value\":10},\"x\":{\"field\":\"x\"},\"y\":{\"field\":\"y\"}},\"id\":\"1142\",\"type\":\"Scatter\"},{\"attributes\":{},\"id\":\"1124\",\"type\":\"BasicTicker\"},{\"attributes\":{},\"id\":\"1160\",\"type\":\"BasicTickFormatter\"},{\"attributes\":{\"axis\":{\"id\":\"1123\"},\"dimension\":1,\"ticker\":null},\"id\":\"1126\",\"type\":\"Grid\"},{\"attributes\":{\"fill_alpha\":{\"value\":0.1},\"fill_color\":{\"field\":\"color\"},\"line_alpha\":{\"value\":0.1},\"line_color\":{\"field\":\"color\"},\"size\":{\"units\":\"screen\",\"value\":10},\"x\":{\"field\":\"x\"},\"y\":{\"field\":\"y\"}},\"id\":\"1143\",\"type\":\"Scatter\"}],\"root_ids\":[\"1110\"]},\"title\":\"Bokeh Application\",\"version\":\"2.0.1\"}};\n",
              "  var render_items = [{\"docid\":\"52c21c44-437b-4b99-826b-9f10733e7652\",\"root_ids\":[\"1110\"],\"roots\":{\"1110\":\"4a7399ce-163e-4e22-8aa4-53bab7e1fc36\"}}];\n",
              "  root.Bokeh.embed.embed_items_notebook(docs_json, render_items);\n",
              "\n",
              "  }\n",
              "  if (root.Bokeh !== undefined) {\n",
              "    embed_document(root);\n",
              "  } else {\n",
              "    var attempts = 0;\n",
              "    var timer = setInterval(function(root) {\n",
              "      if (root.Bokeh !== undefined) {\n",
              "        clearInterval(timer);\n",
              "        embed_document(root);\n",
              "      } else {\n",
              "        attempts++;\n",
              "        if (attempts > 100) {\n",
              "          clearInterval(timer);\n",
              "          console.log(\"Bokeh: ERROR: Unable to run BokehJS code because BokehJS library is missing\");\n",
              "        }\n",
              "      }\n",
              "    }, 10, root)\n",
              "  }\n",
              "})(window);"
            ],
            "application/vnd.bokehjs_exec.v0+json": ""
          },
          "metadata": {
            "tags": [],
            "application/vnd.bokehjs_exec.v0+json": {
              "id": "1110"
            }
          }
        },
        {
          "output_type": "execute_result",
          "data": {
            "text/html": [
              "<div style=\"display: table;\"><div style=\"display: table-row;\"><div style=\"display: table-cell;\"><b title=\"bokeh.plotting.figure.Figure\">Figure</b>(</div><div style=\"display: table-cell;\">id&nbsp;=&nbsp;'1110', <span id=\"1221\" style=\"cursor: pointer;\">&hellip;)</span></div></div><div class=\"1220\" style=\"display: none;\"><div style=\"display: table-cell;\"></div><div style=\"display: table-cell;\">above&nbsp;=&nbsp;[],</div></div><div class=\"1220\" style=\"display: none;\"><div style=\"display: table-cell;\"></div><div style=\"display: table-cell;\">align&nbsp;=&nbsp;'start',</div></div><div class=\"1220\" style=\"display: none;\"><div style=\"display: table-cell;\"></div><div style=\"display: table-cell;\">aspect_ratio&nbsp;=&nbsp;None,</div></div><div class=\"1220\" style=\"display: none;\"><div style=\"display: table-cell;\"></div><div style=\"display: table-cell;\">aspect_scale&nbsp;=&nbsp;1,</div></div><div class=\"1220\" style=\"display: none;\"><div style=\"display: table-cell;\"></div><div style=\"display: table-cell;\">background&nbsp;=&nbsp;None,</div></div><div class=\"1220\" style=\"display: none;\"><div style=\"display: table-cell;\"></div><div style=\"display: table-cell;\">background_fill_alpha&nbsp;=&nbsp;1.0,</div></div><div class=\"1220\" style=\"display: none;\"><div style=\"display: table-cell;\"></div><div style=\"display: table-cell;\">background_fill_color&nbsp;=&nbsp;'#ffffff',</div></div><div class=\"1220\" style=\"display: none;\"><div style=\"display: table-cell;\"></div><div style=\"display: table-cell;\">below&nbsp;=&nbsp;[LinearAxis(id='1119', ...)],</div></div><div class=\"1220\" style=\"display: none;\"><div style=\"display: table-cell;\"></div><div style=\"display: table-cell;\">border_fill_alpha&nbsp;=&nbsp;1.0,</div></div><div class=\"1220\" style=\"display: none;\"><div style=\"display: table-cell;\"></div><div style=\"display: table-cell;\">border_fill_color&nbsp;=&nbsp;'#ffffff',</div></div><div class=\"1220\" style=\"display: none;\"><div style=\"display: table-cell;\"></div><div style=\"display: table-cell;\">center&nbsp;=&nbsp;[Grid(id='1122', ...), Grid(id='1126', ...)],</div></div><div class=\"1220\" style=\"display: none;\"><div style=\"display: table-cell;\"></div><div style=\"display: table-cell;\">css_classes&nbsp;=&nbsp;[],</div></div><div class=\"1220\" style=\"display: none;\"><div style=\"display: table-cell;\"></div><div style=\"display: table-cell;\">disabled&nbsp;=&nbsp;False,</div></div><div class=\"1220\" style=\"display: none;\"><div style=\"display: table-cell;\"></div><div style=\"display: table-cell;\">extra_x_ranges&nbsp;=&nbsp;{},</div></div><div class=\"1220\" style=\"display: none;\"><div style=\"display: table-cell;\"></div><div style=\"display: table-cell;\">extra_y_ranges&nbsp;=&nbsp;{},</div></div><div class=\"1220\" style=\"display: none;\"><div style=\"display: table-cell;\"></div><div style=\"display: table-cell;\">frame_height&nbsp;=&nbsp;None,</div></div><div class=\"1220\" style=\"display: none;\"><div style=\"display: table-cell;\"></div><div style=\"display: table-cell;\">frame_width&nbsp;=&nbsp;None,</div></div><div class=\"1220\" style=\"display: none;\"><div style=\"display: table-cell;\"></div><div style=\"display: table-cell;\">height&nbsp;=&nbsp;None,</div></div><div class=\"1220\" style=\"display: none;\"><div style=\"display: table-cell;\"></div><div style=\"display: table-cell;\">height_policy&nbsp;=&nbsp;'auto',</div></div><div class=\"1220\" style=\"display: none;\"><div style=\"display: table-cell;\"></div><div style=\"display: table-cell;\">hidpi&nbsp;=&nbsp;True,</div></div><div class=\"1220\" style=\"display: none;\"><div style=\"display: table-cell;\"></div><div style=\"display: table-cell;\">js_event_callbacks&nbsp;=&nbsp;{},</div></div><div class=\"1220\" style=\"display: none;\"><div style=\"display: table-cell;\"></div><div style=\"display: table-cell;\">js_property_callbacks&nbsp;=&nbsp;{},</div></div><div class=\"1220\" style=\"display: none;\"><div style=\"display: table-cell;\"></div><div style=\"display: table-cell;\">left&nbsp;=&nbsp;[LinearAxis(id='1123', ...)],</div></div><div class=\"1220\" style=\"display: none;\"><div style=\"display: table-cell;\"></div><div style=\"display: table-cell;\">lod_factor&nbsp;=&nbsp;10,</div></div><div class=\"1220\" style=\"display: none;\"><div style=\"display: table-cell;\"></div><div style=\"display: table-cell;\">lod_interval&nbsp;=&nbsp;300,</div></div><div class=\"1220\" style=\"display: none;\"><div style=\"display: table-cell;\"></div><div style=\"display: table-cell;\">lod_threshold&nbsp;=&nbsp;2000,</div></div><div class=\"1220\" style=\"display: none;\"><div style=\"display: table-cell;\"></div><div style=\"display: table-cell;\">lod_timeout&nbsp;=&nbsp;500,</div></div><div class=\"1220\" style=\"display: none;\"><div style=\"display: table-cell;\"></div><div style=\"display: table-cell;\">margin&nbsp;=&nbsp;(0, 0, 0, 0),</div></div><div class=\"1220\" style=\"display: none;\"><div style=\"display: table-cell;\"></div><div style=\"display: table-cell;\">match_aspect&nbsp;=&nbsp;False,</div></div><div class=\"1220\" style=\"display: none;\"><div style=\"display: table-cell;\"></div><div style=\"display: table-cell;\">max_height&nbsp;=&nbsp;None,</div></div><div class=\"1220\" style=\"display: none;\"><div style=\"display: table-cell;\"></div><div style=\"display: table-cell;\">max_width&nbsp;=&nbsp;None,</div></div><div class=\"1220\" style=\"display: none;\"><div style=\"display: table-cell;\"></div><div style=\"display: table-cell;\">min_border&nbsp;=&nbsp;5,</div></div><div class=\"1220\" style=\"display: none;\"><div style=\"display: table-cell;\"></div><div style=\"display: table-cell;\">min_border_bottom&nbsp;=&nbsp;None,</div></div><div class=\"1220\" style=\"display: none;\"><div style=\"display: table-cell;\"></div><div style=\"display: table-cell;\">min_border_left&nbsp;=&nbsp;None,</div></div><div class=\"1220\" style=\"display: none;\"><div style=\"display: table-cell;\"></div><div style=\"display: table-cell;\">min_border_right&nbsp;=&nbsp;None,</div></div><div class=\"1220\" style=\"display: none;\"><div style=\"display: table-cell;\"></div><div style=\"display: table-cell;\">min_border_top&nbsp;=&nbsp;None,</div></div><div class=\"1220\" style=\"display: none;\"><div style=\"display: table-cell;\"></div><div style=\"display: table-cell;\">min_height&nbsp;=&nbsp;None,</div></div><div class=\"1220\" style=\"display: none;\"><div style=\"display: table-cell;\"></div><div style=\"display: table-cell;\">min_width&nbsp;=&nbsp;None,</div></div><div class=\"1220\" style=\"display: none;\"><div style=\"display: table-cell;\"></div><div style=\"display: table-cell;\">name&nbsp;=&nbsp;None,</div></div><div class=\"1220\" style=\"display: none;\"><div style=\"display: table-cell;\"></div><div style=\"display: table-cell;\">outline_line_alpha&nbsp;=&nbsp;1.0,</div></div><div class=\"1220\" style=\"display: none;\"><div style=\"display: table-cell;\"></div><div style=\"display: table-cell;\">outline_line_cap&nbsp;=&nbsp;'butt',</div></div><div class=\"1220\" style=\"display: none;\"><div style=\"display: table-cell;\"></div><div style=\"display: table-cell;\">outline_line_color&nbsp;=&nbsp;'#e5e5e5',</div></div><div class=\"1220\" style=\"display: none;\"><div style=\"display: table-cell;\"></div><div style=\"display: table-cell;\">outline_line_dash&nbsp;=&nbsp;[],</div></div><div class=\"1220\" style=\"display: none;\"><div style=\"display: table-cell;\"></div><div style=\"display: table-cell;\">outline_line_dash_offset&nbsp;=&nbsp;0,</div></div><div class=\"1220\" style=\"display: none;\"><div style=\"display: table-cell;\"></div><div style=\"display: table-cell;\">outline_line_join&nbsp;=&nbsp;'bevel',</div></div><div class=\"1220\" style=\"display: none;\"><div style=\"display: table-cell;\"></div><div style=\"display: table-cell;\">outline_line_width&nbsp;=&nbsp;1,</div></div><div class=\"1220\" style=\"display: none;\"><div style=\"display: table-cell;\"></div><div style=\"display: table-cell;\">output_backend&nbsp;=&nbsp;'canvas',</div></div><div class=\"1220\" style=\"display: none;\"><div style=\"display: table-cell;\"></div><div style=\"display: table-cell;\">plot_height&nbsp;=&nbsp;400,</div></div><div class=\"1220\" style=\"display: none;\"><div style=\"display: table-cell;\"></div><div style=\"display: table-cell;\">plot_width&nbsp;=&nbsp;600,</div></div><div class=\"1220\" style=\"display: none;\"><div style=\"display: table-cell;\"></div><div style=\"display: table-cell;\">renderers&nbsp;=&nbsp;[GlyphRenderer(id='1144', ...)],</div></div><div class=\"1220\" style=\"display: none;\"><div style=\"display: table-cell;\"></div><div style=\"display: table-cell;\">reset_policy&nbsp;=&nbsp;'standard',</div></div><div class=\"1220\" style=\"display: none;\"><div style=\"display: table-cell;\"></div><div style=\"display: table-cell;\">right&nbsp;=&nbsp;[],</div></div><div class=\"1220\" style=\"display: none;\"><div style=\"display: table-cell;\"></div><div style=\"display: table-cell;\">sizing_mode&nbsp;=&nbsp;None,</div></div><div class=\"1220\" style=\"display: none;\"><div style=\"display: table-cell;\"></div><div style=\"display: table-cell;\">subscribed_events&nbsp;=&nbsp;[],</div></div><div class=\"1220\" style=\"display: none;\"><div style=\"display: table-cell;\"></div><div style=\"display: table-cell;\">tags&nbsp;=&nbsp;[],</div></div><div class=\"1220\" style=\"display: none;\"><div style=\"display: table-cell;\"></div><div style=\"display: table-cell;\">title&nbsp;=&nbsp;Title(id='1158', ...),</div></div><div class=\"1220\" style=\"display: none;\"><div style=\"display: table-cell;\"></div><div style=\"display: table-cell;\">title_location&nbsp;=&nbsp;'above',</div></div><div class=\"1220\" style=\"display: none;\"><div style=\"display: table-cell;\"></div><div style=\"display: table-cell;\">toolbar&nbsp;=&nbsp;Toolbar(id='1134', ...),</div></div><div class=\"1220\" style=\"display: none;\"><div style=\"display: table-cell;\"></div><div style=\"display: table-cell;\">toolbar_location&nbsp;=&nbsp;'right',</div></div><div class=\"1220\" style=\"display: none;\"><div style=\"display: table-cell;\"></div><div style=\"display: table-cell;\">toolbar_sticky&nbsp;=&nbsp;True,</div></div><div class=\"1220\" style=\"display: none;\"><div style=\"display: table-cell;\"></div><div style=\"display: table-cell;\">visible&nbsp;=&nbsp;True,</div></div><div class=\"1220\" style=\"display: none;\"><div style=\"display: table-cell;\"></div><div style=\"display: table-cell;\">width&nbsp;=&nbsp;None,</div></div><div class=\"1220\" style=\"display: none;\"><div style=\"display: table-cell;\"></div><div style=\"display: table-cell;\">width_policy&nbsp;=&nbsp;'auto',</div></div><div class=\"1220\" style=\"display: none;\"><div style=\"display: table-cell;\"></div><div style=\"display: table-cell;\">x_range&nbsp;=&nbsp;DataRange1d(id='1111', ...),</div></div><div class=\"1220\" style=\"display: none;\"><div style=\"display: table-cell;\"></div><div style=\"display: table-cell;\">x_scale&nbsp;=&nbsp;LinearScale(id='1115', ...),</div></div><div class=\"1220\" style=\"display: none;\"><div style=\"display: table-cell;\"></div><div style=\"display: table-cell;\">y_range&nbsp;=&nbsp;DataRange1d(id='1113', ...),</div></div><div class=\"1220\" style=\"display: none;\"><div style=\"display: table-cell;\"></div><div style=\"display: table-cell;\">y_scale&nbsp;=&nbsp;LinearScale(id='1117', ...))</div></div></div>\n",
              "<script>\n",
              "(function() {\n",
              "  var expanded = false;\n",
              "  var ellipsis = document.getElementById(\"1221\");\n",
              "  ellipsis.addEventListener(\"click\", function() {\n",
              "    var rows = document.getElementsByClassName(\"1220\");\n",
              "    for (var i = 0; i < rows.length; i++) {\n",
              "      var el = rows[i];\n",
              "      el.style.display = expanded ? \"none\" : \"table-row\";\n",
              "    }\n",
              "    ellipsis.innerHTML = expanded ? \"&hellip;)\" : \"&lsaquo;&lsaquo;&lsaquo;\";\n",
              "    expanded = !expanded;\n",
              "  });\n",
              "})();\n",
              "</script>\n"
            ],
            "text/plain": [
              "Figure(id='1110', ...)"
            ]
          },
          "metadata": {
            "tags": []
          },
          "execution_count": 82
        }
      ]
    },
    {
      "cell_type": "markdown",
      "metadata": {
        "colab_type": "text",
        "id": "8WP6SLiZ5a5x"
      },
      "source": [
        "Отлично. Но, к сожалению, визуализацию тестами на канвасе проверить нельзя, поэтому давайте еще напишем функцию, которая будет находить к вопросу ближайшие похожие =)"
      ]
    },
    {
      "cell_type": "code",
      "metadata": {
        "colab_type": "code",
        "id": "h6Ob7JIp5a5y",
        "colab": {}
      },
      "source": [
        "def find_closest_questions(question, k=5):\n",
        "    \"\"\"\n",
        "    function that finds closest questions from dataset given question\n",
        "    args:\n",
        "        question: question, preprocessed using text_prepare \n",
        "        k: how many nearest questions to find\n",
        "    \"\"\"\n",
        "    # векторизируем вопрос\n",
        "    vec_question = question_to_vec(question, wv_embeddings)[None,...]\n",
        "\n",
        "    # находим косинусное расстояние\n",
        "    dist_s = cosine_similarity(vec_ques, vec_question)[:, 0]\n",
        "\n",
        "    # сортируем полученные расстояния по убыванию\n",
        "    dist_s_sorted = sorted(dist_s)[::-1][: k]\n",
        "    ques_sorted = deepcopy(ques[dist_s.argsort()[::-1]])[: k]\n",
        "\n",
        "    # формируем словарь с ближайшим похожим вопросом и соответствующим ему расстоянию\n",
        "    nearest_sorted = dict(zip(ques_sorted, dist_s_sorted))\n",
        "\n",
        "    return nearest_sorted"
      ],
      "execution_count": 0,
      "outputs": []
    },
    {
      "cell_type": "code",
      "metadata": {
        "colab_type": "code",
        "id": "gOuOgPd_5a5z",
        "outputId": "b1155589-1eb0-461d-9078-db19511bd69a",
        "colab": {}
      },
      "source": [
        "find_closest_questions(text_prepare(\"Why am I so stupid?\"))"
      ],
      "execution_count": 0,
      "outputs": [
        {
          "output_type": "execute_result",
          "data": {
            "text/plain": [
              "{'hello guys getting error submitting simple form honestly know': 0.5218925235208134,\n",
              " 'wpdb insert big problem weird': 0.5117990989728631,\n",
              " 'uiscrollview zoomtorect animated weird behavior contentsize bounds size': 0.4372012721470467,\n",
              " 'xmlhttprequest response type wrong firefox': 0.42793879610947216,\n",
              " 'javascript value composed several words value dog crazy': 0.42308638656988573}"
            ]
          },
          "metadata": {
            "tags": []
          },
          "execution_count": 84
        }
      ]
    },
    {
      "cell_type": "markdown",
      "metadata": {
        "colab_type": "text",
        "id": "7eqgzVF85a51"
      },
      "source": [
        "### Вопрос 10:\n",
        "* Какой самый ближайший вопрос к \"Why am I so stupid?\"?\n",
        "В канвас напишите слова вопроса с маленькой буквы через пробелы без знаков пунктуации (только латинские буквы)"
      ]
    },
    {
      "cell_type": "code",
      "metadata": {
        "id": "HJ6Ejh8WdmT3",
        "colab_type": "code",
        "colab": {}
      },
      "source": [
        "hello guys getting error submitting simple form honestly know"
      ],
      "execution_count": 0,
      "outputs": []
    }
  ]
}