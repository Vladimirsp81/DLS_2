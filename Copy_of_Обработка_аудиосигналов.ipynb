{
  "nbformat": 4,
  "nbformat_minor": 0,
  "metadata": {
    "colab": {
      "name": "Copy of Обработка_аудиосигналов.ipynb",
      "provenance": [],
      "collapsed_sections": [],
      "toc_visible": true,
      "include_colab_link": true
    },
    "kernelspec": {
      "name": "python3",
      "display_name": "Python 3"
    },
    "widgets": {
      "application/vnd.jupyter.widget-state+json": {
        "85731031600c48cd854db08841b927ba": {
          "model_module": "@jupyter-widgets/controls",
          "model_name": "HBoxModel",
          "state": {
            "_view_name": "HBoxView",
            "_dom_classes": [],
            "_model_name": "HBoxModel",
            "_view_module": "@jupyter-widgets/controls",
            "_model_module_version": "1.5.0",
            "_view_count": null,
            "_view_module_version": "1.5.0",
            "box_style": "",
            "layout": "IPY_MODEL_be8a0fde9c614f0982e5a5d91891be7a",
            "_model_module": "@jupyter-widgets/controls",
            "children": [
              "IPY_MODEL_8074c85a80e94ff3bec451f414141f31",
              "IPY_MODEL_85166e8a6c53405fb9b8dfa07dabbb1f"
            ]
          }
        },
        "be8a0fde9c614f0982e5a5d91891be7a": {
          "model_module": "@jupyter-widgets/base",
          "model_name": "LayoutModel",
          "state": {
            "_view_name": "LayoutView",
            "grid_template_rows": null,
            "right": null,
            "justify_content": null,
            "_view_module": "@jupyter-widgets/base",
            "overflow": null,
            "_model_module_version": "1.2.0",
            "_view_count": null,
            "flex_flow": null,
            "width": null,
            "min_width": null,
            "border": null,
            "align_items": null,
            "bottom": null,
            "_model_module": "@jupyter-widgets/base",
            "top": null,
            "grid_column": null,
            "overflow_y": null,
            "overflow_x": null,
            "grid_auto_flow": null,
            "grid_area": null,
            "grid_template_columns": null,
            "flex": null,
            "_model_name": "LayoutModel",
            "justify_items": null,
            "grid_row": null,
            "max_height": null,
            "align_content": null,
            "visibility": null,
            "align_self": null,
            "height": null,
            "min_height": null,
            "padding": null,
            "grid_auto_rows": null,
            "grid_gap": null,
            "max_width": null,
            "order": null,
            "_view_module_version": "1.2.0",
            "grid_template_areas": null,
            "object_position": null,
            "object_fit": null,
            "grid_auto_columns": null,
            "margin": null,
            "display": null,
            "left": null
          }
        },
        "8074c85a80e94ff3bec451f414141f31": {
          "model_module": "@jupyter-widgets/controls",
          "model_name": "FloatProgressModel",
          "state": {
            "_view_name": "ProgressView",
            "style": "IPY_MODEL_4a45af2dcce94fbe846e4b21df0902b2",
            "_dom_classes": [],
            "description": "100%",
            "_model_name": "FloatProgressModel",
            "bar_style": "success",
            "max": 400,
            "_view_module": "@jupyter-widgets/controls",
            "_model_module_version": "1.5.0",
            "value": 400,
            "_view_count": null,
            "_view_module_version": "1.5.0",
            "orientation": "horizontal",
            "min": 0,
            "description_tooltip": null,
            "_model_module": "@jupyter-widgets/controls",
            "layout": "IPY_MODEL_4f71f4cc9b4e40c990b121cb938843c7"
          }
        },
        "85166e8a6c53405fb9b8dfa07dabbb1f": {
          "model_module": "@jupyter-widgets/controls",
          "model_name": "HTMLModel",
          "state": {
            "_view_name": "HTMLView",
            "style": "IPY_MODEL_20a2a65bdcff4df28c2ad375549d5181",
            "_dom_classes": [],
            "description": "",
            "_model_name": "HTMLModel",
            "placeholder": "​",
            "_view_module": "@jupyter-widgets/controls",
            "_model_module_version": "1.5.0",
            "value": " 400/400 [1:58:43&lt;00:00, 17.81s/it]",
            "_view_count": null,
            "_view_module_version": "1.5.0",
            "description_tooltip": null,
            "_model_module": "@jupyter-widgets/controls",
            "layout": "IPY_MODEL_36cd0e8f9d734b38a667226e64a15d24"
          }
        },
        "4a45af2dcce94fbe846e4b21df0902b2": {
          "model_module": "@jupyter-widgets/controls",
          "model_name": "ProgressStyleModel",
          "state": {
            "_view_name": "StyleView",
            "_model_name": "ProgressStyleModel",
            "description_width": "initial",
            "_view_module": "@jupyter-widgets/base",
            "_model_module_version": "1.5.0",
            "_view_count": null,
            "_view_module_version": "1.2.0",
            "bar_color": null,
            "_model_module": "@jupyter-widgets/controls"
          }
        },
        "4f71f4cc9b4e40c990b121cb938843c7": {
          "model_module": "@jupyter-widgets/base",
          "model_name": "LayoutModel",
          "state": {
            "_view_name": "LayoutView",
            "grid_template_rows": null,
            "right": null,
            "justify_content": null,
            "_view_module": "@jupyter-widgets/base",
            "overflow": null,
            "_model_module_version": "1.2.0",
            "_view_count": null,
            "flex_flow": null,
            "width": null,
            "min_width": null,
            "border": null,
            "align_items": null,
            "bottom": null,
            "_model_module": "@jupyter-widgets/base",
            "top": null,
            "grid_column": null,
            "overflow_y": null,
            "overflow_x": null,
            "grid_auto_flow": null,
            "grid_area": null,
            "grid_template_columns": null,
            "flex": null,
            "_model_name": "LayoutModel",
            "justify_items": null,
            "grid_row": null,
            "max_height": null,
            "align_content": null,
            "visibility": null,
            "align_self": null,
            "height": null,
            "min_height": null,
            "padding": null,
            "grid_auto_rows": null,
            "grid_gap": null,
            "max_width": null,
            "order": null,
            "_view_module_version": "1.2.0",
            "grid_template_areas": null,
            "object_position": null,
            "object_fit": null,
            "grid_auto_columns": null,
            "margin": null,
            "display": null,
            "left": null
          }
        },
        "20a2a65bdcff4df28c2ad375549d5181": {
          "model_module": "@jupyter-widgets/controls",
          "model_name": "DescriptionStyleModel",
          "state": {
            "_view_name": "StyleView",
            "_model_name": "DescriptionStyleModel",
            "description_width": "",
            "_view_module": "@jupyter-widgets/base",
            "_model_module_version": "1.5.0",
            "_view_count": null,
            "_view_module_version": "1.2.0",
            "_model_module": "@jupyter-widgets/controls"
          }
        },
        "36cd0e8f9d734b38a667226e64a15d24": {
          "model_module": "@jupyter-widgets/base",
          "model_name": "LayoutModel",
          "state": {
            "_view_name": "LayoutView",
            "grid_template_rows": null,
            "right": null,
            "justify_content": null,
            "_view_module": "@jupyter-widgets/base",
            "overflow": null,
            "_model_module_version": "1.2.0",
            "_view_count": null,
            "flex_flow": null,
            "width": null,
            "min_width": null,
            "border": null,
            "align_items": null,
            "bottom": null,
            "_model_module": "@jupyter-widgets/base",
            "top": null,
            "grid_column": null,
            "overflow_y": null,
            "overflow_x": null,
            "grid_auto_flow": null,
            "grid_area": null,
            "grid_template_columns": null,
            "flex": null,
            "_model_name": "LayoutModel",
            "justify_items": null,
            "grid_row": null,
            "max_height": null,
            "align_content": null,
            "visibility": null,
            "align_self": null,
            "height": null,
            "min_height": null,
            "padding": null,
            "grid_auto_rows": null,
            "grid_gap": null,
            "max_width": null,
            "order": null,
            "_view_module_version": "1.2.0",
            "grid_template_areas": null,
            "object_position": null,
            "object_fit": null,
            "grid_auto_columns": null,
            "margin": null,
            "display": null,
            "left": null
          }
        },
        "aadb6c8bdc354252bf6ccecd2d636c4e": {
          "model_module": "@jupyter-widgets/controls",
          "model_name": "HBoxModel",
          "state": {
            "_view_name": "HBoxView",
            "_dom_classes": [],
            "_model_name": "HBoxModel",
            "_view_module": "@jupyter-widgets/controls",
            "_model_module_version": "1.5.0",
            "_view_count": null,
            "_view_module_version": "1.5.0",
            "box_style": "",
            "layout": "IPY_MODEL_8154ab7317b44b48a3b43a5ef64ff0b3",
            "_model_module": "@jupyter-widgets/controls",
            "children": [
              "IPY_MODEL_882d622e1cec45bb80145130b7a08ff6",
              "IPY_MODEL_4a90e741b64d46b5987194174f91be40"
            ]
          }
        },
        "8154ab7317b44b48a3b43a5ef64ff0b3": {
          "model_module": "@jupyter-widgets/base",
          "model_name": "LayoutModel",
          "state": {
            "_view_name": "LayoutView",
            "grid_template_rows": null,
            "right": null,
            "justify_content": null,
            "_view_module": "@jupyter-widgets/base",
            "overflow": null,
            "_model_module_version": "1.2.0",
            "_view_count": null,
            "flex_flow": null,
            "width": null,
            "min_width": null,
            "border": null,
            "align_items": null,
            "bottom": null,
            "_model_module": "@jupyter-widgets/base",
            "top": null,
            "grid_column": null,
            "overflow_y": null,
            "overflow_x": null,
            "grid_auto_flow": null,
            "grid_area": null,
            "grid_template_columns": null,
            "flex": null,
            "_model_name": "LayoutModel",
            "justify_items": null,
            "grid_row": null,
            "max_height": null,
            "align_content": null,
            "visibility": null,
            "align_self": null,
            "height": null,
            "min_height": null,
            "padding": null,
            "grid_auto_rows": null,
            "grid_gap": null,
            "max_width": null,
            "order": null,
            "_view_module_version": "1.2.0",
            "grid_template_areas": null,
            "object_position": null,
            "object_fit": null,
            "grid_auto_columns": null,
            "margin": null,
            "display": null,
            "left": null
          }
        },
        "882d622e1cec45bb80145130b7a08ff6": {
          "model_module": "@jupyter-widgets/controls",
          "model_name": "FloatProgressModel",
          "state": {
            "_view_name": "ProgressView",
            "style": "IPY_MODEL_ecbcf696623344758a9d69820a0a67c7",
            "_dom_classes": [],
            "description": "100%",
            "_model_name": "FloatProgressModel",
            "bar_style": "success",
            "max": 150,
            "_view_module": "@jupyter-widgets/controls",
            "_model_module_version": "1.5.0",
            "value": 150,
            "_view_count": null,
            "_view_module_version": "1.5.0",
            "orientation": "horizontal",
            "min": 0,
            "description_tooltip": null,
            "_model_module": "@jupyter-widgets/controls",
            "layout": "IPY_MODEL_4bcc4fc7bbe74e83acae592f705e57c3"
          }
        },
        "4a90e741b64d46b5987194174f91be40": {
          "model_module": "@jupyter-widgets/controls",
          "model_name": "HTMLModel",
          "state": {
            "_view_name": "HTMLView",
            "style": "IPY_MODEL_7dff1c93322a42ce9dbdd7150feec9e0",
            "_dom_classes": [],
            "description": "",
            "_model_name": "HTMLModel",
            "placeholder": "​",
            "_view_module": "@jupyter-widgets/controls",
            "_model_module_version": "1.5.0",
            "value": " 150/150 [1:57:47&lt;00:00, 47.12s/it]",
            "_view_count": null,
            "_view_module_version": "1.5.0",
            "description_tooltip": null,
            "_model_module": "@jupyter-widgets/controls",
            "layout": "IPY_MODEL_b6c2641a584545818d883495bbdb8d60"
          }
        },
        "ecbcf696623344758a9d69820a0a67c7": {
          "model_module": "@jupyter-widgets/controls",
          "model_name": "ProgressStyleModel",
          "state": {
            "_view_name": "StyleView",
            "_model_name": "ProgressStyleModel",
            "description_width": "initial",
            "_view_module": "@jupyter-widgets/base",
            "_model_module_version": "1.5.0",
            "_view_count": null,
            "_view_module_version": "1.2.0",
            "bar_color": null,
            "_model_module": "@jupyter-widgets/controls"
          }
        },
        "4bcc4fc7bbe74e83acae592f705e57c3": {
          "model_module": "@jupyter-widgets/base",
          "model_name": "LayoutModel",
          "state": {
            "_view_name": "LayoutView",
            "grid_template_rows": null,
            "right": null,
            "justify_content": null,
            "_view_module": "@jupyter-widgets/base",
            "overflow": null,
            "_model_module_version": "1.2.0",
            "_view_count": null,
            "flex_flow": null,
            "width": null,
            "min_width": null,
            "border": null,
            "align_items": null,
            "bottom": null,
            "_model_module": "@jupyter-widgets/base",
            "top": null,
            "grid_column": null,
            "overflow_y": null,
            "overflow_x": null,
            "grid_auto_flow": null,
            "grid_area": null,
            "grid_template_columns": null,
            "flex": null,
            "_model_name": "LayoutModel",
            "justify_items": null,
            "grid_row": null,
            "max_height": null,
            "align_content": null,
            "visibility": null,
            "align_self": null,
            "height": null,
            "min_height": null,
            "padding": null,
            "grid_auto_rows": null,
            "grid_gap": null,
            "max_width": null,
            "order": null,
            "_view_module_version": "1.2.0",
            "grid_template_areas": null,
            "object_position": null,
            "object_fit": null,
            "grid_auto_columns": null,
            "margin": null,
            "display": null,
            "left": null
          }
        },
        "7dff1c93322a42ce9dbdd7150feec9e0": {
          "model_module": "@jupyter-widgets/controls",
          "model_name": "DescriptionStyleModel",
          "state": {
            "_view_name": "StyleView",
            "_model_name": "DescriptionStyleModel",
            "description_width": "",
            "_view_module": "@jupyter-widgets/base",
            "_model_module_version": "1.5.0",
            "_view_count": null,
            "_view_module_version": "1.2.0",
            "_model_module": "@jupyter-widgets/controls"
          }
        },
        "b6c2641a584545818d883495bbdb8d60": {
          "model_module": "@jupyter-widgets/base",
          "model_name": "LayoutModel",
          "state": {
            "_view_name": "LayoutView",
            "grid_template_rows": null,
            "right": null,
            "justify_content": null,
            "_view_module": "@jupyter-widgets/base",
            "overflow": null,
            "_model_module_version": "1.2.0",
            "_view_count": null,
            "flex_flow": null,
            "width": null,
            "min_width": null,
            "border": null,
            "align_items": null,
            "bottom": null,
            "_model_module": "@jupyter-widgets/base",
            "top": null,
            "grid_column": null,
            "overflow_y": null,
            "overflow_x": null,
            "grid_auto_flow": null,
            "grid_area": null,
            "grid_template_columns": null,
            "flex": null,
            "_model_name": "LayoutModel",
            "justify_items": null,
            "grid_row": null,
            "max_height": null,
            "align_content": null,
            "visibility": null,
            "align_self": null,
            "height": null,
            "min_height": null,
            "padding": null,
            "grid_auto_rows": null,
            "grid_gap": null,
            "max_width": null,
            "order": null,
            "_view_module_version": "1.2.0",
            "grid_template_areas": null,
            "object_position": null,
            "object_fit": null,
            "grid_auto_columns": null,
            "margin": null,
            "display": null,
            "left": null
          }
        }
      }
    }
  },
  "cells": [
    {
      "cell_type": "markdown",
      "metadata": {
        "id": "view-in-github",
        "colab_type": "text"
      },
      "source": [
        "<a href=\"https://colab.research.google.com/github/Vladimirsp81/DLS_2/blob/master/Copy_of_%D0%9E%D0%B1%D1%80%D0%B0%D0%B1%D0%BE%D1%82%D0%BA%D0%B0_%D0%B0%D1%83%D0%B4%D0%B8%D0%BE%D1%81%D0%B8%D0%B3%D0%BD%D0%B0%D0%BB%D0%BE%D0%B2.ipynb\" target=\"_parent\"><img src=\"https://colab.research.google.com/assets/colab-badge.svg\" alt=\"Open In Colab\"/></a>"
      ]
    },
    {
      "cell_type": "markdown",
      "metadata": {
        "id": "IB0dhtKgpanV",
        "colab_type": "text"
      },
      "source": [
        "\n",
        "\n",
        "### **Домашнее задание**\n",
        "В этом задании вам предстоит обучить свой собственный классификатор биологического гендера человека по аудиозаписи (спектрограмме). На [семинаре](https://vk.cc/atRKR8) 9 мая мы разобрали, как построить спектрограмму и подать ее в нейросеть, а также написали бейзлайн решение на Keras. \n",
        "\n",
        "### Задание 1 (20% баллов)\n",
        "Взяв данные с семинара из датасета TIMIT (библиотека для работы с ним и подготовки данных также есть в семинаре) натренировать сетку так, чтобы на тестовой выборке accuracy_score был больше 0.97. Возможные исследования: conv1d vs conv2d, batch norm, предобученные сетки из `Imagenet`. Обязательно напишите, что вы использовали и какой вывод. Писать можно на любом фреймворке. \n",
        "### Задание 2 (30% баллов)\n",
        "Подумайте, как бы можно было \"испортить\" данные для тестовой выборки и впоследствии попробовать восстановить скор при помощи аугментаций трейнсета и усложнения архитектуры? Используя данные из `TEST` усложните выборку и посмотрите, как упадет accuracy_score. Следите, чтобы он не падал ниже 70 -- есть риск тогда не обучиться совсем. Вдохновиться аудио аугментациями можно например [здесь](https://vk.cc/atRLgR). Почитать про то, как еще аугментируют данные, но уже на уровне спектрограмм можно [в блоге Google AI](https://vk.cc/9jCCnk). Посмотрите, какие аугментации влияют сильнее всего? На этом этапе мы пока ничего не учим, а только пытаемся испортить скор бейзлайна с семинара.\n",
        "### Задание 3 (40% баллов)\n",
        "При помощи изложенных в предыдущем пункте средств, а также идей и хинтов с семинара, постарайтесь улучшить скор модели на \"испорченных\" данных. Можно делать все, кроме обучения на тесте :). \n",
        "### Задание 4 (10% баллов)\n",
        "Напишите вывод -- если попробовали какие-то архитектуры, аугментации, но это не помогло, тоже обязательно напишите. Расскажите, что пробовали, и что оказалось самым боевым. Здесь будет релевантно сделать таблицу.\n",
        "\n",
        "Дополнительные материалы и ссылки:\n",
        "1. [Текстом про то, как делается преобразование в мел-спектрограмму](https://medium.com/@jonathan_hui/speech-recognition-feature-extraction-mfcc-plp-5455f5a69dd9)\n",
        "2. [Соревнование по классификации голосовых команд](https://www.kaggle.com/c/tensorflow-speech-recognition-challenge)\n",
        "3. [Данные для распознавания речи на русском языке](https://github.com/snakers4/open_stt)\n",
        "4. [Проект по генерации музыки](https://openai.com/blog/jukebox/)\n",
        "5. [Опенсорс-проект по разделению песни на минус и вокал](https://github.com/deezer/spleeter)\n",
        "6. [wav2vec](https://arxiv.org/abs/1904.05862)\n",
        "7. [Лекция \n",
        "Microsoft Research\n",
        " про историю Automatic Speech Recognition](https://www.youtube.com/watch?v=q67z7PTGRi8)\n",
        "8. [Transformer для генерации музыки](https://openai.com/blog/musenet/)\n",
        "9. [Библиотека, содержащая в себе api для распознавания речи (Google, Microsoft, ...)](https://pypi.org/project/SpeechRecognition/)"
      ]
    },
    {
      "cell_type": "code",
      "metadata": {
        "id": "er0sBVi7ti9v",
        "colab_type": "code",
        "colab": {}
      },
      "source": [
        "from sklearn.model_selection import train_test_split\n",
        "from itertools import chain\n",
        "from tqdm import tqdm, tqdm_notebook\n",
        "import joblib as jl\n",
        "import os\n",
        "\n",
        "import matplotlib.pyplot as plt\n",
        "import IPython # прослушивание аудио в ноутбуке\n",
        "import numpy as np # отсюда возьмем Фурье\n",
        "import librosa # множественные манипуляции с аудиофайлами \n",
        "# import keras, keras.layers\n",
        "\n",
        "%matplotlib inline\n",
        "\n",
        "import torch\n",
        "from sklearn.metrics import accuracy_score\n",
        "plt.style.use('fivethirtyeight')"
      ],
      "execution_count": 0,
      "outputs": []
    },
    {
      "cell_type": "code",
      "metadata": {
        "id": "xmlZTSQj6A9f",
        "colab_type": "code",
        "outputId": "1fbf52fd-5bb1-4be3-db8a-125ee8b32316",
        "colab": {
          "base_uri": "https://localhost:8080/",
          "height": 406
        }
      },
      "source": [
        "! wget https://audio-previews.elements.envatousercontent.com/files/6319559/preview.mp3 -O sample_f.mp3\n",
        "! wget https://audio-previews.elements.envatousercontent.com/files/256324900/preview.mp3 -O sample_m.mp3"
      ],
      "execution_count": 0,
      "outputs": [
        {
          "output_type": "stream",
          "text": [
            "--2020-06-03 20:13:23--  https://audio-previews.elements.envatousercontent.com/files/6319559/preview.mp3\n",
            "Resolving audio-previews.elements.envatousercontent.com (audio-previews.elements.envatousercontent.com)... 54.240.160.119, 54.240.160.91, 54.240.160.104, ...\n",
            "Connecting to audio-previews.elements.envatousercontent.com (audio-previews.elements.envatousercontent.com)|54.240.160.119|:443... connected.\n",
            "HTTP request sent, awaiting response... 200 OK\n",
            "Length: 28202 (28K) [audio/mpeg]\n",
            "Saving to: ‘sample_f.mp3’\n",
            "\n",
            "\rsample_f.mp3          0%[                    ]       0  --.-KB/s               \rsample_f.mp3        100%[===================>]  27.54K  --.-KB/s    in 0.004s  \n",
            "\n",
            "2020-06-03 20:13:24 (7.48 MB/s) - ‘sample_f.mp3’ saved [28202/28202]\n",
            "\n",
            "--2020-06-03 20:13:28--  https://audio-previews.elements.envatousercontent.com/files/256324900/preview.mp3\n",
            "Resolving audio-previews.elements.envatousercontent.com (audio-previews.elements.envatousercontent.com)... 13.35.163.42, 13.35.163.79, 13.35.163.129, ...\n",
            "Connecting to audio-previews.elements.envatousercontent.com (audio-previews.elements.envatousercontent.com)|13.35.163.42|:443... connected.\n",
            "HTTP request sent, awaiting response... 200 OK\n",
            "Length: 68884 (67K) [audio/mpeg]\n",
            "Saving to: ‘sample_m.mp3’\n",
            "\n",
            "sample_m.mp3        100%[===================>]  67.27K  --.-KB/s    in 0.006s  \n",
            "\n",
            "2020-06-03 20:13:28 (11.4 MB/s) - ‘sample_m.mp3’ saved [68884/68884]\n",
            "\n"
          ],
          "name": "stdout"
        }
      ]
    },
    {
      "cell_type": "code",
      "metadata": {
        "id": "KRJJH-5S6N-O",
        "colab_type": "code",
        "outputId": "73919f78-e56a-4930-c2f9-781b3fe99e97",
        "colab": {
          "base_uri": "https://localhost:8080/",
          "height": 101
        }
      },
      "source": [
        "!apt-get install -y ffmpeg # Библиотека для обработки аудио"
      ],
      "execution_count": 0,
      "outputs": [
        {
          "output_type": "stream",
          "text": [
            "\rReading package lists... 0%\r\rReading package lists... 0%\r\rReading package lists... 0%\r\rReading package lists... 6%\r\rReading package lists... 6%\r\rReading package lists... 6%\r\rReading package lists... 6%\r\rReading package lists... 63%\r\rReading package lists... 63%\r\rReading package lists... 63%\r\rReading package lists... 63%\r\rReading package lists... 68%\r\rReading package lists... 71%\r\rReading package lists... 71%\r\rReading package lists... 71%\r\rReading package lists... 71%\r\rReading package lists... 81%\r\rReading package lists... 81%\r\rReading package lists... 81%\r\rReading package lists... 81%\r\rReading package lists... 81%\r\rReading package lists... 81%\r\rReading package lists... 81%\r\rReading package lists... 81%\r\rReading package lists... 87%\r\rReading package lists... 87%\r\rReading package lists... 87%\r\rReading package lists... 87%\r\rReading package lists... 93%\r\rReading package lists... 93%\r\rReading package lists... 93%\r\rReading package lists... 93%\r\rReading package lists... 93%\r\rReading package lists... 93%\r\rReading package lists... 94%\r\rReading package lists... 94%\r\rReading package lists... 95%\r\rReading package lists... 95%\r\rReading package lists... 98%\r\rReading package lists... 98%\r\rReading package lists... 98%\r\rReading package lists... 98%\r\rReading package lists... Done\r\n",
            "\rBuilding dependency tree... 0%\r\rBuilding dependency tree... 0%\r\rBuilding dependency tree... 50%\r\rBuilding dependency tree... 50%\r\rBuilding dependency tree       \r\n",
            "\rReading state information... 0%\r\rReading state information... 0%\r\rReading state information... Done\r\n",
            "ffmpeg is already the newest version (7:3.4.6-0ubuntu0.18.04.1).\n",
            "0 upgraded, 0 newly installed, 0 to remove and 32 not upgraded.\n"
          ],
          "name": "stdout"
        }
      ]
    },
    {
      "cell_type": "code",
      "metadata": {
        "id": "QAy22tk36Tp3",
        "colab_type": "code",
        "outputId": "3b4406a1-5f39-40ff-b809-affcb1139fe5",
        "colab": {
          "base_uri": "https://localhost:8080/",
          "height": 608
        }
      },
      "source": [
        "!ffmpeg -i sample_f.mp3 -ar 22050 -ac 1 sample_f.wav"
      ],
      "execution_count": 0,
      "outputs": [
        {
          "output_type": "stream",
          "text": [
            "ffmpeg version 3.4.6-0ubuntu0.18.04.1 Copyright (c) 2000-2019 the FFmpeg developers\n",
            "  built with gcc 7 (Ubuntu 7.3.0-16ubuntu3)\n",
            "  configuration: --prefix=/usr --extra-version=0ubuntu0.18.04.1 --toolchain=hardened --libdir=/usr/lib/x86_64-linux-gnu --incdir=/usr/include/x86_64-linux-gnu --enable-gpl --disable-stripping --enable-avresample --enable-avisynth --enable-gnutls --enable-ladspa --enable-libass --enable-libbluray --enable-libbs2b --enable-libcaca --enable-libcdio --enable-libflite --enable-libfontconfig --enable-libfreetype --enable-libfribidi --enable-libgme --enable-libgsm --enable-libmp3lame --enable-libmysofa --enable-libopenjpeg --enable-libopenmpt --enable-libopus --enable-libpulse --enable-librubberband --enable-librsvg --enable-libshine --enable-libsnappy --enable-libsoxr --enable-libspeex --enable-libssh --enable-libtheora --enable-libtwolame --enable-libvorbis --enable-libvpx --enable-libwavpack --enable-libwebp --enable-libx265 --enable-libxml2 --enable-libxvid --enable-libzmq --enable-libzvbi --enable-omx --enable-openal --enable-opengl --enable-sdl2 --enable-libdc1394 --enable-libdrm --enable-libiec61883 --enable-chromaprint --enable-frei0r --enable-libopencv --enable-libx264 --enable-shared\n",
            "  libavutil      55. 78.100 / 55. 78.100\n",
            "  libavcodec     57.107.100 / 57.107.100\n",
            "  libavformat    57. 83.100 / 57. 83.100\n",
            "  libavdevice    57. 10.100 / 57. 10.100\n",
            "  libavfilter     6.107.100 /  6.107.100\n",
            "  libavresample   3.  7.  0 /  3.  7.  0\n",
            "  libswscale      4.  8.100 /  4.  8.100\n",
            "  libswresample   2.  9.100 /  2.  9.100\n",
            "  libpostproc    54.  7.100 / 54.  7.100\n",
            "Input #0, mp3, from 'sample_f.mp3':\n",
            "  Metadata:\n",
            "    album           : http://audiojungle.net/user/urbazon/portfolio\n",
            "    artist          : http://audiojungle.net/user/urbazon\n",
            "  Duration: 00:00:01.59, start: 0.025057, bitrate: 141 kb/s\n",
            "    Stream #0:0: Audio: mp3, 44100 Hz, stereo, s16p, 128 kb/s\n",
            "    Metadata:\n",
            "      encoder         : LAME3.98r\n",
            "File 'sample_f.wav' already exists. Overwrite ? [y/N] y\n",
            "Stream mapping:\n",
            "  Stream #0:0 -> #0:0 (mp3 (native) -> pcm_s16le (native))\n",
            "Press [q] to stop, [?] for help\n",
            "Output #0, wav, to 'sample_f.wav':\n",
            "  Metadata:\n",
            "    IPRD            : http://audiojungle.net/user/urbazon/portfolio\n",
            "    IART            : http://audiojungle.net/user/urbazon\n",
            "    ISFT            : Lavf57.83.100\n",
            "    Stream #0:0: Audio: pcm_s16le ([1][0][0][0] / 0x0001), 22050 Hz, mono, s16, 352 kb/s\n",
            "    Metadata:\n",
            "      encoder         : Lavc57.107.100 pcm_s16le\n",
            "size=      67kB time=00:00:01.54 bitrate= 353.7kbits/s speed= 300x    \n",
            "video:0kB audio:67kB subtitle:0kB other streams:0kB global headers:0kB muxing overhead: 0.258368%\n"
          ],
          "name": "stdout"
        }
      ]
    },
    {
      "cell_type": "code",
      "metadata": {
        "id": "qEdhaYKy-V2H",
        "colab_type": "code",
        "outputId": "16b51488-7ba5-4843-f3d0-0e235ebfbe7b",
        "colab": {
          "base_uri": "https://localhost:8080/",
          "height": 75
        }
      },
      "source": [
        "IPython.display.Audio(librosa.load('sample_f.wav')[0], rate = 22050)"
      ],
      "execution_count": 0,
      "outputs": [
        {
          "output_type": "execute_result",
          "data": {
            "text/html": [
              "\n",
              "                <audio controls=\"controls\" >\n",
              "                    <source src=\"data:audio/wav;base64,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\" type=\"audio/wav\" />\n",
              "                    Your browser does not support the audio element.\n",
              "                </audio>\n",
              "              "
            ],
            "text/plain": [
              "<IPython.lib.display.Audio object>"
            ]
          },
          "metadata": {
            "tags": []
          },
          "execution_count": 9
        }
      ]
    },
    {
      "cell_type": "markdown",
      "metadata": {
        "id": "WtOhDpxvGBTh",
        "colab_type": "text"
      },
      "source": [
        "Построим график амплитуд"
      ]
    },
    {
      "cell_type": "code",
      "metadata": {
        "id": "7ybYV9CaGB8P",
        "colab_type": "code",
        "outputId": "32ee00e0-d2d5-48f3-c0a0-8cd426b560c3",
        "colab": {
          "base_uri": "https://localhost:8080/",
          "height": 316
        }
      },
      "source": [
        "amplitudes, sample_rate = librosa.load(\"sample_m.wav\")\n",
        "print(f\"{len(amplitudes)} points, {len(amplitudes) / sample_rate} sec, sr {sample_rate}\")\n",
        "plt.figure(figsize=[15, 4])\n",
        "plt.title('')\n",
        "plt.plot(amplitudes[20000:25000],linewidth=1.5)"
      ],
      "execution_count": 0,
      "outputs": [
        {
          "output_type": "stream",
          "text": [
            "37440 points, 1.6979591836734693 sec, sr 22050\n"
          ],
          "name": "stdout"
        },
        {
          "output_type": "execute_result",
          "data": {
            "text/plain": [
              "[<matplotlib.lines.Line2D at 0x7f8dc7baf860>]"
            ]
          },
          "metadata": {
            "tags": []
          },
          "execution_count": 10
        },
        {
          "output_type": "display_data",
          "data": {
            "image/png": "[encoded data removed]",
            "text/plain": [
              "<Figure size 1080x288 with 1 Axes>"
            ]
          },
          "metadata": {
            "tags": []
          }
        }
      ]
    },
    {
      "cell_type": "markdown",
      "metadata": {
        "id": "Gh8ZDyMY_jDX",
        "colab_type": "text"
      },
      "source": [
        "Разделяем вход на пересекающиеся фреймы"
      ]
    },
    {
      "cell_type": "code",
      "metadata": {
        "id": "Jrf-njZI_h3R",
        "colab_type": "code",
        "colab": {}
      },
      "source": [
        "def slice_into_frames(amplitudes, window_length, hop_length):\n",
        "    return librosa.core.spectrum.util.frame(\n",
        "        np.pad(amplitudes, int(window_length // 2), mode='reflect'),\n",
        "        frame_length=window_length, hop_length=hop_length)\n",
        "    # выход: [window_length, num_windows]"
      ],
      "execution_count": 0,
      "outputs": []
    },
    {
      "cell_type": "markdown",
      "metadata": {
        "id": "HpuoiJRu_wQv",
        "colab_type": "text"
      },
      "source": [
        "Применяем к каждому фрейму преобразование Фурье"
      ]
    },
    {
      "cell_type": "code",
      "metadata": {
        "id": "cccJusFU_7UW",
        "colab_type": "code",
        "colab": {}
      },
      "source": [
        "def get_STFT(amplitudes, window_length, hop_length):\n",
        "    \"\"\" Compute short-time Fourier Transform \"\"\"\n",
        "    # разбиваем амплитуды на пересекающиеся фреймы [window_length, num_frames]\n",
        "    frames = slice_into_frames(amplitudes, window_length, hop_length)\n",
        "    \n",
        "    # получаем веса для Фурье, float[window_length]\n",
        "    fft_weights = librosa.core.spectrum.get_window('hann', window_length, fftbins=True)\n",
        "    \n",
        "    # применяем преобразование Фурье\n",
        "    stft = np.fft.rfft(frames * fft_weights[:, None], axis=0)\n",
        "    return stft"
      ],
      "execution_count": 0,
      "outputs": []
    },
    {
      "cell_type": "markdown",
      "metadata": {
        "id": "B2gQmiS3AANG",
        "colab_type": "text"
      },
      "source": [
        "Переводим полученную спектрограмму в мел-пространство"
      ]
    },
    {
      "cell_type": "code",
      "metadata": {
        "id": "RUAmqLSFAAxB",
        "colab_type": "code",
        "colab": {}
      },
      "source": [
        "def get_melspectrogram(amplitudes, sample_rate=22050, n_mels=128,\n",
        "                       window_length=2048, hop_length=512, fmin=1, fmax=8192):\n",
        "    \"\"\"\n",
        "    Implement mel-spectrogram as described above.\n",
        "    :param amplitudes: float [num_amplitudes]\n",
        "    :param sample rate: число отсчетов каждую секунду\n",
        "    :param n_mels: число каналов спектрограммы\n",
        "    :param window_length: параметр размера окна для Фурье\n",
        "    :param hop_length: размер пересечения \n",
        "    :param f_min: мин частота\n",
        "    :param f_max: макс частота\n",
        "    :returns: мел-scaled спектрограмма [n_mels, duration]\n",
        "    \"\"\"\n",
        "    # Шаг 1\n",
        "    stft = get_STFT(amplitudes, window_length, hop_length)\n",
        "    assert stft.shape == (window_length // 2 + 1, len(amplitudes) // 512 + 1)\n",
        "    \n",
        "    # Шаг 2\n",
        "    spectrogram = np.abs(stft ** 2)\n",
        "    \n",
        "    # Шаг 3\n",
        "    mel_basis = librosa.filters.mel(sample_rate, n_fft=window_length,\n",
        "                                    n_mels=n_mels, fmin=fmin, fmax=fmax)\n",
        "    # ^-- matrix [n_mels, window_length / 2 + 1]\n",
        "    \n",
        "    mel_spectrogram = np.dot(mel_basis, spectrogram)\n",
        "    assert mel_spectrogram.shape == (n_mels, len(amplitudes) // 512 + 1)\n",
        "    \n",
        "    return mel_spectrogram"
      ],
      "execution_count": 0,
      "outputs": []
    },
    {
      "cell_type": "code",
      "metadata": {
        "id": "U0cUqAA0AW5X",
        "colab_type": "code",
        "colab": {}
      },
      "source": [
        "amplitudes1, _  = librosa.load('sample_m.wav') # Считываем амплитуды\n",
        "amplitudes2, _  = librosa.load('sample_f.wav')"
      ],
      "execution_count": 0,
      "outputs": []
    },
    {
      "cell_type": "code",
      "metadata": {
        "id": "6gOqsLurAZav",
        "colab_type": "code",
        "outputId": "5ef8458b-5dce-47aa-d0b3-2c78c2e48cfc",
        "colab": {
          "base_uri": "https://localhost:8080/",
          "height": 325
        }
      },
      "source": [
        "plt.figure(figsize=[16, 4])\n",
        "plt.subplot(1, 2, 1)\n",
        "plt.title(\"Man\"); plt.xlabel(\"Time\"); plt.ylabel(\"Frequency\")\n",
        "plt.imshow(get_melspectrogram(amplitudes1))\n",
        "\n",
        "plt.subplot(1, 2, 2)\n",
        "plt.title(\"Woman\"); plt.xlabel(\"Time\"); plt.ylabel(\"Frequency\")\n",
        "plt.imshow(get_melspectrogram(amplitudes2));"
      ],
      "execution_count": 0,
      "outputs": [
        {
          "output_type": "display_data",
          "data": {
            "image/png": "[encoded data removed]",
            "text/plain": [
              "<Figure size 1152x288 with 2 Axes>"
            ]
          },
          "metadata": {
            "tags": []
          }
        }
      ]
    },
    {
      "cell_type": "markdown",
      "metadata": {
        "id": "e67Tz0CoFPSv",
        "colab_type": "text"
      },
      "source": [
        "Проверяем правильность, полученных с помощью нашей функции, спектрограмм. Сравниваем с методом получения спектрограмм из librosa."
      ]
    },
    {
      "cell_type": "code",
      "metadata": {
        "id": "v7FDmlsHErfQ",
        "colab_type": "code",
        "colab": {}
      },
      "source": [
        "ref1 = librosa.feature.melspectrogram(amplitudes2, sr=sample_rate, n_mels=128, fmin=1, fmax=8192)\n",
        "assert np.allclose(get_melspectrogram(amplitudes2), ref1, rtol=1e-4, atol=1e-4)"
      ],
      "execution_count": 0,
      "outputs": []
    },
    {
      "cell_type": "code",
      "metadata": {
        "id": "Sl5htFCUEzle",
        "colab_type": "code",
        "outputId": "bf8870e7-19ce-4643-f8d2-bc9f3c3424cb",
        "colab": {
          "base_uri": "https://localhost:8080/",
          "height": 34
        }
      },
      "source": [
        "((ref1-get_melspectrogram(amplitudes2)) **2).mean() # Посмотрим на MSE"
      ],
      "execution_count": 0,
      "outputs": [
        {
          "output_type": "execute_result",
          "data": {
            "text/plain": [
              "4.717526497791717e-13"
            ]
          },
          "metadata": {
            "tags": []
          },
          "execution_count": 17
        }
      ]
    },
    {
      "cell_type": "markdown",
      "metadata": {
        "id": "fsFTEIXVGWAA",
        "colab_type": "text"
      },
      "source": [
        "Скачиваем dataset"
      ]
    },
    {
      "cell_type": "code",
      "metadata": {
        "id": "ZQUeBV5UGWn_",
        "colab_type": "code",
        "outputId": "47d67a5e-1ff4-4fe4-ed1f-20ec8c19552f",
        "colab": {
          "base_uri": "https://localhost:8080/",
          "height": 286
        }
      },
      "source": [
        "!wget https://ndownloader.figshare.com/files/10256148"
      ],
      "execution_count": 0,
      "outputs": [
        {
          "output_type": "stream",
          "text": [
            "--2020-06-03 20:14:44--  https://ndownloader.figshare.com/files/10256148\n",
            "Resolving ndownloader.figshare.com (ndownloader.figshare.com)... 99.80.44.0, 34.252.153.30, 54.194.97.118, ...\n",
            "Connecting to ndownloader.figshare.com (ndownloader.figshare.com)|99.80.44.0|:443... connected.\n",
            "HTTP request sent, awaiting response... 302 Found\n",
            "Location: https://s3-eu-west-1.amazonaws.com/pfigshare-u-files/10256148/TIMIT.zip [following]\n",
            "--2020-06-03 20:14:45--  https://s3-eu-west-1.amazonaws.com/pfigshare-u-files/10256148/TIMIT.zip\n",
            "Resolving s3-eu-west-1.amazonaws.com (s3-eu-west-1.amazonaws.com)... 52.218.100.227\n",
            "Connecting to s3-eu-west-1.amazonaws.com (s3-eu-west-1.amazonaws.com)|52.218.100.227|:443... connected.\n",
            "HTTP request sent, awaiting response... 200 OK\n",
            "Length: 440207227 (420M) [binary/octet-stream]\n",
            "Saving to: ‘10256148.1’\n",
            "\n",
            "10256148.1          100%[===================>] 419.81M  11.6MB/s    in 38s     \n",
            "\n",
            "2020-06-03 20:15:24 (11.0 MB/s) - ‘10256148.1’ saved [440207227/440207227]\n",
            "\n"
          ],
          "name": "stdout"
        }
      ]
    },
    {
      "cell_type": "code",
      "metadata": {
        "id": "9YXHrj8HG1uG",
        "colab_type": "code",
        "outputId": "7c2224a1-6e4a-4059-b2df-c1afbc6260ad",
        "colab": {
          "base_uri": "https://localhost:8080/",
          "height": 34
        }
      },
      "source": [
        "!unzip -q 10256148"
      ],
      "execution_count": 0,
      "outputs": [
        {
          "output_type": "stream",
          "text": [
            "replace data/lisa/data/timit/raw/TIMIT/DOC/PROMPTS.TXT? [y]es, [n]o, [A]ll, [N]one, [r]ename: A\n"
          ],
          "name": "stdout"
        }
      ]
    },
    {
      "cell_type": "code",
      "metadata": {
        "id": "4n6A17EWG2-5",
        "colab_type": "code",
        "outputId": "214a7877-2882-42e7-dc06-2fda35545508",
        "colab": {
          "base_uri": "https://localhost:8080/",
          "height": 289
        }
      },
      "source": [
        "!pip install timit-utils # Библиотека для работы с датасетами формата TIMIT"
      ],
      "execution_count": 0,
      "outputs": [
        {
          "output_type": "stream",
          "text": [
            "Requirement already satisfied: timit-utils in /usr/local/lib/python3.6/dist-packages (0.9.0)\n",
            "Requirement already satisfied: pandas in /usr/local/lib/python3.6/dist-packages (from timit-utils) (1.0.4)\n",
            "Requirement already satisfied: scipy in /usr/local/lib/python3.6/dist-packages (from timit-utils) (1.4.1)\n",
            "Requirement already satisfied: matplotlib in /usr/local/lib/python3.6/dist-packages (from timit-utils) (3.2.1)\n",
            "Requirement already satisfied: python-speech-features in /usr/local/lib/python3.6/dist-packages (from timit-utils) (0.6)\n",
            "Requirement already satisfied: numpy in /usr/local/lib/python3.6/dist-packages (from timit-utils) (1.18.4)\n",
            "Requirement already satisfied: SoundFile>=0.8.0 in /usr/local/lib/python3.6/dist-packages (from timit-utils) (0.10.3.post1)\n",
            "Requirement already satisfied: pytz>=2017.2 in /usr/local/lib/python3.6/dist-packages (from pandas->timit-utils) (2018.9)\n",
            "Requirement already satisfied: python-dateutil>=2.6.1 in /usr/local/lib/python3.6/dist-packages (from pandas->timit-utils) (2.8.1)\n",
            "Requirement already satisfied: pyparsing!=2.0.4,!=2.1.2,!=2.1.6,>=2.0.1 in /usr/local/lib/python3.6/dist-packages (from matplotlib->timit-utils) (2.4.7)\n",
            "Requirement already satisfied: cycler>=0.10 in /usr/local/lib/python3.6/dist-packages (from matplotlib->timit-utils) (0.10.0)\n",
            "Requirement already satisfied: kiwisolver>=1.0.1 in /usr/local/lib/python3.6/dist-packages (from matplotlib->timit-utils) (1.2.0)\n",
            "Requirement already satisfied: cffi>=1.0 in /usr/local/lib/python3.6/dist-packages (from SoundFile>=0.8.0->timit-utils) (1.14.0)\n",
            "Requirement already satisfied: six>=1.5 in /usr/local/lib/python3.6/dist-packages (from python-dateutil>=2.6.1->pandas->timit-utils) (1.12.0)\n",
            "Requirement already satisfied: pycparser in /usr/local/lib/python3.6/dist-packages (from cffi>=1.0->SoundFile>=0.8.0->timit-utils) (2.20)\n"
          ],
          "name": "stdout"
        }
      ]
    },
    {
      "cell_type": "code",
      "metadata": {
        "id": "mAx24NABMNRf",
        "colab_type": "code",
        "colab": {}
      },
      "source": [
        ""
      ],
      "execution_count": 0,
      "outputs": []
    },
    {
      "cell_type": "code",
      "metadata": {
        "id": "uRNrTK8fHFkI",
        "colab_type": "code",
        "colab": {}
      },
      "source": [
        "import timit_utils as tu\n",
        "import timit_utils.audio_utils as au\n",
        "import timit_utils.drawing_utils as du\n",
        "\n",
        "DATA_PATH = 'data/lisa/data/timit/raw/TIMIT'\n",
        "\n",
        "# Создаем класс, который загружает и парсит информацию о спикерах\n",
        "class Speaker:\n",
        "\n",
        "  def __init__(self, data_path):\n",
        "    self.doc_file_path = os.path.join(data_path, 'DOC','SPKRINFO.TXT')\n",
        "    with open(self.doc_file_path) as f:\n",
        "      self.id_sex_dict = dict([(tmp.split(' ')[0], tmp.split(' ')[2]) for tmp in f.readlines()[39:]])\n",
        "\n",
        "  def return_sex(self, id):\n",
        "    return self.id_sex_dict[id]\n",
        "\n",
        "Speakers_info = Speaker(DATA_PATH)"
      ],
      "execution_count": 0,
      "outputs": []
    },
    {
      "cell_type": "code",
      "metadata": {
        "id": "uWaCyQelN6CI",
        "colab_type": "code",
        "colab": {}
      },
      "source": [
        "# Для проверки функций\n",
        "corpus = tu.Corpus(DATA_PATH)\n",
        "person_1 = corpus.train.person_by_index(100)"
      ],
      "execution_count": 0,
      "outputs": []
    },
    {
      "cell_type": "code",
      "metadata": {
        "id": "SvNB8BymMERQ",
        "colab_type": "code",
        "colab": {}
      },
      "source": [
        "# Обработаем данные\n",
        "def preprocess_sample(amplitudes, gender, sr=16000, max_length=150):\n",
        "    spectrogram = get_melspectrogram(amplitudes, sample_rate=sr)[:, :max_length]\n",
        "    spectrogram = np.pad(spectrogram, [[0, 0], [0, max(0, max_length - spectrogram.shape[1])]], mode='constant')\n",
        "    target = 0 if gender == 'F' else 1\n",
        "    return np.float32(spectrogram), np.int64(target)\n",
        "    \n",
        "tmp_1 = preprocess_sample(person_1.sentence_by_index(1).raw_audio, Speakers_info.return_sex(person_1.name))[0]\n",
        "tmp_2 = librosa.feature.melspectrogram(person_1.sentence_by_index(1).raw_audio, sr=sample_rate, n_mels=128, fmin=1, fmax=8192)\n",
        "assert np.allclose(get_melspectrogram(amplitudes2), ref1, rtol=1e-4, atol=1e-4)"
      ],
      "execution_count": 0,
      "outputs": []
    },
    {
      "cell_type": "markdown",
      "metadata": {
        "id": "uEieirF7OZIg",
        "colab_type": "text"
      },
      "source": [
        "Создадим тестсет и трейнсет из данных для TIMIT"
      ]
    },
    {
      "cell_type": "code",
      "metadata": {
        "id": "LFme3CdEOL-X",
        "colab_type": "code",
        "colab": {}
      },
      "source": [
        "def create_dataset(mode='train'):\n",
        "  assert mode in ['train','test']\n",
        "  if mode == 'train':\n",
        "    people = [corpus.train.person_by_index(i) for i in range(400)]\n",
        "  if mode == 'test':\n",
        "    people = [corpus.test.person_by_index(i) for i in range(150)]\n",
        "  spectrograms_and_targets = []\n",
        "  for person in tqdm_notebook(people): \n",
        "    target = Speakers_info.return_sex(person.name)\n",
        "    for i in range(len(person.sentences)):\n",
        "      spectrograms_and_targets.append(preprocess_sample(person.sentence_by_index(i).raw_audio, target))\n",
        "  return spectrograms_and_targets"
      ],
      "execution_count": 0,
      "outputs": []
    },
    {
      "cell_type": "code",
      "metadata": {
        "id": "uh3dugixOeFg",
        "colab_type": "code",
        "outputId": "75a5a221-7834-4511-bac6-5a2799997b05",
        "colab": {
          "base_uri": "https://localhost:8080/",
          "height": 165,
          "referenced_widgets": [
            "85731031600c48cd854db08841b927ba",
            "be8a0fde9c614f0982e5a5d91891be7a",
            "8074c85a80e94ff3bec451f414141f31",
            "85166e8a6c53405fb9b8dfa07dabbb1f",
            "4a45af2dcce94fbe846e4b21df0902b2",
            "4f71f4cc9b4e40c990b121cb938843c7",
            "20a2a65bdcff4df28c2ad375549d5181",
            "36cd0e8f9d734b38a667226e64a15d24",
            "aadb6c8bdc354252bf6ccecd2d636c4e",
            "8154ab7317b44b48a3b43a5ef64ff0b3",
            "882d622e1cec45bb80145130b7a08ff6",
            "4a90e741b64d46b5987194174f91be40",
            "ecbcf696623344758a9d69820a0a67c7",
            "4bcc4fc7bbe74e83acae592f705e57c3",
            "7dff1c93322a42ce9dbdd7150feec9e0",
            "b6c2641a584545818d883495bbdb8d60"
          ]
        }
      },
      "source": [
        "trainset = create_dataset('train')\n",
        "testset = create_dataset('test')"
      ],
      "execution_count": 0,
      "outputs": [
        {
          "output_type": "stream",
          "text": [
            "/usr/local/lib/python3.6/dist-packages/ipykernel_launcher.py:8: TqdmDeprecationWarning: This function will be removed in tqdm==5.0.0\n",
            "Please use `tqdm.notebook.tqdm` instead of `tqdm.tqdm_notebook`\n",
            "  \n"
          ],
          "name": "stderr"
        },
        {
          "output_type": "display_data",
          "data": {
            "application/vnd.jupyter.widget-view+json": {
              "model_id": "85731031600c48cd854db08841b927ba",
              "version_minor": 0,
              "version_major": 2
            },
            "text/plain": [
              "HBox(children=(FloatProgress(value=0.0, max=400.0), HTML(value='')))"
            ]
          },
          "metadata": {
            "tags": []
          }
        },
        {
          "output_type": "stream",
          "text": [
            "\n"
          ],
          "name": "stdout"
        },
        {
          "output_type": "display_data",
          "data": {
            "application/vnd.jupyter.widget-view+json": {
              "model_id": "aadb6c8bdc354252bf6ccecd2d636c4e",
              "version_minor": 0,
              "version_major": 2
            },
            "text/plain": [
              "HBox(children=(FloatProgress(value=0.0, max=150.0), HTML(value='')))"
            ]
          },
          "metadata": {
            "tags": []
          }
        },
        {
          "output_type": "stream",
          "text": [
            "\n"
          ],
          "name": "stdout"
        }
      ]
    },
    {
      "cell_type": "code",
      "metadata": {
        "id": "xV36bQ1DOmmC",
        "colab_type": "code",
        "colab": {}
      },
      "source": [
        "# Разделим трэйнсет на подвыборки\n",
        "X, y = map(np.stack, zip(*trainset))\n",
        "X = X.transpose([0, 2, 1])  # to [batch, time, channels]\n",
        "\n",
        "X_train, X_val, y_train, y_val = train_test_split(X, y, random_state=42)"
      ],
      "execution_count": 0,
      "outputs": []
    },
    {
      "cell_type": "code",
      "metadata": {
        "id": "qKs2Nu18P-jl",
        "colab_type": "code",
        "outputId": "b8363a6e-987d-4d2f-b082-ed594fe3bc9e",
        "colab": {
          "base_uri": "https://localhost:8080/",
          "height": 34
        }
      },
      "source": [
        "X_train.shape"
      ],
      "execution_count": 0,
      "outputs": [
        {
          "output_type": "execute_result",
          "data": {
            "text/plain": [
              "torch.Size([3000, 150, 128])"
            ]
          },
          "metadata": {
            "tags": []
          },
          "execution_count": 97
        }
      ]
    },
    {
      "cell_type": "code",
      "metadata": {
        "id": "UATZSik0TvES",
        "colab_type": "code",
        "colab": {}
      },
      "source": [
        "X_train = torch.FloatTensor(X_train)\n",
        "y_train = torch.IntTensor(y_train)\n",
        "X_val = torch.FloatTensor(X_val)\n",
        "y_val = torch.IntTensor(y_val)"
      ],
      "execution_count": 0,
      "outputs": []
    },
    {
      "cell_type": "code",
      "metadata": {
        "id": "9G3O0v88Sl1d",
        "colab_type": "code",
        "outputId": "6c069864-5817-489d-ede9-526ba6cf0e4c",
        "colab": {
          "base_uri": "https://localhost:8080/",
          "height": 34
        }
      },
      "source": [
        "len(y_train)"
      ],
      "execution_count": 0,
      "outputs": [
        {
          "output_type": "execute_result",
          "data": {
            "text/plain": [
              "3000"
            ]
          },
          "metadata": {
            "tags": []
          },
          "execution_count": 59
        }
      ]
    },
    {
      "cell_type": "code",
      "metadata": {
        "id": "k3_Ux_yxPNbX",
        "colab_type": "code",
        "outputId": "0bcfae07-12d9-420a-9695-22d9a060ace1",
        "colab": {
          "base_uri": "https://localhost:8080/",
          "height": 202
        }
      },
      "source": [
        "# Создаем модель классификатора\n",
        "from torch import nn\n",
        "\n",
        "\n",
        "torch.manual_seed(42)\n",
        "np.random.seed(42)\n",
        "model = nn.Sequential(\n",
        "    nn.Linear(X_train.shape[2], 128),\n",
        "    nn.Conv1d(128, 32, 4),\n",
        "    nn.ReLU(),\n",
        "    nn.Conv1d(32, 64, 4),\n",
        "    nn.ReLU(),\n",
        "    nn.Conv1d(64, 128, 4),\n",
        "    nn.ReLU(),\n",
        "    nn.AdaptiveAvgPool1d(128),\n",
        "    nn.Linear(128, 2)\n",
        ") #nn.Softmax()\n",
        "\n",
        "model"
      ],
      "execution_count": 0,
      "outputs": [
        {
          "output_type": "execute_result",
          "data": {
            "text/plain": [
              "Sequential(\n",
              "  (0): Linear(in_features=128, out_features=128, bias=True)\n",
              "  (1): Conv1d(128, 32, kernel_size=(4,), stride=(1,))\n",
              "  (2): ReLU()\n",
              "  (3): Conv1d(32, 64, kernel_size=(4,), stride=(1,))\n",
              "  (4): ReLU()\n",
              "  (5): Conv1d(64, 128, kernel_size=(4,), stride=(1,))\n",
              "  (6): ReLU()\n",
              "  (7): AdaptiveAvgPool1d(output_size=128)\n",
              "  (8): Linear(in_features=128, out_features=2, bias=True)\n",
              ")"
            ]
          },
          "metadata": {
            "tags": []
          },
          "execution_count": 114
        }
      ]
    },
    {
      "cell_type": "code",
      "metadata": {
        "id": "vvy-WXx460MN",
        "colab_type": "code",
        "colab": {}
      },
      "source": [
        "loss_fn = nn.CrossEntropyLoss()\n",
        "learning_rate = 0.01\n",
        "optimizer = torch.optim.SGD(model.parameters(), lr = learning_rate)\n",
        "num_epoch = 30"
      ],
      "execution_count": 0,
      "outputs": []
    },
    {
      "cell_type": "code",
      "metadata": {
        "id": "zHEj0iTWdxme",
        "colab_type": "code",
        "colab": {}
      },
      "source": [
        "from torch.utils.data import DataLoader, TensorDataset"
      ],
      "execution_count": 0,
      "outputs": []
    },
    {
      "cell_type": "code",
      "metadata": {
        "id": "vnSypVaDd8Jk",
        "colab_type": "code",
        "colab": {}
      },
      "source": [
        "dataset = TensorDataset(X_train, y_train)"
      ],
      "execution_count": 0,
      "outputs": []
    },
    {
      "cell_type": "code",
      "metadata": {
        "id": "CY7yDeeI6sOg",
        "colab_type": "code",
        "colab": {}
      },
      "source": [
        "def train(num_epoch):\n",
        "    train_losses = []\n",
        "    test_losses = []\n",
        "    for _ in range(num_epoch):\n",
        "      for X_train, y_train in dataset:\n",
        "        model.train(True)\n",
        "        y_pred = model(X_train)\n",
        "        print(y_pred)\n",
        "        loss = loss_fn(y_pred, y_train)\n",
        "        optimizer.zero_grad()\n",
        "        loss.backward()\n",
        "        optimizer.step()\n",
        "        train_losses.append(loss.item())\n",
        "        model.train(False)\n",
        "        test_losses.append(loss_fn(model(X_val), y_val).item())\n",
        "    return train_losses, test_losses\n"
      ],
      "execution_count": 0,
      "outputs": []
    },
    {
      "cell_type": "code",
      "metadata": {
        "id": "4feevrZ-PH59",
        "colab_type": "code",
        "outputId": "1f4bc42f-d08d-4214-b1c4-5a14253eefef",
        "colab": {
          "base_uri": "https://localhost:8080/",
          "height": 774
        }
      },
      "source": [
        "train_losses, test_losses = train(30)"
      ],
      "execution_count": 0,
      "outputs": [
        {
          "output_type": "error",
          "ename": "RuntimeError",
          "evalue": "ignored",
          "traceback": [
            "\u001b[0;31m---------------------------------------------------------------------------\u001b[0m",
            "\u001b[0;31mRuntimeError\u001b[0m                              Traceback (most recent call last)",
            "\u001b[0;32m<ipython-input-119-e49144aed7e4>\u001b[0m in \u001b[0;36m<module>\u001b[0;34m()\u001b[0m\n\u001b[0;32m----> 1\u001b[0;31m \u001b[0mtrain_losses\u001b[0m\u001b[0;34m,\u001b[0m \u001b[0mtest_losses\u001b[0m \u001b[0;34m=\u001b[0m \u001b[0mtrain\u001b[0m\u001b[0;34m(\u001b[0m\u001b[0;36m30\u001b[0m\u001b[0;34m)\u001b[0m\u001b[0;34m\u001b[0m\u001b[0;34m\u001b[0m\u001b[0m\n\u001b[0m",
            "\u001b[0;32m<ipython-input-118-3b2f5ca3e5c5>\u001b[0m in \u001b[0;36mtrain\u001b[0;34m(num_epoch)\u001b[0m\n\u001b[1;32m      5\u001b[0m       \u001b[0;32mfor\u001b[0m \u001b[0mX_train\u001b[0m\u001b[0;34m,\u001b[0m \u001b[0my_train\u001b[0m \u001b[0;32min\u001b[0m \u001b[0mdataset\u001b[0m\u001b[0;34m:\u001b[0m\u001b[0;34m\u001b[0m\u001b[0;34m\u001b[0m\u001b[0m\n\u001b[1;32m      6\u001b[0m         \u001b[0mmodel\u001b[0m\u001b[0;34m.\u001b[0m\u001b[0mtrain\u001b[0m\u001b[0;34m(\u001b[0m\u001b[0;32mTrue\u001b[0m\u001b[0;34m)\u001b[0m\u001b[0;34m\u001b[0m\u001b[0;34m\u001b[0m\u001b[0m\n\u001b[0;32m----> 7\u001b[0;31m         \u001b[0my_pred\u001b[0m \u001b[0;34m=\u001b[0m \u001b[0mmodel\u001b[0m\u001b[0;34m(\u001b[0m\u001b[0mX_train\u001b[0m\u001b[0;34m)\u001b[0m\u001b[0;34m\u001b[0m\u001b[0;34m\u001b[0m\u001b[0m\n\u001b[0m\u001b[1;32m      8\u001b[0m         \u001b[0mprint\u001b[0m\u001b[0;34m(\u001b[0m\u001b[0my_pred\u001b[0m\u001b[0;34m)\u001b[0m\u001b[0;34m\u001b[0m\u001b[0;34m\u001b[0m\u001b[0m\n\u001b[1;32m      9\u001b[0m         \u001b[0mloss\u001b[0m \u001b[0;34m=\u001b[0m \u001b[0mloss_fn\u001b[0m\u001b[0;34m(\u001b[0m\u001b[0my_pred\u001b[0m\u001b[0;34m,\u001b[0m \u001b[0my_train\u001b[0m\u001b[0;34m)\u001b[0m\u001b[0;34m\u001b[0m\u001b[0;34m\u001b[0m\u001b[0m\n",
            "\u001b[0;32m/usr/local/lib/python3.6/dist-packages/torch/nn/modules/module.py\u001b[0m in \u001b[0;36m__call__\u001b[0;34m(self, *input, **kwargs)\u001b[0m\n\u001b[1;32m    548\u001b[0m             \u001b[0mresult\u001b[0m \u001b[0;34m=\u001b[0m \u001b[0mself\u001b[0m\u001b[0;34m.\u001b[0m\u001b[0m_slow_forward\u001b[0m\u001b[0;34m(\u001b[0m\u001b[0;34m*\u001b[0m\u001b[0minput\u001b[0m\u001b[0;34m,\u001b[0m \u001b[0;34m**\u001b[0m\u001b[0mkwargs\u001b[0m\u001b[0;34m)\u001b[0m\u001b[0;34m\u001b[0m\u001b[0;34m\u001b[0m\u001b[0m\n\u001b[1;32m    549\u001b[0m         \u001b[0;32melse\u001b[0m\u001b[0;34m:\u001b[0m\u001b[0;34m\u001b[0m\u001b[0;34m\u001b[0m\u001b[0m\n\u001b[0;32m--> 550\u001b[0;31m             \u001b[0mresult\u001b[0m \u001b[0;34m=\u001b[0m \u001b[0mself\u001b[0m\u001b[0;34m.\u001b[0m\u001b[0mforward\u001b[0m\u001b[0;34m(\u001b[0m\u001b[0;34m*\u001b[0m\u001b[0minput\u001b[0m\u001b[0;34m,\u001b[0m \u001b[0;34m**\u001b[0m\u001b[0mkwargs\u001b[0m\u001b[0;34m)\u001b[0m\u001b[0;34m\u001b[0m\u001b[0;34m\u001b[0m\u001b[0m\n\u001b[0m\u001b[1;32m    551\u001b[0m         \u001b[0;32mfor\u001b[0m \u001b[0mhook\u001b[0m \u001b[0;32min\u001b[0m \u001b[0mself\u001b[0m\u001b[0;34m.\u001b[0m\u001b[0m_forward_hooks\u001b[0m\u001b[0;34m.\u001b[0m\u001b[0mvalues\u001b[0m\u001b[0;34m(\u001b[0m\u001b[0;34m)\u001b[0m\u001b[0;34m:\u001b[0m\u001b[0;34m\u001b[0m\u001b[0;34m\u001b[0m\u001b[0m\n\u001b[1;32m    552\u001b[0m             \u001b[0mhook_result\u001b[0m \u001b[0;34m=\u001b[0m \u001b[0mhook\u001b[0m\u001b[0;34m(\u001b[0m\u001b[0mself\u001b[0m\u001b[0;34m,\u001b[0m \u001b[0minput\u001b[0m\u001b[0;34m,\u001b[0m \u001b[0mresult\u001b[0m\u001b[0;34m)\u001b[0m\u001b[0;34m\u001b[0m\u001b[0;34m\u001b[0m\u001b[0m\n",
            "\u001b[0;32m/usr/local/lib/python3.6/dist-packages/torch/nn/modules/container.py\u001b[0m in \u001b[0;36mforward\u001b[0;34m(self, input)\u001b[0m\n\u001b[1;32m     98\u001b[0m     \u001b[0;32mdef\u001b[0m \u001b[0mforward\u001b[0m\u001b[0;34m(\u001b[0m\u001b[0mself\u001b[0m\u001b[0;34m,\u001b[0m \u001b[0minput\u001b[0m\u001b[0;34m)\u001b[0m\u001b[0;34m:\u001b[0m\u001b[0;34m\u001b[0m\u001b[0;34m\u001b[0m\u001b[0m\n\u001b[1;32m     99\u001b[0m         \u001b[0;32mfor\u001b[0m \u001b[0mmodule\u001b[0m \u001b[0;32min\u001b[0m \u001b[0mself\u001b[0m\u001b[0;34m:\u001b[0m\u001b[0;34m\u001b[0m\u001b[0;34m\u001b[0m\u001b[0m\n\u001b[0;32m--> 100\u001b[0;31m             \u001b[0minput\u001b[0m \u001b[0;34m=\u001b[0m \u001b[0mmodule\u001b[0m\u001b[0;34m(\u001b[0m\u001b[0minput\u001b[0m\u001b[0;34m)\u001b[0m\u001b[0;34m\u001b[0m\u001b[0;34m\u001b[0m\u001b[0m\n\u001b[0m\u001b[1;32m    101\u001b[0m         \u001b[0;32mreturn\u001b[0m \u001b[0minput\u001b[0m\u001b[0;34m\u001b[0m\u001b[0;34m\u001b[0m\u001b[0m\n\u001b[1;32m    102\u001b[0m \u001b[0;34m\u001b[0m\u001b[0m\n",
            "\u001b[0;32m/usr/local/lib/python3.6/dist-packages/torch/nn/modules/module.py\u001b[0m in \u001b[0;36m__call__\u001b[0;34m(self, *input, **kwargs)\u001b[0m\n\u001b[1;32m    548\u001b[0m             \u001b[0mresult\u001b[0m \u001b[0;34m=\u001b[0m \u001b[0mself\u001b[0m\u001b[0;34m.\u001b[0m\u001b[0m_slow_forward\u001b[0m\u001b[0;34m(\u001b[0m\u001b[0;34m*\u001b[0m\u001b[0minput\u001b[0m\u001b[0;34m,\u001b[0m \u001b[0;34m**\u001b[0m\u001b[0mkwargs\u001b[0m\u001b[0;34m)\u001b[0m\u001b[0;34m\u001b[0m\u001b[0;34m\u001b[0m\u001b[0m\n\u001b[1;32m    549\u001b[0m         \u001b[0;32melse\u001b[0m\u001b[0;34m:\u001b[0m\u001b[0;34m\u001b[0m\u001b[0;34m\u001b[0m\u001b[0m\n\u001b[0;32m--> 550\u001b[0;31m             \u001b[0mresult\u001b[0m \u001b[0;34m=\u001b[0m \u001b[0mself\u001b[0m\u001b[0;34m.\u001b[0m\u001b[0mforward\u001b[0m\u001b[0;34m(\u001b[0m\u001b[0;34m*\u001b[0m\u001b[0minput\u001b[0m\u001b[0;34m,\u001b[0m \u001b[0;34m**\u001b[0m\u001b[0mkwargs\u001b[0m\u001b[0;34m)\u001b[0m\u001b[0;34m\u001b[0m\u001b[0;34m\u001b[0m\u001b[0m\n\u001b[0m\u001b[1;32m    551\u001b[0m         \u001b[0;32mfor\u001b[0m \u001b[0mhook\u001b[0m \u001b[0;32min\u001b[0m \u001b[0mself\u001b[0m\u001b[0;34m.\u001b[0m\u001b[0m_forward_hooks\u001b[0m\u001b[0;34m.\u001b[0m\u001b[0mvalues\u001b[0m\u001b[0;34m(\u001b[0m\u001b[0;34m)\u001b[0m\u001b[0;34m:\u001b[0m\u001b[0;34m\u001b[0m\u001b[0;34m\u001b[0m\u001b[0m\n\u001b[1;32m    552\u001b[0m             \u001b[0mhook_result\u001b[0m \u001b[0;34m=\u001b[0m \u001b[0mhook\u001b[0m\u001b[0;34m(\u001b[0m\u001b[0mself\u001b[0m\u001b[0;34m,\u001b[0m \u001b[0minput\u001b[0m\u001b[0;34m,\u001b[0m \u001b[0mresult\u001b[0m\u001b[0;34m)\u001b[0m\u001b[0;34m\u001b[0m\u001b[0;34m\u001b[0m\u001b[0m\n",
            "\u001b[0;32m/usr/local/lib/python3.6/dist-packages/torch/nn/modules/conv.py\u001b[0m in \u001b[0;36mforward\u001b[0;34m(self, input)\u001b[0m\n\u001b[1;32m    206\u001b[0m                             _single(0), self.dilation, self.groups)\n\u001b[1;32m    207\u001b[0m         return F.conv1d(input, self.weight, self.bias, self.stride,\n\u001b[0;32m--> 208\u001b[0;31m                         self.padding, self.dilation, self.groups)\n\u001b[0m\u001b[1;32m    209\u001b[0m \u001b[0;34m\u001b[0m\u001b[0m\n\u001b[1;32m    210\u001b[0m \u001b[0;34m\u001b[0m\u001b[0m\n",
            "\u001b[0;31mRuntimeError\u001b[0m: Expected 3-dimensional input for 3-dimensional weight [32, 128, 4], but got 2-dimensional input of size [150, 128] instead"
          ]
        }
      ]
    },
    {
      "cell_type": "code",
      "metadata": {
        "id": "WKFPjU-GPNm3",
        "colab_type": "code",
        "colab": {}
      },
      "source": [
        ""
      ],
      "execution_count": 0,
      "outputs": []
    }
  ]
}