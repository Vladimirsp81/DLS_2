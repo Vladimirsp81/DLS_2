{
  "nbformat": 4,
  "nbformat_minor": 0,
  "metadata": {
    "colab": {
      "name": "Full_data_HW_language_model_Prudnikov_Vladimir.ipynb",
      "provenance": [],
      "collapsed_sections": [],
      "include_colab_link": true
    },
    "kernelspec": {
      "name": "python3",
      "display_name": "Python 3"
    },
    "language_info": {
      "codemirror_mode": {
        "name": "ipython",
        "version": 3
      },
      "file_extension": ".py",
      "mimetype": "text/x-python",
      "name": "python",
      "nbconvert_exporter": "python",
      "pygments_lexer": "ipython3",
      "version": "3.7.4"
    },
    "toc": {
      "base_numbering": 1,
      "nav_menu": {},
      "number_sections": false,
      "sideBar": true,
      "skip_h1_title": false,
      "title_cell": "Table of Contents",
      "title_sidebar": "Contents",
      "toc_cell": false,
      "toc_position": {},
      "toc_section_display": true,
      "toc_window_display": false
    },
    "varInspector": {
      "cols": {
        "lenName": 16,
        "lenType": 16,
        "lenVar": 40
      },
      "kernels_config": {
        "python": {
          "delete_cmd_postfix": "",
          "delete_cmd_prefix": "del ",
          "library": "var_list.py",
          "varRefreshCmd": "print(var_dic_list())"
        },
        "r": {
          "delete_cmd_postfix": ") ",
          "delete_cmd_prefix": "rm(",
          "library": "var_list.r",
          "varRefreshCmd": "cat(var_dic_list()) "
        }
      },
      "types_to_exclude": [
        "module",
        "function",
        "builtin_function_or_method",
        "instance",
        "_Feature"
      ],
      "window_display": false
    },
    "accelerator": "GPU"
  },
  "cells": [
    {
      "cell_type": "markdown",
      "metadata": {
        "id": "view-in-github",
        "colab_type": "text"
      },
      "source": [
        "<a href=\"https://colab.research.google.com/github/Vladimirsp81/DLS_2/blob/master/Full_data_HW_language_model_Prudnikov_Vladimir.ipynb\" target=\"_parent\"><img src=\"https://colab.research.google.com/assets/colab-badge.svg\" alt=\"Open In Colab\"/></a>"
      ]
    },
    {
      "cell_type": "markdown",
      "metadata": {
        "colab_type": "text",
        "id": "Ot3c4fjZwC4T"
      },
      "source": [
        "<img src=\"https://s8.hostingkartinok.com/uploads/images/2018/08/308b49fcfbc619d629fe4604bceb67ac.jpg\" width=500, height=450>\n",
        "<h3 style=\"text-align: center;\"><b>Физтех-Школа Прикладной математики и информатики (ФПМИ) МФТИ</b></h3>"
      ]
    },
    {
      "cell_type": "markdown",
      "metadata": {
        "colab_type": "text",
        "id": "P2JdzEXmwRU5"
      },
      "source": [
        "---"
      ]
    },
    {
      "cell_type": "markdown",
      "metadata": {
        "colab_type": "text",
        "id": "oMohh_6CwC4W"
      },
      "source": [
        "### Задача определения частей речи, Part-Of-Speech Tagger (POS)"
      ]
    },
    {
      "cell_type": "markdown",
      "metadata": {
        "colab_type": "text",
        "id": "2Aad2tmBwC4Y"
      },
      "source": [
        "Мы будем решать задачу определения частей речи (POS-теггинга) с помощью скрытой марковской модели (HMM)."
      ]
    },
    {
      "cell_type": "code",
      "metadata": {
        "colab_type": "code",
        "id": "gYYV0mdmwC4f",
        "scrolled": false,
        "colab": {}
      },
      "source": [
        "import nltk\n",
        "import pandas as pd\n",
        "import numpy as np\n",
        "from collections import OrderedDict, deque\n",
        "from nltk.corpus import brown\n",
        "import matplotlib.pyplot as plt"
      ],
      "execution_count": 0,
      "outputs": []
    },
    {
      "cell_type": "markdown",
      "metadata": {
        "colab_type": "text",
        "id": "FPgI52lRwC4n"
      },
      "source": [
        "Вам в помощь http://www.nltk.org/book/"
      ]
    },
    {
      "cell_type": "markdown",
      "metadata": {
        "colab_type": "text",
        "id": "hxdJxMEAwC4o"
      },
      "source": [
        "Загрузим brown корпус"
      ]
    },
    {
      "cell_type": "code",
      "metadata": {
        "colab_type": "code",
        "id": "ZvhXAL_9wC4q",
        "scrolled": true,
        "outputId": "44fd8b07-ebe3-4c0f-beb5-fb8f8614bb1a",
        "colab": {
          "base_uri": "https://localhost:8080/",
          "height": 68
        }
      },
      "source": [
        "nltk.download('brown')"
      ],
      "execution_count": 0,
      "outputs": [
        {
          "output_type": "stream",
          "text": [
            "[nltk_data] Downloading package brown to /root/nltk_data...\n",
            "[nltk_data]   Unzipping corpora/brown.zip.\n"
          ],
          "name": "stdout"
        },
        {
          "output_type": "execute_result",
          "data": {
            "text/plain": [
              "True"
            ]
          },
          "metadata": {
            "tags": []
          },
          "execution_count": 3
        }
      ]
    },
    {
      "cell_type": "markdown",
      "metadata": {
        "colab_type": "text",
        "id": "wto8PSC6wC4v"
      },
      "source": [
        "<b>Существует не одна система тегирования, поэтому будьте внимательны, когда прогнозируете тег слов в тексте и вычисляете качество прогноза. Можете получить несправедливо низкое качество вашего решения."
      ]
    },
    {
      "cell_type": "markdown",
      "metadata": {
        "colab_type": "text",
        "id": "eJ6tuHA_wC4z"
      },
      "source": [
        "На семинаре была рассмотрена одна система. А сейчас будем использовать универсальную систему тегирования universal_tagset "
      ]
    },
    {
      "cell_type": "code",
      "metadata": {
        "colab_type": "code",
        "id": "Cht7dImWwC42",
        "outputId": "8f8f0d57-6580-4da6-f087-cf3ef3a9a87e",
        "colab": {
          "base_uri": "https://localhost:8080/",
          "height": 68
        }
      },
      "source": [
        "nltk.download('universal_tagset')"
      ],
      "execution_count": 0,
      "outputs": [
        {
          "output_type": "stream",
          "text": [
            "[nltk_data] Downloading package universal_tagset to /root/nltk_data...\n",
            "[nltk_data]   Unzipping taggers/universal_tagset.zip.\n"
          ],
          "name": "stdout"
        },
        {
          "output_type": "execute_result",
          "data": {
            "text/plain": [
              "True"
            ]
          },
          "metadata": {
            "tags": []
          },
          "execution_count": 4
        }
      ]
    },
    {
      "cell_type": "markdown",
      "metadata": {
        "colab_type": "text",
        "id": "IiTimRRywC47"
      },
      "source": [
        "<img src=\"https://4.bp.blogspot.com/-IcFli2wljs0/WrVCw3umY_I/AAAAAAAACYM/UJ_neoUAs3wF95dj2Ouf3BzxXzB_b2TbQCLcBGAs/s1600/postags.png\">\n"
      ]
    },
    {
      "cell_type": "markdown",
      "metadata": {
        "colab_type": "text",
        "id": "iyDBMcBSwC48"
      },
      "source": [
        "Мы имеем массив предложений пар (слово-тег)"
      ]
    },
    {
      "cell_type": "code",
      "metadata": {
        "colab_type": "code",
        "id": "BobflewQwC4-",
        "scrolled": false,
        "outputId": "5ac01421-c7b5-40dc-ba8d-1192a8387c77",
        "colab": {
          "base_uri": "https://localhost:8080/",
          "height": 54
        }
      },
      "source": [
        "brown_tagged_sents = brown.tagged_sents(tagset=\"universal\")\n",
        "brown_tagged_sents"
      ],
      "execution_count": 0,
      "outputs": [
        {
          "output_type": "execute_result",
          "data": {
            "text/plain": [
              "[[('The', 'DET'), ('Fulton', 'NOUN'), ('County', 'NOUN'), ('Grand', 'ADJ'), ('Jury', 'NOUN'), ('said', 'VERB'), ('Friday', 'NOUN'), ('an', 'DET'), ('investigation', 'NOUN'), ('of', 'ADP'), (\"Atlanta's\", 'NOUN'), ('recent', 'ADJ'), ('primary', 'NOUN'), ('election', 'NOUN'), ('produced', 'VERB'), ('``', '.'), ('no', 'DET'), ('evidence', 'NOUN'), (\"''\", '.'), ('that', 'ADP'), ('any', 'DET'), ('irregularities', 'NOUN'), ('took', 'VERB'), ('place', 'NOUN'), ('.', '.')], [('The', 'DET'), ('jury', 'NOUN'), ('further', 'ADV'), ('said', 'VERB'), ('in', 'ADP'), ('term-end', 'NOUN'), ('presentments', 'NOUN'), ('that', 'ADP'), ('the', 'DET'), ('City', 'NOUN'), ('Executive', 'ADJ'), ('Committee', 'NOUN'), (',', '.'), ('which', 'DET'), ('had', 'VERB'), ('over-all', 'ADJ'), ('charge', 'NOUN'), ('of', 'ADP'), ('the', 'DET'), ('election', 'NOUN'), (',', '.'), ('``', '.'), ('deserves', 'VERB'), ('the', 'DET'), ('praise', 'NOUN'), ('and', 'CONJ'), ('thanks', 'NOUN'), ('of', 'ADP'), ('the', 'DET'), ('City', 'NOUN'), ('of', 'ADP'), ('Atlanta', 'NOUN'), (\"''\", '.'), ('for', 'ADP'), ('the', 'DET'), ('manner', 'NOUN'), ('in', 'ADP'), ('which', 'DET'), ('the', 'DET'), ('election', 'NOUN'), ('was', 'VERB'), ('conducted', 'VERB'), ('.', '.')], ...]"
            ]
          },
          "metadata": {
            "tags": []
          },
          "execution_count": 5
        }
      ]
    },
    {
      "cell_type": "markdown",
      "metadata": {
        "colab_type": "text",
        "id": "jSu1KqRrwC5L"
      },
      "source": [
        "Первое предложение"
      ]
    },
    {
      "cell_type": "code",
      "metadata": {
        "colab_type": "code",
        "id": "zCHCZPlkwC5N",
        "outputId": "c7232a0e-24e8-4c7a-c43a-e136d16ce6ae",
        "colab": {
          "base_uri": "https://localhost:8080/",
          "height": 442
        }
      },
      "source": [
        "brown_tagged_sents[0]"
      ],
      "execution_count": 0,
      "outputs": [
        {
          "output_type": "execute_result",
          "data": {
            "text/plain": [
              "[('The', 'DET'),\n",
              " ('Fulton', 'NOUN'),\n",
              " ('County', 'NOUN'),\n",
              " ('Grand', 'ADJ'),\n",
              " ('Jury', 'NOUN'),\n",
              " ('said', 'VERB'),\n",
              " ('Friday', 'NOUN'),\n",
              " ('an', 'DET'),\n",
              " ('investigation', 'NOUN'),\n",
              " ('of', 'ADP'),\n",
              " (\"Atlanta's\", 'NOUN'),\n",
              " ('recent', 'ADJ'),\n",
              " ('primary', 'NOUN'),\n",
              " ('election', 'NOUN'),\n",
              " ('produced', 'VERB'),\n",
              " ('``', '.'),\n",
              " ('no', 'DET'),\n",
              " ('evidence', 'NOUN'),\n",
              " (\"''\", '.'),\n",
              " ('that', 'ADP'),\n",
              " ('any', 'DET'),\n",
              " ('irregularities', 'NOUN'),\n",
              " ('took', 'VERB'),\n",
              " ('place', 'NOUN'),\n",
              " ('.', '.')]"
            ]
          },
          "metadata": {
            "tags": []
          },
          "execution_count": 6
        }
      ]
    },
    {
      "cell_type": "markdown",
      "metadata": {
        "colab_type": "text",
        "id": "SIV2MiRxwC5Q"
      },
      "source": [
        "Все пары (слово-тег)"
      ]
    },
    {
      "cell_type": "code",
      "metadata": {
        "colab_type": "code",
        "id": "dVx9e9HcwC5R",
        "outputId": "4675e956-1605-4929-b3ef-0763f7dea053",
        "colab": {
          "base_uri": "https://localhost:8080/",
          "height": 34
        }
      },
      "source": [
        "brown_tagged_words = brown.tagged_words(tagset='universal')\n",
        "brown_tagged_words"
      ],
      "execution_count": 0,
      "outputs": [
        {
          "output_type": "execute_result",
          "data": {
            "text/plain": [
              "[('The', 'DET'), ('Fulton', 'NOUN'), ...]"
            ]
          },
          "metadata": {
            "tags": []
          },
          "execution_count": 7
        }
      ]
    },
    {
      "cell_type": "markdown",
      "metadata": {
        "colab_type": "text",
        "id": "y-ADby6LwC5V"
      },
      "source": [
        "Проанализируйте данные, с которыми Вы работаете. Используйте `nltk.FreqDist()` для подсчета частоты встречаемости тега и слова в нашем корпусе. Под частой элемента подразумевается кол-во этого элемента в корпусе."
      ]
    },
    {
      "cell_type": "code",
      "metadata": {
        "scrolled": false,
        "id": "JzRoXuKFcMZK",
        "colab_type": "code",
        "colab": {}
      },
      "source": [
        "# Приведем слова к нижнему регистру\n",
        "brown_tagged_words = list(map(lambda x: (x[0].lower(), x[1]), brown_tagged_words))"
      ],
      "execution_count": 0,
      "outputs": []
    },
    {
      "cell_type": "code",
      "metadata": {
        "id": "4NhCPmqVn6Xf",
        "colab_type": "code",
        "colab": {}
      },
      "source": [
        "from nltk.probability import FreqDist"
      ],
      "execution_count": 0,
      "outputs": []
    },
    {
      "cell_type": "code",
      "metadata": {
        "colab_type": "code",
        "id": "4giWaqXjwC5W",
        "outputId": "1df7c4de-3b95-4c7c-c5e9-a2b6e66a92b8",
        "colab": {
          "base_uri": "https://localhost:8080/",
          "height": 34
        }
      },
      "source": [
        "print('Кол-во предложений: ', len(brown_tagged_sents))\n",
        "tags = [tag for (word, tag) in brown_tagged_words] # наши теги\n",
        "words = [word for (word, tag) in brown_tagged_words] # наши слова\n",
        "\n",
        "tag_num = pd.Series(FreqDist(tag for tag in tags)).sort_values(ascending=False) # тег - кол-во тега в корпусе\n",
        "word_num = pd.Series(FreqDist(word for word in words)).sort_values(ascending=False) # слово - кол-во слова в корпусе"
      ],
      "execution_count": 0,
      "outputs": [
        {
          "output_type": "stream",
          "text": [
            "Кол-во предложений:  57340\n"
          ],
          "name": "stdout"
        }
      ]
    },
    {
      "cell_type": "code",
      "metadata": {
        "colab_type": "code",
        "id": "yfiPpCcLwC5Z",
        "scrolled": true,
        "outputId": "8a0ad8d3-7bea-457c-e323-00c4eaef8030",
        "colab": {
          "base_uri": "https://localhost:8080/",
          "height": 238
        }
      },
      "source": [
        "tag_num"
      ],
      "execution_count": 0,
      "outputs": [
        {
          "output_type": "execute_result",
          "data": {
            "text/plain": [
              "NOUN    275558\n",
              "VERB    182750\n",
              ".       147565\n",
              "ADP     144766\n",
              "DET     137019\n",
              "ADJ      83721\n",
              "ADV      56239\n",
              "PRON     49334\n",
              "CONJ     38151\n",
              "PRT      29829\n",
              "NUM      14874\n",
              "X         1386\n",
              "dtype: int64"
            ]
          },
          "metadata": {
            "tags": []
          },
          "execution_count": 11
        }
      ]
    },
    {
      "cell_type": "code",
      "metadata": {
        "colab_type": "code",
        "id": "8Y1huw7TwC5b",
        "outputId": "86a692e0-96e7-45fb-f472-d7bb9212b43c",
        "colab": {
          "base_uri": "https://localhost:8080/",
          "height": 336
        }
      },
      "source": [
        "plt.figure(figsize=(12, 5))\n",
        "plt.bar(tag_num.index, tag_num.values)\n",
        "plt.title(\"Tag_frequency\")\n",
        "plt.show()"
      ],
      "execution_count": 0,
      "outputs": [
        {
          "output_type": "display_data",
          "data": {
            "image/png": "[encoded data removed]",
            "text/plain": [
              "<Figure size 864x360 with 1 Axes>"
            ]
          },
          "metadata": {
            "tags": [],
            "needs_background": "light"
          }
        }
      ]
    },
    {
      "cell_type": "code",
      "metadata": {
        "colab_type": "code",
        "id": "gBbhnJsmwC5f",
        "outputId": "86a780a6-ef09-4d84-d989-7ca18d468166",
        "colab": {
          "base_uri": "https://localhost:8080/",
          "height": 119
        }
      },
      "source": [
        "word_num[:5]"
      ],
      "execution_count": 0,
      "outputs": [
        {
          "output_type": "execute_result",
          "data": {
            "text/plain": [
              "the    69971\n",
              ",      58334\n",
              ".      49346\n",
              "of     36412\n",
              "and    28853\n",
              "dtype: int64"
            ]
          },
          "metadata": {
            "tags": []
          },
          "execution_count": 13
        }
      ]
    },
    {
      "cell_type": "code",
      "metadata": {
        "colab_type": "code",
        "id": "1WmEOBMkwC5i",
        "outputId": "26691bd3-3390-4a25-f083-fe807507dac1",
        "colab": {
          "base_uri": "https://localhost:8080/",
          "height": 336
        }
      },
      "source": [
        "plt.figure(figsize=(12, 5))\n",
        "plt.bar(word_num.index[:10], word_num.values[:10])\n",
        "plt.title(\"Word_frequency\")\n",
        "plt.show()"
      ],
      "execution_count": 0,
      "outputs": [
        {
          "output_type": "display_data",
          "data": {
            "image/png": "[encoded data removed]",
            "text/plain": [
              "<Figure size 864x360 with 1 Axes>"
            ]
          },
          "metadata": {
            "tags": [],
            "needs_background": "light"
          }
        }
      ]
    },
    {
      "cell_type": "markdown",
      "metadata": {
        "colab_type": "text",
        "id": "n08z2PjMwC5o"
      },
      "source": [
        "### Вопрос 1:\n",
        "* Кол-во слова `cat` в корпусе?"
      ]
    },
    {
      "cell_type": "code",
      "metadata": {
        "colab_type": "code",
        "id": "jhB7di3YwC5p",
        "outputId": "28273e8b-37c6-4e18-96af-48eb70ec4369",
        "colab": {
          "base_uri": "https://localhost:8080/",
          "height": 34
        }
      },
      "source": [
        "word_num['cat']"
      ],
      "execution_count": 0,
      "outputs": [
        {
          "output_type": "execute_result",
          "data": {
            "text/plain": [
              "23"
            ]
          },
          "metadata": {
            "tags": []
          },
          "execution_count": 15
        }
      ]
    },
    {
      "cell_type": "markdown",
      "metadata": {
        "colab_type": "text",
        "id": "UsCfVLsewC5s"
      },
      "source": [
        "### Вопрос 2:\n",
        "* Самое популярное слово с самым популярным тегом?"
      ]
    },
    {
      "cell_type": "code",
      "metadata": {
        "colab_type": "code",
        "id": "oio-XBYkwC5t",
        "outputId": "d7a0386b-85fd-4104-a82f-fe19d4ccde98",
        "colab": {
          "base_uri": "https://localhost:8080/",
          "height": 34
        }
      },
      "source": [
        "# определяем популярный тэг\n",
        "pop_tag = nltk.FreqDist(tags).max()\n",
        "\n",
        "# преобразуем brown_tagged_words в pandas dataframe\n",
        "df = pd.DataFrame(brown_tagged_words, columns=['word', 'tag'])\n",
        "word_tag_dict = df.groupby(['word', 'tag'])['word'].count().to_dict()\n",
        "\n",
        "# избавляемся от редко встречаемых слов\n",
        "word_tag_dict = {key: value for key, value in word_tag_dict.items() if value > 10 and key[1] == pop_tag}\n",
        "\n",
        "# сортируем словарь и получаем популярное слово с самым популярным тэгом\n",
        "word_tag_dict = {key: value for key, value in sorted(word_tag_dict.items(), key=lambda item: item[1], reverse=True)}\n",
        "pop_word = list(word_tag_dict.items())[0][0][0]\n",
        "pop_word, pop_tag"
      ],
      "execution_count": 0,
      "outputs": [
        {
          "output_type": "execute_result",
          "data": {
            "text/plain": [
              "('time', 'NOUN')"
            ]
          },
          "metadata": {
            "tags": []
          },
          "execution_count": 17
        }
      ]
    },
    {
      "cell_type": "markdown",
      "metadata": {
        "colab_type": "text",
        "id": "K-OGc1rSwC5x"
      },
      "source": [
        "Впоследствии обучение моделей может занимать слишком много времени, работайте с подвыборкой, например, только текстами определенных категорий."
      ]
    },
    {
      "cell_type": "markdown",
      "metadata": {
        "colab_type": "text",
        "id": "Eb7MhxVRwC5y"
      },
      "source": [
        "Категории нашего корпуса:"
      ]
    },
    {
      "cell_type": "code",
      "metadata": {
        "colab_type": "code",
        "id": "GSiVcP1TwC51",
        "outputId": "9b226fc5-60b6-42d7-ef86-85bd5a636459",
        "colab": {
          "base_uri": "https://localhost:8080/",
          "height": 272
        }
      },
      "source": [
        "brown.categories()"
      ],
      "execution_count": 0,
      "outputs": [
        {
          "output_type": "execute_result",
          "data": {
            "text/plain": [
              "['adventure',\n",
              " 'belles_lettres',\n",
              " 'editorial',\n",
              " 'fiction',\n",
              " 'government',\n",
              " 'hobbies',\n",
              " 'humor',\n",
              " 'learned',\n",
              " 'lore',\n",
              " 'mystery',\n",
              " 'news',\n",
              " 'religion',\n",
              " 'reviews',\n",
              " 'romance',\n",
              " 'science_fiction']"
            ]
          },
          "metadata": {
            "tags": []
          },
          "execution_count": 15
        }
      ]
    },
    {
      "cell_type": "markdown",
      "metadata": {
        "colab_type": "text",
        "id": "MjSlFatJwC53"
      },
      "source": [
        "Будем работать с категорией humor"
      ]
    },
    {
      "cell_type": "markdown",
      "metadata": {
        "colab_type": "text",
        "id": "_f1rl5x0wC55"
      },
      "source": [
        "Cделайте случайное разбиение выборки на обучение и контроль в отношении 9:1. "
      ]
    },
    {
      "cell_type": "code",
      "metadata": {
        "colab_type": "code",
        "id": "GX9t-1qowC58",
        "colab": {}
      },
      "source": [
        "# brown_tagged_sents = brown.tagged_sents(tagset=\"universal\", categories='humor')\n",
        "# Приведем слова к нижнему регистру\n",
        "my_brown_tagged_sents = []\n",
        "for sent in brown_tagged_sents:\n",
        "    my_brown_tagged_sents.append(list(map(lambda x: (x[0].lower(), x[1]), sent)))\n",
        "\n",
        "my_brown_tagged_sents = np.array(my_brown_tagged_sents)\n",
        "np.random.seed(2)\n",
        "random_index = np.random.choice([0, 1], size = len(my_brown_tagged_sents), p=[0.1, 0.9]).astype('bool')\n",
        "train_sents = my_brown_tagged_sents[random_index]\n",
        "test_sents = my_brown_tagged_sents[(1 - random_index).astype('bool')]"
      ],
      "execution_count": 0,
      "outputs": []
    },
    {
      "cell_type": "code",
      "metadata": {
        "colab_type": "code",
        "id": "pXkVwUjYwC5-",
        "outputId": "a7e5d9ca-9514-45d5-9fac-eb49c674bddb",
        "colab": {
          "base_uri": "https://localhost:8080/",
          "height": 34
        }
      },
      "source": [
        "len(train_sents)"
      ],
      "execution_count": 0,
      "outputs": [
        {
          "output_type": "execute_result",
          "data": {
            "text/plain": [
              "51561"
            ]
          },
          "metadata": {
            "tags": []
          },
          "execution_count": 17
        }
      ]
    },
    {
      "cell_type": "code",
      "metadata": {
        "colab_type": "code",
        "id": "JQMjzJ2YwC6C",
        "outputId": "0461c807-cb34-44a2-9630-b1b68334ba9a",
        "colab": {
          "base_uri": "https://localhost:8080/",
          "height": 34
        }
      },
      "source": [
        "len(test_sents)"
      ],
      "execution_count": 0,
      "outputs": [
        {
          "output_type": "execute_result",
          "data": {
            "text/plain": [
              "5779"
            ]
          },
          "metadata": {
            "tags": []
          },
          "execution_count": 18
        }
      ]
    },
    {
      "cell_type": "markdown",
      "metadata": {
        "colab_type": "text",
        "id": "_rEasLVcwC6G"
      },
      "source": [
        "### Метод максимального правдоподобия для обучения модели\n",
        "\n",
        "* $\\normalsize S = s_0, s_1, ..., s_N$ - скрытые состояния, то есть различные теги\n",
        "* $\\normalsize O = o_0, o_1, ..., o_M$ - различные слова\n",
        "* $\\normalsize a_{i,j} = p(s_j|s_i)$ - вероятность того, что, находясь в скрытом состоянии $s_i$, мы попадем в состояние $s_j$ (элемент матрицы $A$)\n",
        "* $\\normalsize b_{k,j}=p(o_k|s_j)$ - вероятность того, что при скрытом состоянии $s_j$ находится слово $o_k$(элемент матрицы $B$)\n",
        "\n",
        "$$\\normalsize x_t \\in O, y_t \\in S$$\n",
        "$\\normalsize (x_t, y_t)$ - слово и тег, стоящие на месте $t$ $\\Rightarrow$ \n",
        "* $\\normalsize X$ - последовательность слов\n",
        "* $\\normalsize Y$ - последовательность тегов\n",
        "\n",
        "Требуется построить скрытую марковскую модель (class HiddenMarkovModel) и написать метод fit для настройки всех её параметров с помощью оценок максимального правдоподобия по размеченным данным (последовательности пар слово+тег):\n",
        "\n",
        "- Вероятности переходов между скрытыми состояниями $p(y_t | y_{t - 1})$ посчитайте на основе частот биграмм POS-тегов.\n",
        "\n",
        "\n",
        "- Вероятности эмиссий наблюдаемых состояний $p(x_t | y_t)$ посчитайте на основе частот \"POS-тег - слово\".\n",
        "\n",
        "\n",
        "- Распределение вероятностей начальных состояний $p(y_0)$ задайте равномерным.\n",
        "\n",
        "Пример $X = [x_0, x_1], Y = [y_0, y_1]$:<br><br>\n",
        "$$p(X, Y) = p(x_0, x_1, y_0, y_1) = p(y_0) \\cdot p(x_0, x_1, y_1 | y_0) = p(y_0) \\cdot p(x_0 | y_0) \\cdot\n",
        "p(x_1, y_1 | x_0, y_0) = \\\\ = p(y_0) \\cdot p(x_0 | y_0) \\cdot p(y_1 | x_0, y_0) \\cdot p(x_1 | x_0, y_0, y_1)\n",
        "= (\\text{в силу условий наши модели}) = p(y_0) \\cdot p(x_0 | y_0) \\cdot p(y_1 | y_0) \\cdot p(x_1 | y_1) \\Rightarrow$$ <br>\n",
        "Для последовательности длины $n + 1$:<br>\n",
        "$$p(X, Y) = p(x_0 ... x_{n - 1}, y_0 ... y_{n - 1}) \\cdot p(y_n | y_{n - 1}) \\cdot p(x_n | y_n)$$"
      ]
    },
    {
      "cell_type": "markdown",
      "metadata": {
        "colab_type": "text",
        "id": "tysPoe5rwC6I"
      },
      "source": [
        "#### Алгоритм Витерби для применения модели\n",
        "\n",
        "\n",
        "Требуется написать метод .predict для определения частей речи на тестовой выборке. Чтобы использовать обученную модель на новых данных, необходимо реализовать алгоритм Витерби. Это алгоритм динамиеского программирования, с помощью которого мы будем находить наиболее вероятную последовательность скрытых состояний модели для фиксированной последовательности слов:\n",
        "\n",
        "$$ \\hat{Y} = \\arg \\max_{Y} p(Y|X) = \\arg \\max_{Y} p(Y, X) $$\n",
        "\n",
        "Пусть $\\normalsize Q_{t,s}$ - самая вероятная последовательность скрытых состояний длины $t$ с окончанием в состоянии $s$. $\\normalsize q_{t, s}$ - вероятность этой последовательности.\n",
        "$$(1)\\: \\normalsize q_{t,s} = \\max_{s'} q_{t - 1, s'} \\cdot p(s | s') \\cdot p(o_t | s)$$\n",
        "$\\normalsize Q_{t,s}$ можно восстановить по argmax-ам."
      ]
    },
    {
      "cell_type": "code",
      "metadata": {
        "colab_type": "code",
        "id": "QpEXdhOfwC6J",
        "colab": {}
      },
      "source": [
        "class HiddenMarkovModel:    \n",
        "    def __init__(self):\n",
        "    \n",
        "        pass\n",
        "        \n",
        "    def fit(self, train_tokens_tags_list):\n",
        "        \"\"\"\n",
        "        train_tokens_tags_list: массив предложений пар слово-тег (выборка для train) \n",
        "        \"\"\"\n",
        "        tags = [tag for sent in train_tokens_tags_list\n",
        "                for (word, tag) in sent]\n",
        "        words = [word for sent in train_tokens_tags_list\n",
        "                 for (word, tag) in sent]\n",
        "        \n",
        "        tag_num = pd.Series(FreqDist(tag for tag in tags)).sort_index()\n",
        "        word_num = pd.Series(FreqDist(word for word in words)).sort_values(ascending=False)\n",
        "         \n",
        "        self.tags = tag_num.index\n",
        "        self.words = word_num.index\n",
        "        \n",
        "        A = pd.DataFrame({'{}'.format(tag) : [0] * len(tag_num) for tag in tag_num.index}, index=tag_num.index)\n",
        "        B = pd.DataFrame({'{}'.format(tag) : [0] * len(word_num) for tag in tag_num.index}, index=word_num.index)\n",
        "        \n",
        "        # Вычисляем матрицу A и B по частотам слов и тегов\n",
        "        \n",
        "        # sent - предложение\n",
        "        # sent[i][0] - i слово в этом предложении, sent[i][1] - i тег в этом предложении\n",
        "        for sent in train_tokens_tags_list:\n",
        "            for i in range(len(sent)):\n",
        "                B.loc[sent[i][0], sent[i][1]] += 1 # текущая i-пара слово-тег (обновите матрицу B аналогично A)\n",
        "                if len(sent) - 1 != i: # для последнего тега нет следующего тега\n",
        "                    A.loc[sent[i][1], sent[i + 1][1]] += 1 # пара тег-тег\n",
        "                \n",
        "        \n",
        "        # переходим к вероятностям\n",
        "        \n",
        "        # нормируем по строке, то есть по всем всевозможным следующим тегам\n",
        "        A = A.divide(A.sum(axis=1), axis=0)\n",
        "        \n",
        "        # нормируем по столбцу, то есть по всем всевозможным текущим словам\n",
        "        B = B / np.sum(B, axis=0)\n",
        "        \n",
        "        self.A = A\n",
        "        self.B = B\n",
        "        \n",
        "        return self\n",
        "        \n",
        "    \n",
        "    def predict(self, test_tokens_list):\n",
        "        \"\"\"\n",
        "        test_tokens_list : массив предложений пар слово-тег (выборка для test)\n",
        "        \"\"\"\n",
        "        predict_tags = OrderedDict({i : np.array([]) for i in range(len(test_tokens_list))})\n",
        "        \n",
        "        for i_sent in range(len(test_tokens_list)):\n",
        "            \n",
        "            current_sent = test_tokens_list[i_sent] # текущее предложение\n",
        "            len_sent = len(current_sent) # длина предложения \n",
        "            \n",
        "            q = np.zeros(shape=(len_sent + 1, len(self.tags)))\n",
        "            q[0] = 1 # нулевое состояние (равномерная инициализация по всем s)\n",
        "            back_point = np.zeros(shape=(len_sent + 1, len(self.tags))) # # argmax\n",
        "            \n",
        "            for t in range(len_sent):\n",
        "                \n",
        "                # если мы не встречали такое слово в обучении, то вместо него будет \n",
        "                # самое популярное слово с самым популярным тегом (вопрос 2)\n",
        "                if current_sent[t] not in self.words:\n",
        "                    current_sent[t] = pop_word\n",
        "                    \n",
        "                # через max выбираем следующий тег\n",
        "                for i_s in range(len(self.tags)):\n",
        "                    \n",
        "                    s = self.tags[i_s]\n",
        "                    \n",
        "                    # формула (1)\n",
        "                    q[t + 1][i_s] = np.max(q[t] *\n",
        "                        self.A.loc[:, s] * \n",
        "                        self.B.loc[current_sent[t], s])\n",
        "                    \n",
        "                    # argmax формула(1)\n",
        "                    \n",
        "                    # argmax, чтобы восстановить последовательность тегов\n",
        "                    back_point[t + 1][i_s] = (q[t] * self.A.loc[:, s] * \n",
        "                        self.B.loc[current_sent[t],s]).reset_index()[s].idxmax() # индекс \n",
        "                    \n",
        "            back_point = back_point.astype('int')\n",
        "            \n",
        "            # выписываем теги, меняя порядок на реальный\n",
        "            back_tag = deque()\n",
        "            current_tag = np.argmax(q[len_sent])\n",
        "            for t in range(len_sent, 0, -1):\n",
        "                back_tag.appendleft(self.tags[current_tag])\n",
        "                current_tag = back_point[t, current_tag]\n",
        "             \n",
        "            predict_tags[i_sent] = np.array(back_tag)\n",
        "        \n",
        "        \n",
        "        return predict_tags"
      ],
      "execution_count": 0,
      "outputs": []
    },
    {
      "cell_type": "markdown",
      "metadata": {
        "colab_type": "text",
        "id": "y0BLgsWkwC6M"
      },
      "source": [
        "Обучите скрытую марковскую модель:"
      ]
    },
    {
      "cell_type": "code",
      "metadata": {
        "colab_type": "code",
        "id": "ZcSoyUAxwC6M",
        "outputId": "4da68558-9648-44f2-9195-9a939f79cfe2",
        "colab": {
          "base_uri": "https://localhost:8080/",
          "height": 34
        }
      },
      "source": [
        "# my_model = ..,\n",
        "hmm = HiddenMarkovModel()\n",
        "hmm.fit(train_sents)"
      ],
      "execution_count": 0,
      "outputs": [
        {
          "output_type": "execute_result",
          "data": {
            "text/plain": [
              "<__main__.HiddenMarkovModel at 0x7f12c10a7940>"
            ]
          },
          "metadata": {
            "tags": []
          },
          "execution_count": 21
        }
      ]
    },
    {
      "cell_type": "markdown",
      "metadata": {
        "colab_type": "text",
        "id": "FeVNt19kwC6P"
      },
      "source": [
        "Проверьте работу реализованного алгоритма на следующих модельных примерах, проинтерпретируйте результат.\n",
        "\n",
        "- 'He can stay'\n",
        "- 'a cat and a dog'\n",
        "- 'I have a television'\n",
        "- 'My favourite character'"
      ]
    },
    {
      "cell_type": "code",
      "metadata": {
        "colab_type": "code",
        "id": "cMJErf7NwC6Q",
        "outputId": "cc33445f-ab8f-4c84-def6-a4ac26844246",
        "colab": {
          "base_uri": "https://localhost:8080/",
          "height": 85
        }
      },
      "source": [
        "sents = [['He', 'can', 'stay'], ['a', 'cat', 'and', 'a', 'dog'], ['I', 'have', 'a', 'television'],\n",
        "         ['My', 'favourite', 'character']]\n",
        "hmm.predict(sents)"
      ],
      "execution_count": 0,
      "outputs": [
        {
          "output_type": "execute_result",
          "data": {
            "text/plain": [
              "OrderedDict([(0, array(['NOUN', 'VERB', 'VERB'], dtype='<U4')),\n",
              "             (1, array(['DET', 'NOUN', 'CONJ', 'DET', 'NOUN'], dtype='<U4')),\n",
              "             (2, array(['NOUN', 'VERB', 'DET', 'NOUN'], dtype='<U4')),\n",
              "             (3, array(['NOUN', 'NOUN', 'NOUN'], dtype='<U4'))])"
            ]
          },
          "metadata": {
            "tags": []
          },
          "execution_count": 22
        }
      ]
    },
    {
      "cell_type": "markdown",
      "metadata": {
        "colab_type": "text",
        "id": "suDCwbGMwC6T"
      },
      "source": [
        "### Вопрос 3:\n",
        "* Какой тег вы получили для слова `can`?"
      ]
    },
    {
      "cell_type": "code",
      "metadata": {
        "colab_type": "code",
        "id": "ReHeG3IjwC6U",
        "outputId": "fa249696-547b-4022-815c-6eebd0e768a5",
        "colab": {
          "base_uri": "https://localhost:8080/",
          "height": 34
        }
      },
      "source": [
        "hmm.predict([['can']])"
      ],
      "execution_count": 0,
      "outputs": [
        {
          "output_type": "execute_result",
          "data": {
            "text/plain": [
              "OrderedDict([(0, array(['VERB'], dtype='<U4'))])"
            ]
          },
          "metadata": {
            "tags": []
          },
          "execution_count": 23
        }
      ]
    },
    {
      "cell_type": "markdown",
      "metadata": {
        "colab_type": "text",
        "id": "ObAslurlwC6X"
      },
      "source": [
        "### Вопрос 4:\n",
        "* Какой тег вы получили для слова `favourite`?"
      ]
    },
    {
      "cell_type": "code",
      "metadata": {
        "colab_type": "code",
        "id": "94crVrrXwC6Y",
        "outputId": "dd2bbd4f-3d79-4709-ce8d-3cf66aedeb92",
        "colab": {
          "base_uri": "https://localhost:8080/",
          "height": 34
        }
      },
      "source": [
        "hmm.predict([['favourite']])"
      ],
      "execution_count": 0,
      "outputs": [
        {
          "output_type": "execute_result",
          "data": {
            "text/plain": [
              "OrderedDict([(0, array(['NOUN'], dtype='<U4'))])"
            ]
          },
          "metadata": {
            "tags": []
          },
          "execution_count": 24
        }
      ]
    },
    {
      "cell_type": "markdown",
      "metadata": {
        "colab_type": "text",
        "id": "YPC4NZ4HwC6a"
      },
      "source": [
        "Примените модель к отложенной выборке Брауновского корпуса и подсчитайте точность определения тегов (accuracy). Сделайте выводы. "
      ]
    },
    {
      "cell_type": "code",
      "metadata": {
        "colab_type": "code",
        "id": "-7aioBc1wC6b",
        "outputId": "c00a2e07-6570-4095-cf83-ce67ad89a5fd",
        "colab": {
          "base_uri": "https://localhost:8080/",
          "height": 51
        }
      },
      "source": [
        "def accuracy_score(model, sents):\n",
        "    true_pred = 0\n",
        "    num_pred = 0\n",
        "\n",
        "    for sent in sents:\n",
        "        tags = np.array([tag for (word, tag) in sent])\n",
        "        words = np.array([word for (word, tag) in sent])\n",
        "\n",
        "        outputs = model.predict([words])[0]\n",
        "\n",
        "        true_pred += np.sum(outputs == tags)\n",
        "        num_pred += len(outputs)\n",
        "    print(\"Accuracy:\", true_pred / num_pred * 100, '%')"
      ],
      "execution_count": 0,
      "outputs": [
        {
          "output_type": "stream",
          "text": [
            "CPU times: user 2 µs, sys: 0 ns, total: 2 µs\n",
            "Wall time: 4.77 µs\n"
          ],
          "name": "stdout"
        }
      ]
    },
    {
      "cell_type": "code",
      "metadata": {
        "id": "roesKrPCcMbp",
        "colab_type": "code",
        "outputId": "0c1fbe23-28d7-4a04-c013-630989a56b3f",
        "colab": {
          "base_uri": "https://localhost:8080/",
          "height": 34
        }
      },
      "source": [
        "accuracy_score(hmm, test_sents)"
      ],
      "execution_count": 0,
      "outputs": [
        {
          "output_type": "stream",
          "text": [
            "Accuracy: 95.95592314717607 %\n"
          ],
          "name": "stdout"
        }
      ]
    },
    {
      "cell_type": "markdown",
      "metadata": {
        "colab_type": "text",
        "id": "ff_W7J8XwC6e"
      },
      "source": [
        "### Вопрос 5:\n",
        "* Какое качество вы получили(округлите до одного знака после запятой)?"
      ]
    },
    {
      "cell_type": "code",
      "metadata": {
        "colab_type": "code",
        "id": "ptvlpc-6wC6f",
        "outputId": "1510eaa5-ad6c-4f90-94f0-80dd342d3abf",
        "colab": {
          "base_uri": "https://localhost:8080/",
          "height": 34
        }
      },
      "source": [
        "96.0"
      ],
      "execution_count": 0,
      "outputs": [
        {
          "output_type": "execute_result",
          "data": {
            "text/plain": [
              "96.0"
            ]
          },
          "metadata": {
            "tags": []
          },
          "execution_count": 18
        }
      ]
    },
    {
      "cell_type": "markdown",
      "metadata": {
        "colab_type": "text",
        "id": "FpAgfZRTwC6h"
      },
      "source": [
        "## DefaultTagger"
      ]
    },
    {
      "cell_type": "markdown",
      "metadata": {
        "colab_type": "text",
        "id": "9b4cPKyiwC6j"
      },
      "source": [
        "### Вопрос 6:\n",
        "* Какое качество вы бы получили, если бы предсказывали любой тег, как самый популярный тег на выборке train(округлите до одного знака после запятой)?"
      ]
    },
    {
      "cell_type": "code",
      "metadata": {
        "id": "pM28MT0gcMb2",
        "colab_type": "code",
        "outputId": "ae34dd70-ef96-4293-c067-9ddf63a08102",
        "colab": {
          "base_uri": "https://localhost:8080/",
          "height": 68
        }
      },
      "source": [
        "%%time\n",
        "true_pred = 0\n",
        "num_pred = 0\n",
        "\n",
        "for sent in test_sents:\n",
        "    tags = np.array([tag for (word, tag) in sent])\n",
        "    words = np.array([word for (word, tag) in sent])\n",
        "\n",
        "    #outputs = model.predict([words])[0]\n",
        "\n",
        "    true_pred += np.sum(['NOUN'] * len(words) == tags)\n",
        "    num_pred += len(words)\n",
        "print(\"Accuracy:\", round((true_pred / num_pred * 100), 1), '%')"
      ],
      "execution_count": 0,
      "outputs": [
        {
          "output_type": "stream",
          "text": [
            "Accuracy: 23.8 %\n",
            "CPU times: user 120 ms, sys: 3 ms, total: 123 ms\n",
            "Wall time: 125 ms\n"
          ],
          "name": "stdout"
        }
      ]
    },
    {
      "cell_type": "markdown",
      "metadata": {
        "colab_type": "text",
        "id": "Td-0Pe0vwC6k"
      },
      "source": [
        "Вы можете испоьзовать DefaultTagger(метод tag для предсказания частей речи предложения) или можете преобразовать код выше"
      ]
    },
    {
      "cell_type": "code",
      "metadata": {
        "colab_type": "code",
        "id": "NfZYlMxJwC6m",
        "colab": {}
      },
      "source": [
        "from nltk.tag import DefaultTagger\n",
        "default_tagger = DefaultTagger('NOUN')"
      ],
      "execution_count": 0,
      "outputs": []
    },
    {
      "cell_type": "code",
      "metadata": {
        "id": "9CXKibo_cMcB",
        "colab_type": "code",
        "outputId": "9794ea9e-ac87-44b4-f3ac-d8c9f0c4488f",
        "colab": {
          "base_uri": "https://localhost:8080/",
          "height": 34
        }
      },
      "source": [
        "true_pred = 0\n",
        "num_pred = 0\n",
        "\n",
        "for sent in test_sents:\n",
        "    tags = np.array([tag for (word, tag) in sent])\n",
        "    words = np.array([word for (word, tag) in sent])\n",
        "    \n",
        "    tagged_sent = default_tagger.tag(words)\n",
        "    outputs = [tag for token, tag in tagged_sent]\n",
        "    \n",
        "    true_pred += np.sum(outputs == tags)\n",
        "    num_pred += len(words)\n",
        "    \n",
        "print(\"Accuracy:\", round((true_pred / num_pred * 100), 1), '%')"
      ],
      "execution_count": 0,
      "outputs": [
        {
          "output_type": "stream",
          "text": [
            "Accuracy: 23.8 %\n"
          ],
          "name": "stdout"
        }
      ]
    },
    {
      "cell_type": "markdown",
      "metadata": {
        "colab_type": "text",
        "id": "lz7Q3BfbwC6o"
      },
      "source": [
        "## Модель Стенфорда"
      ]
    },
    {
      "cell_type": "markdown",
      "metadata": {
        "colab_type": "text",
        "id": "eKYPKJYLwC6p"
      },
      "source": [
        "Скачайте предобученную модель от Стэнфорда: https://nlp.stanford.edu/software/tagger.shtml и примените к тестовым данным. \n",
        "Не забудьте преобразовать систему тэгов из 'en-ptb' в 'universal' с помощью функции map_tag."
      ]
    },
    {
      "cell_type": "code",
      "metadata": {
        "id": "Ia3rpdG_EyF8",
        "colab_type": "code",
        "outputId": "3da8cefd-10df-4874-9ca1-ad98da0158a7",
        "colab": {
          "base_uri": "https://localhost:8080/",
          "height": 595
        }
      },
      "source": [
        "! wget https://nlp.stanford.edu/software/stanford-postagger-2018-10-16.zip\n",
        "! unzip stanford-postagger-2018-10-16.zip"
      ],
      "execution_count": 0,
      "outputs": [
        {
          "output_type": "stream",
          "text": [
            "--2020-04-15 21:01:25--  https://nlp.stanford.edu/software/stanford-postagger-2018-10-16.zip\n",
            "Resolving nlp.stanford.edu (nlp.stanford.edu)... 171.64.67.140\n",
            "Connecting to nlp.stanford.edu (nlp.stanford.edu)|171.64.67.140|:443... connected.\n",
            "HTTP request sent, awaiting response... 200 OK\n",
            "Length: 26260468 (25M) [application/zip]\n",
            "Saving to: ‘stanford-postagger-2018-10-16.zip’\n",
            "\n",
            "stanford-postagger- 100%[===================>]  25.04M  6.92MB/s    in 6.1s    \n",
            "\n",
            "2020-04-15 21:01:32 (4.07 MB/s) - ‘stanford-postagger-2018-10-16.zip’ saved [26260468/26260468]\n",
            "\n",
            "Archive:  stanford-postagger-2018-10-16.zip\n",
            "   creating: stanford-postagger-2018-10-16/\n",
            "  inflating: stanford-postagger-2018-10-16/README.txt  \n",
            "  inflating: stanford-postagger-2018-10-16/sample-input.txt  \n",
            "  inflating: stanford-postagger-2018-10-16/build.xml  \n",
            "  inflating: stanford-postagger-2018-10-16/stanford-postagger.sh  \n",
            "  inflating: stanford-postagger-2018-10-16/stanford-postagger-3.9.2-javadoc.jar  \n",
            "  inflating: stanford-postagger-2018-10-16/stanford-postagger-gui.sh  \n",
            "  inflating: stanford-postagger-2018-10-16/stanford-postagger.jar  \n",
            "  inflating: stanford-postagger-2018-10-16/stanford-postagger.bat  \n",
            "  inflating: stanford-postagger-2018-10-16/sample-output.txt  \n",
            "  inflating: stanford-postagger-2018-10-16/stanford-postagger-3.9.2-sources.jar  \n",
            "  inflating: stanford-postagger-2018-10-16/TaggerDemo2.java  \n",
            "  inflating: stanford-postagger-2018-10-16/stanford-postagger-gui.bat  \n",
            "   creating: stanford-postagger-2018-10-16/models/\n",
            "  inflating: stanford-postagger-2018-10-16/models/english-bidirectional-distsim.tagger.props  \n",
            "  inflating: stanford-postagger-2018-10-16/models/README-Models.txt  \n",
            "  inflating: stanford-postagger-2018-10-16/models/english-bidirectional-distsim.tagger  \n",
            "  inflating: stanford-postagger-2018-10-16/models/english-left3words-distsim.tagger  \n",
            "  inflating: stanford-postagger-2018-10-16/models/english-left3words-distsim.tagger.props  \n",
            "  inflating: stanford-postagger-2018-10-16/TaggerDemo.java  \n",
            "  inflating: stanford-postagger-2018-10-16/stanford-postagger-3.9.2.jar  \n",
            "  inflating: stanford-postagger-2018-10-16/LICENSE.txt  \n"
          ],
          "name": "stdout"
        }
      ]
    },
    {
      "cell_type": "code",
      "metadata": {
        "colab_type": "code",
        "id": "yW-PR54QwC6p",
        "scrolled": false,
        "outputId": "0c2af377-2baa-4195-91ce-f31bfcf135d9",
        "colab": {
          "base_uri": "https://localhost:8080/",
          "height": 102
        }
      },
      "source": [
        "from nltk.tag.stanford import StanfordPOSTagger\n",
        "from nltk.tag.mapping import map_tag\n",
        "\n",
        "# используйте путь до jar и до model\n",
        "jar = \"/content/stanford-postagger-2018-10-16/stanford-postagger-3.9.2.jar\"\n",
        "model = \"/content/stanford-postagger-2018-10-16/models/english-bidirectional-distsim.tagger\"\n",
        "stanford_tagger = StanfordPOSTagger(model, jar, encoding='utf8')\n",
        "\n",
        "# проверим на предложении\n",
        "tagged_sent = stanford_tagger.tag(['I', 'bear', 'a', 'bag'])\n",
        "print('Ответ: ', [map_tag('en-ptb', 'universal', tag) for token, tag in tagged_sent])"
      ],
      "execution_count": 0,
      "outputs": [
        {
          "output_type": "stream",
          "text": [
            "/usr/local/lib/python3.6/dist-packages/nltk/tag/stanford.py:149: DeprecationWarning: \n",
            "The StanfordTokenizer will be deprecated in version 3.2.5.\n",
            "Please use \u001b[91mnltk.tag.corenlp.CoreNLPPOSTagger\u001b[0m or \u001b[91mnltk.tag.corenlp.CoreNLPNERTagger\u001b[0m instead.\n",
            "  super(StanfordPOSTagger, self).__init__(*args, **kwargs)\n"
          ],
          "name": "stderr"
        },
        {
          "output_type": "stream",
          "text": [
            "Ответ:  ['PRON', 'VERB', 'DET', 'NOUN']\n"
          ],
          "name": "stdout"
        }
      ]
    },
    {
      "cell_type": "markdown",
      "metadata": {
        "colab_type": "text",
        "id": "i1z8x4vvwC6s"
      },
      "source": [
        "### Вопрос 7:\n",
        "* Какое качество вы получили на модели Стенфорда(округлите до одного знака после запятой)?"
      ]
    },
    {
      "cell_type": "code",
      "metadata": {
        "colab_type": "code",
        "id": "GBd3RgqVwC6s",
        "outputId": "b0edc9d6-f742-4c48-a161-445761815e03",
        "colab": {
          "base_uri": "https://localhost:8080/",
          "height": 68
        }
      },
      "source": [
        "%%time\n",
        "true_pred = 0\n",
        "num_pred = 0\n",
        "\n",
        "for sent in test_sents:\n",
        "    tags = np.array([tag for (word, tag) in sent])\n",
        "    words = np.array([word for (word, tag) in sent])\n",
        "    \n",
        "    tagged_sent = stanford_tagger.tag(words)\n",
        "    outputs = [map_tag('en-ptb', 'universal', tag) for token, tag in tagged_sent]\n",
        "    \n",
        "    true_pred += np.sum(outputs == tags)\n",
        "    num_pred += len(words)\n",
        "    \n",
        "print(\"Accuracy:\", round((true_pred / num_pred * 100), 1), '%')"
      ],
      "execution_count": 0,
      "outputs": [
        {
          "output_type": "stream",
          "text": [
            "Accuracy: 91.2 %\n",
            "CPU times: user 17.6 s, sys: 2min 12s, total: 2min 29s\n",
            "Wall time: 3h 10min 7s\n"
          ],
          "name": "stdout"
        }
      ]
    },
    {
      "cell_type": "markdown",
      "metadata": {
        "id": "5w1W5hSkcMcV",
        "colab_type": "text"
      },
      "source": [
        "## BiLSTMTagger"
      ]
    },
    {
      "cell_type": "markdown",
      "metadata": {
        "id": "SKrdRnpscMcV",
        "colab_type": "text"
      },
      "source": [
        "Для того, чтобы успешнее справиться с дальнейшей частью, вам лучше обратиться к семинару 3(Language Model)"
      ]
    },
    {
      "cell_type": "markdown",
      "metadata": {
        "id": "mm1-S3t2cMcW",
        "colab_type": "text"
      },
      "source": [
        "### Подготовка данных"
      ]
    },
    {
      "cell_type": "markdown",
      "metadata": {
        "id": "GayTl7mUcMcX",
        "colab_type": "text"
      },
      "source": [
        "Изменим структуру данных"
      ]
    },
    {
      "cell_type": "code",
      "metadata": {
        "colab_type": "code",
        "id": "CnXcI64fxoj4",
        "scrolled": false,
        "outputId": "1765fe57-66cd-4f4a-c443-148eb9d1671d",
        "colab": {
          "base_uri": "https://localhost:8080/",
          "height": 54
        }
      },
      "source": [
        "pos_data = [list(zip(*sent)) for sent in brown_tagged_sents]\n",
        "print(pos_data[0])"
      ],
      "execution_count": 0,
      "outputs": [
        {
          "output_type": "stream",
          "text": [
            "[('The', 'Fulton', 'County', 'Grand', 'Jury', 'said', 'Friday', 'an', 'investigation', 'of', \"Atlanta's\", 'recent', 'primary', 'election', 'produced', '``', 'no', 'evidence', \"''\", 'that', 'any', 'irregularities', 'took', 'place', '.'), ('DET', 'NOUN', 'NOUN', 'ADJ', 'NOUN', 'VERB', 'NOUN', 'DET', 'NOUN', 'ADP', 'NOUN', 'ADJ', 'NOUN', 'NOUN', 'VERB', '.', 'DET', 'NOUN', '.', 'ADP', 'DET', 'NOUN', 'VERB', 'NOUN', '.')]\n"
          ],
          "name": "stdout"
        }
      ]
    },
    {
      "cell_type": "markdown",
      "metadata": {
        "id": "DpRE3c-3cMcc",
        "colab_type": "text"
      },
      "source": [
        "До этого мы писали много кода сами, теперь пора эксплуатировать pytorch"
      ]
    },
    {
      "cell_type": "code",
      "metadata": {
        "colab_type": "code",
        "id": "gvFlzrYnxokE",
        "outputId": "1196638b-02ee-4537-fb84-144623813ca5",
        "colab": {
          "base_uri": "https://localhost:8080/",
          "height": 51
        }
      },
      "source": [
        "%%time\n",
        "from torchtext.data import Field, BucketIterator\n",
        "import torchtext\n",
        "\n",
        "# наши поля\n",
        "WORD = Field(lower=True)\n",
        "TAG = Field(unk_token=None) # все токены нам извсетны\n",
        "\n",
        "# создаем примеры\n",
        "examples = []\n",
        "for words, tags in pos_data:\n",
        "    examples.append(torchtext.data.Example.fromlist([list(words), list(tags)], fields=[('words', WORD), ('tags', TAG)]))"
      ],
      "execution_count": 0,
      "outputs": [
        {
          "output_type": "stream",
          "text": [
            "CPU times: user 1.19 s, sys: 106 ms, total: 1.29 s\n",
            "Wall time: 3.86 s\n"
          ],
          "name": "stdout"
        }
      ]
    },
    {
      "cell_type": "markdown",
      "metadata": {
        "id": "nUhTrWCWcMcj",
        "colab_type": "text"
      },
      "source": [
        "Теперь формируем наш датасет"
      ]
    },
    {
      "cell_type": "code",
      "metadata": {
        "colab_type": "code",
        "id": "LGKkbZUIxokO",
        "scrolled": true,
        "outputId": "ca543681-ff4d-4a7e-b562-814b7bb0ae38",
        "colab": {
          "base_uri": "https://localhost:8080/",
          "height": 68
        }
      },
      "source": [
        "# кладем примеры в наш датасет\n",
        "dataset = torchtext.data.Dataset(examples, fields=[('words', WORD), ('tags', TAG)])\n",
        "\n",
        "train_data, valid_data, test_data = dataset.split(split_ratio=[0.8, 0.1, 0.1])\n",
        "\n",
        "print(f\"Number of training examples: {len(train_data.examples)}\")\n",
        "print(f\"Number of validation examples: {len(valid_data.examples)}\")\n",
        "print(f\"Number of testing examples: {len(test_data.examples)}\")"
      ],
      "execution_count": 0,
      "outputs": [
        {
          "output_type": "stream",
          "text": [
            "Number of training examples: 45872\n",
            "Number of validation examples: 5734\n",
            "Number of testing examples: 5734\n"
          ],
          "name": "stdout"
        }
      ]
    },
    {
      "cell_type": "markdown",
      "metadata": {
        "id": "T89unpppcMcp",
        "colab_type": "text"
      },
      "source": [
        "Построим словари. Параметр `min_freq` выберете сами. При построении словаря испольузем только train"
      ]
    },
    {
      "cell_type": "code",
      "metadata": {
        "colab_type": "code",
        "id": "tZwkwhlrxoka",
        "scrolled": true,
        "outputId": "cf617f86-774a-40f1-bc74-4f881689212c",
        "colab": {
          "base_uri": "https://localhost:8080/",
          "height": 105
        }
      },
      "source": [
        "WORD.build_vocab(train_data, min_freq=1)\n",
        "TAG.build_vocab(train_data)\n",
        "\n",
        "print(f\"Unique tokens in source (ru) vocabulary: {len(WORD.vocab)}\")\n",
        "print(f\"Unique tokens in target (en) vocabulary: {len(TAG.vocab)}\")\n",
        "\n",
        "print(WORD.vocab.itos[::200])\n",
        "print(TAG.vocab.itos)"
      ],
      "execution_count": 0,
      "outputs": [
        {
          "output_type": "stream",
          "text": [
            "Unique tokens in source (ru) vocabulary: 44851\n",
            "Unique tokens in target (en) vocabulary: 13\n",
            "['<unk>', 'away', 'full', 'rest', 'myself', 'write', 'allowed', 'formed', 'stands', 'completion', 'notes', 'refused', 'constitution', 'claimed', 'opinions', 'clouds', 'collective', 'swift', 'responses', 'freely', 'satisfaction', '70', 'classification', 'belgians', \"who's\", 'representation', 'jan.', 'dangers', 'tract', 'kissed', 'brand', 'observing', 'candy', 'orientation', 'beowulf', 'loosely', 'twisting', 'dill', 'natives', 'timely', 'cincinnati', \"hetman's\", 'premises', 'vue', 'cm.', 'frail', 'motionless', 'sensibility', '2%', 'continuum', 'germanic', 'metabolite', 'regards', 'thighs', 'airways', 'chattering', 'down-to-earth', 'gloves', 'lukewarm', 'photochemical', 'shakes', 'troublesome', 'aberrant', \"berger's\", 'comparisons', 'distribute', 'frigid', 'indescribable', 'marsh', 'pendleton', 'reread', 'spontaneity', 'turks', '1643', 'analysts', 'blooms', 'clarifying', 'dampened', 'dyed', 'flailing', \"hamilton's\", 'inflated', 'lengthening', 'midwestern', 'one-time', 'poitrine', 'redoute', 'scribe', 'squatted', 'toot', 'vietnam', '11%', 'ablation', 'anita', 'barbecued', 'bookies', 'capitulated', 'clawed', 'contemptible', 'debilitated', 'displaced', 'emergent', 'fatter', 'frictional', \"grazin'\", 'hilarious', 'incited', 'jewels', 'leslie', 'manually', 'monasteries', 'nurture', \"pandora's\", 'plodded', 'puissant', 'relive', 'sans', 'showman', 'spice-nice', 'subsystem', 'threadbare', 'ukrainian', 'viewer', 'workmanlike', '$46.7', '103', '1780', '24,400', '3:20', '637', 'ablard', 'aeronautical', 'allso', 'anthropologist', 'aromas', \"authors'\", 'bargen', 'bellman', 'bird-brain', 'boland', 'brest', 'bumblebee', 'cambodia', 'cataclysmic', \"chennault's\", \"claude's\", \"colonists'\", 'connelly', 'cosmical', 'crooning', 'dank', \"dell'arca\", 'diddle', 'distasteful', 'dried-up', 'eeg', 'endogenous', 'evensong', 'fabricate', 'fermentations', 'flatteringly', 'formalism', 'fumed', 'germs', 'gospelers', 'guardhouse', 'hand-to-hand', 'heavenward', 'himmler', 'household-type', 'imitating', 'industrially', 'interpreting', \"james's\", 'kankakee', 'kooks', 'law-abiding', 'lifelong', 'look-see', 'madrigaling', 'marvelously', 'memos', 'miner', 'moontrack', 'musicologists', 'nesting', 'non-productive', 'objectivity', 'ordinarius', 'overtaxed', 'parti', 'perishing', 'pinning', 'polyisocyanates', 'preemployment', 'prosopopoeia', 'quasi-folk', 're-arguing', 'refuse-littered', 'resistances', 'rivalled', 'ruining', 'satin-covered', 'searchingly', 'seq.', 'shooters', 'six-ton', 'snips', 'spahnie', 'stammering', 'straw-hat', 'sunday-school', 'systematized', 'tempeh', \"thoreau's\", 'tombs', 'triad', 'tyburn', 'unfunny', 'unwomanly', 'vibrating', 'waltham', 'wherewith', 'woodberry', 'yucatan']\n",
            "['<pad>', 'NOUN', 'VERB', '.', 'ADP', 'DET', 'ADJ', 'ADV', 'PRON', 'CONJ', 'PRT', 'NUM', 'X']\n"
          ],
          "name": "stdout"
        }
      ]
    },
    {
      "cell_type": "code",
      "metadata": {
        "colab_type": "code",
        "id": "vjn07NP-xokl",
        "scrolled": true,
        "outputId": "59932623-73b4-4094-dfc7-b2279e0be467",
        "colab": {
          "base_uri": "https://localhost:8080/",
          "height": 34
        }
      },
      "source": [
        "print(vars(train_data.examples[9]))"
      ],
      "execution_count": 0,
      "outputs": [
        {
          "output_type": "stream",
          "text": [
            "{'words': ['guests', 'will', 'be', 'treated', 'to', 'gulf', 'coast', 'scenic', 'effects', '.'], 'tags': ['NOUN', 'VERB', 'VERB', 'VERB', 'ADP', 'NOUN', 'NOUN', 'ADJ', 'NOUN', '.']}\n"
          ],
          "name": "stdout"
        }
      ]
    },
    {
      "cell_type": "markdown",
      "metadata": {
        "id": "LxgkU4cZcMcz",
        "colab_type": "text"
      },
      "source": [
        "Посмотрим с насколько большими предложениями мы имеем дело"
      ]
    },
    {
      "cell_type": "code",
      "metadata": {
        "colab_type": "code",
        "id": "dVpMi1_0xoku",
        "scrolled": true,
        "outputId": "1c5fe168-8385-4e9a-e094-b9a6b9d14ef5",
        "colab": {
          "base_uri": "https://localhost:8080/",
          "height": 281
        }
      },
      "source": [
        "length = map(len, [vars(x)['words'] for x in train_data.examples])\n",
        "\n",
        "plt.figure(figsize=[8, 4])\n",
        "plt.title(\"Length distribution in Train data\")\n",
        "plt.hist(list(length), bins=20);"
      ],
      "execution_count": 0,
      "outputs": [
        {
          "output_type": "display_data",
          "data": {
            "image/png": "[encoded data removed]",
            "text/plain": [
              "<Figure size 576x288 with 1 Axes>"
            ]
          },
          "metadata": {
            "tags": [],
            "needs_background": "light"
          }
        }
      ]
    },
    {
      "cell_type": "markdown",
      "metadata": {
        "id": "yi28N2RBcMc5",
        "colab_type": "text"
      },
      "source": [
        "Для обучения `BiLSTM` лучше использовать colab"
      ]
    },
    {
      "cell_type": "code",
      "metadata": {
        "colab_type": "code",
        "id": "LAGSrqWsxok2",
        "scrolled": true,
        "outputId": "deb50060-90c7-4bf0-8840-b71c80b59b66",
        "colab": {
          "base_uri": "https://localhost:8080/",
          "height": 34
        }
      },
      "source": [
        "import torch\n",
        "from torch import nn\n",
        "import torch.nn.functional as F\n",
        "import torch.optim as optim\n",
        "\n",
        "device = torch.device('cuda' if torch.cuda.is_available() else 'cpu')\n",
        "device"
      ],
      "execution_count": 0,
      "outputs": [
        {
          "output_type": "execute_result",
          "data": {
            "text/plain": [
              "device(type='cuda')"
            ]
          },
          "metadata": {
            "tags": []
          },
          "execution_count": 25
        }
      ]
    },
    {
      "cell_type": "markdown",
      "metadata": {
        "id": "2DSWm0UjcMc-",
        "colab_type": "text"
      },
      "source": [
        "Для более быстрого и устойчивого обучения сгруппируем наши данные по батчам"
      ]
    },
    {
      "cell_type": "code",
      "metadata": {
        "colab_type": "code",
        "id": "dmwAyhNgxok_",
        "colab": {}
      },
      "source": [
        "# бьем нашу выборку на батч, не забывая сначала отсортировать выборку по длине\n",
        "def _len_sort_key(x):\n",
        "    return len(x.words)\n",
        "\n",
        "BATCH_SIZE = 32\n",
        "\n",
        "train_iterator, valid_iterator, test_iterator = BucketIterator.splits(\n",
        "    (train_data, valid_data, test_data), \n",
        "    batch_size = BATCH_SIZE, \n",
        "    device = device,\n",
        "    sort_key=_len_sort_key\n",
        ")"
      ],
      "execution_count": 0,
      "outputs": []
    },
    {
      "cell_type": "code",
      "metadata": {
        "colab_type": "code",
        "id": "6aTjW00nxolI",
        "outputId": "9f5ff36a-ccd2-4c87-fed8-a63afc74a2d4",
        "colab": {
          "base_uri": "https://localhost:8080/",
          "height": 34
        }
      },
      "source": [
        "# посморим  на количество батчей\n",
        "list(map(len, [train_iterator, valid_iterator, test_iterator]))"
      ],
      "execution_count": 0,
      "outputs": [
        {
          "output_type": "execute_result",
          "data": {
            "text/plain": [
              "[1434, 180, 180]"
            ]
          },
          "metadata": {
            "tags": []
          },
          "execution_count": 27
        }
      ]
    },
    {
      "cell_type": "markdown",
      "metadata": {
        "id": "zyLQsizhcMdI",
        "colab_type": "text"
      },
      "source": [
        "### Модель и её обучение"
      ]
    },
    {
      "cell_type": "markdown",
      "metadata": {
        "id": "-i9oHzcrcMdJ",
        "colab_type": "text"
      },
      "source": [
        "Инициализируем нашу модель"
      ]
    },
    {
      "cell_type": "code",
      "metadata": {
        "colab_type": "code",
        "id": "Ff7BLWs_xolS",
        "scrolled": true,
        "outputId": "4c263de9-4e2c-48f2-c466-2cf5cba2d413",
        "colab": {
          "base_uri": "https://localhost:8080/",
          "height": 119
        }
      },
      "source": [
        "class LSTMTagger(nn.Module):\n",
        "\n",
        "    def __init__(self, input_dim, emb_dim, hid_dim, output_dim, dropout, bidirectional=False):\n",
        "        super().__init__()\n",
        "        \n",
        "  \n",
        "        self.embeddings = nn.Embedding(input_dim, emb_dim)\n",
        "        self.dropout = nn.Dropout(p=dropout)\n",
        "        \n",
        "        self.rnn = nn.LSTM(emb_dim, hid_dim, num_layers=2, bidirectional=bidirectional)\n",
        "        self.tag = nn.Linear((1 + bidirectional) * hid_dim, output_dim)\n",
        "\n",
        "    def forward(self, sent):\n",
        "        \n",
        "        #sent = [sent len, batch size] \n",
        "        \n",
        "        # не забываем применить dropout к embedding\n",
        "        embedded = self.dropout(self.embeddings(sent))\n",
        "\n",
        "        output, _ = self.rnn(embedded)\n",
        "        #output = [sent len, batch size, hid dim * n directions]\n",
        "\n",
        "        prediction = self.tag(output)\n",
        "    \n",
        "        return prediction\n",
        "        \n",
        "# параметры модели\n",
        "INPUT_DIM = len(WORD.vocab)\n",
        "OUTPUT_DIM = len(TAG.vocab)\n",
        "EMB_DIM = 100\n",
        "HID_DIM = 128\n",
        "DROPOUT = 0.5\n",
        "BIDIRECTIONAL = True\n",
        "\n",
        "model = LSTMTagger(INPUT_DIM, EMB_DIM, HID_DIM, OUTPUT_DIM, DROPOUT, BIDIRECTIONAL).to(device)\n",
        "\n",
        "# инициализируем веса\n",
        "def init_weights(m):\n",
        "    for name, param in m.named_parameters():\n",
        "        nn.init.uniform_(param, -0.08, 0.08)\n",
        "        \n",
        "model.apply(init_weights)"
      ],
      "execution_count": 0,
      "outputs": [
        {
          "output_type": "execute_result",
          "data": {
            "text/plain": [
              "LSTMTagger(\n",
              "  (embeddings): Embedding(44851, 100)\n",
              "  (dropout): Dropout(p=0.5, inplace=False)\n",
              "  (rnn): LSTM(100, 128, num_layers=2, bidirectional=True)\n",
              "  (tag): Linear(in_features=256, out_features=13, bias=True)\n",
              ")"
            ]
          },
          "metadata": {
            "tags": []
          },
          "execution_count": 28
        }
      ]
    },
    {
      "cell_type": "markdown",
      "metadata": {
        "id": "EJLqq8IHcMdQ",
        "colab_type": "text"
      },
      "source": [
        "Подсчитаем количество обучаемых параметров нашей модели"
      ]
    },
    {
      "cell_type": "code",
      "metadata": {
        "colab_type": "code",
        "id": "_Auu53Kdxolm",
        "outputId": "7446d1d5-e8ef-4edc-c20f-50f6babeaa41",
        "colab": {
          "base_uri": "https://localhost:8080/",
          "height": 34
        }
      },
      "source": [
        "def count_parameters(model):\n",
        "    return sum(param.numel() for param in model.parameters() if param.requires_grad)\n",
        "\n",
        "print(f'The model has {count_parameters(model):,} trainable parameters')"
      ],
      "execution_count": 0,
      "outputs": [
        {
          "output_type": "stream",
          "text": [
            "The model has 5,119,225 trainable parameters\n"
          ],
          "name": "stdout"
        }
      ]
    },
    {
      "cell_type": "markdown",
      "metadata": {
        "id": "jy_ljMLfcMdX",
        "colab_type": "text"
      },
      "source": [
        "Наша модель готова, осталось сформировать loss. На семинаре мы искали loss таким образом:"
      ]
    },
    {
      "cell_type": "code",
      "metadata": {
        "colab_type": "code",
        "id": "RxCuuxj8xoms",
        "outputId": "53ab2754-20be-4617-c51d-c25c9afec92d",
        "colab": {
          "base_uri": "https://localhost:8080/",
          "height": 34
        }
      },
      "source": [
        "for x in train_iterator:\n",
        "    break\n",
        "    \n",
        "output = model(x.words)\n",
        "logp = torch.gather(F.log_softmax(output, -1), dim=2, index=x.tags[:,:,None])\n",
        "-logp.mean()"
      ],
      "execution_count": 0,
      "outputs": [
        {
          "output_type": "execute_result",
          "data": {
            "text/plain": [
              "tensor(2.6026, device='cuda:0', grad_fn=<NegBackward>)"
            ]
          },
          "metadata": {
            "tags": []
          },
          "execution_count": 30
        }
      ]
    },
    {
      "cell_type": "markdown",
      "metadata": {
        "id": "ocEG3mdOxomz",
        "colab_type": "text"
      },
      "source": [
        "Сейчас мы не будем выбирать только нужные объекты, а сразу воспользуемся помощью pytorch"
      ]
    },
    {
      "cell_type": "code",
      "metadata": {
        "colab_type": "code",
        "id": "SCumIFWRxom4",
        "outputId": "c8b367fb-2189-46a2-8fa3-a9e5d2ee8172",
        "colab": {
          "base_uri": "https://localhost:8080/",
          "height": 34
        }
      },
      "source": [
        "criterion = nn.CrossEntropyLoss()\n",
        "criterion(output.view(-1, output.shape[-1]), x.tags.view(-1))"
      ],
      "execution_count": 0,
      "outputs": [
        {
          "output_type": "execute_result",
          "data": {
            "text/plain": [
              "tensor(2.6026, device='cuda:0', grad_fn=<NllLossBackward>)"
            ]
          },
          "metadata": {
            "tags": []
          },
          "execution_count": 31
        }
      ]
    },
    {
      "cell_type": "markdown",
      "metadata": {
        "id": "oSBfvf9HcMd9",
        "colab_type": "text"
      },
      "source": [
        "Погнали обучать"
      ]
    },
    {
      "cell_type": "code",
      "metadata": {
        "colab_type": "code",
        "id": "AjD1Y7Rmxolu",
        "scrolled": true,
        "outputId": "74cbd581-fb56-4c0b-d67d-40e439c8cb16",
        "colab": {
          "base_uri": "https://localhost:8080/",
          "height": 51
        }
      },
      "source": [
        "%%time\n",
        "PAD_IDX = TAG.vocab.stoi['<pad>']\n",
        "optimizer = optim.Adam(model.parameters())\n",
        "criterion = nn.CrossEntropyLoss(ignore_index = PAD_IDX)\n",
        "\n",
        "def train(model, iterator, optimizer, criterion, clip, train_history=None, valid_history=None):\n",
        "    model.train()\n",
        "    \n",
        "    epoch_loss = 0\n",
        "    history = []\n",
        "    for i, batch in enumerate(iterator):\n",
        "\n",
        "        bsent = batch.words\n",
        "        btags = batch.tags  \n",
        "        \n",
        "        optimizer.zero_grad()\n",
        "        \n",
        "        output = model(bsent)\n",
        "        \n",
        "        #tags = [sent len, batch size]\n",
        "        #output = [sent len, batch size, output dim]\n",
        "        \n",
        "        output = output.view(-1, output.shape[-1])\n",
        "        btags = btags.view(-1)\n",
        "        \n",
        "        #tags = [sent len * batch size]\n",
        "        #output = [sent len * batch size, output dim]\n",
        "        \n",
        "        loss = criterion(output, btags)\n",
        "        \n",
        "        loss.backward()\n",
        "        \n",
        "        # Gradient clipping(решение проблемы взрыва граденты), clip - максимальная норма вектора\n",
        "        torch.nn.utils.clip_grad_norm_(model.parameters(), max_norm=clip)\n",
        "        \n",
        "        optimizer.step()\n",
        "        \n",
        "        epoch_loss += loss.item()\n",
        "        \n",
        "        history.append(loss.cpu().data.numpy())\n",
        "        if (i+1)%10==0:\n",
        "            fig, ax = plt.subplots(nrows=1, ncols=2, figsize=(12, 8))\n",
        "\n",
        "            clear_output(True)\n",
        "            ax[0].plot(history, label='train loss')\n",
        "            ax[0].set_xlabel('Batch')\n",
        "            ax[0].set_title('Train loss')\n",
        "            \n",
        "            if train_history is not None:\n",
        "                ax[1].plot(train_history, label='general train history')\n",
        "                ax[1].set_xlabel('Epoch')\n",
        "            if valid_history is not None:\n",
        "                ax[1].plot(valid_history, label='general valid history')\n",
        "            plt.legend()\n",
        "            \n",
        "            plt.show()\n",
        "\n",
        "        \n",
        "    return epoch_loss / len(iterator)\n",
        "\n",
        "def evaluate(model, iterator, criterion):\n",
        "    model.eval()\n",
        "    \n",
        "    epoch_loss = 0\n",
        "    \n",
        "    history = []\n",
        "    \n",
        "    with torch.no_grad():\n",
        "    \n",
        "        for i, batch in enumerate(iterator):\n",
        "\n",
        "            bsent = batch.words\n",
        "            btags = batch.tags\n",
        "\n",
        "            output = model(bsent)\n",
        "\n",
        "            #tags = [sent len, batch size]\n",
        "            #output = [sent len, batch size, output dim]\n",
        "\n",
        "            output = output.view(-1, output.shape[-1])\n",
        "            btags = btags.view(-1)\n",
        "\n",
        "            #tags = [sent len * batch size]\n",
        "            #output = [sent len * batch size, output dim]\n",
        "\n",
        "            loss = criterion(output, btags)\n",
        "            \n",
        "            epoch_loss += loss.item()\n",
        "        \n",
        "    return epoch_loss / len(iterator)\n",
        "\n",
        "def epoch_time(start_time, end_time):\n",
        "    elapsed_time = end_time - start_time\n",
        "    elapsed_mins = int(elapsed_time / 60)\n",
        "    elapsed_secs = int(elapsed_time - (elapsed_mins * 60))\n",
        "    return elapsed_mins, elapsed_secs"
      ],
      "execution_count": 0,
      "outputs": [
        {
          "output_type": "stream",
          "text": [
            "CPU times: user 190 µs, sys: 0 ns, total: 190 µs\n",
            "Wall time: 195 µs\n"
          ],
          "name": "stdout"
        }
      ]
    },
    {
      "cell_type": "code",
      "metadata": {
        "colab_type": "code",
        "id": "TJdXIyTHxol2",
        "scrolled": false,
        "outputId": "c72c3ca5-b182-4616-d340-43e7732c09f4",
        "colab": {
          "base_uri": "https://localhost:8080/",
          "height": 598
        }
      },
      "source": [
        "%%time\n",
        "import time\n",
        "import math\n",
        "import matplotlib\n",
        "matplotlib.rcParams.update({'figure.figsize': (16, 12), 'font.size': 14})\n",
        "import matplotlib.pyplot as plt\n",
        "%matplotlib inline\n",
        "from IPython.display import clear_output\n",
        "\n",
        "train_history = []\n",
        "valid_history = []\n",
        "\n",
        "N_EPOCHS = 14\n",
        "CLIP = 1\n",
        "\n",
        "best_valid_loss = float('inf')\n",
        "\n",
        "for epoch in range(N_EPOCHS):\n",
        "    \n",
        "    start_time = time.time()\n",
        "    \n",
        "    train_loss = train(model, train_iterator, optimizer, criterion, CLIP, train_history, valid_history)\n",
        "    valid_loss = evaluate(model, valid_iterator, criterion)\n",
        "    \n",
        "    end_time = time.time()\n",
        "    \n",
        "    epoch_mins, epoch_secs = epoch_time(start_time, end_time)\n",
        "    \n",
        "    if valid_loss < best_valid_loss:\n",
        "        best_valid_loss = valid_loss\n",
        "        torch.save(model.state_dict(), 'best-val-model.pt')\n",
        "\n",
        "    train_history.append(train_loss)\n",
        "    valid_history.append(valid_loss)\n",
        "    print(f'Epoch: {epoch+1:02} | Time: {epoch_mins}m {epoch_secs}s')\n",
        "    print(f'\\tTrain Loss: {train_loss:.3f} | Train PPL: {math.exp(train_loss):7.3f}')\n",
        "    print(f'\\t Val. Loss: {valid_loss:.3f} |  Val. PPL: {math.exp(valid_loss):7.3f}')"
      ],
      "execution_count": 0,
      "outputs": [
        {
          "output_type": "display_data",
          "data": {
            "image/png": "[encoded data removed]",
            "text/plain": [
              "<Figure size 864x576 with 2 Axes>"
            ]
          },
          "metadata": {
            "tags": [],
            "needs_background": "light"
          }
        },
        {
          "output_type": "stream",
          "text": [
            "Epoch: 14 | Time: 0m 59s\n",
            "\tTrain Loss: 0.014 | Train PPL:   1.014\n",
            "\t Val. Loss: 0.096 |  Val. PPL:   1.101\n",
            "CPU times: user 13min 8s, sys: 24.5 s, total: 13min 32s\n",
            "Wall time: 13min 35s\n"
          ],
          "name": "stdout"
        }
      ]
    },
    {
      "cell_type": "markdown",
      "metadata": {
        "id": "Fr860UPacMeI",
        "colab_type": "text"
      },
      "source": [
        "[link text](https://)### Применение модели"
      ]
    },
    {
      "cell_type": "code",
      "metadata": {
        "colab_type": "code",
        "id": "5sDAfAq9xol9",
        "colab": {}
      },
      "source": [
        "def accuracy_model(model, iterator):\n",
        "    model.eval()\n",
        "    \n",
        "    true_pred = 0\n",
        "    num_pred = 0\n",
        "    \n",
        "    with torch.no_grad():\n",
        "        for i, batch in enumerate(iterator):\n",
        "\n",
        "            bsent = batch.words\n",
        "            btags = batch.tags\n",
        "\n",
        "            output = model(bsent)\n",
        "            \n",
        "            #output = [sent len, batch size, output dim]\n",
        "            output = output.argmax(-1)\n",
        "            \n",
        "            #output = [sent len, batch size]\n",
        "            predict_tags = output.cpu().numpy()\n",
        "            true_tags = btags.cpu().numpy()\n",
        "\n",
        "            true_pred += np.sum((true_tags == predict_tags) & (true_tags != PAD_IDX))\n",
        "            num_pred += np.sum(true_tags != PAD_IDX)\n",
        "            \n",
        "    return round(true_pred / num_pred * 100, 3)"
      ],
      "execution_count": 0,
      "outputs": []
    },
    {
      "cell_type": "code",
      "metadata": {
        "colab_type": "code",
        "id": "V2n0H85mxomE",
        "scrolled": true,
        "outputId": "9e8fef98-6750-46a9-c5b0-ca022b6a80cd",
        "colab": {
          "base_uri": "https://localhost:8080/",
          "height": 68
        }
      },
      "source": [
        "%%time\n",
        "print(\"Accuracy:\", accuracy_model(model, test_iterator), '%')"
      ],
      "execution_count": 0,
      "outputs": [
        {
          "output_type": "stream",
          "text": [
            "Accuracy: 97.703 %\n",
            "CPU times: user 423 ms, sys: 7 ms, total: 430 ms\n",
            "Wall time: 439 ms\n"
          ],
          "name": "stdout"
        }
      ]
    },
    {
      "cell_type": "markdown",
      "metadata": {
        "id": "FacTKSPJcMeP",
        "colab_type": "text"
      },
      "source": [
        "Вы можете улучшить качество, изменяя параметры модели. Но чтобы добиться нужного качества, вам неообходимо взять все выборку, а не только категорию `humor`."
      ]
    },
    {
      "cell_type": "code",
      "metadata": {
        "id": "QXqXg0gbcMeR",
        "colab_type": "code",
        "colab": {}
      },
      "source": [
        "# brown_tagged_sents = brown.tagged_sents(tagset=\"universal\")"
      ],
      "execution_count": 0,
      "outputs": []
    },
    {
      "cell_type": "markdown",
      "metadata": {
        "id": "gnpi2R6rcMeU",
        "colab_type": "text"
      },
      "source": [
        "Вам неоходимо добиться качества не меньше, чем `accuracy = 92 %` "
      ]
    },
    {
      "cell_type": "code",
      "metadata": {
        "colab_type": "code",
        "id": "TqD1lZuwxomK",
        "scrolled": true,
        "outputId": "5ea0d023-bd57-4c45-f65b-c0292af394b5",
        "colab": {
          "base_uri": "https://localhost:8080/",
          "height": 34
        }
      },
      "source": [
        "best_model = LSTMTagger(INPUT_DIM, EMB_DIM, HID_DIM, OUTPUT_DIM, DROPOUT, BIDIRECTIONAL).to(device)\n",
        "best_model.load_state_dict(torch.load('best-val-model.pt'))\n",
        "print('Accuracy test: ', accuracy_model(best_model, test_iterator))\n",
        "assert accuracy_model(best_model, test_iterator) >= 92"
      ],
      "execution_count": 0,
      "outputs": [
        {
          "output_type": "stream",
          "text": [
            "Accuracy test:  97.806\n"
          ],
          "name": "stdout"
        }
      ]
    },
    {
      "cell_type": "markdown",
      "metadata": {
        "id": "nVfdJM-lcMeZ",
        "colab_type": "text"
      },
      "source": [
        "Пример решение нашей задачи:"
      ]
    },
    {
      "cell_type": "code",
      "metadata": {
        "colab_type": "code",
        "id": "W3GUbwldxomW",
        "colab": {}
      },
      "source": [
        "def print_tags(model, data):\n",
        "    model.eval()\n",
        "    \n",
        "    with torch.no_grad():\n",
        "        words, _ = data\n",
        "        example = torch.LongTensor([WORD.vocab.stoi[elem] for elem in words]).unsqueeze(1).to(device)\n",
        "        \n",
        "        output = model(example).argmax(dim=-1).cpu().numpy()\n",
        "        tags = [TAG.vocab.itos[int(elem)] for elem in output]\n",
        "\n",
        "        for token, tag in zip(words, tags):\n",
        "            print(f'{token:15s}{tag}')"
      ],
      "execution_count": 0,
      "outputs": []
    },
    {
      "cell_type": "code",
      "metadata": {
        "scrolled": false,
        "id": "4mQoHc_EcMed",
        "colab_type": "code",
        "outputId": "79efb633-3931-4767-e375-be597f659084",
        "colab": {
          "base_uri": "https://localhost:8080/",
          "height": 425
        }
      },
      "source": [
        "print_tags(model, pos_data[-1])"
      ],
      "execution_count": 0,
      "outputs": [
        {
          "output_type": "stream",
          "text": [
            "From           VERB\n",
            "what           DET\n",
            "I              NOUN\n",
            "was            VERB\n",
            "able           ADJ\n",
            "to             ADP\n",
            "gauge          NOUN\n",
            "in             ADP\n",
            "a              DET\n",
            "swift          ADJ\n",
            ",              .\n",
            "greedy         ADJ\n",
            "glance         NOUN\n",
            ",              .\n",
            "the            DET\n",
            "figure         NOUN\n",
            "inside         ADP\n",
            "the            DET\n",
            "coral-colored  ADJ\n",
            "boucle         NOUN\n",
            "dress          NOUN\n",
            "was            VERB\n",
            "stupefying     VERB\n",
            ".              .\n"
          ],
          "name": "stdout"
        }
      ]
    },
    {
      "cell_type": "markdown",
      "metadata": {
        "colab_type": "text",
        "heading_collapsed": true,
        "id": "zMIJDOBmwC6v"
      },
      "source": [
        "## Сравните результаты моделей"
      ]
    },
    {
      "cell_type": "code",
      "metadata": {
        "id": "6FAD8uvKZkSc",
        "colab_type": "code",
        "colab": {}
      },
      "source": [
        "\"\"\"\n",
        "________________________________\n",
        "Модель\\Выборка    |Humor | Full |\n",
        "__________________|______|______| \n",
        "HMM               | 89.5 | 96.0 |\n",
        "__________________|______|______|\n",
        "DefaultTagger     | 22.4 | 23.8 |\n",
        "__________________|______|______|\n",
        "StanfordPOSTagger | 88.5 | 91.2 |\n",
        "__________________|______|______|\n",
        "BiLSTM            | 90.1 | 97.8 |\n",
        "__________________|______|______|\n",
        "\n",
        "\"\"\""
      ],
      "execution_count": 0,
      "outputs": []
    }
  ]
}