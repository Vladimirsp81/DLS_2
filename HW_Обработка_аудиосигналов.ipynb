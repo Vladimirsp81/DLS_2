{
  "nbformat": 4,
  "nbformat_minor": 0,
  "metadata": {
    "colab": {
      "name": "HW_Обработка_аудиосигналов.ipynb",
      "provenance": [],
      "collapsed_sections": [],
      "toc_visible": true,
      "include_colab_link": true
    },
    "kernelspec": {
      "name": "python3",
      "display_name": "Python 3"
    },
    "widgets": {
      "application/vnd.jupyter.widget-state+json": {
        "468d86d22aaa4bd181a5da73d6df0673": {
          "model_module": "@jupyter-widgets/controls",
          "model_name": "HBoxModel",
          "state": {
            "_view_name": "HBoxView",
            "_dom_classes": [],
            "_model_name": "HBoxModel",
            "_view_module": "@jupyter-widgets/controls",
            "_model_module_version": "1.5.0",
            "_view_count": null,
            "_view_module_version": "1.5.0",
            "box_style": "",
            "layout": "IPY_MODEL_e15efe0fe77240a6a817c27ab95c64b7",
            "_model_module": "@jupyter-widgets/controls",
            "children": [
              "IPY_MODEL_f80eff0df79d44f3b269f48d4a3efcb4",
              "IPY_MODEL_8d38103d3b6e44e793198d1e7a2ddbbb"
            ]
          }
        },
        "e15efe0fe77240a6a817c27ab95c64b7": {
          "model_module": "@jupyter-widgets/base",
          "model_name": "LayoutModel",
          "state": {
            "_view_name": "LayoutView",
            "grid_template_rows": null,
            "right": null,
            "justify_content": null,
            "_view_module": "@jupyter-widgets/base",
            "overflow": null,
            "_model_module_version": "1.2.0",
            "_view_count": null,
            "flex_flow": null,
            "width": null,
            "min_width": null,
            "border": null,
            "align_items": null,
            "bottom": null,
            "_model_module": "@jupyter-widgets/base",
            "top": null,
            "grid_column": null,
            "overflow_y": null,
            "overflow_x": null,
            "grid_auto_flow": null,
            "grid_area": null,
            "grid_template_columns": null,
            "flex": null,
            "_model_name": "LayoutModel",
            "justify_items": null,
            "grid_row": null,
            "max_height": null,
            "align_content": null,
            "visibility": null,
            "align_self": null,
            "height": null,
            "min_height": null,
            "padding": null,
            "grid_auto_rows": null,
            "grid_gap": null,
            "max_width": null,
            "order": null,
            "_view_module_version": "1.2.0",
            "grid_template_areas": null,
            "object_position": null,
            "object_fit": null,
            "grid_auto_columns": null,
            "margin": null,
            "display": null,
            "left": null
          }
        },
        "f80eff0df79d44f3b269f48d4a3efcb4": {
          "model_module": "@jupyter-widgets/controls",
          "model_name": "FloatProgressModel",
          "state": {
            "_view_name": "ProgressView",
            "style": "IPY_MODEL_cf7e6a3a97c544b9bf7ea44141da7d45",
            "_dom_classes": [],
            "description": "100%",
            "_model_name": "FloatProgressModel",
            "bar_style": "success",
            "max": 400,
            "_view_module": "@jupyter-widgets/controls",
            "_model_module_version": "1.5.0",
            "value": 400,
            "_view_count": null,
            "_view_module_version": "1.5.0",
            "orientation": "horizontal",
            "min": 0,
            "description_tooltip": null,
            "_model_module": "@jupyter-widgets/controls",
            "layout": "IPY_MODEL_75dc1d351e194dac80c04b716abd378a"
          }
        },
        "8d38103d3b6e44e793198d1e7a2ddbbb": {
          "model_module": "@jupyter-widgets/controls",
          "model_name": "HTMLModel",
          "state": {
            "_view_name": "HTMLView",
            "style": "IPY_MODEL_b0b0c0fff4224d4baf2715617ff0060a",
            "_dom_classes": [],
            "description": "",
            "_model_name": "HTMLModel",
            "placeholder": "​",
            "_view_module": "@jupyter-widgets/controls",
            "_model_module_version": "1.5.0",
            "value": " 400/400 [02:49&lt;00:00,  2.35it/s]",
            "_view_count": null,
            "_view_module_version": "1.5.0",
            "description_tooltip": null,
            "_model_module": "@jupyter-widgets/controls",
            "layout": "IPY_MODEL_8664bdd8eabb44bb9ee242ecd54a56b1"
          }
        },
        "cf7e6a3a97c544b9bf7ea44141da7d45": {
          "model_module": "@jupyter-widgets/controls",
          "model_name": "ProgressStyleModel",
          "state": {
            "_view_name": "StyleView",
            "_model_name": "ProgressStyleModel",
            "description_width": "initial",
            "_view_module": "@jupyter-widgets/base",
            "_model_module_version": "1.5.0",
            "_view_count": null,
            "_view_module_version": "1.2.0",
            "bar_color": null,
            "_model_module": "@jupyter-widgets/controls"
          }
        },
        "75dc1d351e194dac80c04b716abd378a": {
          "model_module": "@jupyter-widgets/base",
          "model_name": "LayoutModel",
          "state": {
            "_view_name": "LayoutView",
            "grid_template_rows": null,
            "right": null,
            "justify_content": null,
            "_view_module": "@jupyter-widgets/base",
            "overflow": null,
            "_model_module_version": "1.2.0",
            "_view_count": null,
            "flex_flow": null,
            "width": null,
            "min_width": null,
            "border": null,
            "align_items": null,
            "bottom": null,
            "_model_module": "@jupyter-widgets/base",
            "top": null,
            "grid_column": null,
            "overflow_y": null,
            "overflow_x": null,
            "grid_auto_flow": null,
            "grid_area": null,
            "grid_template_columns": null,
            "flex": null,
            "_model_name": "LayoutModel",
            "justify_items": null,
            "grid_row": null,
            "max_height": null,
            "align_content": null,
            "visibility": null,
            "align_self": null,
            "height": null,
            "min_height": null,
            "padding": null,
            "grid_auto_rows": null,
            "grid_gap": null,
            "max_width": null,
            "order": null,
            "_view_module_version": "1.2.0",
            "grid_template_areas": null,
            "object_position": null,
            "object_fit": null,
            "grid_auto_columns": null,
            "margin": null,
            "display": null,
            "left": null
          }
        },
        "b0b0c0fff4224d4baf2715617ff0060a": {
          "model_module": "@jupyter-widgets/controls",
          "model_name": "DescriptionStyleModel",
          "state": {
            "_view_name": "StyleView",
            "_model_name": "DescriptionStyleModel",
            "description_width": "",
            "_view_module": "@jupyter-widgets/base",
            "_model_module_version": "1.5.0",
            "_view_count": null,
            "_view_module_version": "1.2.0",
            "_model_module": "@jupyter-widgets/controls"
          }
        },
        "8664bdd8eabb44bb9ee242ecd54a56b1": {
          "model_module": "@jupyter-widgets/base",
          "model_name": "LayoutModel",
          "state": {
            "_view_name": "LayoutView",
            "grid_template_rows": null,
            "right": null,
            "justify_content": null,
            "_view_module": "@jupyter-widgets/base",
            "overflow": null,
            "_model_module_version": "1.2.0",
            "_view_count": null,
            "flex_flow": null,
            "width": null,
            "min_width": null,
            "border": null,
            "align_items": null,
            "bottom": null,
            "_model_module": "@jupyter-widgets/base",
            "top": null,
            "grid_column": null,
            "overflow_y": null,
            "overflow_x": null,
            "grid_auto_flow": null,
            "grid_area": null,
            "grid_template_columns": null,
            "flex": null,
            "_model_name": "LayoutModel",
            "justify_items": null,
            "grid_row": null,
            "max_height": null,
            "align_content": null,
            "visibility": null,
            "align_self": null,
            "height": null,
            "min_height": null,
            "padding": null,
            "grid_auto_rows": null,
            "grid_gap": null,
            "max_width": null,
            "order": null,
            "_view_module_version": "1.2.0",
            "grid_template_areas": null,
            "object_position": null,
            "object_fit": null,
            "grid_auto_columns": null,
            "margin": null,
            "display": null,
            "left": null
          }
        },
        "8386f9efad6d4f56b0e83dd3b1b29d11": {
          "model_module": "@jupyter-widgets/controls",
          "model_name": "HBoxModel",
          "state": {
            "_view_name": "HBoxView",
            "_dom_classes": [],
            "_model_name": "HBoxModel",
            "_view_module": "@jupyter-widgets/controls",
            "_model_module_version": "1.5.0",
            "_view_count": null,
            "_view_module_version": "1.5.0",
            "box_style": "",
            "layout": "IPY_MODEL_5aa059dbb54448e68a360d8e3dacd2c2",
            "_model_module": "@jupyter-widgets/controls",
            "children": [
              "IPY_MODEL_f4ede9f56f0e418ba44ec2741179b992",
              "IPY_MODEL_72ddf54f3e3e47708789834710e75203"
            ]
          }
        },
        "5aa059dbb54448e68a360d8e3dacd2c2": {
          "model_module": "@jupyter-widgets/base",
          "model_name": "LayoutModel",
          "state": {
            "_view_name": "LayoutView",
            "grid_template_rows": null,
            "right": null,
            "justify_content": null,
            "_view_module": "@jupyter-widgets/base",
            "overflow": null,
            "_model_module_version": "1.2.0",
            "_view_count": null,
            "flex_flow": null,
            "width": null,
            "min_width": null,
            "border": null,
            "align_items": null,
            "bottom": null,
            "_model_module": "@jupyter-widgets/base",
            "top": null,
            "grid_column": null,
            "overflow_y": null,
            "overflow_x": null,
            "grid_auto_flow": null,
            "grid_area": null,
            "grid_template_columns": null,
            "flex": null,
            "_model_name": "LayoutModel",
            "justify_items": null,
            "grid_row": null,
            "max_height": null,
            "align_content": null,
            "visibility": null,
            "align_self": null,
            "height": null,
            "min_height": null,
            "padding": null,
            "grid_auto_rows": null,
            "grid_gap": null,
            "max_width": null,
            "order": null,
            "_view_module_version": "1.2.0",
            "grid_template_areas": null,
            "object_position": null,
            "object_fit": null,
            "grid_auto_columns": null,
            "margin": null,
            "display": null,
            "left": null
          }
        },
        "f4ede9f56f0e418ba44ec2741179b992": {
          "model_module": "@jupyter-widgets/controls",
          "model_name": "FloatProgressModel",
          "state": {
            "_view_name": "ProgressView",
            "style": "IPY_MODEL_d7bf32bb27ac4b8fa29eb45c1013154b",
            "_dom_classes": [],
            "description": "100%",
            "_model_name": "FloatProgressModel",
            "bar_style": "success",
            "max": 150,
            "_view_module": "@jupyter-widgets/controls",
            "_model_module_version": "1.5.0",
            "value": 150,
            "_view_count": null,
            "_view_module_version": "1.5.0",
            "orientation": "horizontal",
            "min": 0,
            "description_tooltip": null,
            "_model_module": "@jupyter-widgets/controls",
            "layout": "IPY_MODEL_257d9312ec53409c9cd69d25ba04305f"
          }
        },
        "72ddf54f3e3e47708789834710e75203": {
          "model_module": "@jupyter-widgets/controls",
          "model_name": "HTMLModel",
          "state": {
            "_view_name": "HTMLView",
            "style": "IPY_MODEL_22a6d47d188a4c0e88bacab9cd68a845",
            "_dom_classes": [],
            "description": "",
            "_model_name": "HTMLModel",
            "placeholder": "​",
            "_view_module": "@jupyter-widgets/controls",
            "_model_module_version": "1.5.0",
            "value": " 150/150 [02:03&lt;00:00,  1.22it/s]",
            "_view_count": null,
            "_view_module_version": "1.5.0",
            "description_tooltip": null,
            "_model_module": "@jupyter-widgets/controls",
            "layout": "IPY_MODEL_42cc4e348ac84032a4371b597bdee97c"
          }
        },
        "d7bf32bb27ac4b8fa29eb45c1013154b": {
          "model_module": "@jupyter-widgets/controls",
          "model_name": "ProgressStyleModel",
          "state": {
            "_view_name": "StyleView",
            "_model_name": "ProgressStyleModel",
            "description_width": "initial",
            "_view_module": "@jupyter-widgets/base",
            "_model_module_version": "1.5.0",
            "_view_count": null,
            "_view_module_version": "1.2.0",
            "bar_color": null,
            "_model_module": "@jupyter-widgets/controls"
          }
        },
        "257d9312ec53409c9cd69d25ba04305f": {
          "model_module": "@jupyter-widgets/base",
          "model_name": "LayoutModel",
          "state": {
            "_view_name": "LayoutView",
            "grid_template_rows": null,
            "right": null,
            "justify_content": null,
            "_view_module": "@jupyter-widgets/base",
            "overflow": null,
            "_model_module_version": "1.2.0",
            "_view_count": null,
            "flex_flow": null,
            "width": null,
            "min_width": null,
            "border": null,
            "align_items": null,
            "bottom": null,
            "_model_module": "@jupyter-widgets/base",
            "top": null,
            "grid_column": null,
            "overflow_y": null,
            "overflow_x": null,
            "grid_auto_flow": null,
            "grid_area": null,
            "grid_template_columns": null,
            "flex": null,
            "_model_name": "LayoutModel",
            "justify_items": null,
            "grid_row": null,
            "max_height": null,
            "align_content": null,
            "visibility": null,
            "align_self": null,
            "height": null,
            "min_height": null,
            "padding": null,
            "grid_auto_rows": null,
            "grid_gap": null,
            "max_width": null,
            "order": null,
            "_view_module_version": "1.2.0",
            "grid_template_areas": null,
            "object_position": null,
            "object_fit": null,
            "grid_auto_columns": null,
            "margin": null,
            "display": null,
            "left": null
          }
        },
        "22a6d47d188a4c0e88bacab9cd68a845": {
          "model_module": "@jupyter-widgets/controls",
          "model_name": "DescriptionStyleModel",
          "state": {
            "_view_name": "StyleView",
            "_model_name": "DescriptionStyleModel",
            "description_width": "",
            "_view_module": "@jupyter-widgets/base",
            "_model_module_version": "1.5.0",
            "_view_count": null,
            "_view_module_version": "1.2.0",
            "_model_module": "@jupyter-widgets/controls"
          }
        },
        "42cc4e348ac84032a4371b597bdee97c": {
          "model_module": "@jupyter-widgets/base",
          "model_name": "LayoutModel",
          "state": {
            "_view_name": "LayoutView",
            "grid_template_rows": null,
            "right": null,
            "justify_content": null,
            "_view_module": "@jupyter-widgets/base",
            "overflow": null,
            "_model_module_version": "1.2.0",
            "_view_count": null,
            "flex_flow": null,
            "width": null,
            "min_width": null,
            "border": null,
            "align_items": null,
            "bottom": null,
            "_model_module": "@jupyter-widgets/base",
            "top": null,
            "grid_column": null,
            "overflow_y": null,
            "overflow_x": null,
            "grid_auto_flow": null,
            "grid_area": null,
            "grid_template_columns": null,
            "flex": null,
            "_model_name": "LayoutModel",
            "justify_items": null,
            "grid_row": null,
            "max_height": null,
            "align_content": null,
            "visibility": null,
            "align_self": null,
            "height": null,
            "min_height": null,
            "padding": null,
            "grid_auto_rows": null,
            "grid_gap": null,
            "max_width": null,
            "order": null,
            "_view_module_version": "1.2.0",
            "grid_template_areas": null,
            "object_position": null,
            "object_fit": null,
            "grid_auto_columns": null,
            "margin": null,
            "display": null,
            "left": null
          }
        },
        "ab4499cb7e0c40f4b7e82216ccddbff9": {
          "model_module": "@jupyter-widgets/controls",
          "model_name": "HBoxModel",
          "state": {
            "_view_name": "HBoxView",
            "_dom_classes": [],
            "_model_name": "HBoxModel",
            "_view_module": "@jupyter-widgets/controls",
            "_model_module_version": "1.5.0",
            "_view_count": null,
            "_view_module_version": "1.5.0",
            "box_style": "",
            "layout": "IPY_MODEL_aa89c47cf1fc47088d55f2a6d7b79f23",
            "_model_module": "@jupyter-widgets/controls",
            "children": [
              "IPY_MODEL_c637fe637f2143abad6721ab05474485",
              "IPY_MODEL_fb3a5a7ecfa84839a4fe2cbc54d8676d"
            ]
          }
        },
        "aa89c47cf1fc47088d55f2a6d7b79f23": {
          "model_module": "@jupyter-widgets/base",
          "model_name": "LayoutModel",
          "state": {
            "_view_name": "LayoutView",
            "grid_template_rows": null,
            "right": null,
            "justify_content": null,
            "_view_module": "@jupyter-widgets/base",
            "overflow": null,
            "_model_module_version": "1.2.0",
            "_view_count": null,
            "flex_flow": null,
            "width": null,
            "min_width": null,
            "border": null,
            "align_items": null,
            "bottom": null,
            "_model_module": "@jupyter-widgets/base",
            "top": null,
            "grid_column": null,
            "overflow_y": null,
            "overflow_x": null,
            "grid_auto_flow": null,
            "grid_area": null,
            "grid_template_columns": null,
            "flex": null,
            "_model_name": "LayoutModel",
            "justify_items": null,
            "grid_row": null,
            "max_height": null,
            "align_content": null,
            "visibility": null,
            "align_self": null,
            "height": null,
            "min_height": null,
            "padding": null,
            "grid_auto_rows": null,
            "grid_gap": null,
            "max_width": null,
            "order": null,
            "_view_module_version": "1.2.0",
            "grid_template_areas": null,
            "object_position": null,
            "object_fit": null,
            "grid_auto_columns": null,
            "margin": null,
            "display": null,
            "left": null
          }
        },
        "c637fe637f2143abad6721ab05474485": {
          "model_module": "@jupyter-widgets/controls",
          "model_name": "FloatProgressModel",
          "state": {
            "_view_name": "ProgressView",
            "style": "IPY_MODEL_0a5879ff7deb4cc2b70d0dfa2bdf0de8",
            "_dom_classes": [],
            "description": "100%",
            "_model_name": "FloatProgressModel",
            "bar_style": "success",
            "max": 20,
            "_view_module": "@jupyter-widgets/controls",
            "_model_module_version": "1.5.0",
            "value": 20,
            "_view_count": null,
            "_view_module_version": "1.5.0",
            "orientation": "horizontal",
            "min": 0,
            "description_tooltip": null,
            "_model_module": "@jupyter-widgets/controls",
            "layout": "IPY_MODEL_1b40f35d44e146fea5299f1d80195657"
          }
        },
        "fb3a5a7ecfa84839a4fe2cbc54d8676d": {
          "model_module": "@jupyter-widgets/controls",
          "model_name": "HTMLModel",
          "state": {
            "_view_name": "HTMLView",
            "style": "IPY_MODEL_3f9c4b547878462e842a87b493d599ab",
            "_dom_classes": [],
            "description": "",
            "_model_name": "HTMLModel",
            "placeholder": "​",
            "_view_module": "@jupyter-widgets/controls",
            "_model_module_version": "1.5.0",
            "value": " 20/20 [14:09&lt;00:00, 42.49s/it]",
            "_view_count": null,
            "_view_module_version": "1.5.0",
            "description_tooltip": null,
            "_model_module": "@jupyter-widgets/controls",
            "layout": "IPY_MODEL_77ff35e1c4af47b9b99d2d051061a7c2"
          }
        },
        "0a5879ff7deb4cc2b70d0dfa2bdf0de8": {
          "model_module": "@jupyter-widgets/controls",
          "model_name": "ProgressStyleModel",
          "state": {
            "_view_name": "StyleView",
            "_model_name": "ProgressStyleModel",
            "description_width": "initial",
            "_view_module": "@jupyter-widgets/base",
            "_model_module_version": "1.5.0",
            "_view_count": null,
            "_view_module_version": "1.2.0",
            "bar_color": null,
            "_model_module": "@jupyter-widgets/controls"
          }
        },
        "1b40f35d44e146fea5299f1d80195657": {
          "model_module": "@jupyter-widgets/base",
          "model_name": "LayoutModel",
          "state": {
            "_view_name": "LayoutView",
            "grid_template_rows": null,
            "right": null,
            "justify_content": null,
            "_view_module": "@jupyter-widgets/base",
            "overflow": null,
            "_model_module_version": "1.2.0",
            "_view_count": null,
            "flex_flow": null,
            "width": null,
            "min_width": null,
            "border": null,
            "align_items": null,
            "bottom": null,
            "_model_module": "@jupyter-widgets/base",
            "top": null,
            "grid_column": null,
            "overflow_y": null,
            "overflow_x": null,
            "grid_auto_flow": null,
            "grid_area": null,
            "grid_template_columns": null,
            "flex": null,
            "_model_name": "LayoutModel",
            "justify_items": null,
            "grid_row": null,
            "max_height": null,
            "align_content": null,
            "visibility": null,
            "align_self": null,
            "height": null,
            "min_height": null,
            "padding": null,
            "grid_auto_rows": null,
            "grid_gap": null,
            "max_width": null,
            "order": null,
            "_view_module_version": "1.2.0",
            "grid_template_areas": null,
            "object_position": null,
            "object_fit": null,
            "grid_auto_columns": null,
            "margin": null,
            "display": null,
            "left": null
          }
        },
        "3f9c4b547878462e842a87b493d599ab": {
          "model_module": "@jupyter-widgets/controls",
          "model_name": "DescriptionStyleModel",
          "state": {
            "_view_name": "StyleView",
            "_model_name": "DescriptionStyleModel",
            "description_width": "",
            "_view_module": "@jupyter-widgets/base",
            "_model_module_version": "1.5.0",
            "_view_count": null,
            "_view_module_version": "1.2.0",
            "_model_module": "@jupyter-widgets/controls"
          }
        },
        "77ff35e1c4af47b9b99d2d051061a7c2": {
          "model_module": "@jupyter-widgets/base",
          "model_name": "LayoutModel",
          "state": {
            "_view_name": "LayoutView",
            "grid_template_rows": null,
            "right": null,
            "justify_content": null,
            "_view_module": "@jupyter-widgets/base",
            "overflow": null,
            "_model_module_version": "1.2.0",
            "_view_count": null,
            "flex_flow": null,
            "width": null,
            "min_width": null,
            "border": null,
            "align_items": null,
            "bottom": null,
            "_model_module": "@jupyter-widgets/base",
            "top": null,
            "grid_column": null,
            "overflow_y": null,
            "overflow_x": null,
            "grid_auto_flow": null,
            "grid_area": null,
            "grid_template_columns": null,
            "flex": null,
            "_model_name": "LayoutModel",
            "justify_items": null,
            "grid_row": null,
            "max_height": null,
            "align_content": null,
            "visibility": null,
            "align_self": null,
            "height": null,
            "min_height": null,
            "padding": null,
            "grid_auto_rows": null,
            "grid_gap": null,
            "max_width": null,
            "order": null,
            "_view_module_version": "1.2.0",
            "grid_template_areas": null,
            "object_position": null,
            "object_fit": null,
            "grid_auto_columns": null,
            "margin": null,
            "display": null,
            "left": null
          }
        },
        "66e7e5f3bf3e4824838f03cb96ed96e6": {
          "model_module": "@jupyter-widgets/controls",
          "model_name": "HBoxModel",
          "state": {
            "_view_name": "HBoxView",
            "_dom_classes": [],
            "_model_name": "HBoxModel",
            "_view_module": "@jupyter-widgets/controls",
            "_model_module_version": "1.5.0",
            "_view_count": null,
            "_view_module_version": "1.5.0",
            "box_style": "",
            "layout": "IPY_MODEL_22505e1281dd410b93a1b73ea1c7c12a",
            "_model_module": "@jupyter-widgets/controls",
            "children": [
              "IPY_MODEL_acf2a3cad33840319ea1c727e5839d4e",
              "IPY_MODEL_3cf1a1eed0c14cfd8454a0e565a845bb"
            ]
          }
        },
        "22505e1281dd410b93a1b73ea1c7c12a": {
          "model_module": "@jupyter-widgets/base",
          "model_name": "LayoutModel",
          "state": {
            "_view_name": "LayoutView",
            "grid_template_rows": null,
            "right": null,
            "justify_content": null,
            "_view_module": "@jupyter-widgets/base",
            "overflow": null,
            "_model_module_version": "1.2.0",
            "_view_count": null,
            "flex_flow": null,
            "width": null,
            "min_width": null,
            "border": null,
            "align_items": null,
            "bottom": null,
            "_model_module": "@jupyter-widgets/base",
            "top": null,
            "grid_column": null,
            "overflow_y": null,
            "overflow_x": null,
            "grid_auto_flow": null,
            "grid_area": null,
            "grid_template_columns": null,
            "flex": null,
            "_model_name": "LayoutModel",
            "justify_items": null,
            "grid_row": null,
            "max_height": null,
            "align_content": null,
            "visibility": null,
            "align_self": null,
            "height": null,
            "min_height": null,
            "padding": null,
            "grid_auto_rows": null,
            "grid_gap": null,
            "max_width": null,
            "order": null,
            "_view_module_version": "1.2.0",
            "grid_template_areas": null,
            "object_position": null,
            "object_fit": null,
            "grid_auto_columns": null,
            "margin": null,
            "display": null,
            "left": null
          }
        },
        "acf2a3cad33840319ea1c727e5839d4e": {
          "model_module": "@jupyter-widgets/controls",
          "model_name": "FloatProgressModel",
          "state": {
            "_view_name": "ProgressView",
            "style": "IPY_MODEL_c07dad6a6cf24120935b89c245a224ff",
            "_dom_classes": [],
            "description": "100%",
            "_model_name": "FloatProgressModel",
            "bar_style": "success",
            "max": 1500,
            "_view_module": "@jupyter-widgets/controls",
            "_model_module_version": "1.5.0",
            "value": 1500,
            "_view_count": null,
            "_view_module_version": "1.5.0",
            "orientation": "horizontal",
            "min": 0,
            "description_tooltip": null,
            "_model_module": "@jupyter-widgets/controls",
            "layout": "IPY_MODEL_6dbec04512924c47bb0515b6c6751be4"
          }
        },
        "3cf1a1eed0c14cfd8454a0e565a845bb": {
          "model_module": "@jupyter-widgets/controls",
          "model_name": "HTMLModel",
          "state": {
            "_view_name": "HTMLView",
            "style": "IPY_MODEL_fc15930ca51044c49dc2b118e0c3af20",
            "_dom_classes": [],
            "description": "",
            "_model_name": "HTMLModel",
            "placeholder": "​",
            "_view_module": "@jupyter-widgets/controls",
            "_model_module_version": "1.5.0",
            "value": " 1500/1500 [03:35&lt;00:00,  6.97it/s]",
            "_view_count": null,
            "_view_module_version": "1.5.0",
            "description_tooltip": null,
            "_model_module": "@jupyter-widgets/controls",
            "layout": "IPY_MODEL_ebc0819db4644e32a0e88895b297d35b"
          }
        },
        "c07dad6a6cf24120935b89c245a224ff": {
          "model_module": "@jupyter-widgets/controls",
          "model_name": "ProgressStyleModel",
          "state": {
            "_view_name": "StyleView",
            "_model_name": "ProgressStyleModel",
            "description_width": "initial",
            "_view_module": "@jupyter-widgets/base",
            "_model_module_version": "1.5.0",
            "_view_count": null,
            "_view_module_version": "1.2.0",
            "bar_color": null,
            "_model_module": "@jupyter-widgets/controls"
          }
        },
        "6dbec04512924c47bb0515b6c6751be4": {
          "model_module": "@jupyter-widgets/base",
          "model_name": "LayoutModel",
          "state": {
            "_view_name": "LayoutView",
            "grid_template_rows": null,
            "right": null,
            "justify_content": null,
            "_view_module": "@jupyter-widgets/base",
            "overflow": null,
            "_model_module_version": "1.2.0",
            "_view_count": null,
            "flex_flow": null,
            "width": null,
            "min_width": null,
            "border": null,
            "align_items": null,
            "bottom": null,
            "_model_module": "@jupyter-widgets/base",
            "top": null,
            "grid_column": null,
            "overflow_y": null,
            "overflow_x": null,
            "grid_auto_flow": null,
            "grid_area": null,
            "grid_template_columns": null,
            "flex": null,
            "_model_name": "LayoutModel",
            "justify_items": null,
            "grid_row": null,
            "max_height": null,
            "align_content": null,
            "visibility": null,
            "align_self": null,
            "height": null,
            "min_height": null,
            "padding": null,
            "grid_auto_rows": null,
            "grid_gap": null,
            "max_width": null,
            "order": null,
            "_view_module_version": "1.2.0",
            "grid_template_areas": null,
            "object_position": null,
            "object_fit": null,
            "grid_auto_columns": null,
            "margin": null,
            "display": null,
            "left": null
          }
        },
        "fc15930ca51044c49dc2b118e0c3af20": {
          "model_module": "@jupyter-widgets/controls",
          "model_name": "DescriptionStyleModel",
          "state": {
            "_view_name": "StyleView",
            "_model_name": "DescriptionStyleModel",
            "description_width": "",
            "_view_module": "@jupyter-widgets/base",
            "_model_module_version": "1.5.0",
            "_view_count": null,
            "_view_module_version": "1.2.0",
            "_model_module": "@jupyter-widgets/controls"
          }
        },
        "ebc0819db4644e32a0e88895b297d35b": {
          "model_module": "@jupyter-widgets/base",
          "model_name": "LayoutModel",
          "state": {
            "_view_name": "LayoutView",
            "grid_template_rows": null,
            "right": null,
            "justify_content": null,
            "_view_module": "@jupyter-widgets/base",
            "overflow": null,
            "_model_module_version": "1.2.0",
            "_view_count": null,
            "flex_flow": null,
            "width": null,
            "min_width": null,
            "border": null,
            "align_items": null,
            "bottom": null,
            "_model_module": "@jupyter-widgets/base",
            "top": null,
            "grid_column": null,
            "overflow_y": null,
            "overflow_x": null,
            "grid_auto_flow": null,
            "grid_area": null,
            "grid_template_columns": null,
            "flex": null,
            "_model_name": "LayoutModel",
            "justify_items": null,
            "grid_row": null,
            "max_height": null,
            "align_content": null,
            "visibility": null,
            "align_self": null,
            "height": null,
            "min_height": null,
            "padding": null,
            "grid_auto_rows": null,
            "grid_gap": null,
            "max_width": null,
            "order": null,
            "_view_module_version": "1.2.0",
            "grid_template_areas": null,
            "object_position": null,
            "object_fit": null,
            "grid_auto_columns": null,
            "margin": null,
            "display": null,
            "left": null
          }
        },
        "058216640f3447ada7fe3214d1518041": {
          "model_module": "@jupyter-widgets/controls",
          "model_name": "HBoxModel",
          "state": {
            "_view_name": "HBoxView",
            "_dom_classes": [],
            "_model_name": "HBoxModel",
            "_view_module": "@jupyter-widgets/controls",
            "_model_module_version": "1.5.0",
            "_view_count": null,
            "_view_module_version": "1.5.0",
            "box_style": "",
            "layout": "IPY_MODEL_80ed7a5b5aeb413bb182bf8126cf13da",
            "_model_module": "@jupyter-widgets/controls",
            "children": [
              "IPY_MODEL_f44bca3ec51b43de8be72f6e3b2573fa",
              "IPY_MODEL_3c9b249e4b4043b9bad3965929413cb3"
            ]
          }
        },
        "80ed7a5b5aeb413bb182bf8126cf13da": {
          "model_module": "@jupyter-widgets/base",
          "model_name": "LayoutModel",
          "state": {
            "_view_name": "LayoutView",
            "grid_template_rows": null,
            "right": null,
            "justify_content": null,
            "_view_module": "@jupyter-widgets/base",
            "overflow": null,
            "_model_module_version": "1.2.0",
            "_view_count": null,
            "flex_flow": null,
            "width": null,
            "min_width": null,
            "border": null,
            "align_items": null,
            "bottom": null,
            "_model_module": "@jupyter-widgets/base",
            "top": null,
            "grid_column": null,
            "overflow_y": null,
            "overflow_x": null,
            "grid_auto_flow": null,
            "grid_area": null,
            "grid_template_columns": null,
            "flex": null,
            "_model_name": "LayoutModel",
            "justify_items": null,
            "grid_row": null,
            "max_height": null,
            "align_content": null,
            "visibility": null,
            "align_self": null,
            "height": null,
            "min_height": null,
            "padding": null,
            "grid_auto_rows": null,
            "grid_gap": null,
            "max_width": null,
            "order": null,
            "_view_module_version": "1.2.0",
            "grid_template_areas": null,
            "object_position": null,
            "object_fit": null,
            "grid_auto_columns": null,
            "margin": null,
            "display": null,
            "left": null
          }
        },
        "f44bca3ec51b43de8be72f6e3b2573fa": {
          "model_module": "@jupyter-widgets/controls",
          "model_name": "FloatProgressModel",
          "state": {
            "_view_name": "ProgressView",
            "style": "IPY_MODEL_935c6aa43ea94598b4aaab9fdbad4601",
            "_dom_classes": [],
            "description": "100%",
            "_model_name": "FloatProgressModel",
            "bar_style": "success",
            "max": 150,
            "_view_module": "@jupyter-widgets/controls",
            "_model_module_version": "1.5.0",
            "value": 150,
            "_view_count": null,
            "_view_module_version": "1.5.0",
            "orientation": "horizontal",
            "min": 0,
            "description_tooltip": null,
            "_model_module": "@jupyter-widgets/controls",
            "layout": "IPY_MODEL_cf6f244f9abf4998b7a40669ab4359e4"
          }
        },
        "3c9b249e4b4043b9bad3965929413cb3": {
          "model_module": "@jupyter-widgets/controls",
          "model_name": "HTMLModel",
          "state": {
            "_view_name": "HTMLView",
            "style": "IPY_MODEL_8a34a1116ee740f2acc9ed7575117b6c",
            "_dom_classes": [],
            "description": "",
            "_model_name": "HTMLModel",
            "placeholder": "​",
            "_view_module": "@jupyter-widgets/controls",
            "_model_module_version": "1.5.0",
            "value": " 150/150 [17:56&lt;00:00,  7.18s/it]",
            "_view_count": null,
            "_view_module_version": "1.5.0",
            "description_tooltip": null,
            "_model_module": "@jupyter-widgets/controls",
            "layout": "IPY_MODEL_c91dadbbbb094b91b1df15ea4041ab9e"
          }
        },
        "935c6aa43ea94598b4aaab9fdbad4601": {
          "model_module": "@jupyter-widgets/controls",
          "model_name": "ProgressStyleModel",
          "state": {
            "_view_name": "StyleView",
            "_model_name": "ProgressStyleModel",
            "description_width": "initial",
            "_view_module": "@jupyter-widgets/base",
            "_model_module_version": "1.5.0",
            "_view_count": null,
            "_view_module_version": "1.2.0",
            "bar_color": null,
            "_model_module": "@jupyter-widgets/controls"
          }
        },
        "cf6f244f9abf4998b7a40669ab4359e4": {
          "model_module": "@jupyter-widgets/base",
          "model_name": "LayoutModel",
          "state": {
            "_view_name": "LayoutView",
            "grid_template_rows": null,
            "right": null,
            "justify_content": null,
            "_view_module": "@jupyter-widgets/base",
            "overflow": null,
            "_model_module_version": "1.2.0",
            "_view_count": null,
            "flex_flow": null,
            "width": null,
            "min_width": null,
            "border": null,
            "align_items": null,
            "bottom": null,
            "_model_module": "@jupyter-widgets/base",
            "top": null,
            "grid_column": null,
            "overflow_y": null,
            "overflow_x": null,
            "grid_auto_flow": null,
            "grid_area": null,
            "grid_template_columns": null,
            "flex": null,
            "_model_name": "LayoutModel",
            "justify_items": null,
            "grid_row": null,
            "max_height": null,
            "align_content": null,
            "visibility": null,
            "align_self": null,
            "height": null,
            "min_height": null,
            "padding": null,
            "grid_auto_rows": null,
            "grid_gap": null,
            "max_width": null,
            "order": null,
            "_view_module_version": "1.2.0",
            "grid_template_areas": null,
            "object_position": null,
            "object_fit": null,
            "grid_auto_columns": null,
            "margin": null,
            "display": null,
            "left": null
          }
        },
        "8a34a1116ee740f2acc9ed7575117b6c": {
          "model_module": "@jupyter-widgets/controls",
          "model_name": "DescriptionStyleModel",
          "state": {
            "_view_name": "StyleView",
            "_model_name": "DescriptionStyleModel",
            "description_width": "",
            "_view_module": "@jupyter-widgets/base",
            "_model_module_version": "1.5.0",
            "_view_count": null,
            "_view_module_version": "1.2.0",
            "_model_module": "@jupyter-widgets/controls"
          }
        },
        "c91dadbbbb094b91b1df15ea4041ab9e": {
          "model_module": "@jupyter-widgets/base",
          "model_name": "LayoutModel",
          "state": {
            "_view_name": "LayoutView",
            "grid_template_rows": null,
            "right": null,
            "justify_content": null,
            "_view_module": "@jupyter-widgets/base",
            "overflow": null,
            "_model_module_version": "1.2.0",
            "_view_count": null,
            "flex_flow": null,
            "width": null,
            "min_width": null,
            "border": null,
            "align_items": null,
            "bottom": null,
            "_model_module": "@jupyter-widgets/base",
            "top": null,
            "grid_column": null,
            "overflow_y": null,
            "overflow_x": null,
            "grid_auto_flow": null,
            "grid_area": null,
            "grid_template_columns": null,
            "flex": null,
            "_model_name": "LayoutModel",
            "justify_items": null,
            "grid_row": null,
            "max_height": null,
            "align_content": null,
            "visibility": null,
            "align_self": null,
            "height": null,
            "min_height": null,
            "padding": null,
            "grid_auto_rows": null,
            "grid_gap": null,
            "max_width": null,
            "order": null,
            "_view_module_version": "1.2.0",
            "grid_template_areas": null,
            "object_position": null,
            "object_fit": null,
            "grid_auto_columns": null,
            "margin": null,
            "display": null,
            "left": null
          }
        },
        "0d32b702d6814c15af2dc7f7450f183d": {
          "model_module": "@jupyter-widgets/controls",
          "model_name": "HBoxModel",
          "state": {
            "_view_name": "HBoxView",
            "_dom_classes": [],
            "_model_name": "HBoxModel",
            "_view_module": "@jupyter-widgets/controls",
            "_model_module_version": "1.5.0",
            "_view_count": null,
            "_view_module_version": "1.5.0",
            "box_style": "",
            "layout": "IPY_MODEL_1893ba36409445e6b99bcf5679a64451",
            "_model_module": "@jupyter-widgets/controls",
            "children": [
              "IPY_MODEL_eef8680ce89d441db77f81c1b16e7c2d",
              "IPY_MODEL_a9c17f68dc9940e681402623c247971a"
            ]
          }
        },
        "1893ba36409445e6b99bcf5679a64451": {
          "model_module": "@jupyter-widgets/base",
          "model_name": "LayoutModel",
          "state": {
            "_view_name": "LayoutView",
            "grid_template_rows": null,
            "right": null,
            "justify_content": null,
            "_view_module": "@jupyter-widgets/base",
            "overflow": null,
            "_model_module_version": "1.2.0",
            "_view_count": null,
            "flex_flow": null,
            "width": null,
            "min_width": null,
            "border": null,
            "align_items": null,
            "bottom": null,
            "_model_module": "@jupyter-widgets/base",
            "top": null,
            "grid_column": null,
            "overflow_y": null,
            "overflow_x": null,
            "grid_auto_flow": null,
            "grid_area": null,
            "grid_template_columns": null,
            "flex": null,
            "_model_name": "LayoutModel",
            "justify_items": null,
            "grid_row": null,
            "max_height": null,
            "align_content": null,
            "visibility": null,
            "align_self": null,
            "height": null,
            "min_height": null,
            "padding": null,
            "grid_auto_rows": null,
            "grid_gap": null,
            "max_width": null,
            "order": null,
            "_view_module_version": "1.2.0",
            "grid_template_areas": null,
            "object_position": null,
            "object_fit": null,
            "grid_auto_columns": null,
            "margin": null,
            "display": null,
            "left": null
          }
        },
        "eef8680ce89d441db77f81c1b16e7c2d": {
          "model_module": "@jupyter-widgets/controls",
          "model_name": "FloatProgressModel",
          "state": {
            "_view_name": "ProgressView",
            "style": "IPY_MODEL_9724d4a8f3224b5a9d9e82e67016d2ba",
            "_dom_classes": [],
            "description": "100%",
            "_model_name": "FloatProgressModel",
            "bar_style": "success",
            "max": 1500,
            "_view_module": "@jupyter-widgets/controls",
            "_model_module_version": "1.5.0",
            "value": 1500,
            "_view_count": null,
            "_view_module_version": "1.5.0",
            "orientation": "horizontal",
            "min": 0,
            "description_tooltip": null,
            "_model_module": "@jupyter-widgets/controls",
            "layout": "IPY_MODEL_7ebef8a149224c8aa567d109dbb11481"
          }
        },
        "a9c17f68dc9940e681402623c247971a": {
          "model_module": "@jupyter-widgets/controls",
          "model_name": "HTMLModel",
          "state": {
            "_view_name": "HTMLView",
            "style": "IPY_MODEL_c133e23641dc4a6ca1448a3c6325b63c",
            "_dom_classes": [],
            "description": "",
            "_model_name": "HTMLModel",
            "placeholder": "​",
            "_view_module": "@jupyter-widgets/controls",
            "_model_module_version": "1.5.0",
            "value": " 1500/1500 [17:28&lt;00:00,  1.43it/s]",
            "_view_count": null,
            "_view_module_version": "1.5.0",
            "description_tooltip": null,
            "_model_module": "@jupyter-widgets/controls",
            "layout": "IPY_MODEL_87c0b33524484605a48414bad96f03e3"
          }
        },
        "9724d4a8f3224b5a9d9e82e67016d2ba": {
          "model_module": "@jupyter-widgets/controls",
          "model_name": "ProgressStyleModel",
          "state": {
            "_view_name": "StyleView",
            "_model_name": "ProgressStyleModel",
            "description_width": "initial",
            "_view_module": "@jupyter-widgets/base",
            "_model_module_version": "1.5.0",
            "_view_count": null,
            "_view_module_version": "1.2.0",
            "bar_color": null,
            "_model_module": "@jupyter-widgets/controls"
          }
        },
        "7ebef8a149224c8aa567d109dbb11481": {
          "model_module": "@jupyter-widgets/base",
          "model_name": "LayoutModel",
          "state": {
            "_view_name": "LayoutView",
            "grid_template_rows": null,
            "right": null,
            "justify_content": null,
            "_view_module": "@jupyter-widgets/base",
            "overflow": null,
            "_model_module_version": "1.2.0",
            "_view_count": null,
            "flex_flow": null,
            "width": null,
            "min_width": null,
            "border": null,
            "align_items": null,
            "bottom": null,
            "_model_module": "@jupyter-widgets/base",
            "top": null,
            "grid_column": null,
            "overflow_y": null,
            "overflow_x": null,
            "grid_auto_flow": null,
            "grid_area": null,
            "grid_template_columns": null,
            "flex": null,
            "_model_name": "LayoutModel",
            "justify_items": null,
            "grid_row": null,
            "max_height": null,
            "align_content": null,
            "visibility": null,
            "align_self": null,
            "height": null,
            "min_height": null,
            "padding": null,
            "grid_auto_rows": null,
            "grid_gap": null,
            "max_width": null,
            "order": null,
            "_view_module_version": "1.2.0",
            "grid_template_areas": null,
            "object_position": null,
            "object_fit": null,
            "grid_auto_columns": null,
            "margin": null,
            "display": null,
            "left": null
          }
        },
        "c133e23641dc4a6ca1448a3c6325b63c": {
          "model_module": "@jupyter-widgets/controls",
          "model_name": "DescriptionStyleModel",
          "state": {
            "_view_name": "StyleView",
            "_model_name": "DescriptionStyleModel",
            "description_width": "",
            "_view_module": "@jupyter-widgets/base",
            "_model_module_version": "1.5.0",
            "_view_count": null,
            "_view_module_version": "1.2.0",
            "_model_module": "@jupyter-widgets/controls"
          }
        },
        "87c0b33524484605a48414bad96f03e3": {
          "model_module": "@jupyter-widgets/base",
          "model_name": "LayoutModel",
          "state": {
            "_view_name": "LayoutView",
            "grid_template_rows": null,
            "right": null,
            "justify_content": null,
            "_view_module": "@jupyter-widgets/base",
            "overflow": null,
            "_model_module_version": "1.2.0",
            "_view_count": null,
            "flex_flow": null,
            "width": null,
            "min_width": null,
            "border": null,
            "align_items": null,
            "bottom": null,
            "_model_module": "@jupyter-widgets/base",
            "top": null,
            "grid_column": null,
            "overflow_y": null,
            "overflow_x": null,
            "grid_auto_flow": null,
            "grid_area": null,
            "grid_template_columns": null,
            "flex": null,
            "_model_name": "LayoutModel",
            "justify_items": null,
            "grid_row": null,
            "max_height": null,
            "align_content": null,
            "visibility": null,
            "align_self": null,
            "height": null,
            "min_height": null,
            "padding": null,
            "grid_auto_rows": null,
            "grid_gap": null,
            "max_width": null,
            "order": null,
            "_view_module_version": "1.2.0",
            "grid_template_areas": null,
            "object_position": null,
            "object_fit": null,
            "grid_auto_columns": null,
            "margin": null,
            "display": null,
            "left": null
          }
        },
        "96c4faf247604725bda7db20266840cf": {
          "model_module": "@jupyter-widgets/controls",
          "model_name": "HBoxModel",
          "state": {
            "_view_name": "HBoxView",
            "_dom_classes": [],
            "_model_name": "HBoxModel",
            "_view_module": "@jupyter-widgets/controls",
            "_model_module_version": "1.5.0",
            "_view_count": null,
            "_view_module_version": "1.5.0",
            "box_style": "",
            "layout": "IPY_MODEL_fed727df388b4e729f1cd201aed82afd",
            "_model_module": "@jupyter-widgets/controls",
            "children": [
              "IPY_MODEL_34395d7022de42a3b8f68d140e2aa9b8",
              "IPY_MODEL_4389f22f6d4546989be18b13f575d734"
            ]
          }
        },
        "fed727df388b4e729f1cd201aed82afd": {
          "model_module": "@jupyter-widgets/base",
          "model_name": "LayoutModel",
          "state": {
            "_view_name": "LayoutView",
            "grid_template_rows": null,
            "right": null,
            "justify_content": null,
            "_view_module": "@jupyter-widgets/base",
            "overflow": null,
            "_model_module_version": "1.2.0",
            "_view_count": null,
            "flex_flow": null,
            "width": null,
            "min_width": null,
            "border": null,
            "align_items": null,
            "bottom": null,
            "_model_module": "@jupyter-widgets/base",
            "top": null,
            "grid_column": null,
            "overflow_y": null,
            "overflow_x": null,
            "grid_auto_flow": null,
            "grid_area": null,
            "grid_template_columns": null,
            "flex": null,
            "_model_name": "LayoutModel",
            "justify_items": null,
            "grid_row": null,
            "max_height": null,
            "align_content": null,
            "visibility": null,
            "align_self": null,
            "height": null,
            "min_height": null,
            "padding": null,
            "grid_auto_rows": null,
            "grid_gap": null,
            "max_width": null,
            "order": null,
            "_view_module_version": "1.2.0",
            "grid_template_areas": null,
            "object_position": null,
            "object_fit": null,
            "grid_auto_columns": null,
            "margin": null,
            "display": null,
            "left": null
          }
        },
        "34395d7022de42a3b8f68d140e2aa9b8": {
          "model_module": "@jupyter-widgets/controls",
          "model_name": "FloatProgressModel",
          "state": {
            "_view_name": "ProgressView",
            "style": "IPY_MODEL_1771b872171e4345ab93afc23214fd79",
            "_dom_classes": [],
            "description": "100%",
            "_model_name": "FloatProgressModel",
            "bar_style": "success",
            "max": 150,
            "_view_module": "@jupyter-widgets/controls",
            "_model_module_version": "1.5.0",
            "value": 150,
            "_view_count": null,
            "_view_module_version": "1.5.0",
            "orientation": "horizontal",
            "min": 0,
            "description_tooltip": null,
            "_model_module": "@jupyter-widgets/controls",
            "layout": "IPY_MODEL_77e04e6cfad049c483d6dc2025798226"
          }
        },
        "4389f22f6d4546989be18b13f575d734": {
          "model_module": "@jupyter-widgets/controls",
          "model_name": "HTMLModel",
          "state": {
            "_view_name": "HTMLView",
            "style": "IPY_MODEL_a0f63507f9e84029a861a83a5e144bc7",
            "_dom_classes": [],
            "description": "",
            "_model_name": "HTMLModel",
            "placeholder": "​",
            "_view_module": "@jupyter-widgets/controls",
            "_model_module_version": "1.5.0",
            "value": " 150/150 [03:17&lt;00:00,  1.32s/it]",
            "_view_count": null,
            "_view_module_version": "1.5.0",
            "description_tooltip": null,
            "_model_module": "@jupyter-widgets/controls",
            "layout": "IPY_MODEL_0061884f9c9f4a609d2999ba0ed4981f"
          }
        },
        "1771b872171e4345ab93afc23214fd79": {
          "model_module": "@jupyter-widgets/controls",
          "model_name": "ProgressStyleModel",
          "state": {
            "_view_name": "StyleView",
            "_model_name": "ProgressStyleModel",
            "description_width": "initial",
            "_view_module": "@jupyter-widgets/base",
            "_model_module_version": "1.5.0",
            "_view_count": null,
            "_view_module_version": "1.2.0",
            "bar_color": null,
            "_model_module": "@jupyter-widgets/controls"
          }
        },
        "77e04e6cfad049c483d6dc2025798226": {
          "model_module": "@jupyter-widgets/base",
          "model_name": "LayoutModel",
          "state": {
            "_view_name": "LayoutView",
            "grid_template_rows": null,
            "right": null,
            "justify_content": null,
            "_view_module": "@jupyter-widgets/base",
            "overflow": null,
            "_model_module_version": "1.2.0",
            "_view_count": null,
            "flex_flow": null,
            "width": null,
            "min_width": null,
            "border": null,
            "align_items": null,
            "bottom": null,
            "_model_module": "@jupyter-widgets/base",
            "top": null,
            "grid_column": null,
            "overflow_y": null,
            "overflow_x": null,
            "grid_auto_flow": null,
            "grid_area": null,
            "grid_template_columns": null,
            "flex": null,
            "_model_name": "LayoutModel",
            "justify_items": null,
            "grid_row": null,
            "max_height": null,
            "align_content": null,
            "visibility": null,
            "align_self": null,
            "height": null,
            "min_height": null,
            "padding": null,
            "grid_auto_rows": null,
            "grid_gap": null,
            "max_width": null,
            "order": null,
            "_view_module_version": "1.2.0",
            "grid_template_areas": null,
            "object_position": null,
            "object_fit": null,
            "grid_auto_columns": null,
            "margin": null,
            "display": null,
            "left": null
          }
        },
        "a0f63507f9e84029a861a83a5e144bc7": {
          "model_module": "@jupyter-widgets/controls",
          "model_name": "DescriptionStyleModel",
          "state": {
            "_view_name": "StyleView",
            "_model_name": "DescriptionStyleModel",
            "description_width": "",
            "_view_module": "@jupyter-widgets/base",
            "_model_module_version": "1.5.0",
            "_view_count": null,
            "_view_module_version": "1.2.0",
            "_model_module": "@jupyter-widgets/controls"
          }
        },
        "0061884f9c9f4a609d2999ba0ed4981f": {
          "model_module": "@jupyter-widgets/base",
          "model_name": "LayoutModel",
          "state": {
            "_view_name": "LayoutView",
            "grid_template_rows": null,
            "right": null,
            "justify_content": null,
            "_view_module": "@jupyter-widgets/base",
            "overflow": null,
            "_model_module_version": "1.2.0",
            "_view_count": null,
            "flex_flow": null,
            "width": null,
            "min_width": null,
            "border": null,
            "align_items": null,
            "bottom": null,
            "_model_module": "@jupyter-widgets/base",
            "top": null,
            "grid_column": null,
            "overflow_y": null,
            "overflow_x": null,
            "grid_auto_flow": null,
            "grid_area": null,
            "grid_template_columns": null,
            "flex": null,
            "_model_name": "LayoutModel",
            "justify_items": null,
            "grid_row": null,
            "max_height": null,
            "align_content": null,
            "visibility": null,
            "align_self": null,
            "height": null,
            "min_height": null,
            "padding": null,
            "grid_auto_rows": null,
            "grid_gap": null,
            "max_width": null,
            "order": null,
            "_view_module_version": "1.2.0",
            "grid_template_areas": null,
            "object_position": null,
            "object_fit": null,
            "grid_auto_columns": null,
            "margin": null,
            "display": null,
            "left": null
          }
        },
        "99d4916e4d2e4695ad088e2ebe71b313": {
          "model_module": "@jupyter-widgets/controls",
          "model_name": "HBoxModel",
          "state": {
            "_view_name": "HBoxView",
            "_dom_classes": [],
            "_model_name": "HBoxModel",
            "_view_module": "@jupyter-widgets/controls",
            "_model_module_version": "1.5.0",
            "_view_count": null,
            "_view_module_version": "1.5.0",
            "box_style": "",
            "layout": "IPY_MODEL_580ebb6f93724e8fbc2ed4f7e1dad883",
            "_model_module": "@jupyter-widgets/controls",
            "children": [
              "IPY_MODEL_52595cb432b54b658b05c540121accbd",
              "IPY_MODEL_e8cd3bc0b2084cd2ba7ea4c2e22c47cc"
            ]
          }
        },
        "580ebb6f93724e8fbc2ed4f7e1dad883": {
          "model_module": "@jupyter-widgets/base",
          "model_name": "LayoutModel",
          "state": {
            "_view_name": "LayoutView",
            "grid_template_rows": null,
            "right": null,
            "justify_content": null,
            "_view_module": "@jupyter-widgets/base",
            "overflow": null,
            "_model_module_version": "1.2.0",
            "_view_count": null,
            "flex_flow": null,
            "width": null,
            "min_width": null,
            "border": null,
            "align_items": null,
            "bottom": null,
            "_model_module": "@jupyter-widgets/base",
            "top": null,
            "grid_column": null,
            "overflow_y": null,
            "overflow_x": null,
            "grid_auto_flow": null,
            "grid_area": null,
            "grid_template_columns": null,
            "flex": null,
            "_model_name": "LayoutModel",
            "justify_items": null,
            "grid_row": null,
            "max_height": null,
            "align_content": null,
            "visibility": null,
            "align_self": null,
            "height": null,
            "min_height": null,
            "padding": null,
            "grid_auto_rows": null,
            "grid_gap": null,
            "max_width": null,
            "order": null,
            "_view_module_version": "1.2.0",
            "grid_template_areas": null,
            "object_position": null,
            "object_fit": null,
            "grid_auto_columns": null,
            "margin": null,
            "display": null,
            "left": null
          }
        },
        "52595cb432b54b658b05c540121accbd": {
          "model_module": "@jupyter-widgets/controls",
          "model_name": "FloatProgressModel",
          "state": {
            "_view_name": "ProgressView",
            "style": "IPY_MODEL_f5c1fdf82c504562b7a81364565d2dc0",
            "_dom_classes": [],
            "description": "100%",
            "_model_name": "FloatProgressModel",
            "bar_style": "success",
            "max": 1500,
            "_view_module": "@jupyter-widgets/controls",
            "_model_module_version": "1.5.0",
            "value": 1500,
            "_view_count": null,
            "_view_module_version": "1.5.0",
            "orientation": "horizontal",
            "min": 0,
            "description_tooltip": null,
            "_model_module": "@jupyter-widgets/controls",
            "layout": "IPY_MODEL_a3e496b05e81471183c1206d6d7d39bb"
          }
        },
        "e8cd3bc0b2084cd2ba7ea4c2e22c47cc": {
          "model_module": "@jupyter-widgets/controls",
          "model_name": "HTMLModel",
          "state": {
            "_view_name": "HTMLView",
            "style": "IPY_MODEL_6d1b5c0bf74548928b33e7f66a765d84",
            "_dom_classes": [],
            "description": "",
            "_model_name": "HTMLModel",
            "placeholder": "​",
            "_view_module": "@jupyter-widgets/controls",
            "_model_module_version": "1.5.0",
            "value": " 1500/1500 [01:05&lt;00:00, 23.00it/s]",
            "_view_count": null,
            "_view_module_version": "1.5.0",
            "description_tooltip": null,
            "_model_module": "@jupyter-widgets/controls",
            "layout": "IPY_MODEL_525becd8d5b1456595c5cd6e018cc66b"
          }
        },
        "f5c1fdf82c504562b7a81364565d2dc0": {
          "model_module": "@jupyter-widgets/controls",
          "model_name": "ProgressStyleModel",
          "state": {
            "_view_name": "StyleView",
            "_model_name": "ProgressStyleModel",
            "description_width": "initial",
            "_view_module": "@jupyter-widgets/base",
            "_model_module_version": "1.5.0",
            "_view_count": null,
            "_view_module_version": "1.2.0",
            "bar_color": null,
            "_model_module": "@jupyter-widgets/controls"
          }
        },
        "a3e496b05e81471183c1206d6d7d39bb": {
          "model_module": "@jupyter-widgets/base",
          "model_name": "LayoutModel",
          "state": {
            "_view_name": "LayoutView",
            "grid_template_rows": null,
            "right": null,
            "justify_content": null,
            "_view_module": "@jupyter-widgets/base",
            "overflow": null,
            "_model_module_version": "1.2.0",
            "_view_count": null,
            "flex_flow": null,
            "width": null,
            "min_width": null,
            "border": null,
            "align_items": null,
            "bottom": null,
            "_model_module": "@jupyter-widgets/base",
            "top": null,
            "grid_column": null,
            "overflow_y": null,
            "overflow_x": null,
            "grid_auto_flow": null,
            "grid_area": null,
            "grid_template_columns": null,
            "flex": null,
            "_model_name": "LayoutModel",
            "justify_items": null,
            "grid_row": null,
            "max_height": null,
            "align_content": null,
            "visibility": null,
            "align_self": null,
            "height": null,
            "min_height": null,
            "padding": null,
            "grid_auto_rows": null,
            "grid_gap": null,
            "max_width": null,
            "order": null,
            "_view_module_version": "1.2.0",
            "grid_template_areas": null,
            "object_position": null,
            "object_fit": null,
            "grid_auto_columns": null,
            "margin": null,
            "display": null,
            "left": null
          }
        },
        "6d1b5c0bf74548928b33e7f66a765d84": {
          "model_module": "@jupyter-widgets/controls",
          "model_name": "DescriptionStyleModel",
          "state": {
            "_view_name": "StyleView",
            "_model_name": "DescriptionStyleModel",
            "description_width": "",
            "_view_module": "@jupyter-widgets/base",
            "_model_module_version": "1.5.0",
            "_view_count": null,
            "_view_module_version": "1.2.0",
            "_model_module": "@jupyter-widgets/controls"
          }
        },
        "525becd8d5b1456595c5cd6e018cc66b": {
          "model_module": "@jupyter-widgets/base",
          "model_name": "LayoutModel",
          "state": {
            "_view_name": "LayoutView",
            "grid_template_rows": null,
            "right": null,
            "justify_content": null,
            "_view_module": "@jupyter-widgets/base",
            "overflow": null,
            "_model_module_version": "1.2.0",
            "_view_count": null,
            "flex_flow": null,
            "width": null,
            "min_width": null,
            "border": null,
            "align_items": null,
            "bottom": null,
            "_model_module": "@jupyter-widgets/base",
            "top": null,
            "grid_column": null,
            "overflow_y": null,
            "overflow_x": null,
            "grid_auto_flow": null,
            "grid_area": null,
            "grid_template_columns": null,
            "flex": null,
            "_model_name": "LayoutModel",
            "justify_items": null,
            "grid_row": null,
            "max_height": null,
            "align_content": null,
            "visibility": null,
            "align_self": null,
            "height": null,
            "min_height": null,
            "padding": null,
            "grid_auto_rows": null,
            "grid_gap": null,
            "max_width": null,
            "order": null,
            "_view_module_version": "1.2.0",
            "grid_template_areas": null,
            "object_position": null,
            "object_fit": null,
            "grid_auto_columns": null,
            "margin": null,
            "display": null,
            "left": null
          }
        },
        "a2cbf6c432f945e5839f51405da2c7f0": {
          "model_module": "@jupyter-widgets/controls",
          "model_name": "HBoxModel",
          "state": {
            "_view_name": "HBoxView",
            "_dom_classes": [],
            "_model_name": "HBoxModel",
            "_view_module": "@jupyter-widgets/controls",
            "_model_module_version": "1.5.0",
            "_view_count": null,
            "_view_module_version": "1.5.0",
            "box_style": "",
            "layout": "IPY_MODEL_429db8ad84a4487da669e0238a6d08cf",
            "_model_module": "@jupyter-widgets/controls",
            "children": [
              "IPY_MODEL_bb75015ca8b04c3abad8674d80623916",
              "IPY_MODEL_75071ba176184540a7b4bfe26e648bc3"
            ]
          }
        },
        "429db8ad84a4487da669e0238a6d08cf": {
          "model_module": "@jupyter-widgets/base",
          "model_name": "LayoutModel",
          "state": {
            "_view_name": "LayoutView",
            "grid_template_rows": null,
            "right": null,
            "justify_content": null,
            "_view_module": "@jupyter-widgets/base",
            "overflow": null,
            "_model_module_version": "1.2.0",
            "_view_count": null,
            "flex_flow": null,
            "width": null,
            "min_width": null,
            "border": null,
            "align_items": null,
            "bottom": null,
            "_model_module": "@jupyter-widgets/base",
            "top": null,
            "grid_column": null,
            "overflow_y": null,
            "overflow_x": null,
            "grid_auto_flow": null,
            "grid_area": null,
            "grid_template_columns": null,
            "flex": null,
            "_model_name": "LayoutModel",
            "justify_items": null,
            "grid_row": null,
            "max_height": null,
            "align_content": null,
            "visibility": null,
            "align_self": null,
            "height": null,
            "min_height": null,
            "padding": null,
            "grid_auto_rows": null,
            "grid_gap": null,
            "max_width": null,
            "order": null,
            "_view_module_version": "1.2.0",
            "grid_template_areas": null,
            "object_position": null,
            "object_fit": null,
            "grid_auto_columns": null,
            "margin": null,
            "display": null,
            "left": null
          }
        },
        "bb75015ca8b04c3abad8674d80623916": {
          "model_module": "@jupyter-widgets/controls",
          "model_name": "FloatProgressModel",
          "state": {
            "_view_name": "ProgressView",
            "style": "IPY_MODEL_3d4dc03458a944fd9583f7ebca5a70b3",
            "_dom_classes": [],
            "description": "100%",
            "_model_name": "FloatProgressModel",
            "bar_style": "success",
            "max": 150,
            "_view_module": "@jupyter-widgets/controls",
            "_model_module_version": "1.5.0",
            "value": 150,
            "_view_count": null,
            "_view_module_version": "1.5.0",
            "orientation": "horizontal",
            "min": 0,
            "description_tooltip": null,
            "_model_module": "@jupyter-widgets/controls",
            "layout": "IPY_MODEL_37b3b2dad9f24f13a1c3029d7c4154e7"
          }
        },
        "75071ba176184540a7b4bfe26e648bc3": {
          "model_module": "@jupyter-widgets/controls",
          "model_name": "HTMLModel",
          "state": {
            "_view_name": "HTMLView",
            "style": "IPY_MODEL_40df4a470f4d489b96c7786b9ba279f4",
            "_dom_classes": [],
            "description": "",
            "_model_name": "HTMLModel",
            "placeholder": "​",
            "_view_module": "@jupyter-widgets/controls",
            "_model_module_version": "1.5.0",
            "value": " 150/150 [16:55&lt;00:00,  6.77s/it]",
            "_view_count": null,
            "_view_module_version": "1.5.0",
            "description_tooltip": null,
            "_model_module": "@jupyter-widgets/controls",
            "layout": "IPY_MODEL_5a313d4ade8849b5a0a391168a5ea0db"
          }
        },
        "3d4dc03458a944fd9583f7ebca5a70b3": {
          "model_module": "@jupyter-widgets/controls",
          "model_name": "ProgressStyleModel",
          "state": {
            "_view_name": "StyleView",
            "_model_name": "ProgressStyleModel",
            "description_width": "initial",
            "_view_module": "@jupyter-widgets/base",
            "_model_module_version": "1.5.0",
            "_view_count": null,
            "_view_module_version": "1.2.0",
            "bar_color": null,
            "_model_module": "@jupyter-widgets/controls"
          }
        },
        "37b3b2dad9f24f13a1c3029d7c4154e7": {
          "model_module": "@jupyter-widgets/base",
          "model_name": "LayoutModel",
          "state": {
            "_view_name": "LayoutView",
            "grid_template_rows": null,
            "right": null,
            "justify_content": null,
            "_view_module": "@jupyter-widgets/base",
            "overflow": null,
            "_model_module_version": "1.2.0",
            "_view_count": null,
            "flex_flow": null,
            "width": null,
            "min_width": null,
            "border": null,
            "align_items": null,
            "bottom": null,
            "_model_module": "@jupyter-widgets/base",
            "top": null,
            "grid_column": null,
            "overflow_y": null,
            "overflow_x": null,
            "grid_auto_flow": null,
            "grid_area": null,
            "grid_template_columns": null,
            "flex": null,
            "_model_name": "LayoutModel",
            "justify_items": null,
            "grid_row": null,
            "max_height": null,
            "align_content": null,
            "visibility": null,
            "align_self": null,
            "height": null,
            "min_height": null,
            "padding": null,
            "grid_auto_rows": null,
            "grid_gap": null,
            "max_width": null,
            "order": null,
            "_view_module_version": "1.2.0",
            "grid_template_areas": null,
            "object_position": null,
            "object_fit": null,
            "grid_auto_columns": null,
            "margin": null,
            "display": null,
            "left": null
          }
        },
        "40df4a470f4d489b96c7786b9ba279f4": {
          "model_module": "@jupyter-widgets/controls",
          "model_name": "DescriptionStyleModel",
          "state": {
            "_view_name": "StyleView",
            "_model_name": "DescriptionStyleModel",
            "description_width": "",
            "_view_module": "@jupyter-widgets/base",
            "_model_module_version": "1.5.0",
            "_view_count": null,
            "_view_module_version": "1.2.0",
            "_model_module": "@jupyter-widgets/controls"
          }
        },
        "5a313d4ade8849b5a0a391168a5ea0db": {
          "model_module": "@jupyter-widgets/base",
          "model_name": "LayoutModel",
          "state": {
            "_view_name": "LayoutView",
            "grid_template_rows": null,
            "right": null,
            "justify_content": null,
            "_view_module": "@jupyter-widgets/base",
            "overflow": null,
            "_model_module_version": "1.2.0",
            "_view_count": null,
            "flex_flow": null,
            "width": null,
            "min_width": null,
            "border": null,
            "align_items": null,
            "bottom": null,
            "_model_module": "@jupyter-widgets/base",
            "top": null,
            "grid_column": null,
            "overflow_y": null,
            "overflow_x": null,
            "grid_auto_flow": null,
            "grid_area": null,
            "grid_template_columns": null,
            "flex": null,
            "_model_name": "LayoutModel",
            "justify_items": null,
            "grid_row": null,
            "max_height": null,
            "align_content": null,
            "visibility": null,
            "align_self": null,
            "height": null,
            "min_height": null,
            "padding": null,
            "grid_auto_rows": null,
            "grid_gap": null,
            "max_width": null,
            "order": null,
            "_view_module_version": "1.2.0",
            "grid_template_areas": null,
            "object_position": null,
            "object_fit": null,
            "grid_auto_columns": null,
            "margin": null,
            "display": null,
            "left": null
          }
        },
        "5681cdb55b71494d8d0ad69b5e814cfc": {
          "model_module": "@jupyter-widgets/controls",
          "model_name": "HBoxModel",
          "state": {
            "_view_name": "HBoxView",
            "_dom_classes": [],
            "_model_name": "HBoxModel",
            "_view_module": "@jupyter-widgets/controls",
            "_model_module_version": "1.5.0",
            "_view_count": null,
            "_view_module_version": "1.5.0",
            "box_style": "",
            "layout": "IPY_MODEL_17a21e2d5bb94bd1ab05cf258ed2d306",
            "_model_module": "@jupyter-widgets/controls",
            "children": [
              "IPY_MODEL_6681aad0d4734c58be5ae2cd46d1c378",
              "IPY_MODEL_c73f39e7ba884ca89e8e12da8952440d"
            ]
          }
        },
        "17a21e2d5bb94bd1ab05cf258ed2d306": {
          "model_module": "@jupyter-widgets/base",
          "model_name": "LayoutModel",
          "state": {
            "_view_name": "LayoutView",
            "grid_template_rows": null,
            "right": null,
            "justify_content": null,
            "_view_module": "@jupyter-widgets/base",
            "overflow": null,
            "_model_module_version": "1.2.0",
            "_view_count": null,
            "flex_flow": null,
            "width": null,
            "min_width": null,
            "border": null,
            "align_items": null,
            "bottom": null,
            "_model_module": "@jupyter-widgets/base",
            "top": null,
            "grid_column": null,
            "overflow_y": null,
            "overflow_x": null,
            "grid_auto_flow": null,
            "grid_area": null,
            "grid_template_columns": null,
            "flex": null,
            "_model_name": "LayoutModel",
            "justify_items": null,
            "grid_row": null,
            "max_height": null,
            "align_content": null,
            "visibility": null,
            "align_self": null,
            "height": null,
            "min_height": null,
            "padding": null,
            "grid_auto_rows": null,
            "grid_gap": null,
            "max_width": null,
            "order": null,
            "_view_module_version": "1.2.0",
            "grid_template_areas": null,
            "object_position": null,
            "object_fit": null,
            "grid_auto_columns": null,
            "margin": null,
            "display": null,
            "left": null
          }
        },
        "6681aad0d4734c58be5ae2cd46d1c378": {
          "model_module": "@jupyter-widgets/controls",
          "model_name": "FloatProgressModel",
          "state": {
            "_view_name": "ProgressView",
            "style": "IPY_MODEL_5192871df2ef48cd8a0531caea450069",
            "_dom_classes": [],
            "description": "100%",
            "_model_name": "FloatProgressModel",
            "bar_style": "success",
            "max": 1500,
            "_view_module": "@jupyter-widgets/controls",
            "_model_module_version": "1.5.0",
            "value": 1500,
            "_view_count": null,
            "_view_module_version": "1.5.0",
            "orientation": "horizontal",
            "min": 0,
            "description_tooltip": null,
            "_model_module": "@jupyter-widgets/controls",
            "layout": "IPY_MODEL_292e0b10775d41c1ad00ff78637614f7"
          }
        },
        "c73f39e7ba884ca89e8e12da8952440d": {
          "model_module": "@jupyter-widgets/controls",
          "model_name": "HTMLModel",
          "state": {
            "_view_name": "HTMLView",
            "style": "IPY_MODEL_c77e63dbe7b04d1982b19a0eb8ad9f64",
            "_dom_classes": [],
            "description": "",
            "_model_name": "HTMLModel",
            "placeholder": "​",
            "_view_module": "@jupyter-widgets/controls",
            "_model_module_version": "1.5.0",
            "value": " 1500/1500 [01:13&lt;00:00, 20.40it/s]",
            "_view_count": null,
            "_view_module_version": "1.5.0",
            "description_tooltip": null,
            "_model_module": "@jupyter-widgets/controls",
            "layout": "IPY_MODEL_0b0e1cfc666a4909a20dbe39f7a7926f"
          }
        },
        "5192871df2ef48cd8a0531caea450069": {
          "model_module": "@jupyter-widgets/controls",
          "model_name": "ProgressStyleModel",
          "state": {
            "_view_name": "StyleView",
            "_model_name": "ProgressStyleModel",
            "description_width": "initial",
            "_view_module": "@jupyter-widgets/base",
            "_model_module_version": "1.5.0",
            "_view_count": null,
            "_view_module_version": "1.2.0",
            "bar_color": null,
            "_model_module": "@jupyter-widgets/controls"
          }
        },
        "292e0b10775d41c1ad00ff78637614f7": {
          "model_module": "@jupyter-widgets/base",
          "model_name": "LayoutModel",
          "state": {
            "_view_name": "LayoutView",
            "grid_template_rows": null,
            "right": null,
            "justify_content": null,
            "_view_module": "@jupyter-widgets/base",
            "overflow": null,
            "_model_module_version": "1.2.0",
            "_view_count": null,
            "flex_flow": null,
            "width": null,
            "min_width": null,
            "border": null,
            "align_items": null,
            "bottom": null,
            "_model_module": "@jupyter-widgets/base",
            "top": null,
            "grid_column": null,
            "overflow_y": null,
            "overflow_x": null,
            "grid_auto_flow": null,
            "grid_area": null,
            "grid_template_columns": null,
            "flex": null,
            "_model_name": "LayoutModel",
            "justify_items": null,
            "grid_row": null,
            "max_height": null,
            "align_content": null,
            "visibility": null,
            "align_self": null,
            "height": null,
            "min_height": null,
            "padding": null,
            "grid_auto_rows": null,
            "grid_gap": null,
            "max_width": null,
            "order": null,
            "_view_module_version": "1.2.0",
            "grid_template_areas": null,
            "object_position": null,
            "object_fit": null,
            "grid_auto_columns": null,
            "margin": null,
            "display": null,
            "left": null
          }
        },
        "c77e63dbe7b04d1982b19a0eb8ad9f64": {
          "model_module": "@jupyter-widgets/controls",
          "model_name": "DescriptionStyleModel",
          "state": {
            "_view_name": "StyleView",
            "_model_name": "DescriptionStyleModel",
            "description_width": "",
            "_view_module": "@jupyter-widgets/base",
            "_model_module_version": "1.5.0",
            "_view_count": null,
            "_view_module_version": "1.2.0",
            "_model_module": "@jupyter-widgets/controls"
          }
        },
        "0b0e1cfc666a4909a20dbe39f7a7926f": {
          "model_module": "@jupyter-widgets/base",
          "model_name": "LayoutModel",
          "state": {
            "_view_name": "LayoutView",
            "grid_template_rows": null,
            "right": null,
            "justify_content": null,
            "_view_module": "@jupyter-widgets/base",
            "overflow": null,
            "_model_module_version": "1.2.0",
            "_view_count": null,
            "flex_flow": null,
            "width": null,
            "min_width": null,
            "border": null,
            "align_items": null,
            "bottom": null,
            "_model_module": "@jupyter-widgets/base",
            "top": null,
            "grid_column": null,
            "overflow_y": null,
            "overflow_x": null,
            "grid_auto_flow": null,
            "grid_area": null,
            "grid_template_columns": null,
            "flex": null,
            "_model_name": "LayoutModel",
            "justify_items": null,
            "grid_row": null,
            "max_height": null,
            "align_content": null,
            "visibility": null,
            "align_self": null,
            "height": null,
            "min_height": null,
            "padding": null,
            "grid_auto_rows": null,
            "grid_gap": null,
            "max_width": null,
            "order": null,
            "_view_module_version": "1.2.0",
            "grid_template_areas": null,
            "object_position": null,
            "object_fit": null,
            "grid_auto_columns": null,
            "margin": null,
            "display": null,
            "left": null
          }
        },
        "900c185f2c944bdd8c53033533160451": {
          "model_module": "@jupyter-widgets/controls",
          "model_name": "HBoxModel",
          "state": {
            "_view_name": "HBoxView",
            "_dom_classes": [],
            "_model_name": "HBoxModel",
            "_view_module": "@jupyter-widgets/controls",
            "_model_module_version": "1.5.0",
            "_view_count": null,
            "_view_module_version": "1.5.0",
            "box_style": "",
            "layout": "IPY_MODEL_153c1e091236405b9c84fecea2311fc5",
            "_model_module": "@jupyter-widgets/controls",
            "children": [
              "IPY_MODEL_53c159dc64f4432da5cfa58186e18d5e",
              "IPY_MODEL_1660b3600a624c6590085830349c9665"
            ]
          }
        },
        "153c1e091236405b9c84fecea2311fc5": {
          "model_module": "@jupyter-widgets/base",
          "model_name": "LayoutModel",
          "state": {
            "_view_name": "LayoutView",
            "grid_template_rows": null,
            "right": null,
            "justify_content": null,
            "_view_module": "@jupyter-widgets/base",
            "overflow": null,
            "_model_module_version": "1.2.0",
            "_view_count": null,
            "flex_flow": null,
            "width": null,
            "min_width": null,
            "border": null,
            "align_items": null,
            "bottom": null,
            "_model_module": "@jupyter-widgets/base",
            "top": null,
            "grid_column": null,
            "overflow_y": null,
            "overflow_x": null,
            "grid_auto_flow": null,
            "grid_area": null,
            "grid_template_columns": null,
            "flex": null,
            "_model_name": "LayoutModel",
            "justify_items": null,
            "grid_row": null,
            "max_height": null,
            "align_content": null,
            "visibility": null,
            "align_self": null,
            "height": null,
            "min_height": null,
            "padding": null,
            "grid_auto_rows": null,
            "grid_gap": null,
            "max_width": null,
            "order": null,
            "_view_module_version": "1.2.0",
            "grid_template_areas": null,
            "object_position": null,
            "object_fit": null,
            "grid_auto_columns": null,
            "margin": null,
            "display": null,
            "left": null
          }
        },
        "53c159dc64f4432da5cfa58186e18d5e": {
          "model_module": "@jupyter-widgets/controls",
          "model_name": "FloatProgressModel",
          "state": {
            "_view_name": "ProgressView",
            "style": "IPY_MODEL_9bc39665c0b04318a1209c6e6b3d39d0",
            "_dom_classes": [],
            "description": "100%",
            "_model_name": "FloatProgressModel",
            "bar_style": "success",
            "max": 400,
            "_view_module": "@jupyter-widgets/controls",
            "_model_module_version": "1.5.0",
            "value": 400,
            "_view_count": null,
            "_view_module_version": "1.5.0",
            "orientation": "horizontal",
            "min": 0,
            "description_tooltip": null,
            "_model_module": "@jupyter-widgets/controls",
            "layout": "IPY_MODEL_4e188cf0fe7c4940bc12d025dd7d2517"
          }
        },
        "1660b3600a624c6590085830349c9665": {
          "model_module": "@jupyter-widgets/controls",
          "model_name": "HTMLModel",
          "state": {
            "_view_name": "HTMLView",
            "style": "IPY_MODEL_469d2d494179424696c99f862e8b9581",
            "_dom_classes": [],
            "description": "",
            "_model_name": "HTMLModel",
            "placeholder": "​",
            "_view_module": "@jupyter-widgets/controls",
            "_model_module_version": "1.5.0",
            "value": " 400/400 [01:54&lt;00:00,  3.48it/s]",
            "_view_count": null,
            "_view_module_version": "1.5.0",
            "description_tooltip": null,
            "_model_module": "@jupyter-widgets/controls",
            "layout": "IPY_MODEL_d21d1d2a8e454d4f93f9f628ea146159"
          }
        },
        "9bc39665c0b04318a1209c6e6b3d39d0": {
          "model_module": "@jupyter-widgets/controls",
          "model_name": "ProgressStyleModel",
          "state": {
            "_view_name": "StyleView",
            "_model_name": "ProgressStyleModel",
            "description_width": "initial",
            "_view_module": "@jupyter-widgets/base",
            "_model_module_version": "1.5.0",
            "_view_count": null,
            "_view_module_version": "1.2.0",
            "bar_color": null,
            "_model_module": "@jupyter-widgets/controls"
          }
        },
        "4e188cf0fe7c4940bc12d025dd7d2517": {
          "model_module": "@jupyter-widgets/base",
          "model_name": "LayoutModel",
          "state": {
            "_view_name": "LayoutView",
            "grid_template_rows": null,
            "right": null,
            "justify_content": null,
            "_view_module": "@jupyter-widgets/base",
            "overflow": null,
            "_model_module_version": "1.2.0",
            "_view_count": null,
            "flex_flow": null,
            "width": null,
            "min_width": null,
            "border": null,
            "align_items": null,
            "bottom": null,
            "_model_module": "@jupyter-widgets/base",
            "top": null,
            "grid_column": null,
            "overflow_y": null,
            "overflow_x": null,
            "grid_auto_flow": null,
            "grid_area": null,
            "grid_template_columns": null,
            "flex": null,
            "_model_name": "LayoutModel",
            "justify_items": null,
            "grid_row": null,
            "max_height": null,
            "align_content": null,
            "visibility": null,
            "align_self": null,
            "height": null,
            "min_height": null,
            "padding": null,
            "grid_auto_rows": null,
            "grid_gap": null,
            "max_width": null,
            "order": null,
            "_view_module_version": "1.2.0",
            "grid_template_areas": null,
            "object_position": null,
            "object_fit": null,
            "grid_auto_columns": null,
            "margin": null,
            "display": null,
            "left": null
          }
        },
        "469d2d494179424696c99f862e8b9581": {
          "model_module": "@jupyter-widgets/controls",
          "model_name": "DescriptionStyleModel",
          "state": {
            "_view_name": "StyleView",
            "_model_name": "DescriptionStyleModel",
            "description_width": "",
            "_view_module": "@jupyter-widgets/base",
            "_model_module_version": "1.5.0",
            "_view_count": null,
            "_view_module_version": "1.2.0",
            "_model_module": "@jupyter-widgets/controls"
          }
        },
        "d21d1d2a8e454d4f93f9f628ea146159": {
          "model_module": "@jupyter-widgets/base",
          "model_name": "LayoutModel",
          "state": {
            "_view_name": "LayoutView",
            "grid_template_rows": null,
            "right": null,
            "justify_content": null,
            "_view_module": "@jupyter-widgets/base",
            "overflow": null,
            "_model_module_version": "1.2.0",
            "_view_count": null,
            "flex_flow": null,
            "width": null,
            "min_width": null,
            "border": null,
            "align_items": null,
            "bottom": null,
            "_model_module": "@jupyter-widgets/base",
            "top": null,
            "grid_column": null,
            "overflow_y": null,
            "overflow_x": null,
            "grid_auto_flow": null,
            "grid_area": null,
            "grid_template_columns": null,
            "flex": null,
            "_model_name": "LayoutModel",
            "justify_items": null,
            "grid_row": null,
            "max_height": null,
            "align_content": null,
            "visibility": null,
            "align_self": null,
            "height": null,
            "min_height": null,
            "padding": null,
            "grid_auto_rows": null,
            "grid_gap": null,
            "max_width": null,
            "order": null,
            "_view_module_version": "1.2.0",
            "grid_template_areas": null,
            "object_position": null,
            "object_fit": null,
            "grid_auto_columns": null,
            "margin": null,
            "display": null,
            "left": null
          }
        },
        "3a5c3c64a13f494ba193a38b23bc0518": {
          "model_module": "@jupyter-widgets/controls",
          "model_name": "HBoxModel",
          "state": {
            "_view_name": "HBoxView",
            "_dom_classes": [],
            "_model_name": "HBoxModel",
            "_view_module": "@jupyter-widgets/controls",
            "_model_module_version": "1.5.0",
            "_view_count": null,
            "_view_module_version": "1.5.0",
            "box_style": "",
            "layout": "IPY_MODEL_b51844a3326442fcb18ca7c30393f98d",
            "_model_module": "@jupyter-widgets/controls",
            "children": [
              "IPY_MODEL_fc6d0d8ae05a4ae3974935ad031aa74f",
              "IPY_MODEL_c893624599db440e84e2293b705fa3fb"
            ]
          }
        },
        "b51844a3326442fcb18ca7c30393f98d": {
          "model_module": "@jupyter-widgets/base",
          "model_name": "LayoutModel",
          "state": {
            "_view_name": "LayoutView",
            "grid_template_rows": null,
            "right": null,
            "justify_content": null,
            "_view_module": "@jupyter-widgets/base",
            "overflow": null,
            "_model_module_version": "1.2.0",
            "_view_count": null,
            "flex_flow": null,
            "width": null,
            "min_width": null,
            "border": null,
            "align_items": null,
            "bottom": null,
            "_model_module": "@jupyter-widgets/base",
            "top": null,
            "grid_column": null,
            "overflow_y": null,
            "overflow_x": null,
            "grid_auto_flow": null,
            "grid_area": null,
            "grid_template_columns": null,
            "flex": null,
            "_model_name": "LayoutModel",
            "justify_items": null,
            "grid_row": null,
            "max_height": null,
            "align_content": null,
            "visibility": null,
            "align_self": null,
            "height": null,
            "min_height": null,
            "padding": null,
            "grid_auto_rows": null,
            "grid_gap": null,
            "max_width": null,
            "order": null,
            "_view_module_version": "1.2.0",
            "grid_template_areas": null,
            "object_position": null,
            "object_fit": null,
            "grid_auto_columns": null,
            "margin": null,
            "display": null,
            "left": null
          }
        },
        "fc6d0d8ae05a4ae3974935ad031aa74f": {
          "model_module": "@jupyter-widgets/controls",
          "model_name": "FloatProgressModel",
          "state": {
            "_view_name": "ProgressView",
            "style": "IPY_MODEL_513de575c835450383214a1b2d1855bf",
            "_dom_classes": [],
            "description": "100%",
            "_model_name": "FloatProgressModel",
            "bar_style": "success",
            "max": 150,
            "_view_module": "@jupyter-widgets/controls",
            "_model_module_version": "1.5.0",
            "value": 150,
            "_view_count": null,
            "_view_module_version": "1.5.0",
            "orientation": "horizontal",
            "min": 0,
            "description_tooltip": null,
            "_model_module": "@jupyter-widgets/controls",
            "layout": "IPY_MODEL_5814f10190d54d5da7c3b283b51fe19d"
          }
        },
        "c893624599db440e84e2293b705fa3fb": {
          "model_module": "@jupyter-widgets/controls",
          "model_name": "HTMLModel",
          "state": {
            "_view_name": "HTMLView",
            "style": "IPY_MODEL_980ef9e3e8d94f1ba1087aadd1dbf472",
            "_dom_classes": [],
            "description": "",
            "_model_name": "HTMLModel",
            "placeholder": "​",
            "_view_module": "@jupyter-widgets/controls",
            "_model_module_version": "1.5.0",
            "value": " 150/150 [00:58&lt;00:00,  2.57it/s]",
            "_view_count": null,
            "_view_module_version": "1.5.0",
            "description_tooltip": null,
            "_model_module": "@jupyter-widgets/controls",
            "layout": "IPY_MODEL_a03ea2b6eb184e11897b1d0e6b0e4674"
          }
        },
        "513de575c835450383214a1b2d1855bf": {
          "model_module": "@jupyter-widgets/controls",
          "model_name": "ProgressStyleModel",
          "state": {
            "_view_name": "StyleView",
            "_model_name": "ProgressStyleModel",
            "description_width": "initial",
            "_view_module": "@jupyter-widgets/base",
            "_model_module_version": "1.5.0",
            "_view_count": null,
            "_view_module_version": "1.2.0",
            "bar_color": null,
            "_model_module": "@jupyter-widgets/controls"
          }
        },
        "5814f10190d54d5da7c3b283b51fe19d": {
          "model_module": "@jupyter-widgets/base",
          "model_name": "LayoutModel",
          "state": {
            "_view_name": "LayoutView",
            "grid_template_rows": null,
            "right": null,
            "justify_content": null,
            "_view_module": "@jupyter-widgets/base",
            "overflow": null,
            "_model_module_version": "1.2.0",
            "_view_count": null,
            "flex_flow": null,
            "width": null,
            "min_width": null,
            "border": null,
            "align_items": null,
            "bottom": null,
            "_model_module": "@jupyter-widgets/base",
            "top": null,
            "grid_column": null,
            "overflow_y": null,
            "overflow_x": null,
            "grid_auto_flow": null,
            "grid_area": null,
            "grid_template_columns": null,
            "flex": null,
            "_model_name": "LayoutModel",
            "justify_items": null,
            "grid_row": null,
            "max_height": null,
            "align_content": null,
            "visibility": null,
            "align_self": null,
            "height": null,
            "min_height": null,
            "padding": null,
            "grid_auto_rows": null,
            "grid_gap": null,
            "max_width": null,
            "order": null,
            "_view_module_version": "1.2.0",
            "grid_template_areas": null,
            "object_position": null,
            "object_fit": null,
            "grid_auto_columns": null,
            "margin": null,
            "display": null,
            "left": null
          }
        },
        "980ef9e3e8d94f1ba1087aadd1dbf472": {
          "model_module": "@jupyter-widgets/controls",
          "model_name": "DescriptionStyleModel",
          "state": {
            "_view_name": "StyleView",
            "_model_name": "DescriptionStyleModel",
            "description_width": "",
            "_view_module": "@jupyter-widgets/base",
            "_model_module_version": "1.5.0",
            "_view_count": null,
            "_view_module_version": "1.2.0",
            "_model_module": "@jupyter-widgets/controls"
          }
        },
        "a03ea2b6eb184e11897b1d0e6b0e4674": {
          "model_module": "@jupyter-widgets/base",
          "model_name": "LayoutModel",
          "state": {
            "_view_name": "LayoutView",
            "grid_template_rows": null,
            "right": null,
            "justify_content": null,
            "_view_module": "@jupyter-widgets/base",
            "overflow": null,
            "_model_module_version": "1.2.0",
            "_view_count": null,
            "flex_flow": null,
            "width": null,
            "min_width": null,
            "border": null,
            "align_items": null,
            "bottom": null,
            "_model_module": "@jupyter-widgets/base",
            "top": null,
            "grid_column": null,
            "overflow_y": null,
            "overflow_x": null,
            "grid_auto_flow": null,
            "grid_area": null,
            "grid_template_columns": null,
            "flex": null,
            "_model_name": "LayoutModel",
            "justify_items": null,
            "grid_row": null,
            "max_height": null,
            "align_content": null,
            "visibility": null,
            "align_self": null,
            "height": null,
            "min_height": null,
            "padding": null,
            "grid_auto_rows": null,
            "grid_gap": null,
            "max_width": null,
            "order": null,
            "_view_module_version": "1.2.0",
            "grid_template_areas": null,
            "object_position": null,
            "object_fit": null,
            "grid_auto_columns": null,
            "margin": null,
            "display": null,
            "left": null
          }
        },
        "ceb444e6b12a4f12a6913ee65091cacc": {
          "model_module": "@jupyter-widgets/controls",
          "model_name": "HBoxModel",
          "state": {
            "_view_name": "HBoxView",
            "_dom_classes": [],
            "_model_name": "HBoxModel",
            "_view_module": "@jupyter-widgets/controls",
            "_model_module_version": "1.5.0",
            "_view_count": null,
            "_view_module_version": "1.5.0",
            "box_style": "",
            "layout": "IPY_MODEL_81d8a45fdc804fb88164b2efee0da7e5",
            "_model_module": "@jupyter-widgets/controls",
            "children": [
              "IPY_MODEL_f60ab2e7fdd14f1ab18ce2d92a937649",
              "IPY_MODEL_02e67001a7af4de3bc3a58d4c179ef95"
            ]
          }
        },
        "81d8a45fdc804fb88164b2efee0da7e5": {
          "model_module": "@jupyter-widgets/base",
          "model_name": "LayoutModel",
          "state": {
            "_view_name": "LayoutView",
            "grid_template_rows": null,
            "right": null,
            "justify_content": null,
            "_view_module": "@jupyter-widgets/base",
            "overflow": null,
            "_model_module_version": "1.2.0",
            "_view_count": null,
            "flex_flow": null,
            "width": null,
            "min_width": null,
            "border": null,
            "align_items": null,
            "bottom": null,
            "_model_module": "@jupyter-widgets/base",
            "top": null,
            "grid_column": null,
            "overflow_y": null,
            "overflow_x": null,
            "grid_auto_flow": null,
            "grid_area": null,
            "grid_template_columns": null,
            "flex": null,
            "_model_name": "LayoutModel",
            "justify_items": null,
            "grid_row": null,
            "max_height": null,
            "align_content": null,
            "visibility": null,
            "align_self": null,
            "height": null,
            "min_height": null,
            "padding": null,
            "grid_auto_rows": null,
            "grid_gap": null,
            "max_width": null,
            "order": null,
            "_view_module_version": "1.2.0",
            "grid_template_areas": null,
            "object_position": null,
            "object_fit": null,
            "grid_auto_columns": null,
            "margin": null,
            "display": null,
            "left": null
          }
        },
        "f60ab2e7fdd14f1ab18ce2d92a937649": {
          "model_module": "@jupyter-widgets/controls",
          "model_name": "FloatProgressModel",
          "state": {
            "_view_name": "ProgressView",
            "style": "IPY_MODEL_abad6959fa62499fac07317201cf0edd",
            "_dom_classes": [],
            "description": "100%",
            "_model_name": "FloatProgressModel",
            "bar_style": "success",
            "max": 30,
            "_view_module": "@jupyter-widgets/controls",
            "_model_module_version": "1.5.0",
            "value": 30,
            "_view_count": null,
            "_view_module_version": "1.5.0",
            "orientation": "horizontal",
            "min": 0,
            "description_tooltip": null,
            "_model_module": "@jupyter-widgets/controls",
            "layout": "IPY_MODEL_9c505edc6c4a4e7684eddcd20b0fa892"
          }
        },
        "02e67001a7af4de3bc3a58d4c179ef95": {
          "model_module": "@jupyter-widgets/controls",
          "model_name": "HTMLModel",
          "state": {
            "_view_name": "HTMLView",
            "style": "IPY_MODEL_2f837153a42d42a8ac1730ba9d5dc06d",
            "_dom_classes": [],
            "description": "",
            "_model_name": "HTMLModel",
            "placeholder": "​",
            "_view_module": "@jupyter-widgets/controls",
            "_model_module_version": "1.5.0",
            "value": " 30/30 [06:44&lt;00:00, 13.50s/it]",
            "_view_count": null,
            "_view_module_version": "1.5.0",
            "description_tooltip": null,
            "_model_module": "@jupyter-widgets/controls",
            "layout": "IPY_MODEL_83b916f36bde4ea09c446332feca51bb"
          }
        },
        "abad6959fa62499fac07317201cf0edd": {
          "model_module": "@jupyter-widgets/controls",
          "model_name": "ProgressStyleModel",
          "state": {
            "_view_name": "StyleView",
            "_model_name": "ProgressStyleModel",
            "description_width": "initial",
            "_view_module": "@jupyter-widgets/base",
            "_model_module_version": "1.5.0",
            "_view_count": null,
            "_view_module_version": "1.2.0",
            "bar_color": null,
            "_model_module": "@jupyter-widgets/controls"
          }
        },
        "9c505edc6c4a4e7684eddcd20b0fa892": {
          "model_module": "@jupyter-widgets/base",
          "model_name": "LayoutModel",
          "state": {
            "_view_name": "LayoutView",
            "grid_template_rows": null,
            "right": null,
            "justify_content": null,
            "_view_module": "@jupyter-widgets/base",
            "overflow": null,
            "_model_module_version": "1.2.0",
            "_view_count": null,
            "flex_flow": null,
            "width": null,
            "min_width": null,
            "border": null,
            "align_items": null,
            "bottom": null,
            "_model_module": "@jupyter-widgets/base",
            "top": null,
            "grid_column": null,
            "overflow_y": null,
            "overflow_x": null,
            "grid_auto_flow": null,
            "grid_area": null,
            "grid_template_columns": null,
            "flex": null,
            "_model_name": "LayoutModel",
            "justify_items": null,
            "grid_row": null,
            "max_height": null,
            "align_content": null,
            "visibility": null,
            "align_self": null,
            "height": null,
            "min_height": null,
            "padding": null,
            "grid_auto_rows": null,
            "grid_gap": null,
            "max_width": null,
            "order": null,
            "_view_module_version": "1.2.0",
            "grid_template_areas": null,
            "object_position": null,
            "object_fit": null,
            "grid_auto_columns": null,
            "margin": null,
            "display": null,
            "left": null
          }
        },
        "2f837153a42d42a8ac1730ba9d5dc06d": {
          "model_module": "@jupyter-widgets/controls",
          "model_name": "DescriptionStyleModel",
          "state": {
            "_view_name": "StyleView",
            "_model_name": "DescriptionStyleModel",
            "description_width": "",
            "_view_module": "@jupyter-widgets/base",
            "_model_module_version": "1.5.0",
            "_view_count": null,
            "_view_module_version": "1.2.0",
            "_model_module": "@jupyter-widgets/controls"
          }
        },
        "83b916f36bde4ea09c446332feca51bb": {
          "model_module": "@jupyter-widgets/base",
          "model_name": "LayoutModel",
          "state": {
            "_view_name": "LayoutView",
            "grid_template_rows": null,
            "right": null,
            "justify_content": null,
            "_view_module": "@jupyter-widgets/base",
            "overflow": null,
            "_model_module_version": "1.2.0",
            "_view_count": null,
            "flex_flow": null,
            "width": null,
            "min_width": null,
            "border": null,
            "align_items": null,
            "bottom": null,
            "_model_module": "@jupyter-widgets/base",
            "top": null,
            "grid_column": null,
            "overflow_y": null,
            "overflow_x": null,
            "grid_auto_flow": null,
            "grid_area": null,
            "grid_template_columns": null,
            "flex": null,
            "_model_name": "LayoutModel",
            "justify_items": null,
            "grid_row": null,
            "max_height": null,
            "align_content": null,
            "visibility": null,
            "align_self": null,
            "height": null,
            "min_height": null,
            "padding": null,
            "grid_auto_rows": null,
            "grid_gap": null,
            "max_width": null,
            "order": null,
            "_view_module_version": "1.2.0",
            "grid_template_areas": null,
            "object_position": null,
            "object_fit": null,
            "grid_auto_columns": null,
            "margin": null,
            "display": null,
            "left": null
          }
        },
        "a2f235e7280a49089f9b9a63b3d719cb": {
          "model_module": "@jupyter-widgets/controls",
          "model_name": "HBoxModel",
          "state": {
            "_view_name": "HBoxView",
            "_dom_classes": [],
            "_model_name": "HBoxModel",
            "_view_module": "@jupyter-widgets/controls",
            "_model_module_version": "1.5.0",
            "_view_count": null,
            "_view_module_version": "1.5.0",
            "box_style": "",
            "layout": "IPY_MODEL_9f00e36c874b4cfe834d90570b67e332",
            "_model_module": "@jupyter-widgets/controls",
            "children": [
              "IPY_MODEL_b8ec06cf5cd0491e90ee1508d41b891a",
              "IPY_MODEL_6ac84c39ce5e4bbf8330822d99813077"
            ]
          }
        },
        "9f00e36c874b4cfe834d90570b67e332": {
          "model_module": "@jupyter-widgets/base",
          "model_name": "LayoutModel",
          "state": {
            "_view_name": "LayoutView",
            "grid_template_rows": null,
            "right": null,
            "justify_content": null,
            "_view_module": "@jupyter-widgets/base",
            "overflow": null,
            "_model_module_version": "1.2.0",
            "_view_count": null,
            "flex_flow": null,
            "width": null,
            "min_width": null,
            "border": null,
            "align_items": null,
            "bottom": null,
            "_model_module": "@jupyter-widgets/base",
            "top": null,
            "grid_column": null,
            "overflow_y": null,
            "overflow_x": null,
            "grid_auto_flow": null,
            "grid_area": null,
            "grid_template_columns": null,
            "flex": null,
            "_model_name": "LayoutModel",
            "justify_items": null,
            "grid_row": null,
            "max_height": null,
            "align_content": null,
            "visibility": null,
            "align_self": null,
            "height": null,
            "min_height": null,
            "padding": null,
            "grid_auto_rows": null,
            "grid_gap": null,
            "max_width": null,
            "order": null,
            "_view_module_version": "1.2.0",
            "grid_template_areas": null,
            "object_position": null,
            "object_fit": null,
            "grid_auto_columns": null,
            "margin": null,
            "display": null,
            "left": null
          }
        },
        "b8ec06cf5cd0491e90ee1508d41b891a": {
          "model_module": "@jupyter-widgets/controls",
          "model_name": "FloatProgressModel",
          "state": {
            "_view_name": "ProgressView",
            "style": "IPY_MODEL_b61776ed86ff412dbd218b2b303df4a0",
            "_dom_classes": [],
            "description": "100%",
            "_model_name": "FloatProgressModel",
            "bar_style": "success",
            "max": 3000,
            "_view_module": "@jupyter-widgets/controls",
            "_model_module_version": "1.5.0",
            "value": 3000,
            "_view_count": null,
            "_view_module_version": "1.5.0",
            "orientation": "horizontal",
            "min": 0,
            "description_tooltip": null,
            "_model_module": "@jupyter-widgets/controls",
            "layout": "IPY_MODEL_ebbc582df84a4452bb37c1edda8e3aaf"
          }
        },
        "6ac84c39ce5e4bbf8330822d99813077": {
          "model_module": "@jupyter-widgets/controls",
          "model_name": "HTMLModel",
          "state": {
            "_view_name": "HTMLView",
            "style": "IPY_MODEL_96680306c7664677b9e61d10c1af31dd",
            "_dom_classes": [],
            "description": "",
            "_model_name": "HTMLModel",
            "placeholder": "​",
            "_view_module": "@jupyter-widgets/controls",
            "_model_module_version": "1.5.0",
            "value": " 3000/3000 [00:02&lt;00:00, 1106.53it/s]",
            "_view_count": null,
            "_view_module_version": "1.5.0",
            "description_tooltip": null,
            "_model_module": "@jupyter-widgets/controls",
            "layout": "IPY_MODEL_6122eb8272964c6d94812cfd0fd15075"
          }
        },
        "b61776ed86ff412dbd218b2b303df4a0": {
          "model_module": "@jupyter-widgets/controls",
          "model_name": "ProgressStyleModel",
          "state": {
            "_view_name": "StyleView",
            "_model_name": "ProgressStyleModel",
            "description_width": "initial",
            "_view_module": "@jupyter-widgets/base",
            "_model_module_version": "1.5.0",
            "_view_count": null,
            "_view_module_version": "1.2.0",
            "bar_color": null,
            "_model_module": "@jupyter-widgets/controls"
          }
        },
        "ebbc582df84a4452bb37c1edda8e3aaf": {
          "model_module": "@jupyter-widgets/base",
          "model_name": "LayoutModel",
          "state": {
            "_view_name": "LayoutView",
            "grid_template_rows": null,
            "right": null,
            "justify_content": null,
            "_view_module": "@jupyter-widgets/base",
            "overflow": null,
            "_model_module_version": "1.2.0",
            "_view_count": null,
            "flex_flow": null,
            "width": null,
            "min_width": null,
            "border": null,
            "align_items": null,
            "bottom": null,
            "_model_module": "@jupyter-widgets/base",
            "top": null,
            "grid_column": null,
            "overflow_y": null,
            "overflow_x": null,
            "grid_auto_flow": null,
            "grid_area": null,
            "grid_template_columns": null,
            "flex": null,
            "_model_name": "LayoutModel",
            "justify_items": null,
            "grid_row": null,
            "max_height": null,
            "align_content": null,
            "visibility": null,
            "align_self": null,
            "height": null,
            "min_height": null,
            "padding": null,
            "grid_auto_rows": null,
            "grid_gap": null,
            "max_width": null,
            "order": null,
            "_view_module_version": "1.2.0",
            "grid_template_areas": null,
            "object_position": null,
            "object_fit": null,
            "grid_auto_columns": null,
            "margin": null,
            "display": null,
            "left": null
          }
        },
        "96680306c7664677b9e61d10c1af31dd": {
          "model_module": "@jupyter-widgets/controls",
          "model_name": "DescriptionStyleModel",
          "state": {
            "_view_name": "StyleView",
            "_model_name": "DescriptionStyleModel",
            "description_width": "",
            "_view_module": "@jupyter-widgets/base",
            "_model_module_version": "1.5.0",
            "_view_count": null,
            "_view_module_version": "1.2.0",
            "_model_module": "@jupyter-widgets/controls"
          }
        },
        "6122eb8272964c6d94812cfd0fd15075": {
          "model_module": "@jupyter-widgets/base",
          "model_name": "LayoutModel",
          "state": {
            "_view_name": "LayoutView",
            "grid_template_rows": null,
            "right": null,
            "justify_content": null,
            "_view_module": "@jupyter-widgets/base",
            "overflow": null,
            "_model_module_version": "1.2.0",
            "_view_count": null,
            "flex_flow": null,
            "width": null,
            "min_width": null,
            "border": null,
            "align_items": null,
            "bottom": null,
            "_model_module": "@jupyter-widgets/base",
            "top": null,
            "grid_column": null,
            "overflow_y": null,
            "overflow_x": null,
            "grid_auto_flow": null,
            "grid_area": null,
            "grid_template_columns": null,
            "flex": null,
            "_model_name": "LayoutModel",
            "justify_items": null,
            "grid_row": null,
            "max_height": null,
            "align_content": null,
            "visibility": null,
            "align_self": null,
            "height": null,
            "min_height": null,
            "padding": null,
            "grid_auto_rows": null,
            "grid_gap": null,
            "max_width": null,
            "order": null,
            "_view_module_version": "1.2.0",
            "grid_template_areas": null,
            "object_position": null,
            "object_fit": null,
            "grid_auto_columns": null,
            "margin": null,
            "display": null,
            "left": null
          }
        }
      }
    },
    "accelerator": "GPU"
  },
  "cells": [
    {
      "cell_type": "markdown",
      "metadata": {
        "id": "view-in-github",
        "colab_type": "text"
      },
      "source": [
        "<a href=\"https://colab.research.google.com/github/Vladimirsp81/DLS_2/blob/master/HW_%D0%9E%D0%B1%D1%80%D0%B0%D0%B1%D0%BE%D1%82%D0%BA%D0%B0_%D0%B0%D1%83%D0%B4%D0%B8%D0%BE%D1%81%D0%B8%D0%B3%D0%BD%D0%B0%D0%BB%D0%BE%D0%B2.ipynb\" target=\"_parent\"><img src=\"https://colab.research.google.com/assets/colab-badge.svg\" alt=\"Open In Colab\"/></a>"
      ]
    },
    {
      "cell_type": "markdown",
      "metadata": {
        "id": "IB0dhtKgpanV",
        "colab_type": "text"
      },
      "source": [
        "\n",
        "\n",
        "### **Домашнее задание**\n",
        "В этом задании вам предстоит обучить свой собственный классификатор биологического гендера человека по аудиозаписи (спектрограмме). На [семинаре](https://vk.cc/atRKR8) 9 мая мы разобрали, как построить спектрограмму и подать ее в нейросеть, а также написали бейзлайн решение на Keras. \n",
        "\n",
        "### Задание 1 (20% баллов)\n",
        "Взяв данные с семинара из датасета TIMIT (библиотека для работы с ним и подготовки данных также есть в семинаре) натренировать сетку так, чтобы на тестовой выборке accuracy_score был больше 0.97. Возможные исследования: conv1d vs conv2d, batch norm, предобученные сетки из `Imagenet`. Обязательно напишите, что вы использовали и какой вывод. Писать можно на любом фреймворке. \n",
        "### Задание 2 (30% баллов)\n",
        "Подумайте, как бы можно было \"испортить\" данные для тестовой выборки и впоследствии попробовать восстановить скор при помощи аугментаций трейнсета и усложнения архитектуры? Используя данные из `TEST` усложните выборку и посмотрите, как упадет accuracy_score. Следите, чтобы он не падал ниже 70 -- есть риск тогда не обучиться совсем. Вдохновиться аудио аугментациями можно например [здесь](https://vk.cc/atRLgR). Почитать про то, как еще аугментируют данные, но уже на уровне спектрограмм можно [в блоге Google AI](https://vk.cc/9jCCnk). Посмотрите, какие аугментации влияют сильнее всего? На этом этапе мы пока ничего не учим, а только пытаемся испортить скор бейзлайна с семинара.\n",
        "### Задание 3 (40% баллов)\n",
        "При помощи изложенных в предыдущем пункте средств, а также идей и хинтов с семинара, постарайтесь улучшить скор модели на \"испорченных\" данных. Можно делать все, кроме обучения на тесте :). \n",
        "### Задание 4 (10% баллов)\n",
        "Напишите вывод -- если попробовали какие-то архитектуры, аугментации, но это не помогло, тоже обязательно напишите. Расскажите, что пробовали, и что оказалось самым боевым. Здесь будет релевантно сделать таблицу.\n",
        "\n",
        "Дополнительные материалы и ссылки:\n",
        "1. [Текстом про то, как делается преобразование в мел-спектрограмму](https://medium.com/@jonathan_hui/speech-recognition-feature-extraction-mfcc-plp-5455f5a69dd9)\n",
        "2. [Соревнование по классификации голосовых команд](https://www.kaggle.com/c/tensorflow-speech-recognition-challenge)\n",
        "3. [Данные для распознавания речи на русском языке](https://github.com/snakers4/open_stt)\n",
        "4. [Проект по генерации музыки](https://openai.com/blog/jukebox/)\n",
        "5. [Опенсорс-проект по разделению песни на минус и вокал](https://github.com/deezer/spleeter)\n",
        "6. [wav2vec](https://arxiv.org/abs/1904.05862)\n",
        "7. [Лекция \n",
        "Microsoft Research\n",
        " про историю Automatic Speech Recognition](https://www.youtube.com/watch?v=q67z7PTGRi8)\n",
        "8. [Transformer для генерации музыки](https://openai.com/blog/musenet/)\n",
        "9. [Библиотека, содержащая в себе api для распознавания речи (Google, Microsoft, ...)](https://pypi.org/project/SpeechRecognition/)"
      ]
    },
    {
      "cell_type": "code",
      "metadata": {
        "id": "er0sBVi7ti9v",
        "colab_type": "code",
        "colab": {}
      },
      "source": [
        "from sklearn.model_selection import train_test_split\n",
        "from itertools import chain\n",
        "from tqdm import tqdm, tqdm_notebook\n",
        "import joblib as jl\n",
        "import os\n",
        "\n",
        "import matplotlib.pyplot as plt\n",
        "import IPython # прослушивание аудио в ноутбуке\n",
        "import numpy as np # отсюда возьмем Фурье\n",
        "import librosa # множественные манипуляции с аудиофайлами \n",
        "# import keras, keras.layers\n",
        "\n",
        "%matplotlib inline\n",
        "\n",
        "import torch\n",
        "from sklearn.metrics import accuracy_score\n",
        "plt.style.use('fivethirtyeight')"
      ],
      "execution_count": 0,
      "outputs": []
    },
    {
      "cell_type": "code",
      "metadata": {
        "id": "xmlZTSQj6A9f",
        "colab_type": "code",
        "outputId": "095689f5-2053-416e-cf3b-33ad457593a4",
        "colab": {
          "base_uri": "https://localhost:8080/",
          "height": 391
        }
      },
      "source": [
        "! wget https://audio-previews.elements.envatousercontent.com/files/6319559/preview.mp3 -O sample_f.mp3\n",
        "! wget https://audio-previews.elements.envatousercontent.com/files/256324900/preview.mp3 -O sample_m.mp3"
      ],
      "execution_count": 0,
      "outputs": [
        {
          "output_type": "stream",
          "text": [
            "--2020-06-09 21:12:06--  https://audio-previews.elements.envatousercontent.com/files/6319559/preview.mp3\n",
            "Resolving audio-previews.elements.envatousercontent.com (audio-previews.elements.envatousercontent.com)... 13.225.2.62, 13.225.2.104, 13.225.2.129, ...\n",
            "Connecting to audio-previews.elements.envatousercontent.com (audio-previews.elements.envatousercontent.com)|13.225.2.62|:443... connected.\n",
            "HTTP request sent, awaiting response... 200 OK\n",
            "Length: 28202 (28K) [audio/mpeg]\n",
            "Saving to: ‘sample_f.mp3’\n",
            "\n",
            "\rsample_f.mp3          0%[                    ]       0  --.-KB/s               \rsample_f.mp3        100%[===================>]  27.54K  --.-KB/s    in 0.001s  \n",
            "\n",
            "2020-06-09 21:12:06 (32.1 MB/s) - ‘sample_f.mp3’ saved [28202/28202]\n",
            "\n",
            "--2020-06-09 21:12:08--  https://audio-previews.elements.envatousercontent.com/files/256324900/preview.mp3\n",
            "Resolving audio-previews.elements.envatousercontent.com (audio-previews.elements.envatousercontent.com)... 13.225.2.94, 13.225.2.129, 13.225.2.62, ...\n",
            "Connecting to audio-previews.elements.envatousercontent.com (audio-previews.elements.envatousercontent.com)|13.225.2.94|:443... connected.\n",
            "HTTP request sent, awaiting response... 200 OK\n",
            "Length: 68884 (67K) [audio/mpeg]\n",
            "Saving to: ‘sample_m.mp3’\n",
            "\n",
            "sample_m.mp3        100%[===================>]  67.27K  --.-KB/s    in 0.003s  \n",
            "\n",
            "2020-06-09 21:12:08 (23.1 MB/s) - ‘sample_m.mp3’ saved [68884/68884]\n",
            "\n"
          ],
          "name": "stdout"
        }
      ]
    },
    {
      "cell_type": "code",
      "metadata": {
        "id": "KRJJH-5S6N-O",
        "colab_type": "code",
        "outputId": "3d3873f7-99d0-415f-be5e-7868b810677f",
        "colab": {
          "base_uri": "https://localhost:8080/",
          "height": 102
        }
      },
      "source": [
        "!apt-get install -y ffmpeg # Библиотека для обработки аудио"
      ],
      "execution_count": 0,
      "outputs": [
        {
          "output_type": "stream",
          "text": [
            "Reading package lists... Done\n",
            "Building dependency tree       \n",
            "Reading state information... Done\n",
            "ffmpeg is already the newest version (7:3.4.6-0ubuntu0.18.04.1).\n",
            "0 upgraded, 0 newly installed, 0 to remove and 32 not upgraded.\n"
          ],
          "name": "stdout"
        }
      ]
    },
    {
      "cell_type": "code",
      "metadata": {
        "id": "QAy22tk36Tp3",
        "colab_type": "code",
        "outputId": "f66801a4-1a6b-4e96-c421-9f84f2ec07ad",
        "colab": {
          "base_uri": "https://localhost:8080/",
          "height": 632
        }
      },
      "source": [
        "!ffmpeg -i sample_m.mp3 -ar 22050 -ac 1 sample_m.wav"
      ],
      "execution_count": 0,
      "outputs": [
        {
          "output_type": "stream",
          "text": [
            "ffmpeg version 3.4.6-0ubuntu0.18.04.1 Copyright (c) 2000-2019 the FFmpeg developers\n",
            "  built with gcc 7 (Ubuntu 7.3.0-16ubuntu3)\n",
            "  configuration: --prefix=/usr --extra-version=0ubuntu0.18.04.1 --toolchain=hardened --libdir=/usr/lib/x86_64-linux-gnu --incdir=/usr/include/x86_64-linux-gnu --enable-gpl --disable-stripping --enable-avresample --enable-avisynth --enable-gnutls --enable-ladspa --enable-libass --enable-libbluray --enable-libbs2b --enable-libcaca --enable-libcdio --enable-libflite --enable-libfontconfig --enable-libfreetype --enable-libfribidi --enable-libgme --enable-libgsm --enable-libmp3lame --enable-libmysofa --enable-libopenjpeg --enable-libopenmpt --enable-libopus --enable-libpulse --enable-librubberband --enable-librsvg --enable-libshine --enable-libsnappy --enable-libsoxr --enable-libspeex --enable-libssh --enable-libtheora --enable-libtwolame --enable-libvorbis --enable-libvpx --enable-libwavpack --enable-libwebp --enable-libx265 --enable-libxml2 --enable-libxvid --enable-libzmq --enable-libzvbi --enable-omx --enable-openal --enable-opengl --enable-sdl2 --enable-libdc1394 --enable-libdrm --enable-libiec61883 --enable-chromaprint --enable-frei0r --enable-libopencv --enable-libx264 --enable-shared\n",
            "  libavutil      55. 78.100 / 55. 78.100\n",
            "  libavcodec     57.107.100 / 57.107.100\n",
            "  libavformat    57. 83.100 / 57. 83.100\n",
            "  libavdevice    57. 10.100 / 57. 10.100\n",
            "  libavfilter     6.107.100 /  6.107.100\n",
            "  libavresample   3.  7.  0 /  3.  7.  0\n",
            "  libswscale      4.  8.100 /  4.  8.100\n",
            "  libswresample   2.  9.100 /  2.  9.100\n",
            "  libpostproc    54.  7.100 / 54.  7.100\n",
            "\u001b[0;35m[mp3 @ 0x55a74fbca000] \u001b[0m\u001b[0;33mEstimating duration from bitrate, this may be inaccurate\n",
            "\u001b[0mInput #0, mp3, from 'sample_m.mp3':\n",
            "  Metadata:\n",
            "    comment         : \n",
            "    TLEN            : 1673\n",
            "    encoded_by      : Sound Forge 2.0.5 (Build 317)\n",
            "  Duration: 00:00:01.70, start: 0.000000, bitrate: 324 kb/s\n",
            "    Stream #0:0: Audio: mp3, 44100 Hz, stereo, s16p, 320 kb/s\n",
            "File 'sample_m.wav' already exists. Overwrite ? [y/N] y\n",
            "Stream mapping:\n",
            "  Stream #0:0 -> #0:0 (mp3 (native) -> pcm_s16le (native))\n",
            "Press [q] to stop, [?] for help\n",
            "Output #0, wav, to 'sample_m.wav':\n",
            "  Metadata:\n",
            "    ICMT            : \n",
            "    TLEN            : 1673\n",
            "    ITCH            : Sound Forge 2.0.5 (Build 317)\n",
            "    ISFT            : Lavf57.83.100\n",
            "    Stream #0:0: Audio: pcm_s16le ([1][0][0][0] / 0x0001), 22050 Hz, mono, s16, 352 kb/s\n",
            "    Metadata:\n",
            "      encoder         : Lavc57.107.100 pcm_s16le\n",
            "size=      73kB time=00:00:01.69 bitrate= 353.3kbits/s speed= 308x    \n",
            "video:0kB audio:73kB subtitle:0kB other streams:0kB global headers:0kB muxing overhead: 0.154915%\n"
          ],
          "name": "stdout"
        }
      ]
    },
    {
      "cell_type": "code",
      "metadata": {
        "id": "qEdhaYKy-V2H",
        "colab_type": "code",
        "outputId": "05a990c3-9dee-40e2-c2dd-5ec32df52d24",
        "colab": {
          "base_uri": "https://localhost:8080/",
          "height": 75
        }
      },
      "source": [
        "IPython.display.Audio(librosa.load('sample_f.wav')[0], rate = 22050)"
      ],
      "execution_count": 0,
      "outputs": [
        {
          "output_type": "execute_result",
          "data": {
            "text/html": [
              "\n",
              "                <audio controls=\"controls\" >\n",
              "                    <source src=\"data:audio/wav;base64,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\" type=\"audio/wav\" />\n",
              "                    Your browser does not support the audio element.\n",
              "                </audio>\n",
              "              "
            ],
            "text/plain": [
              "<IPython.lib.display.Audio object>"
            ]
          },
          "metadata": {
            "tags": []
          },
          "execution_count": 6
        }
      ]
    },
    {
      "cell_type": "markdown",
      "metadata": {
        "id": "WtOhDpxvGBTh",
        "colab_type": "text"
      },
      "source": [
        "Построим график амплитуд"
      ]
    },
    {
      "cell_type": "code",
      "metadata": {
        "id": "7ybYV9CaGB8P",
        "colab_type": "code",
        "outputId": "c952ce22-d4d2-43b7-ff0a-97ffe384a816",
        "colab": {
          "base_uri": "https://localhost:8080/",
          "height": 316
        }
      },
      "source": [
        "amplitudes, sample_rate = librosa.load(\"sample_m.wav\")\n",
        "print(f\"{len(amplitudes)} points, {len(amplitudes) / sample_rate} sec, sr {sample_rate}\")\n",
        "plt.figure(figsize=[15, 4])\n",
        "plt.title('')\n",
        "plt.plot(amplitudes[20000:25000],linewidth=1.5)"
      ],
      "execution_count": 0,
      "outputs": [
        {
          "output_type": "stream",
          "text": [
            "37440 points, 1.6979591836734693 sec, sr 22050\n"
          ],
          "name": "stdout"
        },
        {
          "output_type": "execute_result",
          "data": {
            "text/plain": [
              "[<matplotlib.lines.Line2D at 0x7f193b76a390>]"
            ]
          },
          "metadata": {
            "tags": []
          },
          "execution_count": 7
        },
        {
          "output_type": "display_data",
          "data": {
            "image/png": "[encoded data removed]",
            "text/plain": [
              "<Figure size 1080x288 with 1 Axes>"
            ]
          },
          "metadata": {
            "tags": []
          }
        }
      ]
    },
    {
      "cell_type": "markdown",
      "metadata": {
        "id": "Gh8ZDyMY_jDX",
        "colab_type": "text"
      },
      "source": [
        "Разделяем вход на пересекающиеся фреймы"
      ]
    },
    {
      "cell_type": "code",
      "metadata": {
        "id": "Jrf-njZI_h3R",
        "colab_type": "code",
        "colab": {}
      },
      "source": [
        "def slice_into_frames(amplitudes, window_length, hop_length):\n",
        "    return librosa.core.spectrum.util.frame(\n",
        "        np.pad(amplitudes, int(window_length // 2), mode='reflect'),\n",
        "        frame_length=window_length, hop_length=hop_length)\n",
        "    # выход: [window_length, num_windows]"
      ],
      "execution_count": 0,
      "outputs": []
    },
    {
      "cell_type": "markdown",
      "metadata": {
        "id": "HpuoiJRu_wQv",
        "colab_type": "text"
      },
      "source": [
        "Применяем к каждому фрейму преобразование Фурье"
      ]
    },
    {
      "cell_type": "code",
      "metadata": {
        "id": "cccJusFU_7UW",
        "colab_type": "code",
        "colab": {}
      },
      "source": [
        "def get_STFT(amplitudes, window_length, hop_length):\n",
        "    \"\"\" Compute short-time Fourier Transform \"\"\"\n",
        "    # разбиваем амплитуды на пересекающиеся фреймы [window_length, num_frames]\n",
        "    frames = slice_into_frames(amplitudes, window_length, hop_length)\n",
        "    \n",
        "    # получаем веса для Фурье, float[window_length]\n",
        "    fft_weights = librosa.core.spectrum.get_window('hann', window_length, fftbins=True)\n",
        "    \n",
        "    # применяем преобразование Фурье\n",
        "    stft = np.fft.rfft(frames * fft_weights[:, None], axis=0)\n",
        "    return stft"
      ],
      "execution_count": 0,
      "outputs": []
    },
    {
      "cell_type": "markdown",
      "metadata": {
        "id": "B2gQmiS3AANG",
        "colab_type": "text"
      },
      "source": [
        "Переводим полученную спектрограмму в мел-пространство"
      ]
    },
    {
      "cell_type": "code",
      "metadata": {
        "id": "RUAmqLSFAAxB",
        "colab_type": "code",
        "colab": {}
      },
      "source": [
        "def get_melspectrogram(amplitudes, sample_rate=22050, n_mels=128,\n",
        "                       window_length=2048, hop_length=512, fmin=1, fmax=8192):\n",
        "    \"\"\"\n",
        "    Implement mel-spectrogram as described above.\n",
        "    :param amplitudes: float [num_amplitudes]\n",
        "    :param sample rate: число отсчетов каждую секунду\n",
        "    :param n_mels: число каналов спектрограммы\n",
        "    :param window_length: параметр размера окна для Фурье\n",
        "    :param hop_length: размер пересечения \n",
        "    :param f_min: мин частота\n",
        "    :param f_max: макс частота\n",
        "    :returns: мел-scaled спектрограмма [n_mels, duration]\n",
        "    \"\"\"\n",
        "    # Шаг 1\n",
        "    stft = get_STFT(amplitudes, window_length, hop_length)\n",
        "    assert stft.shape == (window_length // 2 + 1, len(amplitudes) // 512 + 1)\n",
        "    \n",
        "    # Шаг 2\n",
        "    spectrogram = np.abs(stft ** 2)\n",
        "    \n",
        "    # Шаг 3\n",
        "    mel_basis = librosa.filters.mel(sample_rate, n_fft=window_length,\n",
        "                                    n_mels=n_mels, fmin=fmin, fmax=fmax)\n",
        "    # ^-- matrix [n_mels, window_length / 2 + 1]\n",
        "    \n",
        "    mel_spectrogram = np.dot(mel_basis, spectrogram)\n",
        "    assert mel_spectrogram.shape == (n_mels, len(amplitudes) // 512 + 1)\n",
        "    \n",
        "    return mel_spectrogram"
      ],
      "execution_count": 0,
      "outputs": []
    },
    {
      "cell_type": "code",
      "metadata": {
        "id": "U0cUqAA0AW5X",
        "colab_type": "code",
        "colab": {}
      },
      "source": [
        "amplitudes1, _  = librosa.load('sample_m.wav') # Считываем амплитуды\n",
        "amplitudes2, _  = librosa.load('sample_f.wav')"
      ],
      "execution_count": 0,
      "outputs": []
    },
    {
      "cell_type": "code",
      "metadata": {
        "id": "6gOqsLurAZav",
        "colab_type": "code",
        "outputId": "6adc41b2-6967-4b73-98c9-03767839bd7d",
        "colab": {
          "base_uri": "https://localhost:8080/",
          "height": 325
        }
      },
      "source": [
        "plt.figure(figsize=[16, 4])\n",
        "plt.subplot(1, 2, 1)\n",
        "plt.title(\"Man\"); plt.xlabel(\"Time\"); plt.ylabel(\"Frequency\")\n",
        "plt.imshow(get_melspectrogram(amplitudes1))\n",
        "\n",
        "plt.subplot(1, 2, 2)\n",
        "plt.title(\"Woman\"); plt.xlabel(\"Time\"); plt.ylabel(\"Frequency\")\n",
        "plt.imshow(get_melspectrogram(amplitudes2));"
      ],
      "execution_count": 0,
      "outputs": [
        {
          "output_type": "display_data",
          "data": {
            "image/png": "[encoded data removed]",
            "text/plain": [
              "<Figure size 1152x288 with 2 Axes>"
            ]
          },
          "metadata": {
            "tags": []
          }
        }
      ]
    },
    {
      "cell_type": "markdown",
      "metadata": {
        "id": "e67Tz0CoFPSv",
        "colab_type": "text"
      },
      "source": [
        "Проверяем правильность, полученных с помощью нашей функции, спектрограмм. Сравниваем с методом получения спектрограмм из librosa."
      ]
    },
    {
      "cell_type": "code",
      "metadata": {
        "id": "v7FDmlsHErfQ",
        "colab_type": "code",
        "colab": {}
      },
      "source": [
        "ref1 = librosa.feature.melspectrogram(amplitudes2, sr=sample_rate, n_mels=128, fmin=1, fmax=8192)\n",
        "assert np.allclose(get_melspectrogram(amplitudes2), ref1, rtol=1e-4, atol=1e-4)"
      ],
      "execution_count": 0,
      "outputs": []
    },
    {
      "cell_type": "code",
      "metadata": {
        "id": "Sl5htFCUEzle",
        "colab_type": "code",
        "outputId": "ea60d2a5-730a-4980-f850-c2230b9ce54a",
        "colab": {
          "base_uri": "https://localhost:8080/",
          "height": 34
        }
      },
      "source": [
        "((ref1-get_melspectrogram(amplitudes2)) **2).mean() # Посмотрим на MSE"
      ],
      "execution_count": 0,
      "outputs": [
        {
          "output_type": "execute_result",
          "data": {
            "text/plain": [
              "4.717526497791717e-13"
            ]
          },
          "metadata": {
            "tags": []
          },
          "execution_count": 14
        }
      ]
    },
    {
      "cell_type": "markdown",
      "metadata": {
        "id": "fsFTEIXVGWAA",
        "colab_type": "text"
      },
      "source": [
        "Скачиваем dataset"
      ]
    },
    {
      "cell_type": "code",
      "metadata": {
        "id": "ZQUeBV5UGWn_",
        "colab_type": "code",
        "outputId": "9e552b9e-2ad3-44c0-911c-3d249a140e59",
        "colab": {
          "base_uri": "https://localhost:8080/",
          "height": 289
        }
      },
      "source": [
        "!wget https://ndownloader.figshare.com/files/10256148"
      ],
      "execution_count": 0,
      "outputs": [
        {
          "output_type": "stream",
          "text": [
            "--2020-06-09 21:13:41--  https://ndownloader.figshare.com/files/10256148\n",
            "Resolving ndownloader.figshare.com (ndownloader.figshare.com)... 18.203.1.140, 34.243.191.39, 34.247.146.8, ...\n",
            "Connecting to ndownloader.figshare.com (ndownloader.figshare.com)|18.203.1.140|:443... connected.\n",
            "HTTP request sent, awaiting response... 302 Found\n",
            "Location: https://s3-eu-west-1.amazonaws.com/pfigshare-u-files/10256148/TIMIT.zip [following]\n",
            "--2020-06-09 21:13:42--  https://s3-eu-west-1.amazonaws.com/pfigshare-u-files/10256148/TIMIT.zip\n",
            "Resolving s3-eu-west-1.amazonaws.com (s3-eu-west-1.amazonaws.com)... 52.218.105.74\n",
            "Connecting to s3-eu-west-1.amazonaws.com (s3-eu-west-1.amazonaws.com)|52.218.105.74|:443... connected.\n",
            "HTTP request sent, awaiting response... 200 OK\n",
            "Length: 440207227 (420M) [binary/octet-stream]\n",
            "Saving to: ‘10256148.1’\n",
            "\n",
            "10256148.1          100%[===================>] 419.81M  10.4MB/s    in 43s     \n",
            "\n",
            "2020-06-09 21:14:27 (9.78 MB/s) - ‘10256148.1’ saved [440207227/440207227]\n",
            "\n"
          ],
          "name": "stdout"
        }
      ]
    },
    {
      "cell_type": "code",
      "metadata": {
        "id": "9YXHrj8HG1uG",
        "colab_type": "code",
        "outputId": "0eb0ab26-5d3a-4102-ecb9-e57b914699be",
        "colab": {
          "base_uri": "https://localhost:8080/",
          "height": 34
        }
      },
      "source": [
        "!unzip -q 10256148"
      ],
      "execution_count": 0,
      "outputs": [
        {
          "output_type": "stream",
          "text": [
            "replace data/lisa/data/timit/raw/TIMIT/DOC/PROMPTS.TXT? [y]es, [n]o, [A]ll, [N]one, [r]ename: A\n"
          ],
          "name": "stdout"
        }
      ]
    },
    {
      "cell_type": "code",
      "metadata": {
        "id": "4n6A17EWG2-5",
        "colab_type": "code",
        "outputId": "cfed0438-9f04-481c-d931-b0ff5c502055",
        "colab": {
          "base_uri": "https://localhost:8080/",
          "height": 272
        }
      },
      "source": [
        "!pip install timit-utils # Библиотека для работы с датасетами формата TIMIT"
      ],
      "execution_count": 0,
      "outputs": [
        {
          "output_type": "stream",
          "text": [
            "Requirement already satisfied: timit-utils in /usr/local/lib/python3.6/dist-packages (0.9.0)\n",
            "Requirement already satisfied: scipy in /usr/local/lib/python3.6/dist-packages (from timit-utils) (1.4.1)\n",
            "Requirement already satisfied: SoundFile>=0.8.0 in /usr/local/lib/python3.6/dist-packages (from timit-utils) (0.10.3.post1)\n",
            "Requirement already satisfied: python-speech-features in /usr/local/lib/python3.6/dist-packages (from timit-utils) (0.6)\n",
            "Requirement already satisfied: matplotlib in /usr/local/lib/python3.6/dist-packages (from timit-utils) (3.2.1)\n",
            "Requirement already satisfied: numpy in /usr/local/lib/python3.6/dist-packages (from timit-utils) (1.18.5)\n",
            "Requirement already satisfied: pandas in /usr/local/lib/python3.6/dist-packages (from timit-utils) (1.0.4)\n",
            "Requirement already satisfied: cffi>=1.0 in /usr/local/lib/python3.6/dist-packages (from SoundFile>=0.8.0->timit-utils) (1.14.0)\n",
            "Requirement already satisfied: pyparsing!=2.0.4,!=2.1.2,!=2.1.6,>=2.0.1 in /usr/local/lib/python3.6/dist-packages (from matplotlib->timit-utils) (2.4.7)\n",
            "Requirement already satisfied: python-dateutil>=2.1 in /usr/local/lib/python3.6/dist-packages (from matplotlib->timit-utils) (2.8.1)\n",
            "Requirement already satisfied: kiwisolver>=1.0.1 in /usr/local/lib/python3.6/dist-packages (from matplotlib->timit-utils) (1.2.0)\n",
            "Requirement already satisfied: cycler>=0.10 in /usr/local/lib/python3.6/dist-packages (from matplotlib->timit-utils) (0.10.0)\n",
            "Requirement already satisfied: pytz>=2017.2 in /usr/local/lib/python3.6/dist-packages (from pandas->timit-utils) (2018.9)\n",
            "Requirement already satisfied: pycparser in /usr/local/lib/python3.6/dist-packages (from cffi>=1.0->SoundFile>=0.8.0->timit-utils) (2.20)\n",
            "Requirement already satisfied: six>=1.5 in /usr/local/lib/python3.6/dist-packages (from python-dateutil>=2.1->matplotlib->timit-utils) (1.12.0)\n"
          ],
          "name": "stdout"
        }
      ]
    },
    {
      "cell_type": "code",
      "metadata": {
        "id": "uRNrTK8fHFkI",
        "colab_type": "code",
        "colab": {}
      },
      "source": [
        "import timit_utils as tu\n",
        "import timit_utils.audio_utils as au\n",
        "import timit_utils.drawing_utils as du\n",
        "\n",
        "DATA_PATH = 'data/lisa/data/timit/raw/TIMIT'\n",
        "\n",
        "# Создаем класс, который загружает и парсит информацию о спикерах\n",
        "class Speaker:\n",
        "\n",
        "  def __init__(self, data_path):\n",
        "    self.doc_file_path = os.path.join(data_path, 'DOC','SPKRINFO.TXT')\n",
        "    with open(self.doc_file_path) as f:\n",
        "      self.id_sex_dict = dict([(tmp.split(' ')[0], tmp.split(' ')[2]) for tmp in f.readlines()[39:]])\n",
        "\n",
        "  def return_sex(self, id):\n",
        "    return self.id_sex_dict[id]\n",
        "\n",
        "Speakers_info = Speaker(DATA_PATH)"
      ],
      "execution_count": 0,
      "outputs": []
    },
    {
      "cell_type": "code",
      "metadata": {
        "id": "uWaCyQelN6CI",
        "colab_type": "code",
        "colab": {}
      },
      "source": [
        "# Для проверки функций\n",
        "corpus = tu.Corpus(DATA_PATH)\n",
        "person_1 = corpus.train.person_by_index(100)"
      ],
      "execution_count": 0,
      "outputs": []
    },
    {
      "cell_type": "code",
      "metadata": {
        "id": "SvNB8BymMERQ",
        "colab_type": "code",
        "colab": {}
      },
      "source": [
        "# Обработаем данные\n",
        "def preprocess_sample(amplitudes, gender, sr=16000, max_length=150):\n",
        "    spectrogram = get_melspectrogram(amplitudes, sample_rate=sr)[:, :max_length]\n",
        "    spectrogram = np.pad(spectrogram, [[0, 0], [0, max(0, max_length - spectrogram.shape[1])]], mode='constant')\n",
        "    target = 0 if gender == 'F' else 1\n",
        "    return np.float32(spectrogram), np.int64(target)\n",
        "    \n",
        "tmp_1 = preprocess_sample(person_1.sentence_by_index(1).raw_audio, Speakers_info.return_sex(person_1.name))[0]\n",
        "tmp_2 = librosa.feature.melspectrogram(person_1.sentence_by_index(1).raw_audio, sr=sample_rate, n_mels=128, fmin=1, fmax=8192)\n",
        "assert np.allclose(get_melspectrogram(amplitudes2), ref1, rtol=1e-4, atol=1e-4)"
      ],
      "execution_count": 0,
      "outputs": []
    },
    {
      "cell_type": "markdown",
      "metadata": {
        "id": "uEieirF7OZIg",
        "colab_type": "text"
      },
      "source": [
        "Создадим тестсет и трейнсет из данных для TIMIT"
      ]
    },
    {
      "cell_type": "code",
      "metadata": {
        "id": "LFme3CdEOL-X",
        "colab_type": "code",
        "colab": {}
      },
      "source": [
        "def create_dataset(mode='train'):\n",
        "  assert mode in ['train','test']\n",
        "  if mode == 'train':\n",
        "    people = [corpus.train.person_by_index(i) for i in range(400)]\n",
        "  if mode == 'test':\n",
        "    people = [corpus.test.person_by_index(i) for i in range(150)]\n",
        "  spectrograms_and_targets = []\n",
        "  for person in tqdm_notebook(people): \n",
        "    target = Speakers_info.return_sex(person.name)\n",
        "    for i in range(len(person.sentences)):\n",
        "      spectrograms_and_targets.append(preprocess_sample(person.sentence_by_index(i).raw_audio, target))\n",
        "  return spectrograms_and_targets"
      ],
      "execution_count": 0,
      "outputs": []
    },
    {
      "cell_type": "code",
      "metadata": {
        "id": "uh3dugixOeFg",
        "colab_type": "code",
        "outputId": "d229e6b4-6677-4eaa-fe87-1c9285bd052a",
        "colab": {
          "base_uri": "https://localhost:8080/",
          "height": 166,
          "referenced_widgets": [
            "468d86d22aaa4bd181a5da73d6df0673",
            "e15efe0fe77240a6a817c27ab95c64b7",
            "f80eff0df79d44f3b269f48d4a3efcb4",
            "8d38103d3b6e44e793198d1e7a2ddbbb",
            "cf7e6a3a97c544b9bf7ea44141da7d45",
            "75dc1d351e194dac80c04b716abd378a",
            "b0b0c0fff4224d4baf2715617ff0060a",
            "8664bdd8eabb44bb9ee242ecd54a56b1",
            "8386f9efad6d4f56b0e83dd3b1b29d11",
            "5aa059dbb54448e68a360d8e3dacd2c2",
            "f4ede9f56f0e418ba44ec2741179b992",
            "72ddf54f3e3e47708789834710e75203",
            "d7bf32bb27ac4b8fa29eb45c1013154b",
            "257d9312ec53409c9cd69d25ba04305f",
            "22a6d47d188a4c0e88bacab9cd68a845",
            "42cc4e348ac84032a4371b597bdee97c"
          ]
        }
      },
      "source": [
        "trainset = create_dataset('train')\n",
        "testset = create_dataset('test')"
      ],
      "execution_count": 0,
      "outputs": [
        {
          "output_type": "stream",
          "text": [
            "/usr/local/lib/python3.6/dist-packages/ipykernel_launcher.py:8: TqdmDeprecationWarning: This function will be removed in tqdm==5.0.0\n",
            "Please use `tqdm.notebook.tqdm` instead of `tqdm.tqdm_notebook`\n",
            "  \n"
          ],
          "name": "stderr"
        },
        {
          "output_type": "display_data",
          "data": {
            "application/vnd.jupyter.widget-view+json": {
              "model_id": "468d86d22aaa4bd181a5da73d6df0673",
              "version_minor": 0,
              "version_major": 2
            },
            "text/plain": [
              "HBox(children=(FloatProgress(value=0.0, max=400.0), HTML(value='')))"
            ]
          },
          "metadata": {
            "tags": []
          }
        },
        {
          "output_type": "stream",
          "text": [
            "\n"
          ],
          "name": "stdout"
        },
        {
          "output_type": "display_data",
          "data": {
            "application/vnd.jupyter.widget-view+json": {
              "model_id": "8386f9efad6d4f56b0e83dd3b1b29d11",
              "version_minor": 0,
              "version_major": 2
            },
            "text/plain": [
              "HBox(children=(FloatProgress(value=0.0, max=150.0), HTML(value='')))"
            ]
          },
          "metadata": {
            "tags": []
          }
        },
        {
          "output_type": "stream",
          "text": [
            "\n"
          ],
          "name": "stdout"
        }
      ]
    },
    {
      "cell_type": "code",
      "metadata": {
        "id": "xV36bQ1DOmmC",
        "colab_type": "code",
        "colab": {}
      },
      "source": [
        "# Разделим трэйнсет на подвыборки\n",
        "X, y = map(np.stack, zip(*trainset))\n",
        "X_train, X_val, y_train, y_val = train_test_split(X, y, random_state=42)"
      ],
      "execution_count": 0,
      "outputs": []
    },
    {
      "cell_type": "code",
      "metadata": {
        "id": "UATZSik0TvES",
        "colab_type": "code",
        "colab": {}
      },
      "source": [
        "X_train = torch.FloatTensor(X_train)\n",
        "y_train = torch.LongTensor(y_train)\n",
        "X_val = torch.FloatTensor(X_val)\n",
        "y_val = torch.LongTensor(y_val)"
      ],
      "execution_count": 0,
      "outputs": []
    },
    {
      "cell_type": "markdown",
      "metadata": {
        "id": "rIFCcGJ0ajJi",
        "colab_type": "text"
      },
      "source": [
        "Задание 1\n",
        "\n",
        "---\n",
        "\n"
      ]
    },
    {
      "cell_type": "markdown",
      "metadata": {
        "id": "SvLUu0bHatWm",
        "colab_type": "text"
      },
      "source": [
        "Создаем сеть"
      ]
    },
    {
      "cell_type": "code",
      "metadata": {
        "id": "5hkGZ-zHGa7A",
        "colab_type": "code",
        "colab": {}
      },
      "source": [
        "import torch.nn as nn"
      ],
      "execution_count": 0,
      "outputs": []
    },
    {
      "cell_type": "code",
      "metadata": {
        "id": "UJ30qgoreyKp",
        "colab_type": "code",
        "colab": {}
      },
      "source": [
        "class AudioClass(nn.Module):\n",
        "  def __init__(self, input_channel = 128):\n",
        "    super(AudioClass, self).__init__()\n",
        "    self.conv1 = nn.Conv1d(128, 32, 4)\n",
        "    self.relu1 = nn.ReLU()\n",
        "    self.conv2 = nn.Conv1d(32, 64, 4)\n",
        "    self.relu2 = nn.ReLU()\n",
        "    self.conv3 = nn.Conv1d(64, 128, 4)\n",
        "    self.relu3 = nn.ReLU()\n",
        "    self.pool = nn.AdaptiveAvgPool1d(64)\n",
        "    self.linear = nn.Linear(input_channel * 64, 2)\n",
        "\n",
        "  def forward(self, inputs):\n",
        "    x = self.relu1(self.conv1(inputs))\n",
        "    x = self.relu2(self.conv2(x))\n",
        "    x = self.relu3(self.conv3(x))\n",
        "    x = self.pool(x)\n",
        "    x = self.linear(torch.reshape(x, (inputs.shape[0], -1)))\n",
        "    \n",
        "    return x"
      ],
      "execution_count": 0,
      "outputs": []
    },
    {
      "cell_type": "code",
      "metadata": {
        "id": "c4S-IkOMs2w3",
        "colab_type": "code",
        "colab": {}
      },
      "source": [
        "model = AudioClass()"
      ],
      "execution_count": 0,
      "outputs": []
    },
    {
      "cell_type": "code",
      "metadata": {
        "id": "6B2sgCYqs57_",
        "colab_type": "code",
        "outputId": "14674b81-8ef6-450c-96fb-c7a7c91a14d6",
        "colab": {
          "base_uri": "https://localhost:8080/",
          "height": 187
        }
      },
      "source": [
        "model"
      ],
      "execution_count": 0,
      "outputs": [
        {
          "output_type": "execute_result",
          "data": {
            "text/plain": [
              "AudioClass(\n",
              "  (conv1): Conv1d(128, 32, kernel_size=(4,), stride=(1,))\n",
              "  (relu1): ReLU()\n",
              "  (conv2): Conv1d(32, 64, kernel_size=(4,), stride=(1,))\n",
              "  (relu2): ReLU()\n",
              "  (conv3): Conv1d(64, 128, kernel_size=(4,), stride=(1,))\n",
              "  (relu3): ReLU()\n",
              "  (pool): AdaptiveAvgPool1d(output_size=64)\n",
              "  (linear): Linear(in_features=8192, out_features=2, bias=True)\n",
              ")"
            ]
          },
          "metadata": {
            "tags": []
          },
          "execution_count": 28
        }
      ]
    },
    {
      "cell_type": "code",
      "metadata": {
        "id": "vvy-WXx460MN",
        "colab_type": "code",
        "colab": {}
      },
      "source": [
        "loss_fn = nn.CrossEntropyLoss()\n",
        "learning_rate = 0.01\n",
        "optimizer = torch.optim.Adam(model.parameters(), lr = learning_rate)\n",
        "num_epoch = 20"
      ],
      "execution_count": 0,
      "outputs": []
    },
    {
      "cell_type": "code",
      "metadata": {
        "id": "zHEj0iTWdxme",
        "colab_type": "code",
        "colab": {}
      },
      "source": [
        "from torch.utils.data import DataLoader, TensorDataset"
      ],
      "execution_count": 0,
      "outputs": []
    },
    {
      "cell_type": "markdown",
      "metadata": {
        "id": "XHGzgn8JZnQ8",
        "colab_type": "text"
      },
      "source": [
        "Объединям Х и у для подачи в DataLoader"
      ]
    },
    {
      "cell_type": "code",
      "metadata": {
        "id": "vnSypVaDd8Jk",
        "colab_type": "code",
        "colab": {}
      },
      "source": [
        "dataset = TensorDataset(X_train, y_train)"
      ],
      "execution_count": 0,
      "outputs": []
    },
    {
      "cell_type": "markdown",
      "metadata": {
        "id": "bBOXlo1pZu1i",
        "colab_type": "text"
      },
      "source": [
        "Функция обучения сети"
      ]
    },
    {
      "cell_type": "code",
      "metadata": {
        "id": "CY7yDeeI6sOg",
        "colab_type": "code",
        "colab": {}
      },
      "source": [
        "def train(num_epoch):\n",
        "    train_losses = []\n",
        "    test_losses = []\n",
        "    for _ in tqdm_notebook(range(num_epoch)):\n",
        "      for X_train, y_train in DataLoader(dataset, 256):\n",
        "        model.train(True)\n",
        "        y_pred = model(X_train)\n",
        "        loss = loss_fn(y_pred, y_train)\n",
        "        optimizer.zero_grad()\n",
        "        loss.backward()\n",
        "        optimizer.step()\n",
        "        train_losses.append(loss.item())\n",
        "        model.train(False)\n",
        "        test_losses.append(loss_fn(model(X_val), y_val).item())\n",
        "\n",
        "    return train_losses, test_losses\n"
      ],
      "execution_count": 0,
      "outputs": []
    },
    {
      "cell_type": "markdown",
      "metadata": {
        "id": "s60q4ON-Z6EK",
        "colab_type": "text"
      },
      "source": [
        "Запускаем обучение и получаем лоссы"
      ]
    },
    {
      "cell_type": "code",
      "metadata": {
        "id": "4feevrZ-PH59",
        "colab_type": "code",
        "outputId": "71ed764a-c2a5-4c34-ed60-1171436eceef",
        "colab": {
          "base_uri": "https://localhost:8080/",
          "height": 117,
          "referenced_widgets": [
            "ab4499cb7e0c40f4b7e82216ccddbff9",
            "aa89c47cf1fc47088d55f2a6d7b79f23",
            "c637fe637f2143abad6721ab05474485",
            "fb3a5a7ecfa84839a4fe2cbc54d8676d",
            "0a5879ff7deb4cc2b70d0dfa2bdf0de8",
            "1b40f35d44e146fea5299f1d80195657",
            "3f9c4b547878462e842a87b493d599ab",
            "77ff35e1c4af47b9b99d2d051061a7c2"
          ]
        }
      },
      "source": [
        "train_losses, test_losses = train(20)"
      ],
      "execution_count": 0,
      "outputs": [
        {
          "output_type": "stream",
          "text": [
            "/usr/local/lib/python3.6/dist-packages/ipykernel_launcher.py:4: TqdmDeprecationWarning: This function will be removed in tqdm==5.0.0\n",
            "Please use `tqdm.notebook.tqdm` instead of `tqdm.tqdm_notebook`\n",
            "  after removing the cwd from sys.path.\n"
          ],
          "name": "stderr"
        },
        {
          "output_type": "display_data",
          "data": {
            "application/vnd.jupyter.widget-view+json": {
              "model_id": "ab4499cb7e0c40f4b7e82216ccddbff9",
              "version_minor": 0,
              "version_major": 2
            },
            "text/plain": [
              "HBox(children=(FloatProgress(value=0.0, max=20.0), HTML(value='')))"
            ]
          },
          "metadata": {
            "tags": []
          }
        },
        {
          "output_type": "stream",
          "text": [
            "\n"
          ],
          "name": "stdout"
        }
      ]
    },
    {
      "cell_type": "code",
      "metadata": {
        "id": "aznI3fZDNq0s",
        "colab_type": "code",
        "outputId": "f06352e4-c942-4c08-af1e-b0c0a433c97e",
        "colab": {
          "base_uri": "https://localhost:8080/",
          "height": 654
        }
      },
      "source": [
        "plt.scatter(range(len(train_losses)), train_losses)\n",
        "plt.scatter(range(len(test_losses)), test_losses)\n",
        "\n",
        "def plotTrainTestLosses(train_losses, test_losses):\n",
        "    plt.figure(figsize=(8,12))\n",
        "    plt.subplot(2,1,1)\n",
        "    plt.xlabel('Эпоха')\n",
        "    plt.ylabel('Loss')\n",
        "    plt.plot(range(len(train_losses)), train_losses, label='Train Loss')\n",
        "    plt.plot(range(len(test_losses)), test_losses, label='Test Loss')\n",
        "    plt.legend()\n",
        "    plt.show()\n",
        "plotTrainTestLosses(train_losses, test_losses)"
      ],
      "execution_count": 0,
      "outputs": [
        {
          "output_type": "display_data",
          "data": {
            "image/png": "[encoded data removed]",
            "text/plain": [
              "<Figure size 432x288 with 1 Axes>"
            ]
          },
          "metadata": {
            "tags": []
          }
        },
        {
          "output_type": "display_data",
          "data": {
            "image/png": "[encoded data removed]",
            "text/plain": [
              "<Figure size 576x864 with 1 Axes>"
            ]
          },
          "metadata": {
            "tags": []
          }
        }
      ]
    },
    {
      "cell_type": "code",
      "metadata": {
        "id": "r5wdxfdZ7r5k",
        "colab_type": "code",
        "colab": {}
      },
      "source": [
        "X_test, y_test = map(np.stack, zip(*testset))\n",
        "X_test = torch.FloatTensor(X_test)\n",
        "y_test = torch.LongTensor(y_test)"
      ],
      "execution_count": 0,
      "outputs": []
    },
    {
      "cell_type": "markdown",
      "metadata": {
        "id": "GtGqhEOuaIo6",
        "colab_type": "text"
      },
      "source": [
        "Напишем функцию вычисления accuracy score"
      ]
    },
    {
      "cell_type": "code",
      "metadata": {
        "id": "W1n6n0sxAeg3",
        "colab_type": "code",
        "colab": {}
      },
      "source": [
        "import torch.nn.functional as F"
      ],
      "execution_count": 0,
      "outputs": []
    },
    {
      "cell_type": "code",
      "metadata": {
        "id": "lQ2JwPIHEqwe",
        "colab_type": "code",
        "colab": {}
      },
      "source": [
        "def test_accuracy(model, X_test, y_test):\n",
        "  model.eval()\n",
        "\n",
        "  with torch.no_grad():\n",
        "    y_pred_all = []\n",
        "    y_test_all = []\n",
        "    for i in tqdm_notebook(range(len(y_test))):\n",
        "      X_i = X_test[i].unsqueeze(0)\n",
        "      y_i = y_test[i]\n",
        "      y_pred = F.softmax(model(X_i), dim=1).argmax()\n",
        "      y_pred_all.append(y_pred)\n",
        "      y_test_all.append(y_i)\n",
        "\n",
        "  return accuracy_score(y_test_all, y_pred_all)"
      ],
      "execution_count": 0,
      "outputs": []
    },
    {
      "cell_type": "markdown",
      "metadata": {
        "id": "ZwI-Ol5HaaGr",
        "colab_type": "text"
      },
      "source": [
        "Вычисляем скор на тестовых данных"
      ]
    },
    {
      "cell_type": "code",
      "metadata": {
        "id": "3xc0a87G_zLN",
        "colab_type": "code",
        "outputId": "6e57efd0-33c0-4a57-d6de-fa66535e5726",
        "colab": {
          "base_uri": "https://localhost:8080/",
          "height": 134,
          "referenced_widgets": [
            "66e7e5f3bf3e4824838f03cb96ed96e6",
            "22505e1281dd410b93a1b73ea1c7c12a",
            "acf2a3cad33840319ea1c727e5839d4e",
            "3cf1a1eed0c14cfd8454a0e565a845bb",
            "c07dad6a6cf24120935b89c245a224ff",
            "6dbec04512924c47bb0515b6c6751be4",
            "fc15930ca51044c49dc2b118e0c3af20",
            "ebc0819db4644e32a0e88895b297d35b"
          ]
        }
      },
      "source": [
        "test_accuracy(model, X_test, y_test)"
      ],
      "execution_count": 0,
      "outputs": [
        {
          "output_type": "stream",
          "text": [
            "/usr/local/lib/python3.6/dist-packages/ipykernel_launcher.py:7: TqdmDeprecationWarning: This function will be removed in tqdm==5.0.0\n",
            "Please use `tqdm.notebook.tqdm` instead of `tqdm.tqdm_notebook`\n",
            "  import sys\n"
          ],
          "name": "stderr"
        },
        {
          "output_type": "display_data",
          "data": {
            "application/vnd.jupyter.widget-view+json": {
              "model_id": "66e7e5f3bf3e4824838f03cb96ed96e6",
              "version_minor": 0,
              "version_major": 2
            },
            "text/plain": [
              "HBox(children=(FloatProgress(value=0.0, max=1500.0), HTML(value='')))"
            ]
          },
          "metadata": {
            "tags": []
          }
        },
        {
          "output_type": "stream",
          "text": [
            "\n"
          ],
          "name": "stdout"
        },
        {
          "output_type": "execute_result",
          "data": {
            "text/plain": [
              "0.9833333333333333"
            ]
          },
          "metadata": {
            "tags": []
          },
          "execution_count": 38
        }
      ]
    },
    {
      "cell_type": "markdown",
      "metadata": {
        "id": "mgECfA2je7wU",
        "colab_type": "text"
      },
      "source": [
        "Повторил архитектуру сети с семинара.\n",
        "Установил размер батча, равный 128.\n",
        "Скор получился 0.613\n",
        "\n",
        "Попробовал увеличить размер батча до 256.\n",
        "Скор остался тем же.\n",
        "\n",
        "Изменил оптимайзер с SGD на Adam.\n",
        "Скор резко вырос до 0.983\n",
        "\n",
        "Оказалось достаточно сменить оптимизатор."
      ]
    },
    {
      "cell_type": "markdown",
      "metadata": {
        "id": "d9mnnRm4F7l3",
        "colab_type": "text"
      },
      "source": [
        "**Задание 2**\n",
        "\n",
        "---\n",
        "\n"
      ]
    },
    {
      "cell_type": "markdown",
      "metadata": {
        "id": "qNBbZKOva8ii",
        "colab_type": "text"
      },
      "source": [
        "Напишем функцию добавления шума в данные для аугментаций"
      ]
    },
    {
      "cell_type": "code",
      "metadata": {
        "id": "m2Dcj0FGmcjn",
        "colab_type": "code",
        "colab": {}
      },
      "source": [
        "def spoil_with_noise(data, noise_factor=0.02):\n",
        "    noise = np.random.normal(size=len(data))\n",
        "    augmented_data = data + noise_factor * noise\n",
        "    # Cast back to same data type\n",
        "    augmented_data = augmented_data.astype(type(data[0]))\n",
        "    return augmented_data"
      ],
      "execution_count": 0,
      "outputs": []
    },
    {
      "cell_type": "code",
      "metadata": {
        "id": "cKY8QfrMmVQ5",
        "colab_type": "code",
        "colab": {}
      },
      "source": [
        "test_wav = person_1.sentence_by_index(0).raw_audio"
      ],
      "execution_count": 0,
      "outputs": []
    },
    {
      "cell_type": "code",
      "metadata": {
        "id": "eSfxEmPa0TQE",
        "colab_type": "code",
        "outputId": "bdc5b1de-1549-4396-90d1-d208699c874a",
        "colab": {
          "base_uri": "https://localhost:8080/",
          "height": 75
        }
      },
      "source": [
        "IPython.display.Audio(person_1.sentence_by_index(0).raw_audio, rate=16000)"
      ],
      "execution_count": 0,
      "outputs": [
        {
          "output_type": "execute_result",
          "data": {
            "text/html": [
              "\n",
              "                <audio controls=\"controls\" >\n",
              "                    <source src=\"data:audio/wav;base64,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\" type=\"audio/wav\" />\n",
              "                    Your browser does not support the audio element.\n",
              "                </audio>\n",
              "              "
            ],
            "text/plain": [
              "<IPython.lib.display.Audio object>"
            ]
          },
          "metadata": {
            "tags": []
          },
          "execution_count": 76
        }
      ]
    },
    {
      "cell_type": "code",
      "metadata": {
        "id": "fZOnyK0InUfo",
        "colab_type": "code",
        "outputId": "1b88a642-408a-4f78-8ed0-3e2a495b33f8",
        "colab": {
          "base_uri": "https://localhost:8080/",
          "height": 75
        }
      },
      "source": [
        "IPython.display.Audio(spoil_with_noise(person_1.sentence_by_index(0).raw_audio), rate=16000)"
      ],
      "execution_count": 0,
      "outputs": [
        {
          "output_type": "execute_result",
          "data": {
            "text/html": [
              "\n",
              "                <audio controls=\"controls\" >\n",
              "                    <source src=\"data:audio/wav;base64,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\" type=\"audio/wav\" />\n",
              "                    Your browser does not support the audio element.\n",
              "                </audio>\n",
              "              "
            ],
            "text/plain": [
              "<IPython.lib.display.Audio object>"
            ]
          },
          "metadata": {
            "tags": []
          },
          "execution_count": 77
        }
      ]
    },
    {
      "cell_type": "markdown",
      "metadata": {
        "id": "LO-cLvngoBm2",
        "colab_type": "text"
      },
      "source": [
        "Функция для создания датасета с шумом"
      ]
    },
    {
      "cell_type": "code",
      "metadata": {
        "id": "kH1T-vsJnU0X",
        "colab_type": "code",
        "colab": {}
      },
      "source": [
        "def spoil_dataset(mode='train'):\n",
        "  assert mode in ['train','test']\n",
        "  if mode == 'train':\n",
        "    people = [corpus.train.person_by_index(i) for i in range(400)]\n",
        "  if mode == 'test':\n",
        "    people = [corpus.test.person_by_index(i) for i in range(150)]\n",
        "  spectrograms_and_targets = []\n",
        "  for person in tqdm_notebook(people): \n",
        "    target = Speakers_info.return_sex(person.name)\n",
        "    for i in range(len(person.sentences)):\n",
        "      spectrograms_and_targets.append(preprocess_sample(spoil_with_noise(person.sentence_by_index(i).raw_audio),target))\n",
        "  return spectrograms_and_targets"
      ],
      "execution_count": 0,
      "outputs": []
    },
    {
      "cell_type": "markdown",
      "metadata": {
        "id": "BYTyBHuWibHQ",
        "colab_type": "text"
      },
      "source": [
        "Добавляем шум к тестовым данным и вычисляем скор"
      ]
    },
    {
      "cell_type": "code",
      "metadata": {
        "id": "NUcVtnqkn3v3",
        "colab_type": "code",
        "outputId": "4bebedaf-7b6a-4c3a-8371-ceb31812a32a",
        "colab": {
          "base_uri": "https://localhost:8080/",
          "height": 117,
          "referenced_widgets": [
            "058216640f3447ada7fe3214d1518041",
            "80ed7a5b5aeb413bb182bf8126cf13da",
            "f44bca3ec51b43de8be72f6e3b2573fa",
            "3c9b249e4b4043b9bad3965929413cb3",
            "935c6aa43ea94598b4aaab9fdbad4601",
            "cf6f244f9abf4998b7a40669ab4359e4",
            "8a34a1116ee740f2acc9ed7575117b6c",
            "c91dadbbbb094b91b1df15ea4041ab9e"
          ]
        }
      },
      "source": [
        "testset_ = spoil_dataset('test')\n",
        "X_test_, y_test_ = map(np.stack, zip(*testset_))"
      ],
      "execution_count": 0,
      "outputs": [
        {
          "output_type": "stream",
          "text": [
            "/usr/local/lib/python3.6/dist-packages/ipykernel_launcher.py:8: TqdmDeprecationWarning: This function will be removed in tqdm==5.0.0\n",
            "Please use `tqdm.notebook.tqdm` instead of `tqdm.tqdm_notebook`\n",
            "  \n"
          ],
          "name": "stderr"
        },
        {
          "output_type": "display_data",
          "data": {
            "application/vnd.jupyter.widget-view+json": {
              "model_id": "058216640f3447ada7fe3214d1518041",
              "version_minor": 0,
              "version_major": 2
            },
            "text/plain": [
              "HBox(children=(FloatProgress(value=0.0, max=150.0), HTML(value='')))"
            ]
          },
          "metadata": {
            "tags": []
          }
        },
        {
          "output_type": "stream",
          "text": [
            "\n"
          ],
          "name": "stdout"
        }
      ]
    },
    {
      "cell_type": "code",
      "metadata": {
        "id": "A8mdCWz8pS3t",
        "colab_type": "code",
        "colab": {}
      },
      "source": [
        "X_test_ = torch.FloatTensor(X_test_)\n",
        "y_test_ = torch.LongTensor(y_test_)"
      ],
      "execution_count": 0,
      "outputs": []
    },
    {
      "cell_type": "code",
      "metadata": {
        "id": "X45n9jjRoIUm",
        "colab_type": "code",
        "outputId": "6962aa78-5576-4151-e730-cc2b651f3602",
        "colab": {
          "base_uri": "https://localhost:8080/",
          "height": 134,
          "referenced_widgets": [
            "0d32b702d6814c15af2dc7f7450f183d",
            "1893ba36409445e6b99bcf5679a64451",
            "eef8680ce89d441db77f81c1b16e7c2d",
            "a9c17f68dc9940e681402623c247971a",
            "9724d4a8f3224b5a9d9e82e67016d2ba",
            "7ebef8a149224c8aa567d109dbb11481",
            "c133e23641dc4a6ca1448a3c6325b63c",
            "87c0b33524484605a48414bad96f03e3"
          ]
        }
      },
      "source": [
        "test_accuracy(model, X_test_, y_test_)"
      ],
      "execution_count": 0,
      "outputs": [
        {
          "output_type": "stream",
          "text": [
            "/usr/local/lib/python3.6/dist-packages/ipykernel_launcher.py:7: TqdmDeprecationWarning: This function will be removed in tqdm==5.0.0\n",
            "Please use `tqdm.notebook.tqdm` instead of `tqdm.tqdm_notebook`\n",
            "  import sys\n"
          ],
          "name": "stderr"
        },
        {
          "output_type": "display_data",
          "data": {
            "application/vnd.jupyter.widget-view+json": {
              "model_id": "0d32b702d6814c15af2dc7f7450f183d",
              "version_minor": 0,
              "version_major": 2
            },
            "text/plain": [
              "HBox(children=(FloatProgress(value=0.0, max=1500.0), HTML(value='')))"
            ]
          },
          "metadata": {
            "tags": []
          }
        },
        {
          "output_type": "stream",
          "text": [
            "\n"
          ],
          "name": "stdout"
        },
        {
          "output_type": "execute_result",
          "data": {
            "text/plain": [
              "0.7173333333333334"
            ]
          },
          "metadata": {
            "tags": []
          },
          "execution_count": 101
        }
      ]
    },
    {
      "cell_type": "markdown",
      "metadata": {
        "id": "qZJIMhbchdoR",
        "colab_type": "text"
      },
      "source": [
        "Создадим функцию для изменения скорости аудио"
      ]
    },
    {
      "cell_type": "code",
      "metadata": {
        "id": "Cq27gy7shS7C",
        "colab_type": "code",
        "colab": {}
      },
      "source": [
        "def speed_change(data, speed_factor=0.5):\n",
        "  return librosa.effects.time_stretch(data, speed_factor)"
      ],
      "execution_count": 0,
      "outputs": []
    },
    {
      "cell_type": "code",
      "metadata": {
        "id": "MISszrdOpOCe",
        "colab_type": "code",
        "colab": {}
      },
      "source": [
        "def spoil_dataset1(mode='train'):\n",
        "  assert mode in ['train','test']\n",
        "  if mode == 'train':\n",
        "    people = [corpus.train.person_by_index(i) for i in range(400)]\n",
        "  if mode == 'test':\n",
        "    people = [corpus.test.person_by_index(i) for i in range(150)]\n",
        "  spectrograms_and_targets = []\n",
        "  for person in tqdm_notebook(people): \n",
        "    target = Speakers_info.return_sex(person.name)\n",
        "    for i in range(len(person.sentences)):\n",
        "      spectrograms_and_targets.append(preprocess_sample(speed_change(person.sentence_by_index(i).raw_audio),target))\n",
        "  return spectrograms_and_targets"
      ],
      "execution_count": 0,
      "outputs": []
    },
    {
      "cell_type": "markdown",
      "metadata": {
        "id": "JdpBUdeni2Fp",
        "colab_type": "text"
      },
      "source": [
        "Создадим датасет с применением изменения исходной скорости к тестовым данным и посмотрим изменение скора "
      ]
    },
    {
      "cell_type": "code",
      "metadata": {
        "id": "XUvaA2g5tVvI",
        "colab_type": "code",
        "outputId": "f81bd3d6-2b6c-4b46-f354-eafc64a76935",
        "colab": {
          "base_uri": "https://localhost:8080/",
          "height": 117,
          "referenced_widgets": [
            "96c4faf247604725bda7db20266840cf",
            "fed727df388b4e729f1cd201aed82afd",
            "34395d7022de42a3b8f68d140e2aa9b8",
            "4389f22f6d4546989be18b13f575d734",
            "1771b872171e4345ab93afc23214fd79",
            "77e04e6cfad049c483d6dc2025798226",
            "a0f63507f9e84029a861a83a5e144bc7",
            "0061884f9c9f4a609d2999ba0ed4981f"
          ]
        }
      },
      "source": [
        "testset_s = spoil_dataset1('test')\n",
        "X_test_s, y_test_s = map(np.stack, zip(*testset_s))\n",
        "X_test_s = torch.FloatTensor(X_test_s)\n",
        "y_test_s = torch.LongTensor(y_test_s)"
      ],
      "execution_count": 0,
      "outputs": [
        {
          "output_type": "stream",
          "text": [
            "/usr/local/lib/python3.6/dist-packages/ipykernel_launcher.py:8: TqdmDeprecationWarning: This function will be removed in tqdm==5.0.0\n",
            "Please use `tqdm.notebook.tqdm` instead of `tqdm.tqdm_notebook`\n",
            "  \n"
          ],
          "name": "stderr"
        },
        {
          "output_type": "display_data",
          "data": {
            "application/vnd.jupyter.widget-view+json": {
              "model_id": "96c4faf247604725bda7db20266840cf",
              "version_minor": 0,
              "version_major": 2
            },
            "text/plain": [
              "HBox(children=(FloatProgress(value=0.0, max=150.0), HTML(value='')))"
            ]
          },
          "metadata": {
            "tags": []
          }
        },
        {
          "output_type": "stream",
          "text": [
            "\n"
          ],
          "name": "stdout"
        }
      ]
    },
    {
      "cell_type": "code",
      "metadata": {
        "id": "lA1kiWNduoyi",
        "colab_type": "code",
        "outputId": "d20a4006-a0f2-417a-e052-23266c13264b",
        "colab": {
          "base_uri": "https://localhost:8080/",
          "height": 134,
          "referenced_widgets": [
            "99d4916e4d2e4695ad088e2ebe71b313",
            "580ebb6f93724e8fbc2ed4f7e1dad883",
            "52595cb432b54b658b05c540121accbd",
            "e8cd3bc0b2084cd2ba7ea4c2e22c47cc",
            "f5c1fdf82c504562b7a81364565d2dc0",
            "a3e496b05e81471183c1206d6d7d39bb",
            "6d1b5c0bf74548928b33e7f66a765d84",
            "525becd8d5b1456595c5cd6e018cc66b"
          ]
        }
      },
      "source": [
        "test_accuracy(model, X_test_s, y_test_s)"
      ],
      "execution_count": 0,
      "outputs": [
        {
          "output_type": "stream",
          "text": [
            "/usr/local/lib/python3.6/dist-packages/ipykernel_launcher.py:7: TqdmDeprecationWarning: This function will be removed in tqdm==5.0.0\n",
            "Please use `tqdm.notebook.tqdm` instead of `tqdm.tqdm_notebook`\n",
            "  import sys\n"
          ],
          "name": "stderr"
        },
        {
          "output_type": "display_data",
          "data": {
            "application/vnd.jupyter.widget-view+json": {
              "model_id": "99d4916e4d2e4695ad088e2ebe71b313",
              "version_minor": 0,
              "version_major": 2
            },
            "text/plain": [
              "HBox(children=(FloatProgress(value=0.0, max=1500.0), HTML(value='')))"
            ]
          },
          "metadata": {
            "tags": []
          }
        },
        {
          "output_type": "stream",
          "text": [
            "\n"
          ],
          "name": "stdout"
        },
        {
          "output_type": "execute_result",
          "data": {
            "text/plain": [
              "0.968"
            ]
          },
          "metadata": {
            "tags": []
          },
          "execution_count": 47
        }
      ]
    },
    {
      "cell_type": "markdown",
      "metadata": {
        "id": "WPj02VQD2tEr",
        "colab_type": "text"
      },
      "source": [
        "Напишем функцию изменения высоты тона"
      ]
    },
    {
      "cell_type": "code",
      "metadata": {
        "id": "1JCCqWAbwxFQ",
        "colab_type": "code",
        "colab": {}
      },
      "source": [
        "# def pitch_change(data, sampling_rate, pitch_factor, bins_per_octave):\n",
        "#   return librosa.effects.pitch_shift(data, sampling_rate, pitch_factor, bins_per_octave)"
      ],
      "execution_count": 0,
      "outputs": []
    },
    {
      "cell_type": "code",
      "metadata": {
        "id": "0ehXDj6r0HMO",
        "colab_type": "code",
        "colab": {}
      },
      "source": [
        "def pitch_change(data, sampling_rate, pitch_factor):\n",
        "  return librosa.effects.pitch_shift(data, sampling_rate, pitch_factor)"
      ],
      "execution_count": 0,
      "outputs": []
    },
    {
      "cell_type": "code",
      "metadata": {
        "id": "fhwywew0ywWW",
        "colab_type": "code",
        "outputId": "2cbf53f1-1fc1-419d-e30e-d2d67c8fc386",
        "colab": {
          "base_uri": "https://localhost:8080/",
          "height": 75
        }
      },
      "source": [
        "IPython.display.Audio(pitch_change(person_1.sentence_by_index(0).raw_audio, 16000, -6), rate=16000)"
      ],
      "execution_count": 0,
      "outputs": [
        {
          "output_type": "execute_result",
          "data": {
            "text/html": [
              "\n",
              "                <audio controls=\"controls\" >\n",
              "                    <source src=\"data:audio/wav;base64,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\" type=\"audio/wav\" />\n",
              "                    Your browser does not support the audio element.\n",
              "                </audio>\n",
              "              "
            ],
            "text/plain": [
              "<IPython.lib.display.Audio object>"
            ]
          },
          "metadata": {
            "tags": []
          },
          "execution_count": 84
        }
      ]
    },
    {
      "cell_type": "code",
      "metadata": {
        "id": "cWYFqqsh0282",
        "colab_type": "code",
        "colab": {}
      },
      "source": [
        "def spoil_dataset2(mode='train'):\n",
        "  assert mode in ['train','test']\n",
        "  if mode == 'train':\n",
        "    people = [corpus.train.person_by_index(i) for i in range(400)]\n",
        "  if mode == 'test':\n",
        "    people = [corpus.test.person_by_index(i) for i in range(150)]\n",
        "  spectrograms_and_targets = []\n",
        "  for person in tqdm_notebook(people): \n",
        "    target = Speakers_info.return_sex(person.name)\n",
        "    for i in range(len(person.sentences)):\n",
        "      spectrograms_and_targets.append(preprocess_sample(pitch_change(person.sentence_by_index(i).raw_audio, 16000, -6),target))\n",
        "  return spectrograms_and_targets"
      ],
      "execution_count": 0,
      "outputs": []
    },
    {
      "cell_type": "markdown",
      "metadata": {
        "id": "hWhybMcZjUt4",
        "colab_type": "text"
      },
      "source": [
        "Создадим тестовый датасет с изменением высоты тона и посмотрим скор"
      ]
    },
    {
      "cell_type": "code",
      "metadata": {
        "id": "s9PaiZI11fKs",
        "colab_type": "code",
        "outputId": "06534785-d320-41d5-b381-e92486a33acf",
        "colab": {
          "base_uri": "https://localhost:8080/",
          "height": 117,
          "referenced_widgets": [
            "a2cbf6c432f945e5839f51405da2c7f0",
            "429db8ad84a4487da669e0238a6d08cf",
            "bb75015ca8b04c3abad8674d80623916",
            "75071ba176184540a7b4bfe26e648bc3",
            "3d4dc03458a944fd9583f7ebca5a70b3",
            "37b3b2dad9f24f13a1c3029d7c4154e7",
            "40df4a470f4d489b96c7786b9ba279f4",
            "5a313d4ade8849b5a0a391168a5ea0db"
          ]
        }
      },
      "source": [
        "testset_p = spoil_dataset2('test')\n",
        "X_test_p, y_test_p = map(np.stack, zip(*testset_p))\n",
        "X_test_p = torch.FloatTensor(X_test_p)\n",
        "y_test_p = torch.LongTensor(y_test_p)"
      ],
      "execution_count": 0,
      "outputs": [
        {
          "output_type": "stream",
          "text": [
            "/usr/local/lib/python3.6/dist-packages/ipykernel_launcher.py:8: TqdmDeprecationWarning: This function will be removed in tqdm==5.0.0\n",
            "Please use `tqdm.notebook.tqdm` instead of `tqdm.tqdm_notebook`\n",
            "  \n"
          ],
          "name": "stderr"
        },
        {
          "output_type": "display_data",
          "data": {
            "application/vnd.jupyter.widget-view+json": {
              "model_id": "a2cbf6c432f945e5839f51405da2c7f0",
              "version_minor": 0,
              "version_major": 2
            },
            "text/plain": [
              "HBox(children=(FloatProgress(value=0.0, max=150.0), HTML(value='')))"
            ]
          },
          "metadata": {
            "tags": []
          }
        },
        {
          "output_type": "stream",
          "text": [
            "\n"
          ],
          "name": "stdout"
        }
      ]
    },
    {
      "cell_type": "code",
      "metadata": {
        "id": "eLHPjx2Z1l27",
        "colab_type": "code",
        "outputId": "8121f6b2-73e7-4e0d-b5f4-5bc46af226fd",
        "colab": {
          "base_uri": "https://localhost:8080/",
          "height": 134,
          "referenced_widgets": [
            "5681cdb55b71494d8d0ad69b5e814cfc",
            "17a21e2d5bb94bd1ab05cf258ed2d306",
            "6681aad0d4734c58be5ae2cd46d1c378",
            "c73f39e7ba884ca89e8e12da8952440d",
            "5192871df2ef48cd8a0531caea450069",
            "292e0b10775d41c1ad00ff78637614f7",
            "c77e63dbe7b04d1982b19a0eb8ad9f64",
            "0b0e1cfc666a4909a20dbe39f7a7926f"
          ]
        }
      },
      "source": [
        "test_accuracy(model, X_test_p, y_test_p)"
      ],
      "execution_count": 0,
      "outputs": [
        {
          "output_type": "stream",
          "text": [
            "/usr/local/lib/python3.6/dist-packages/ipykernel_launcher.py:7: TqdmDeprecationWarning: This function will be removed in tqdm==5.0.0\n",
            "Please use `tqdm.notebook.tqdm` instead of `tqdm.tqdm_notebook`\n",
            "  import sys\n"
          ],
          "name": "stderr"
        },
        {
          "output_type": "display_data",
          "data": {
            "application/vnd.jupyter.widget-view+json": {
              "model_id": "5681cdb55b71494d8d0ad69b5e814cfc",
              "version_minor": 0,
              "version_major": 2
            },
            "text/plain": [
              "HBox(children=(FloatProgress(value=0.0, max=1500.0), HTML(value='')))"
            ]
          },
          "metadata": {
            "tags": []
          }
        },
        {
          "output_type": "stream",
          "text": [
            "\n"
          ],
          "name": "stdout"
        },
        {
          "output_type": "execute_result",
          "data": {
            "text/plain": [
              "0.71"
            ]
          },
          "metadata": {
            "tags": []
          },
          "execution_count": 51
        }
      ]
    },
    {
      "cell_type": "markdown",
      "metadata": {
        "id": "SKRVFoBYFsYf",
        "colab_type": "text"
      },
      "source": [
        "**Задание 3**\n",
        "\n",
        "---\n"
      ]
    },
    {
      "cell_type": "markdown",
      "metadata": {
        "id": "gyKlP3vH4EaS",
        "colab_type": "text"
      },
      "source": [
        "Возьмем аугментации типа \"добавить шум\" и дополним train и test этими данными"
      ]
    },
    {
      "cell_type": "code",
      "metadata": {
        "id": "luwH-jh726y5",
        "colab_type": "code",
        "colab": {}
      },
      "source": [
        "def spoil_dataset(mode='train'):\n",
        "  assert mode in ['train','test']\n",
        "  if mode == 'train':\n",
        "    people = [corpus.train.person_by_index(i) for i in range(400)]\n",
        "  if mode == 'test':\n",
        "    people = [corpus.test.person_by_index(i) for i in range(150)]\n",
        "  spectrograms_and_targets = []\n",
        "  for person in tqdm_notebook(people): \n",
        "    target = Speakers_info.return_sex(person.name)\n",
        "    for i in range(len(person.sentences)):\n",
        "      spectrograms_and_targets.append(preprocess_sample(spoil_with_noise(person.sentence_by_index(i).raw_audio),target))\n",
        "  return spectrograms_and_targets"
      ],
      "execution_count": 0,
      "outputs": []
    },
    {
      "cell_type": "code",
      "metadata": {
        "id": "keFORroh5QhJ",
        "colab_type": "code",
        "outputId": "2a189eaf-87a0-4cfd-9907-50382fe43407",
        "colab": {
          "base_uri": "https://localhost:8080/",
          "height": 166,
          "referenced_widgets": [
            "900c185f2c944bdd8c53033533160451",
            "153c1e091236405b9c84fecea2311fc5",
            "53c159dc64f4432da5cfa58186e18d5e",
            "1660b3600a624c6590085830349c9665",
            "9bc39665c0b04318a1209c6e6b3d39d0",
            "4e188cf0fe7c4940bc12d025dd7d2517",
            "469d2d494179424696c99f862e8b9581",
            "d21d1d2a8e454d4f93f9f628ea146159",
            "3a5c3c64a13f494ba193a38b23bc0518",
            "b51844a3326442fcb18ca7c30393f98d",
            "fc6d0d8ae05a4ae3974935ad031aa74f",
            "c893624599db440e84e2293b705fa3fb",
            "513de575c835450383214a1b2d1855bf",
            "5814f10190d54d5da7c3b283b51fe19d",
            "980ef9e3e8d94f1ba1087aadd1dbf472",
            "a03ea2b6eb184e11897b1d0e6b0e4674"
          ]
        }
      },
      "source": [
        "trainset = create_dataset('train')\n",
        "testset = create_dataset('test')\n",
        "trainset_aug = spoil_dataset('train')\n",
        "testset_aug = spoil_dataset('test')"
      ],
      "execution_count": 0,
      "outputs": [
        {
          "output_type": "stream",
          "text": [
            "/usr/local/lib/python3.6/dist-packages/ipykernel_launcher.py:8: TqdmDeprecationWarning: This function will be removed in tqdm==5.0.0\n",
            "Please use `tqdm.notebook.tqdm` instead of `tqdm.tqdm_notebook`\n",
            "  \n"
          ],
          "name": "stderr"
        },
        {
          "output_type": "display_data",
          "data": {
            "application/vnd.jupyter.widget-view+json": {
              "model_id": "900c185f2c944bdd8c53033533160451",
              "version_minor": 0,
              "version_major": 2
            },
            "text/plain": [
              "HBox(children=(FloatProgress(value=0.0, max=400.0), HTML(value='')))"
            ]
          },
          "metadata": {
            "tags": []
          }
        },
        {
          "output_type": "stream",
          "text": [
            "\n"
          ],
          "name": "stdout"
        },
        {
          "output_type": "display_data",
          "data": {
            "application/vnd.jupyter.widget-view+json": {
              "model_id": "3a5c3c64a13f494ba193a38b23bc0518",
              "version_minor": 0,
              "version_major": 2
            },
            "text/plain": [
              "HBox(children=(FloatProgress(value=0.0, max=150.0), HTML(value='')))"
            ]
          },
          "metadata": {
            "tags": []
          }
        },
        {
          "output_type": "stream",
          "text": [
            "\n"
          ],
          "name": "stdout"
        }
      ]
    },
    {
      "cell_type": "markdown",
      "metadata": {
        "id": "tKLh6jGMDTBS",
        "colab_type": "text"
      },
      "source": [
        "Добавим испорченные данные и перемешаем выборки"
      ]
    },
    {
      "cell_type": "code",
      "metadata": {
        "id": "mK-23Hw682mi",
        "colab_type": "code",
        "colab": {}
      },
      "source": [
        "trainset_ext = np.random.permutation(trainset + trainset_aug)\n",
        "testset_ext = np.random.permutation(testset + testset_aug)"
      ],
      "execution_count": 0,
      "outputs": []
    },
    {
      "cell_type": "markdown",
      "metadata": {
        "id": "_EwZJR2CjwsQ",
        "colab_type": "text"
      },
      "source": [
        "Разобьем трейнсет на трейн и валидоционные части"
      ]
    },
    {
      "cell_type": "code",
      "metadata": {
        "id": "jXGMitJRDavg",
        "colab_type": "code",
        "colab": {}
      },
      "source": [
        "X_ext, y_ext = map(np.stack, zip(*trainset_ext))\n",
        "X_train_ext, X_val_ext, y_train_ext, y_val_ext = train_test_split(X_ext, y_ext, random_state=42)\n",
        "\n",
        "X_train_ext = torch.FloatTensor(X_train_ext)\n",
        "y_train_ext = torch.LongTensor(y_train_ext)\n",
        "X_val_ext = torch.FloatTensor(X_val_ext)\n",
        "y_val_ext = torch.LongTensor(y_val_ext)"
      ],
      "execution_count": 0,
      "outputs": []
    },
    {
      "cell_type": "code",
      "metadata": {
        "id": "ODo3ESgA5pTu",
        "colab_type": "code",
        "outputId": "d7959745-84dc-46ae-89b2-3ae47cdc5bb0",
        "colab": {
          "base_uri": "https://localhost:8080/",
          "height": 34
        }
      },
      "source": [
        "y_train_ext.shape"
      ],
      "execution_count": 0,
      "outputs": [
        {
          "output_type": "execute_result",
          "data": {
            "text/plain": [
              "torch.Size([6000])"
            ]
          },
          "metadata": {
            "tags": []
          },
          "execution_count": 106
        }
      ]
    },
    {
      "cell_type": "markdown",
      "metadata": {
        "id": "sOcDAb7lj7pY",
        "colab_type": "text"
      },
      "source": [
        "Дополним исходную сеть дополнительным сверточным слоем и применим нормализацию и регуляризацию"
      ]
    },
    {
      "cell_type": "code",
      "metadata": {
        "id": "_AK763gaG0Z_",
        "colab_type": "code",
        "colab": {}
      },
      "source": [
        "class AudioClass_aug(nn.Module):\n",
        "  def __init__(self, input_channel = 128):\n",
        "    super(AudioClass_aug, self).__init__()\n",
        "    self.conv1 = nn.Conv1d(128, 16, 4)\n",
        "    self.bn1 = nn.BatchNorm1d(16)\n",
        "    self.dp1 = nn.Dropout(0.5)\n",
        "    self.relu1 = nn.ReLU()\n",
        "    self.pool1 = nn.AdaptiveAvgPool1d(64)\n",
        "    self.conv2 = nn.Conv1d(16, 32, 4)\n",
        "    self.bn2 = nn.BatchNorm1d(32)\n",
        "    self.dp2 = nn.Dropout(0.5)\n",
        "    self.relu2 = nn.ReLU()\n",
        "    self.pool2 = nn.AdaptiveAvgPool1d(64)\n",
        "    self.conv3 = nn.Conv1d(32, 64, 4)\n",
        "    self.bn3 = nn.BatchNorm1d(64)\n",
        "    self.dp3 = nn.Dropout(0.5)\n",
        "    self.relu3 = nn.ReLU()\n",
        "    self.pool3 = nn.AdaptiveAvgPool1d(64)\n",
        "    self.conv4 = nn.Conv1d(64, 128, 4)\n",
        "    self.bn4 = nn.BatchNorm1d(128)\n",
        "    self.dp4 = nn.Dropout(0.5)\n",
        "    self.relu4 = nn.ReLU()\n",
        "    self.pool4 = nn.AdaptiveAvgPool1d(64)\n",
        "    self.linear = nn.Linear(input_channel * 64, 2)\n",
        "\n",
        "  def forward(self, inputs):\n",
        "    x = self.conv1(inputs)\n",
        "    x = self.bn1(x)\n",
        "    x = self.dp1(x)\n",
        "    x = self.relu1(x)\n",
        "    x = self.pool1(x)\n",
        "    x = self.conv2(x)\n",
        "    x = self.bn2(x)\n",
        "    x = self.dp2(x)\n",
        "    x = self.relu2(x)\n",
        "    x = self.pool2(x)\n",
        "    x = self.conv3(x)\n",
        "    x = self.bn3(x)\n",
        "    x = self.dp3(x)\n",
        "    x = self.relu3(x)\n",
        "    x = self.pool3(x)\n",
        "    x = self.conv4(x)\n",
        "    x = self.bn4(x)\n",
        "    x = self.dp4(x)\n",
        "    x = self.relu4(x)\n",
        "    x = self.pool4(x)\n",
        "    x = self.linear(torch.reshape(x, (inputs.shape[0], -1)))\n",
        "    \n",
        "    return x"
      ],
      "execution_count": 0,
      "outputs": []
    },
    {
      "cell_type": "code",
      "metadata": {
        "id": "Ex9_DRD6HMeF",
        "colab_type": "code",
        "colab": {}
      },
      "source": [
        "model_aug = AudioClass_aug()"
      ],
      "execution_count": 0,
      "outputs": []
    },
    {
      "cell_type": "code",
      "metadata": {
        "id": "fce6Z-9gHEE4",
        "colab_type": "code",
        "outputId": "867ab6de-57db-4128-c9da-8bad04b857ea",
        "colab": {
          "base_uri": "https://localhost:8080/",
          "height": 408
        }
      },
      "source": [
        "model_aug"
      ],
      "execution_count": 0,
      "outputs": [
        {
          "output_type": "execute_result",
          "data": {
            "text/plain": [
              "AudioClass_aug(\n",
              "  (conv1): Conv1d(128, 16, kernel_size=(4,), stride=(1,))\n",
              "  (bn1): BatchNorm1d(16, eps=1e-05, momentum=0.1, affine=True, track_running_stats=True)\n",
              "  (dp1): Dropout(p=0.5, inplace=False)\n",
              "  (relu1): ReLU()\n",
              "  (pool1): AdaptiveAvgPool1d(output_size=64)\n",
              "  (conv2): Conv1d(16, 32, kernel_size=(4,), stride=(1,))\n",
              "  (bn2): BatchNorm1d(32, eps=1e-05, momentum=0.1, affine=True, track_running_stats=True)\n",
              "  (dp2): Dropout(p=0.5, inplace=False)\n",
              "  (relu2): ReLU()\n",
              "  (pool2): AdaptiveAvgPool1d(output_size=64)\n",
              "  (conv3): Conv1d(32, 64, kernel_size=(4,), stride=(1,))\n",
              "  (bn3): BatchNorm1d(64, eps=1e-05, momentum=0.1, affine=True, track_running_stats=True)\n",
              "  (dp3): Dropout(p=0.5, inplace=False)\n",
              "  (relu3): ReLU()\n",
              "  (pool3): AdaptiveAvgPool1d(output_size=64)\n",
              "  (conv4): Conv1d(64, 128, kernel_size=(4,), stride=(1,))\n",
              "  (bn4): BatchNorm1d(128, eps=1e-05, momentum=0.1, affine=True, track_running_stats=True)\n",
              "  (dp4): Dropout(p=0.5, inplace=False)\n",
              "  (relu4): ReLU()\n",
              "  (pool4): AdaptiveAvgPool1d(output_size=64)\n",
              "  (linear): Linear(in_features=8192, out_features=2, bias=True)\n",
              ")"
            ]
          },
          "metadata": {
            "tags": []
          },
          "execution_count": 109
        }
      ]
    },
    {
      "cell_type": "markdown",
      "metadata": {
        "id": "cTrS3eHPlvHd",
        "colab_type": "text"
      },
      "source": [
        "Уменьшим шаг обучения"
      ]
    },
    {
      "cell_type": "code",
      "metadata": {
        "id": "d_EFUIhiHUXt",
        "colab_type": "code",
        "colab": {}
      },
      "source": [
        "loss_fn = nn.CrossEntropyLoss()\n",
        "learning_rate = 0.001\n",
        "optimizer = torch.optim.AdamW(model_aug.parameters(), lr = learning_rate)"
      ],
      "execution_count": 0,
      "outputs": []
    },
    {
      "cell_type": "markdown",
      "metadata": {
        "id": "QahooSXTmQ7P",
        "colab_type": "text"
      },
      "source": [
        "Подготовим данные для Loader'a и обучим сеть"
      ]
    },
    {
      "cell_type": "code",
      "metadata": {
        "id": "CVu5YKEIHUEt",
        "colab_type": "code",
        "colab": {}
      },
      "source": [
        "dataset_ext = TensorDataset(X_train_ext, y_train_ext)"
      ],
      "execution_count": 0,
      "outputs": []
    },
    {
      "cell_type": "code",
      "metadata": {
        "id": "mjqfIq96HaTt",
        "colab_type": "code",
        "colab": {}
      },
      "source": [
        "def train(num_epoch):\n",
        "    train_losses_ext = []\n",
        "    test_losses_ext = []\n",
        "    for _ in tqdm_notebook(range(num_epoch)):\n",
        "      for X_train_ext, y_train_ext in DataLoader(dataset_ext, 512):\n",
        "        model_aug.train(True)\n",
        "        y_pred_ext = model_aug(X_train_ext)\n",
        "        loss_ext = loss_fn(y_pred_ext, y_train_ext)\n",
        "        optimizer.zero_grad()\n",
        "        loss_ext.backward()\n",
        "        optimizer.step()\n",
        "        train_losses_ext.append(loss_ext.item())\n",
        "        model_aug.train(False)\n",
        "        test_losses_ext.append(loss_fn(model_aug(X_val_ext), y_val_ext).item())\n",
        "\n",
        "    return train_losses_ext, test_losses_ext"
      ],
      "execution_count": 0,
      "outputs": []
    },
    {
      "cell_type": "code",
      "metadata": {
        "id": "FtmsPa1XITpR",
        "colab_type": "code",
        "outputId": "96c32352-e20d-4090-9872-90bee9c2b399",
        "colab": {
          "base_uri": "https://localhost:8080/",
          "height": 117,
          "referenced_widgets": [
            "ceb444e6b12a4f12a6913ee65091cacc",
            "81d8a45fdc804fb88164b2efee0da7e5",
            "f60ab2e7fdd14f1ab18ce2d92a937649",
            "02e67001a7af4de3bc3a58d4c179ef95",
            "abad6959fa62499fac07317201cf0edd",
            "9c505edc6c4a4e7684eddcd20b0fa892",
            "2f837153a42d42a8ac1730ba9d5dc06d",
            "83b916f36bde4ea09c446332feca51bb"
          ]
        }
      },
      "source": [
        "train_losses_ext, test_losses_ext = train(30)"
      ],
      "execution_count": 0,
      "outputs": [
        {
          "output_type": "stream",
          "text": [
            "/usr/local/lib/python3.6/dist-packages/ipykernel_launcher.py:4: TqdmDeprecationWarning: This function will be removed in tqdm==5.0.0\n",
            "Please use `tqdm.notebook.tqdm` instead of `tqdm.tqdm_notebook`\n",
            "  after removing the cwd from sys.path.\n"
          ],
          "name": "stderr"
        },
        {
          "output_type": "display_data",
          "data": {
            "application/vnd.jupyter.widget-view+json": {
              "model_id": "ceb444e6b12a4f12a6913ee65091cacc",
              "version_minor": 0,
              "version_major": 2
            },
            "text/plain": [
              "HBox(children=(FloatProgress(value=0.0, max=30.0), HTML(value='')))"
            ]
          },
          "metadata": {
            "tags": []
          }
        },
        {
          "output_type": "stream",
          "text": [
            "\n"
          ],
          "name": "stdout"
        }
      ]
    },
    {
      "cell_type": "markdown",
      "metadata": {
        "id": "ZuJOYyqumXMH",
        "colab_type": "text"
      },
      "source": [
        "Посмотрим лоссы"
      ]
    },
    {
      "cell_type": "code",
      "metadata": {
        "id": "pCLqJyVfIThF",
        "colab_type": "code",
        "outputId": "0e7553c2-ce12-41c3-ae61-92acc3e9fe13",
        "colab": {
          "base_uri": "https://localhost:8080/",
          "height": 653
        }
      },
      "source": [
        "plt.scatter(range(len(train_losses_ext)), train_losses_ext)\n",
        "plt.scatter(range(len(test_losses_ext)), test_losses_ext)\n",
        "\n",
        "def plotTrainTestLosses(train_losses_ext, test_losses_ext):\n",
        "    plt.figure(figsize=(8,12))\n",
        "    plt.subplot(2,1,1)\n",
        "    plt.xlabel('Эпоха')\n",
        "    plt.ylabel('Loss')\n",
        "    plt.plot(range(len(train_losses_ext)), train_losses_ext, label='Train Loss')\n",
        "    plt.plot(range(len(test_losses_ext)), test_losses_ext, label='Test Loss')\n",
        "    plt.legend()\n",
        "    plt.show()\n",
        "plotTrainTestLosses(train_losses_ext, test_losses_ext)"
      ],
      "execution_count": 0,
      "outputs": [
        {
          "output_type": "display_data",
          "data": {
            "image/png": "[encoded data removed]",
            "text/plain": [
              "<Figure size 432x288 with 1 Axes>"
            ]
          },
          "metadata": {
            "tags": []
          }
        },
        {
          "output_type": "display_data",
          "data": {
            "image/png": "[encoded data removed]",
            "text/plain": [
              "<Figure size 576x864 with 1 Axes>"
            ]
          },
          "metadata": {
            "tags": []
          }
        }
      ]
    },
    {
      "cell_type": "code",
      "metadata": {
        "id": "9iwlKOiJKOaU",
        "colab_type": "code",
        "colab": {}
      },
      "source": [
        "X_test_ext, y_test_ext = map(np.stack, zip(*testset_ext))\n",
        "X_test_ext = torch.FloatTensor(X_test_ext)\n",
        "y_test_ext = torch.LongTensor(y_test_ext)"
      ],
      "execution_count": 0,
      "outputs": []
    },
    {
      "cell_type": "code",
      "metadata": {
        "id": "Q7LXsUQDKiZc",
        "colab_type": "code",
        "colab": {}
      },
      "source": [
        "def test_accuracy_aug(model_aug, X_test_ext, y_test_ext):\n",
        "  model_aug.eval()\n",
        "\n",
        "  with torch.no_grad():\n",
        "    y_pred_all = []\n",
        "    y_test_all = []\n",
        "    for i in tqdm_notebook(range(len(y_test_ext))):\n",
        "      X_i = X_test_ext[i].unsqueeze(0)\n",
        "      y_i = y_test_ext[i]\n",
        "      y_pred = F.softmax(model_aug(X_i), dim=1).argmax()\n",
        "      y_pred_all.append(y_pred)\n",
        "      y_test_all.append(y_i)\n",
        "\n",
        "  return accuracy_score(y_test_all, y_pred_all)"
      ],
      "execution_count": 0,
      "outputs": []
    },
    {
      "cell_type": "markdown",
      "metadata": {
        "id": "LxP3AVzhmrlX",
        "colab_type": "text"
      },
      "source": [
        "Вычислим скор на смешанных данных"
      ]
    },
    {
      "cell_type": "code",
      "metadata": {
        "id": "TMoUBIw4K2uS",
        "colab_type": "code",
        "outputId": "3129b34e-8378-4b1a-e6a6-1397c434ef9f",
        "colab": {
          "base_uri": "https://localhost:8080/",
          "height": 134,
          "referenced_widgets": [
            "a2f235e7280a49089f9b9a63b3d719cb",
            "9f00e36c874b4cfe834d90570b67e332",
            "b8ec06cf5cd0491e90ee1508d41b891a",
            "6ac84c39ce5e4bbf8330822d99813077",
            "b61776ed86ff412dbd218b2b303df4a0",
            "ebbc582df84a4452bb37c1edda8e3aaf",
            "96680306c7664677b9e61d10c1af31dd",
            "6122eb8272964c6d94812cfd0fd15075"
          ]
        }
      },
      "source": [
        "test_accuracy_aug(model_aug, X_test_ext, y_test_ext)"
      ],
      "execution_count": 0,
      "outputs": [
        {
          "output_type": "stream",
          "text": [
            "/usr/local/lib/python3.6/dist-packages/ipykernel_launcher.py:7: TqdmDeprecationWarning: This function will be removed in tqdm==5.0.0\n",
            "Please use `tqdm.notebook.tqdm` instead of `tqdm.tqdm_notebook`\n",
            "  import sys\n"
          ],
          "name": "stderr"
        },
        {
          "output_type": "display_data",
          "data": {
            "application/vnd.jupyter.widget-view+json": {
              "model_id": "a2f235e7280a49089f9b9a63b3d719cb",
              "version_minor": 0,
              "version_major": 2
            },
            "text/plain": [
              "HBox(children=(FloatProgress(value=0.0, max=3000.0), HTML(value='')))"
            ]
          },
          "metadata": {
            "tags": []
          }
        },
        {
          "output_type": "stream",
          "text": [
            "\n"
          ],
          "name": "stdout"
        },
        {
          "output_type": "execute_result",
          "data": {
            "text/plain": [
              "0.974"
            ]
          },
          "metadata": {
            "tags": []
          },
          "execution_count": 117
        }
      ]
    },
    {
      "cell_type": "markdown",
      "metadata": {
        "id": "fQaN6-VtqH33",
        "colab_type": "text"
      },
      "source": [
        "Аугментации пробовал разного типа, самые действенные - добавление шума и изменения тона. Изменение скорости сыграло небольшую роль в уменьшении скора, может стоило фактор изменить. Но применения одного только шума было достаточно, чтобы уменьшить скор до 0.71, поэтому остановился на этом.\n",
        "\n",
        "Сначала попробовал увеличивать размер батча, но особого влияния на скор это не оказывало.\n",
        "\n",
        "Решил изменить архитектуру сети. Т.к. более вероятным, в плане воздействия на скор, посчитал применение регуляризации (Dropout) и нормализации (Batchnorm), а также пулинга (для уменьшения вероятности переобучения), то и решил сразу написать сеть со всем этим. Также уменьшил шаг обучения с 0.01 до 0.001, т.к. посчитал, что сейчас данные \"неоднородные\" и уменьшение lr поможет достичь сходимости быстрее.\n",
        "\n",
        "Как оказалось этого было вполне достаточно, чтобы вернуть скор с 0.71 до 0.974."
      ]
    }
  ]
}